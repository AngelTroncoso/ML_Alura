{
  "nbformat": 4,
  "nbformat_minor": 0,
  "metadata": {
    "colab": {
      "provenance": [],
      "include_colab_link": true
    },
    "kernelspec": {
      "name": "python3",
      "display_name": "Python 3"
    },
    "language_info": {
      "name": "python"
    }
  },
  "cells": [
    {
      "cell_type": "markdown",
      "metadata": {
        "id": "view-in-github",
        "colab_type": "text"
      },
      "source": [
        "<a href=\"https://colab.research.google.com/github/AngelTroncoso/ML_Alura/blob/main/6_Clasificacion_primeros_pasos.ipynb\" target=\"_parent\"><img src=\"https://colab.research.google.com/assets/colab-badge.svg\" alt=\"Open In Colab\"/></a>"
      ]
    },
    {
      "cell_type": "markdown",
      "source": [
        "# **Clasificación: Primeros pasos**"
      ],
      "metadata": {
        "id": "MJ3tSbLsBPhe"
      }
    },
    {
      "cell_type": "markdown",
      "source": [
        "En este proyecto, analizaremos datos de una campaña de marketing para la adhesión a inversiones. El objetivo es utilizar la información de los datos para predecir si los clientes de un banco invertirán su dinero o no.  \n",
        "\n",
        "Esta predicción se realizará mediante **machine learning**, y este notebook contendrá los pasos para obtener un modelo capaz de hacer dichas predicciones, desde la **lectura**, **análisis exploratorio**, **separación** y **transformación** de los datos, hasta el **ajuste**, **evaluación** y **comparación** de modelos de clasificación."
      ],
      "metadata": {
        "id": "CYC5vst2FcaG"
      }
    },
    {
      "cell_type": "markdown",
      "source": [
        "# 1. Análisis exploratorio"
      ],
      "metadata": {
        "id": "dr9I9xCXoICN"
      }
    },
    {
      "cell_type": "markdown",
      "source": [
        "## Realizando la lectura de los datos"
      ],
      "metadata": {
        "id": "fwuPpdZOBTUn"
      }
    },
    {
      "cell_type": "markdown",
      "source": [
        "Podemos leer los datos utilizando la biblioteca `pandas`. Por esta razón, importaremos la biblioteca con el comando `import pandas as pd`.  \n",
        "\n",
        "Dado que el archivo de datos está en formato *csv*, realizaremos la lectura con la función [`read_csv()`](https://pandas.pydata.org/docs/reference/api/pandas.read_csv.html)."
      ],
      "metadata": {
        "id": "YzOu8ojHPemt"
      }
    },
    {
      "cell_type": "code",
      "source": [
        "import pandas as pd\n",
        "\n",
        "url = \"https://raw.githubusercontent.com/alura-es-cursos/2160-aprendiendo-a-clasificar-datos-con-ml/refs/heads/main/marketing_inversiones.csv\"\n",
        "datos = pd.read_csv(url)"
      ],
      "metadata": {
        "id": "qCu51gr8BNML"
      },
      "execution_count": 2,
      "outputs": []
    },
    {
      "cell_type": "code",
      "source": [
        "datos.head()"
      ],
      "metadata": {
        "id": "_B6_HwqjBM_P",
        "colab": {
          "base_uri": "https://localhost:8080/",
          "height": 206
        },
        "outputId": "6c670fcd-5786-4d9d-bafa-0a18c8ccc21f"
      },
      "execution_count": 3,
      "outputs": [
        {
          "output_type": "execute_result",
          "data": {
            "text/plain": [
              "   edad    estado_civil escolaridad default  saldo prestatario  \\\n",
              "0    45      casado (a)    superior      no    242          no   \n",
              "1    42      casado (a)  secundaria      no   1289          no   \n",
              "2    23     soltero (a)    superior      no    363          no   \n",
              "3    58  divorciado (a)    superior      no   1382          no   \n",
              "4    50      casado (a)  secundaria      no   3357          no   \n",
              "\n",
              "   ultimo_contacto  ct_contactos adherencia_inversion  \n",
              "0              587             1                   si  \n",
              "1              250             4                   si  \n",
              "2               16            18                   no  \n",
              "3              700             1                   si  \n",
              "4              239             4                   si  "
            ],
            "text/html": [
              "\n",
              "  <div id=\"df-a3b03104-00e9-4a1c-bc06-cd79ec7b3cfb\" class=\"colab-df-container\">\n",
              "    <div>\n",
              "<style scoped>\n",
              "    .dataframe tbody tr th:only-of-type {\n",
              "        vertical-align: middle;\n",
              "    }\n",
              "\n",
              "    .dataframe tbody tr th {\n",
              "        vertical-align: top;\n",
              "    }\n",
              "\n",
              "    .dataframe thead th {\n",
              "        text-align: right;\n",
              "    }\n",
              "</style>\n",
              "<table border=\"1\" class=\"dataframe\">\n",
              "  <thead>\n",
              "    <tr style=\"text-align: right;\">\n",
              "      <th></th>\n",
              "      <th>edad</th>\n",
              "      <th>estado_civil</th>\n",
              "      <th>escolaridad</th>\n",
              "      <th>default</th>\n",
              "      <th>saldo</th>\n",
              "      <th>prestatario</th>\n",
              "      <th>ultimo_contacto</th>\n",
              "      <th>ct_contactos</th>\n",
              "      <th>adherencia_inversion</th>\n",
              "    </tr>\n",
              "  </thead>\n",
              "  <tbody>\n",
              "    <tr>\n",
              "      <th>0</th>\n",
              "      <td>45</td>\n",
              "      <td>casado (a)</td>\n",
              "      <td>superior</td>\n",
              "      <td>no</td>\n",
              "      <td>242</td>\n",
              "      <td>no</td>\n",
              "      <td>587</td>\n",
              "      <td>1</td>\n",
              "      <td>si</td>\n",
              "    </tr>\n",
              "    <tr>\n",
              "      <th>1</th>\n",
              "      <td>42</td>\n",
              "      <td>casado (a)</td>\n",
              "      <td>secundaria</td>\n",
              "      <td>no</td>\n",
              "      <td>1289</td>\n",
              "      <td>no</td>\n",
              "      <td>250</td>\n",
              "      <td>4</td>\n",
              "      <td>si</td>\n",
              "    </tr>\n",
              "    <tr>\n",
              "      <th>2</th>\n",
              "      <td>23</td>\n",
              "      <td>soltero (a)</td>\n",
              "      <td>superior</td>\n",
              "      <td>no</td>\n",
              "      <td>363</td>\n",
              "      <td>no</td>\n",
              "      <td>16</td>\n",
              "      <td>18</td>\n",
              "      <td>no</td>\n",
              "    </tr>\n",
              "    <tr>\n",
              "      <th>3</th>\n",
              "      <td>58</td>\n",
              "      <td>divorciado (a)</td>\n",
              "      <td>superior</td>\n",
              "      <td>no</td>\n",
              "      <td>1382</td>\n",
              "      <td>no</td>\n",
              "      <td>700</td>\n",
              "      <td>1</td>\n",
              "      <td>si</td>\n",
              "    </tr>\n",
              "    <tr>\n",
              "      <th>4</th>\n",
              "      <td>50</td>\n",
              "      <td>casado (a)</td>\n",
              "      <td>secundaria</td>\n",
              "      <td>no</td>\n",
              "      <td>3357</td>\n",
              "      <td>no</td>\n",
              "      <td>239</td>\n",
              "      <td>4</td>\n",
              "      <td>si</td>\n",
              "    </tr>\n",
              "  </tbody>\n",
              "</table>\n",
              "</div>\n",
              "    <div class=\"colab-df-buttons\">\n",
              "\n",
              "  <div class=\"colab-df-container\">\n",
              "    <button class=\"colab-df-convert\" onclick=\"convertToInteractive('df-a3b03104-00e9-4a1c-bc06-cd79ec7b3cfb')\"\n",
              "            title=\"Convert this dataframe to an interactive table.\"\n",
              "            style=\"display:none;\">\n",
              "\n",
              "  <svg xmlns=\"http://www.w3.org/2000/svg\" height=\"24px\" viewBox=\"0 -960 960 960\">\n",
              "    <path d=\"M120-120v-720h720v720H120Zm60-500h600v-160H180v160Zm220 220h160v-160H400v160Zm0 220h160v-160H400v160ZM180-400h160v-160H180v160Zm440 0h160v-160H620v160ZM180-180h160v-160H180v160Zm440 0h160v-160H620v160Z\"/>\n",
              "  </svg>\n",
              "    </button>\n",
              "\n",
              "  <style>\n",
              "    .colab-df-container {\n",
              "      display:flex;\n",
              "      gap: 12px;\n",
              "    }\n",
              "\n",
              "    .colab-df-convert {\n",
              "      background-color: #E8F0FE;\n",
              "      border: none;\n",
              "      border-radius: 50%;\n",
              "      cursor: pointer;\n",
              "      display: none;\n",
              "      fill: #1967D2;\n",
              "      height: 32px;\n",
              "      padding: 0 0 0 0;\n",
              "      width: 32px;\n",
              "    }\n",
              "\n",
              "    .colab-df-convert:hover {\n",
              "      background-color: #E2EBFA;\n",
              "      box-shadow: 0px 1px 2px rgba(60, 64, 67, 0.3), 0px 1px 3px 1px rgba(60, 64, 67, 0.15);\n",
              "      fill: #174EA6;\n",
              "    }\n",
              "\n",
              "    .colab-df-buttons div {\n",
              "      margin-bottom: 4px;\n",
              "    }\n",
              "\n",
              "    [theme=dark] .colab-df-convert {\n",
              "      background-color: #3B4455;\n",
              "      fill: #D2E3FC;\n",
              "    }\n",
              "\n",
              "    [theme=dark] .colab-df-convert:hover {\n",
              "      background-color: #434B5C;\n",
              "      box-shadow: 0px 1px 3px 1px rgba(0, 0, 0, 0.15);\n",
              "      filter: drop-shadow(0px 1px 2px rgba(0, 0, 0, 0.3));\n",
              "      fill: #FFFFFF;\n",
              "    }\n",
              "  </style>\n",
              "\n",
              "    <script>\n",
              "      const buttonEl =\n",
              "        document.querySelector('#df-a3b03104-00e9-4a1c-bc06-cd79ec7b3cfb button.colab-df-convert');\n",
              "      buttonEl.style.display =\n",
              "        google.colab.kernel.accessAllowed ? 'block' : 'none';\n",
              "\n",
              "      async function convertToInteractive(key) {\n",
              "        const element = document.querySelector('#df-a3b03104-00e9-4a1c-bc06-cd79ec7b3cfb');\n",
              "        const dataTable =\n",
              "          await google.colab.kernel.invokeFunction('convertToInteractive',\n",
              "                                                    [key], {});\n",
              "        if (!dataTable) return;\n",
              "\n",
              "        const docLinkHtml = 'Like what you see? Visit the ' +\n",
              "          '<a target=\"_blank\" href=https://colab.research.google.com/notebooks/data_table.ipynb>data table notebook</a>'\n",
              "          + ' to learn more about interactive tables.';\n",
              "        element.innerHTML = '';\n",
              "        dataTable['output_type'] = 'display_data';\n",
              "        await google.colab.output.renderOutput(dataTable, element);\n",
              "        const docLink = document.createElement('div');\n",
              "        docLink.innerHTML = docLinkHtml;\n",
              "        element.appendChild(docLink);\n",
              "      }\n",
              "    </script>\n",
              "  </div>\n",
              "\n",
              "\n",
              "    <div id=\"df-61b39237-0484-41c0-9ff0-5cfb1e68fbdd\">\n",
              "      <button class=\"colab-df-quickchart\" onclick=\"quickchart('df-61b39237-0484-41c0-9ff0-5cfb1e68fbdd')\"\n",
              "                title=\"Suggest charts\"\n",
              "                style=\"display:none;\">\n",
              "\n",
              "<svg xmlns=\"http://www.w3.org/2000/svg\" height=\"24px\"viewBox=\"0 0 24 24\"\n",
              "     width=\"24px\">\n",
              "    <g>\n",
              "        <path d=\"M19 3H5c-1.1 0-2 .9-2 2v14c0 1.1.9 2 2 2h14c1.1 0 2-.9 2-2V5c0-1.1-.9-2-2-2zM9 17H7v-7h2v7zm4 0h-2V7h2v10zm4 0h-2v-4h2v4z\"/>\n",
              "    </g>\n",
              "</svg>\n",
              "      </button>\n",
              "\n",
              "<style>\n",
              "  .colab-df-quickchart {\n",
              "      --bg-color: #E8F0FE;\n",
              "      --fill-color: #1967D2;\n",
              "      --hover-bg-color: #E2EBFA;\n",
              "      --hover-fill-color: #174EA6;\n",
              "      --disabled-fill-color: #AAA;\n",
              "      --disabled-bg-color: #DDD;\n",
              "  }\n",
              "\n",
              "  [theme=dark] .colab-df-quickchart {\n",
              "      --bg-color: #3B4455;\n",
              "      --fill-color: #D2E3FC;\n",
              "      --hover-bg-color: #434B5C;\n",
              "      --hover-fill-color: #FFFFFF;\n",
              "      --disabled-bg-color: #3B4455;\n",
              "      --disabled-fill-color: #666;\n",
              "  }\n",
              "\n",
              "  .colab-df-quickchart {\n",
              "    background-color: var(--bg-color);\n",
              "    border: none;\n",
              "    border-radius: 50%;\n",
              "    cursor: pointer;\n",
              "    display: none;\n",
              "    fill: var(--fill-color);\n",
              "    height: 32px;\n",
              "    padding: 0;\n",
              "    width: 32px;\n",
              "  }\n",
              "\n",
              "  .colab-df-quickchart:hover {\n",
              "    background-color: var(--hover-bg-color);\n",
              "    box-shadow: 0 1px 2px rgba(60, 64, 67, 0.3), 0 1px 3px 1px rgba(60, 64, 67, 0.15);\n",
              "    fill: var(--button-hover-fill-color);\n",
              "  }\n",
              "\n",
              "  .colab-df-quickchart-complete:disabled,\n",
              "  .colab-df-quickchart-complete:disabled:hover {\n",
              "    background-color: var(--disabled-bg-color);\n",
              "    fill: var(--disabled-fill-color);\n",
              "    box-shadow: none;\n",
              "  }\n",
              "\n",
              "  .colab-df-spinner {\n",
              "    border: 2px solid var(--fill-color);\n",
              "    border-color: transparent;\n",
              "    border-bottom-color: var(--fill-color);\n",
              "    animation:\n",
              "      spin 1s steps(1) infinite;\n",
              "  }\n",
              "\n",
              "  @keyframes spin {\n",
              "    0% {\n",
              "      border-color: transparent;\n",
              "      border-bottom-color: var(--fill-color);\n",
              "      border-left-color: var(--fill-color);\n",
              "    }\n",
              "    20% {\n",
              "      border-color: transparent;\n",
              "      border-left-color: var(--fill-color);\n",
              "      border-top-color: var(--fill-color);\n",
              "    }\n",
              "    30% {\n",
              "      border-color: transparent;\n",
              "      border-left-color: var(--fill-color);\n",
              "      border-top-color: var(--fill-color);\n",
              "      border-right-color: var(--fill-color);\n",
              "    }\n",
              "    40% {\n",
              "      border-color: transparent;\n",
              "      border-right-color: var(--fill-color);\n",
              "      border-top-color: var(--fill-color);\n",
              "    }\n",
              "    60% {\n",
              "      border-color: transparent;\n",
              "      border-right-color: var(--fill-color);\n",
              "    }\n",
              "    80% {\n",
              "      border-color: transparent;\n",
              "      border-right-color: var(--fill-color);\n",
              "      border-bottom-color: var(--fill-color);\n",
              "    }\n",
              "    90% {\n",
              "      border-color: transparent;\n",
              "      border-bottom-color: var(--fill-color);\n",
              "    }\n",
              "  }\n",
              "</style>\n",
              "\n",
              "      <script>\n",
              "        async function quickchart(key) {\n",
              "          const quickchartButtonEl =\n",
              "            document.querySelector('#' + key + ' button');\n",
              "          quickchartButtonEl.disabled = true;  // To prevent multiple clicks.\n",
              "          quickchartButtonEl.classList.add('colab-df-spinner');\n",
              "          try {\n",
              "            const charts = await google.colab.kernel.invokeFunction(\n",
              "                'suggestCharts', [key], {});\n",
              "          } catch (error) {\n",
              "            console.error('Error during call to suggestCharts:', error);\n",
              "          }\n",
              "          quickchartButtonEl.classList.remove('colab-df-spinner');\n",
              "          quickchartButtonEl.classList.add('colab-df-quickchart-complete');\n",
              "        }\n",
              "        (() => {\n",
              "          let quickchartButtonEl =\n",
              "            document.querySelector('#df-61b39237-0484-41c0-9ff0-5cfb1e68fbdd button');\n",
              "          quickchartButtonEl.style.display =\n",
              "            google.colab.kernel.accessAllowed ? 'block' : 'none';\n",
              "        })();\n",
              "      </script>\n",
              "    </div>\n",
              "\n",
              "    </div>\n",
              "  </div>\n"
            ],
            "application/vnd.google.colaboratory.intrinsic+json": {
              "type": "dataframe",
              "variable_name": "datos",
              "summary": "{\n  \"name\": \"datos\",\n  \"rows\": 1268,\n  \"fields\": [\n    {\n      \"column\": \"edad\",\n      \"properties\": {\n        \"dtype\": \"number\",\n        \"std\": 11,\n        \"min\": 19,\n        \"max\": 87,\n        \"num_unique_values\": 64,\n        \"samples\": [\n          70,\n          77,\n          45\n        ],\n        \"semantic_type\": \"\",\n        \"description\": \"\"\n      }\n    },\n    {\n      \"column\": \"estado_civil\",\n      \"properties\": {\n        \"dtype\": \"category\",\n        \"num_unique_values\": 3,\n        \"samples\": [\n          \"casado (a)\",\n          \"soltero (a)\",\n          \"divorciado (a)\"\n        ],\n        \"semantic_type\": \"\",\n        \"description\": \"\"\n      }\n    },\n    {\n      \"column\": \"escolaridad\",\n      \"properties\": {\n        \"dtype\": \"category\",\n        \"num_unique_values\": 3,\n        \"samples\": [\n          \"superior\",\n          \"secundaria\",\n          \"primaria\"\n        ],\n        \"semantic_type\": \"\",\n        \"description\": \"\"\n      }\n    },\n    {\n      \"column\": \"default\",\n      \"properties\": {\n        \"dtype\": \"category\",\n        \"num_unique_values\": 2,\n        \"samples\": [\n          \"si\",\n          \"no\"\n        ],\n        \"semantic_type\": \"\",\n        \"description\": \"\"\n      }\n    },\n    {\n      \"column\": \"saldo\",\n      \"properties\": {\n        \"dtype\": \"number\",\n        \"std\": 2690,\n        \"min\": -1206,\n        \"max\": 27069,\n        \"num_unique_values\": 946,\n        \"samples\": [\n          1148,\n          -247\n        ],\n        \"semantic_type\": \"\",\n        \"description\": \"\"\n      }\n    },\n    {\n      \"column\": \"prestatario\",\n      \"properties\": {\n        \"dtype\": \"category\",\n        \"num_unique_values\": 2,\n        \"samples\": [\n          \"si\",\n          \"no\"\n        ],\n        \"semantic_type\": \"\",\n        \"description\": \"\"\n      }\n    },\n    {\n      \"column\": \"ultimo_contacto\",\n      \"properties\": {\n        \"dtype\": \"number\",\n        \"std\": 347,\n        \"min\": 5,\n        \"max\": 3025,\n        \"num_unique_values\": 646,\n        \"samples\": [\n          1006,\n          1060\n        ],\n        \"semantic_type\": \"\",\n        \"description\": \"\"\n      }\n    },\n    {\n      \"column\": \"ct_contactos\",\n      \"properties\": {\n        \"dtype\": \"number\",\n        \"std\": 2,\n        \"min\": 1,\n        \"max\": 32,\n        \"num_unique_values\": 21,\n        \"samples\": [\n          1,\n          24\n        ],\n        \"semantic_type\": \"\",\n        \"description\": \"\"\n      }\n    },\n    {\n      \"column\": \"adherencia_inversion\",\n      \"properties\": {\n        \"dtype\": \"category\",\n        \"num_unique_values\": 2,\n        \"samples\": [\n          \"no\",\n          \"si\"\n        ],\n        \"semantic_type\": \"\",\n        \"description\": \"\"\n      }\n    }\n  ]\n}"
            }
          },
          "metadata": {},
          "execution_count": 3
        }
      ]
    },
    {
      "cell_type": "markdown",
      "source": [
        "Para crear modelos de clasificación, necesitamos utilizar datos de calidad, sin inconsistencias y sin datos faltantes. Verificaremos si existen datos nulos y el tipo de datos de cada columna en la base de datos utilizando el método [`info()`](https://pandas.pydata.org/docs/reference/api/pandas.DataFrame.info.html)."
      ],
      "metadata": {
        "id": "y5VuhIoQQC51"
      }
    },
    {
      "cell_type": "code",
      "source": [
        "datos.info()"
      ],
      "metadata": {
        "id": "C5GX4iFHBPaC",
        "colab": {
          "base_uri": "https://localhost:8080/"
        },
        "outputId": "df3a4e57-0847-4b17-ecaf-d308fcac4edb"
      },
      "execution_count": 5,
      "outputs": [
        {
          "output_type": "stream",
          "name": "stdout",
          "text": [
            "<class 'pandas.core.frame.DataFrame'>\n",
            "RangeIndex: 1268 entries, 0 to 1267\n",
            "Data columns (total 9 columns):\n",
            " #   Column                Non-Null Count  Dtype \n",
            "---  ------                --------------  ----- \n",
            " 0   edad                  1268 non-null   int64 \n",
            " 1   estado_civil          1268 non-null   object\n",
            " 2   escolaridad           1268 non-null   object\n",
            " 3   default               1268 non-null   object\n",
            " 4   saldo                 1268 non-null   int64 \n",
            " 5   prestatario           1268 non-null   object\n",
            " 6   ultimo_contacto       1268 non-null   int64 \n",
            " 7   ct_contactos          1268 non-null   int64 \n",
            " 8   adherencia_inversion  1268 non-null   object\n",
            "dtypes: int64(4), object(5)\n",
            "memory usage: 89.3+ KB\n"
          ]
        }
      ]
    },
    {
      "cell_type": "markdown",
      "source": [
        "## Explorando los datos"
      ],
      "metadata": {
        "id": "sgiS9acdmOQn"
      }
    },
    {
      "cell_type": "markdown",
      "source": [
        "Una etapa muy importante en proyectos de *machine learning* es la exploración y comprensión de los datos, conocida como **análisis exploratorio**. Podemos utilizar gráficos para verificar qué información contiene cada una de las columnas de la base de datos, así como identificar inconsistencias y patrones que puedan existir.  \n",
        "\n",
        "Exploraremos cada una de las columnas de la base de datos utilizando la biblioteca `plotly`. Comenzaremos con las variables categóricas y luego analizaremos las variables numéricas."
      ],
      "metadata": {
        "id": "rMyhhPIMQnWt"
      }
    },
    {
      "cell_type": "markdown",
      "source": [
        "### Variables categóricas"
      ],
      "metadata": {
        "id": "I6m3meBiMLk8"
      }
    },
    {
      "cell_type": "code",
      "source": [
        "import plotly.express as px"
      ],
      "metadata": {
        "id": "ncsqGWGRBSAO"
      },
      "execution_count": 7,
      "outputs": []
    },
    {
      "cell_type": "code",
      "source": [
        "px.histogram(datos, x='adherencia_inversion', title='Adherencia a Inversión',text_auto=True)"
      ],
      "metadata": {
        "id": "kBCrnevSBR0l",
        "colab": {
          "base_uri": "https://localhost:8080/",
          "height": 542
        },
        "outputId": "7ae9c352-35d3-4ff0-f95f-af57153e4cfc"
      },
      "execution_count": 8,
      "outputs": [
        {
          "output_type": "display_data",
          "data": {
            "text/html": [
              "<html>\n",
              "<head><meta charset=\"utf-8\" /></head>\n",
              "<body>\n",
              "    <div>            <script src=\"https://cdnjs.cloudflare.com/ajax/libs/mathjax/2.7.5/MathJax.js?config=TeX-AMS-MML_SVG\"></script><script type=\"text/javascript\">if (window.MathJax && window.MathJax.Hub && window.MathJax.Hub.Config) {window.MathJax.Hub.Config({SVG: {font: \"STIX-Web\"}});}</script>                <script type=\"text/javascript\">window.PlotlyConfig = {MathJaxConfig: 'local'};</script>\n",
              "        <script charset=\"utf-8\" src=\"https://cdn.plot.ly/plotly-2.35.2.min.js\"></script>                <div id=\"5812e480-7d8f-47fb-b4f4-b2edbc11b394\" class=\"plotly-graph-div\" style=\"height:525px; width:100%;\"></div>            <script type=\"text/javascript\">                                    window.PLOTLYENV=window.PLOTLYENV || {};                                    if (document.getElementById(\"5812e480-7d8f-47fb-b4f4-b2edbc11b394\")) {                    Plotly.newPlot(                        \"5812e480-7d8f-47fb-b4f4-b2edbc11b394\",                        [{\"alignmentgroup\":\"True\",\"bingroup\":\"x\",\"hovertemplate\":\"adherencia_inversion=%{x}\\u003cbr\\u003ecount=%{y}\\u003cextra\\u003e\\u003c\\u002fextra\\u003e\",\"legendgroup\":\"\",\"marker\":{\"color\":\"#636efa\",\"pattern\":{\"shape\":\"\"}},\"name\":\"\",\"offsetgroup\":\"\",\"orientation\":\"v\",\"showlegend\":false,\"texttemplate\":\"%{value}\",\"x\":[\"si\",\"si\",\"no\",\"si\",\"si\",\"si\",\"no\",\"no\",\"no\",\"no\",\"si\",\"no\",\"si\",\"no\",\"no\",\"si\",\"no\",\"no\",\"no\",\"si\",\"no\",\"no\",\"no\",\"si\",\"no\",\"si\",\"no\",\"si\",\"si\",\"si\",\"si\",\"no\",\"no\",\"no\",\"no\",\"no\",\"no\",\"no\",\"no\",\"si\",\"no\",\"no\",\"no\",\"no\",\"no\",\"no\",\"si\",\"no\",\"si\",\"no\",\"si\",\"no\",\"no\",\"si\",\"si\",\"si\",\"no\",\"si\",\"no\",\"no\",\"no\",\"no\",\"no\",\"no\",\"no\",\"no\",\"no\",\"no\",\"no\",\"si\",\"no\",\"no\",\"no\",\"no\",\"si\",\"no\",\"si\",\"si\",\"no\",\"no\",\"si\",\"si\",\"no\",\"no\",\"no\",\"no\",\"si\",\"si\",\"si\",\"si\",\"si\",\"no\",\"si\",\"si\",\"si\",\"no\",\"no\",\"no\",\"no\",\"no\",\"no\",\"si\",\"si\",\"no\",\"si\",\"si\",\"no\",\"no\",\"si\",\"no\",\"no\",\"no\",\"no\",\"si\",\"no\",\"si\",\"no\",\"no\",\"no\",\"si\",\"si\",\"no\",\"no\",\"si\",\"si\",\"no\",\"no\",\"si\",\"no\",\"si\",\"no\",\"si\",\"si\",\"no\",\"no\",\"no\",\"si\",\"si\",\"no\",\"si\",\"si\",\"si\",\"si\",\"si\",\"no\",\"si\",\"si\",\"si\",\"si\",\"si\",\"no\",\"no\",\"no\",\"no\",\"no\",\"si\",\"no\",\"no\",\"no\",\"no\",\"no\",\"no\",\"no\",\"si\",\"no\",\"no\",\"no\",\"si\",\"si\",\"si\",\"no\",\"no\",\"no\",\"no\",\"no\",\"si\",\"si\",\"no\",\"no\",\"si\",\"no\",\"si\",\"no\",\"si\",\"si\",\"no\",\"no\",\"si\",\"si\",\"no\",\"no\",\"si\",\"si\",\"no\",\"no\",\"no\",\"no\",\"si\",\"no\",\"no\",\"si\",\"si\",\"no\",\"no\",\"no\",\"si\",\"si\",\"no\",\"si\",\"no\",\"si\",\"no\",\"si\",\"no\",\"no\",\"no\",\"si\",\"no\",\"no\",\"si\",\"no\",\"si\",\"si\",\"no\",\"no\",\"no\",\"si\",\"si\",\"si\",\"no\",\"no\",\"no\",\"no\",\"si\",\"no\",\"si\",\"si\",\"no\",\"no\",\"si\",\"si\",\"no\",\"no\",\"no\",\"no\",\"no\",\"no\",\"no\",\"no\",\"no\",\"no\",\"no\",\"no\",\"no\",\"no\",\"no\",\"no\",\"si\",\"no\",\"no\",\"si\",\"si\",\"no\",\"si\",\"no\",\"no\",\"si\",\"si\",\"si\",\"si\",\"si\",\"no\",\"si\",\"no\",\"no\",\"si\",\"si\",\"si\",\"si\",\"no\",\"no\",\"si\",\"no\",\"no\",\"no\",\"no\",\"no\",\"si\",\"no\",\"no\",\"no\",\"no\",\"si\",\"no\",\"no\",\"no\",\"no\",\"no\",\"no\",\"si\",\"si\",\"no\",\"no\",\"no\",\"no\",\"si\",\"no\",\"si\",\"no\",\"no\",\"no\",\"no\",\"si\",\"no\",\"no\",\"no\",\"si\",\"no\",\"si\",\"si\",\"si\",\"no\",\"no\",\"si\",\"no\",\"no\",\"no\",\"no\",\"no\",\"no\",\"no\",\"no\",\"si\",\"si\",\"no\",\"no\",\"no\",\"no\",\"si\",\"no\",\"no\",\"no\",\"no\",\"no\",\"si\",\"no\",\"no\",\"si\",\"si\",\"si\",\"no\",\"no\",\"no\",\"si\",\"no\",\"no\",\"si\",\"no\",\"no\",\"si\",\"si\",\"no\",\"no\",\"no\",\"no\",\"si\",\"no\",\"si\",\"si\",\"si\",\"no\",\"no\",\"si\",\"no\",\"si\",\"no\",\"no\",\"no\",\"no\",\"no\",\"no\",\"si\",\"si\",\"si\",\"si\",\"si\",\"no\",\"si\",\"no\",\"no\",\"no\",\"no\",\"no\",\"si\",\"no\",\"no\",\"si\",\"no\",\"no\",\"no\",\"si\",\"si\",\"si\",\"si\",\"si\",\"no\",\"no\",\"no\",\"si\",\"no\",\"si\",\"si\",\"no\",\"no\",\"no\",\"no\",\"si\",\"si\",\"no\",\"no\",\"no\",\"no\",\"si\",\"no\",\"no\",\"si\",\"si\",\"no\",\"no\",\"no\",\"si\",\"si\",\"si\",\"si\",\"si\",\"no\",\"si\",\"no\",\"no\",\"si\",\"no\",\"no\",\"no\",\"no\",\"no\",\"no\",\"no\",\"no\",\"no\",\"si\",\"no\",\"si\",\"no\",\"no\",\"si\",\"no\",\"no\",\"no\",\"no\",\"no\",\"si\",\"no\",\"no\",\"no\",\"si\",\"si\",\"si\",\"no\",\"si\",\"no\",\"no\",\"no\",\"si\",\"no\",\"si\",\"si\",\"no\",\"si\",\"si\",\"si\",\"no\",\"si\",\"no\",\"no\",\"si\",\"no\",\"si\",\"si\",\"no\",\"no\",\"no\",\"si\",\"no\",\"no\",\"si\",\"si\",\"si\",\"no\",\"no\",\"no\",\"si\",\"no\",\"no\",\"no\",\"no\",\"no\",\"no\",\"no\",\"si\",\"si\",\"no\",\"no\",\"no\",\"si\",\"no\",\"si\",\"no\",\"si\",\"no\",\"no\",\"no\",\"no\",\"si\",\"si\",\"si\",\"no\",\"no\",\"no\",\"si\",\"no\",\"no\",\"no\",\"no\",\"no\",\"si\",\"si\",\"si\",\"no\",\"si\",\"no\",\"si\",\"no\",\"no\",\"si\",\"si\",\"no\",\"si\",\"si\",\"no\",\"si\",\"no\",\"no\",\"no\",\"no\",\"si\",\"no\",\"no\",\"si\",\"si\",\"si\",\"no\",\"no\",\"no\",\"no\",\"no\",\"no\",\"si\",\"no\",\"no\",\"si\",\"no\",\"si\",\"no\",\"no\",\"no\",\"no\",\"no\",\"no\",\"no\",\"no\",\"no\",\"no\",\"no\",\"si\",\"no\",\"no\",\"si\",\"no\",\"si\",\"no\",\"no\",\"si\",\"no\",\"si\",\"si\",\"no\",\"no\",\"si\",\"no\",\"no\",\"si\",\"no\",\"no\",\"si\",\"si\",\"no\",\"si\",\"no\",\"si\",\"si\",\"no\",\"no\",\"si\",\"si\",\"no\",\"si\",\"si\",\"si\",\"si\",\"si\",\"no\",\"si\",\"no\",\"si\",\"si\",\"no\",\"no\",\"no\",\"no\",\"si\",\"no\",\"no\",\"no\",\"no\",\"si\",\"no\",\"no\",\"si\",\"no\",\"no\",\"no\",\"si\",\"no\",\"si\",\"no\",\"no\",\"no\",\"no\",\"si\",\"no\",\"si\",\"si\",\"si\",\"si\",\"no\",\"no\",\"no\",\"no\",\"no\",\"no\",\"si\",\"no\",\"si\",\"no\",\"no\",\"no\",\"no\",\"no\",\"no\",\"no\",\"si\",\"si\",\"no\",\"no\",\"no\",\"no\",\"si\",\"no\",\"no\",\"no\",\"no\",\"no\",\"no\",\"no\",\"si\",\"no\",\"si\",\"no\",\"no\",\"no\",\"si\",\"si\",\"no\",\"no\",\"si\",\"no\",\"no\",\"no\",\"no\",\"no\",\"no\",\"si\",\"si\",\"si\",\"no\",\"no\",\"no\",\"no\",\"si\",\"no\",\"si\",\"si\",\"si\",\"no\",\"no\",\"no\",\"no\",\"si\",\"si\",\"si\",\"no\",\"si\",\"si\",\"no\",\"no\",\"no\",\"no\",\"si\",\"no\",\"no\",\"no\",\"si\",\"no\",\"no\",\"si\",\"si\",\"si\",\"no\",\"no\",\"no\",\"no\",\"si\",\"no\",\"si\",\"no\",\"no\",\"si\",\"no\",\"si\",\"si\",\"si\",\"si\",\"no\",\"si\",\"no\",\"no\",\"si\",\"no\",\"no\",\"no\",\"no\",\"si\",\"no\",\"no\",\"no\",\"no\",\"no\",\"si\",\"si\",\"no\",\"si\",\"no\",\"no\",\"no\",\"no\",\"no\",\"si\",\"no\",\"si\",\"si\",\"no\",\"no\",\"si\",\"si\",\"si\",\"no\",\"no\",\"si\",\"no\",\"no\",\"no\",\"no\",\"no\",\"no\",\"si\",\"no\",\"no\",\"no\",\"si\",\"no\",\"no\",\"si\",\"si\",\"no\",\"si\",\"no\",\"si\",\"no\",\"si\",\"no\",\"si\",\"no\",\"si\",\"no\",\"si\",\"si\",\"si\",\"no\",\"no\",\"si\",\"no\",\"no\",\"no\",\"no\",\"no\",\"no\",\"no\",\"si\",\"si\",\"no\",\"si\",\"no\",\"no\",\"si\",\"no\",\"no\",\"si\",\"si\",\"no\",\"si\",\"no\",\"si\",\"no\",\"no\",\"no\",\"no\",\"si\",\"no\",\"no\",\"si\",\"si\",\"no\",\"no\",\"no\",\"no\",\"no\",\"no\",\"no\",\"si\",\"no\",\"no\",\"no\",\"si\",\"si\",\"no\",\"no\",\"no\",\"si\",\"si\",\"si\",\"no\",\"si\",\"si\",\"no\",\"no\",\"no\",\"si\",\"no\",\"no\",\"si\",\"si\",\"no\",\"no\",\"si\",\"no\",\"no\",\"no\",\"no\",\"no\",\"no\",\"si\",\"si\",\"si\",\"no\",\"no\",\"si\",\"si\",\"si\",\"no\",\"no\",\"no\",\"no\",\"no\",\"no\",\"no\",\"si\",\"no\",\"si\",\"si\",\"si\",\"si\",\"no\",\"no\",\"no\",\"si\",\"no\",\"no\",\"no\",\"si\",\"no\",\"no\",\"no\",\"no\",\"si\",\"no\",\"si\",\"si\",\"no\",\"si\",\"no\",\"no\",\"si\",\"no\",\"no\",\"si\",\"si\",\"no\",\"no\",\"no\",\"no\",\"si\",\"si\",\"no\",\"si\",\"si\",\"no\",\"si\",\"si\",\"si\",\"no\",\"no\",\"si\",\"si\",\"no\",\"no\",\"no\",\"si\",\"si\",\"si\",\"si\",\"si\",\"si\",\"no\",\"no\",\"no\",\"si\",\"no\",\"si\",\"si\",\"no\",\"no\",\"si\",\"no\",\"si\",\"si\",\"no\",\"si\",\"no\",\"si\",\"no\",\"no\",\"no\",\"no\",\"si\",\"si\",\"si\",\"si\",\"si\",\"no\",\"no\",\"si\",\"si\",\"no\",\"no\",\"no\",\"no\",\"no\",\"si\",\"no\",\"no\",\"si\",\"si\",\"no\",\"no\",\"no\",\"no\",\"no\",\"si\",\"no\",\"no\",\"no\",\"no\",\"no\",\"no\",\"no\",\"no\",\"si\",\"si\",\"si\",\"no\",\"si\",\"si\",\"no\",\"si\",\"si\",\"no\",\"no\",\"no\",\"si\",\"no\",\"no\",\"no\",\"no\",\"si\",\"si\",\"no\",\"no\",\"si\",\"si\",\"si\",\"si\",\"no\",\"si\",\"si\",\"si\",\"si\",\"si\",\"no\",\"si\",\"no\",\"si\",\"no\",\"no\",\"si\",\"no\",\"no\",\"no\",\"no\",\"si\",\"no\",\"si\",\"si\",\"no\",\"no\",\"si\",\"si\",\"si\",\"si\",\"no\",\"no\",\"si\",\"no\",\"no\",\"no\",\"no\",\"si\",\"si\",\"no\",\"si\",\"no\",\"si\",\"no\",\"no\",\"si\",\"si\",\"no\",\"no\",\"no\",\"no\",\"no\",\"no\",\"si\",\"no\",\"si\",\"no\",\"no\",\"si\",\"no\",\"no\",\"no\",\"si\",\"no\",\"si\",\"si\",\"no\",\"si\",\"no\",\"no\",\"no\",\"no\",\"no\",\"si\",\"si\",\"si\",\"no\",\"no\",\"si\",\"no\",\"no\",\"no\",\"si\",\"no\",\"no\",\"si\",\"si\",\"si\",\"no\",\"si\",\"no\",\"no\",\"no\",\"si\",\"no\",\"si\",\"no\",\"no\",\"si\",\"no\",\"no\",\"si\",\"no\",\"no\",\"si\",\"si\",\"si\",\"no\",\"no\",\"si\",\"si\",\"no\",\"si\",\"si\",\"si\",\"no\",\"no\",\"si\",\"no\",\"no\",\"no\",\"si\",\"no\",\"no\",\"si\",\"si\",\"si\",\"si\",\"no\",\"no\",\"si\",\"no\",\"si\",\"no\",\"no\",\"no\",\"no\",\"no\",\"no\",\"si\",\"si\",\"no\",\"si\",\"no\",\"no\",\"no\",\"si\",\"si\",\"no\",\"no\",\"no\",\"no\",\"no\",\"si\",\"si\",\"si\",\"no\",\"no\",\"no\",\"si\",\"no\",\"si\",\"no\",\"si\",\"no\",\"no\",\"no\",\"no\",\"no\",\"si\",\"no\",\"si\",\"si\",\"si\",\"no\",\"no\",\"si\",\"no\",\"si\",\"no\",\"si\",\"no\",\"si\",\"no\",\"no\",\"no\",\"no\",\"no\",\"no\",\"si\",\"no\",\"no\",\"si\",\"si\",\"no\",\"si\",\"no\",\"si\",\"no\",\"si\",\"no\",\"no\",\"si\",\"no\",\"si\",\"no\",\"no\",\"no\",\"no\",\"si\",\"no\",\"si\",\"si\",\"no\",\"si\",\"no\",\"si\",\"no\",\"si\",\"si\",\"no\",\"no\",\"si\",\"no\",\"no\",\"si\",\"si\",\"si\",\"si\",\"si\"],\"xaxis\":\"x\",\"yaxis\":\"y\",\"type\":\"histogram\"}],                        {\"template\":{\"data\":{\"histogram2dcontour\":[{\"type\":\"histogram2dcontour\",\"colorbar\":{\"outlinewidth\":0,\"ticks\":\"\"},\"colorscale\":[[0.0,\"#0d0887\"],[0.1111111111111111,\"#46039f\"],[0.2222222222222222,\"#7201a8\"],[0.3333333333333333,\"#9c179e\"],[0.4444444444444444,\"#bd3786\"],[0.5555555555555556,\"#d8576b\"],[0.6666666666666666,\"#ed7953\"],[0.7777777777777778,\"#fb9f3a\"],[0.8888888888888888,\"#fdca26\"],[1.0,\"#f0f921\"]]}],\"choropleth\":[{\"type\":\"choropleth\",\"colorbar\":{\"outlinewidth\":0,\"ticks\":\"\"}}],\"histogram2d\":[{\"type\":\"histogram2d\",\"colorbar\":{\"outlinewidth\":0,\"ticks\":\"\"},\"colorscale\":[[0.0,\"#0d0887\"],[0.1111111111111111,\"#46039f\"],[0.2222222222222222,\"#7201a8\"],[0.3333333333333333,\"#9c179e\"],[0.4444444444444444,\"#bd3786\"],[0.5555555555555556,\"#d8576b\"],[0.6666666666666666,\"#ed7953\"],[0.7777777777777778,\"#fb9f3a\"],[0.8888888888888888,\"#fdca26\"],[1.0,\"#f0f921\"]]}],\"heatmap\":[{\"type\":\"heatmap\",\"colorbar\":{\"outlinewidth\":0,\"ticks\":\"\"},\"colorscale\":[[0.0,\"#0d0887\"],[0.1111111111111111,\"#46039f\"],[0.2222222222222222,\"#7201a8\"],[0.3333333333333333,\"#9c179e\"],[0.4444444444444444,\"#bd3786\"],[0.5555555555555556,\"#d8576b\"],[0.6666666666666666,\"#ed7953\"],[0.7777777777777778,\"#fb9f3a\"],[0.8888888888888888,\"#fdca26\"],[1.0,\"#f0f921\"]]}],\"heatmapgl\":[{\"type\":\"heatmapgl\",\"colorbar\":{\"outlinewidth\":0,\"ticks\":\"\"},\"colorscale\":[[0.0,\"#0d0887\"],[0.1111111111111111,\"#46039f\"],[0.2222222222222222,\"#7201a8\"],[0.3333333333333333,\"#9c179e\"],[0.4444444444444444,\"#bd3786\"],[0.5555555555555556,\"#d8576b\"],[0.6666666666666666,\"#ed7953\"],[0.7777777777777778,\"#fb9f3a\"],[0.8888888888888888,\"#fdca26\"],[1.0,\"#f0f921\"]]}],\"contourcarpet\":[{\"type\":\"contourcarpet\",\"colorbar\":{\"outlinewidth\":0,\"ticks\":\"\"}}],\"contour\":[{\"type\":\"contour\",\"colorbar\":{\"outlinewidth\":0,\"ticks\":\"\"},\"colorscale\":[[0.0,\"#0d0887\"],[0.1111111111111111,\"#46039f\"],[0.2222222222222222,\"#7201a8\"],[0.3333333333333333,\"#9c179e\"],[0.4444444444444444,\"#bd3786\"],[0.5555555555555556,\"#d8576b\"],[0.6666666666666666,\"#ed7953\"],[0.7777777777777778,\"#fb9f3a\"],[0.8888888888888888,\"#fdca26\"],[1.0,\"#f0f921\"]]}],\"surface\":[{\"type\":\"surface\",\"colorbar\":{\"outlinewidth\":0,\"ticks\":\"\"},\"colorscale\":[[0.0,\"#0d0887\"],[0.1111111111111111,\"#46039f\"],[0.2222222222222222,\"#7201a8\"],[0.3333333333333333,\"#9c179e\"],[0.4444444444444444,\"#bd3786\"],[0.5555555555555556,\"#d8576b\"],[0.6666666666666666,\"#ed7953\"],[0.7777777777777778,\"#fb9f3a\"],[0.8888888888888888,\"#fdca26\"],[1.0,\"#f0f921\"]]}],\"mesh3d\":[{\"type\":\"mesh3d\",\"colorbar\":{\"outlinewidth\":0,\"ticks\":\"\"}}],\"scatter\":[{\"fillpattern\":{\"fillmode\":\"overlay\",\"size\":10,\"solidity\":0.2},\"type\":\"scatter\"}],\"parcoords\":[{\"type\":\"parcoords\",\"line\":{\"colorbar\":{\"outlinewidth\":0,\"ticks\":\"\"}}}],\"scatterpolargl\":[{\"type\":\"scatterpolargl\",\"marker\":{\"colorbar\":{\"outlinewidth\":0,\"ticks\":\"\"}}}],\"bar\":[{\"error_x\":{\"color\":\"#2a3f5f\"},\"error_y\":{\"color\":\"#2a3f5f\"},\"marker\":{\"line\":{\"color\":\"#E5ECF6\",\"width\":0.5},\"pattern\":{\"fillmode\":\"overlay\",\"size\":10,\"solidity\":0.2}},\"type\":\"bar\"}],\"scattergeo\":[{\"type\":\"scattergeo\",\"marker\":{\"colorbar\":{\"outlinewidth\":0,\"ticks\":\"\"}}}],\"scatterpolar\":[{\"type\":\"scatterpolar\",\"marker\":{\"colorbar\":{\"outlinewidth\":0,\"ticks\":\"\"}}}],\"histogram\":[{\"marker\":{\"pattern\":{\"fillmode\":\"overlay\",\"size\":10,\"solidity\":0.2}},\"type\":\"histogram\"}],\"scattergl\":[{\"type\":\"scattergl\",\"marker\":{\"colorbar\":{\"outlinewidth\":0,\"ticks\":\"\"}}}],\"scatter3d\":[{\"type\":\"scatter3d\",\"line\":{\"colorbar\":{\"outlinewidth\":0,\"ticks\":\"\"}},\"marker\":{\"colorbar\":{\"outlinewidth\":0,\"ticks\":\"\"}}}],\"scattermapbox\":[{\"type\":\"scattermapbox\",\"marker\":{\"colorbar\":{\"outlinewidth\":0,\"ticks\":\"\"}}}],\"scatterternary\":[{\"type\":\"scatterternary\",\"marker\":{\"colorbar\":{\"outlinewidth\":0,\"ticks\":\"\"}}}],\"scattercarpet\":[{\"type\":\"scattercarpet\",\"marker\":{\"colorbar\":{\"outlinewidth\":0,\"ticks\":\"\"}}}],\"carpet\":[{\"aaxis\":{\"endlinecolor\":\"#2a3f5f\",\"gridcolor\":\"white\",\"linecolor\":\"white\",\"minorgridcolor\":\"white\",\"startlinecolor\":\"#2a3f5f\"},\"baxis\":{\"endlinecolor\":\"#2a3f5f\",\"gridcolor\":\"white\",\"linecolor\":\"white\",\"minorgridcolor\":\"white\",\"startlinecolor\":\"#2a3f5f\"},\"type\":\"carpet\"}],\"table\":[{\"cells\":{\"fill\":{\"color\":\"#EBF0F8\"},\"line\":{\"color\":\"white\"}},\"header\":{\"fill\":{\"color\":\"#C8D4E3\"},\"line\":{\"color\":\"white\"}},\"type\":\"table\"}],\"barpolar\":[{\"marker\":{\"line\":{\"color\":\"#E5ECF6\",\"width\":0.5},\"pattern\":{\"fillmode\":\"overlay\",\"size\":10,\"solidity\":0.2}},\"type\":\"barpolar\"}],\"pie\":[{\"automargin\":true,\"type\":\"pie\"}]},\"layout\":{\"autotypenumbers\":\"strict\",\"colorway\":[\"#636efa\",\"#EF553B\",\"#00cc96\",\"#ab63fa\",\"#FFA15A\",\"#19d3f3\",\"#FF6692\",\"#B6E880\",\"#FF97FF\",\"#FECB52\"],\"font\":{\"color\":\"#2a3f5f\"},\"hovermode\":\"closest\",\"hoverlabel\":{\"align\":\"left\"},\"paper_bgcolor\":\"white\",\"plot_bgcolor\":\"#E5ECF6\",\"polar\":{\"bgcolor\":\"#E5ECF6\",\"angularaxis\":{\"gridcolor\":\"white\",\"linecolor\":\"white\",\"ticks\":\"\"},\"radialaxis\":{\"gridcolor\":\"white\",\"linecolor\":\"white\",\"ticks\":\"\"}},\"ternary\":{\"bgcolor\":\"#E5ECF6\",\"aaxis\":{\"gridcolor\":\"white\",\"linecolor\":\"white\",\"ticks\":\"\"},\"baxis\":{\"gridcolor\":\"white\",\"linecolor\":\"white\",\"ticks\":\"\"},\"caxis\":{\"gridcolor\":\"white\",\"linecolor\":\"white\",\"ticks\":\"\"}},\"coloraxis\":{\"colorbar\":{\"outlinewidth\":0,\"ticks\":\"\"}},\"colorscale\":{\"sequential\":[[0.0,\"#0d0887\"],[0.1111111111111111,\"#46039f\"],[0.2222222222222222,\"#7201a8\"],[0.3333333333333333,\"#9c179e\"],[0.4444444444444444,\"#bd3786\"],[0.5555555555555556,\"#d8576b\"],[0.6666666666666666,\"#ed7953\"],[0.7777777777777778,\"#fb9f3a\"],[0.8888888888888888,\"#fdca26\"],[1.0,\"#f0f921\"]],\"sequentialminus\":[[0.0,\"#0d0887\"],[0.1111111111111111,\"#46039f\"],[0.2222222222222222,\"#7201a8\"],[0.3333333333333333,\"#9c179e\"],[0.4444444444444444,\"#bd3786\"],[0.5555555555555556,\"#d8576b\"],[0.6666666666666666,\"#ed7953\"],[0.7777777777777778,\"#fb9f3a\"],[0.8888888888888888,\"#fdca26\"],[1.0,\"#f0f921\"]],\"diverging\":[[0,\"#8e0152\"],[0.1,\"#c51b7d\"],[0.2,\"#de77ae\"],[0.3,\"#f1b6da\"],[0.4,\"#fde0ef\"],[0.5,\"#f7f7f7\"],[0.6,\"#e6f5d0\"],[0.7,\"#b8e186\"],[0.8,\"#7fbc41\"],[0.9,\"#4d9221\"],[1,\"#276419\"]]},\"xaxis\":{\"gridcolor\":\"white\",\"linecolor\":\"white\",\"ticks\":\"\",\"title\":{\"standoff\":15},\"zerolinecolor\":\"white\",\"automargin\":true,\"zerolinewidth\":2},\"yaxis\":{\"gridcolor\":\"white\",\"linecolor\":\"white\",\"ticks\":\"\",\"title\":{\"standoff\":15},\"zerolinecolor\":\"white\",\"automargin\":true,\"zerolinewidth\":2},\"scene\":{\"xaxis\":{\"backgroundcolor\":\"#E5ECF6\",\"gridcolor\":\"white\",\"linecolor\":\"white\",\"showbackground\":true,\"ticks\":\"\",\"zerolinecolor\":\"white\",\"gridwidth\":2},\"yaxis\":{\"backgroundcolor\":\"#E5ECF6\",\"gridcolor\":\"white\",\"linecolor\":\"white\",\"showbackground\":true,\"ticks\":\"\",\"zerolinecolor\":\"white\",\"gridwidth\":2},\"zaxis\":{\"backgroundcolor\":\"#E5ECF6\",\"gridcolor\":\"white\",\"linecolor\":\"white\",\"showbackground\":true,\"ticks\":\"\",\"zerolinecolor\":\"white\",\"gridwidth\":2}},\"shapedefaults\":{\"line\":{\"color\":\"#2a3f5f\"}},\"annotationdefaults\":{\"arrowcolor\":\"#2a3f5f\",\"arrowhead\":0,\"arrowwidth\":1},\"geo\":{\"bgcolor\":\"white\",\"landcolor\":\"#E5ECF6\",\"subunitcolor\":\"white\",\"showland\":true,\"showlakes\":true,\"lakecolor\":\"white\"},\"title\":{\"x\":0.05},\"mapbox\":{\"style\":\"light\"}}},\"xaxis\":{\"anchor\":\"y\",\"domain\":[0.0,1.0],\"title\":{\"text\":\"adherencia_inversion\"}},\"yaxis\":{\"anchor\":\"x\",\"domain\":[0.0,1.0],\"title\":{\"text\":\"count\"}},\"legend\":{\"tracegroupgap\":0},\"title\":{\"text\":\"Adherencia a Inversión\"},\"barmode\":\"relative\"},                        {\"responsive\": true}                    ).then(function(){\n",
              "                            \n",
              "var gd = document.getElementById('5812e480-7d8f-47fb-b4f4-b2edbc11b394');\n",
              "var x = new MutationObserver(function (mutations, observer) {{\n",
              "        var display = window.getComputedStyle(gd).display;\n",
              "        if (!display || display === 'none') {{\n",
              "            console.log([gd, 'removed!']);\n",
              "            Plotly.purge(gd);\n",
              "            observer.disconnect();\n",
              "        }}\n",
              "}});\n",
              "\n",
              "// Listen for the removal of the full notebook cells\n",
              "var notebookContainer = gd.closest('#notebook-container');\n",
              "if (notebookContainer) {{\n",
              "    x.observe(notebookContainer, {childList: true});\n",
              "}}\n",
              "\n",
              "// Listen for the clearing of the current output cell\n",
              "var outputEl = gd.closest('.output');\n",
              "if (outputEl) {{\n",
              "    x.observe(outputEl, {childList: true});\n",
              "}}\n",
              "\n",
              "                        })                };                            </script>        </div>\n",
              "</body>\n",
              "</html>"
            ]
          },
          "metadata": {}
        }
      ]
    },
    {
      "cell_type": "code",
      "source": [
        "px.histogram(datos, x='estado_civil',color='adherencia_inversion',text_auto=True,barmode='group' )"
      ],
      "metadata": {
        "id": "k1KsB0c1BVtL",
        "colab": {
          "base_uri": "https://localhost:8080/",
          "height": 542
        },
        "outputId": "2b0eb89d-3866-4437-bf6b-7fbc70295944"
      },
      "execution_count": 12,
      "outputs": [
        {
          "output_type": "display_data",
          "data": {
            "text/html": [
              "<html>\n",
              "<head><meta charset=\"utf-8\" /></head>\n",
              "<body>\n",
              "    <div>            <script src=\"https://cdnjs.cloudflare.com/ajax/libs/mathjax/2.7.5/MathJax.js?config=TeX-AMS-MML_SVG\"></script><script type=\"text/javascript\">if (window.MathJax && window.MathJax.Hub && window.MathJax.Hub.Config) {window.MathJax.Hub.Config({SVG: {font: \"STIX-Web\"}});}</script>                <script type=\"text/javascript\">window.PlotlyConfig = {MathJaxConfig: 'local'};</script>\n",
              "        <script charset=\"utf-8\" src=\"https://cdn.plot.ly/plotly-2.35.2.min.js\"></script>                <div id=\"03f884ad-e868-459f-98f1-712bd76a8e89\" class=\"plotly-graph-div\" style=\"height:525px; width:100%;\"></div>            <script type=\"text/javascript\">                                    window.PLOTLYENV=window.PLOTLYENV || {};                                    if (document.getElementById(\"03f884ad-e868-459f-98f1-712bd76a8e89\")) {                    Plotly.newPlot(                        \"03f884ad-e868-459f-98f1-712bd76a8e89\",                        [{\"alignmentgroup\":\"True\",\"bingroup\":\"x\",\"hovertemplate\":\"adherencia_inversion=si\\u003cbr\\u003eestado_civil=%{x}\\u003cbr\\u003ecount=%{y}\\u003cextra\\u003e\\u003c\\u002fextra\\u003e\",\"legendgroup\":\"si\",\"marker\":{\"color\":\"#636efa\",\"pattern\":{\"shape\":\"\"}},\"name\":\"si\",\"offsetgroup\":\"si\",\"orientation\":\"v\",\"showlegend\":true,\"texttemplate\":\"%{value}\",\"x\":[\"casado (a)\",\"casado (a)\",\"divorciado (a)\",\"casado (a)\",\"soltero (a)\",\"soltero (a)\",\"casado (a)\",\"divorciado (a)\",\"casado (a)\",\"divorciado (a)\",\"casado (a)\",\"soltero (a)\",\"soltero (a)\",\"casado (a)\",\"soltero (a)\",\"casado (a)\",\"casado (a)\",\"casado (a)\",\"casado (a)\",\"casado (a)\",\"casado (a)\",\"casado (a)\",\"casado (a)\",\"soltero (a)\",\"soltero (a)\",\"divorciado (a)\",\"divorciado (a)\",\"soltero (a)\",\"divorciado (a)\",\"soltero (a)\",\"soltero (a)\",\"soltero (a)\",\"soltero (a)\",\"soltero (a)\",\"casado (a)\",\"casado (a)\",\"casado (a)\",\"casado (a)\",\"casado (a)\",\"soltero (a)\",\"soltero (a)\",\"casado (a)\",\"soltero (a)\",\"casado (a)\",\"casado (a)\",\"casado (a)\",\"divorciado (a)\",\"casado (a)\",\"soltero (a)\",\"soltero (a)\",\"casado (a)\",\"casado (a)\",\"casado (a)\",\"casado (a)\",\"soltero (a)\",\"casado (a)\",\"divorciado (a)\",\"casado (a)\",\"divorciado (a)\",\"casado (a)\",\"soltero (a)\",\"casado (a)\",\"casado (a)\",\"divorciado (a)\",\"divorciado (a)\",\"soltero (a)\",\"casado (a)\",\"casado (a)\",\"casado (a)\",\"soltero (a)\",\"divorciado (a)\",\"soltero (a)\",\"casado (a)\",\"casado (a)\",\"casado (a)\",\"divorciado (a)\",\"divorciado (a)\",\"casado (a)\",\"soltero (a)\",\"casado (a)\",\"soltero (a)\",\"casado (a)\",\"casado (a)\",\"casado (a)\",\"casado (a)\",\"casado (a)\",\"divorciado (a)\",\"divorciado (a)\",\"casado (a)\",\"divorciado (a)\",\"casado (a)\",\"casado (a)\",\"casado (a)\",\"soltero (a)\",\"casado (a)\",\"casado (a)\",\"casado (a)\",\"soltero (a)\",\"soltero (a)\",\"soltero (a)\",\"casado (a)\",\"casado (a)\",\"divorciado (a)\",\"casado (a)\",\"soltero (a)\",\"casado (a)\",\"casado (a)\",\"soltero (a)\",\"divorciado (a)\",\"soltero (a)\",\"casado (a)\",\"soltero (a)\",\"casado (a)\",\"soltero (a)\",\"casado (a)\",\"soltero (a)\",\"soltero (a)\",\"casado (a)\",\"casado (a)\",\"casado (a)\",\"casado (a)\",\"soltero (a)\",\"divorciado (a)\",\"soltero (a)\",\"soltero (a)\",\"soltero (a)\",\"casado (a)\",\"soltero (a)\",\"soltero (a)\",\"soltero (a)\",\"soltero (a)\",\"casado (a)\",\"soltero (a)\",\"divorciado (a)\",\"casado (a)\",\"casado (a)\",\"casado (a)\",\"divorciado (a)\",\"casado (a)\",\"soltero (a)\",\"casado (a)\",\"casado (a)\",\"soltero (a)\",\"casado (a)\",\"soltero (a)\",\"casado (a)\",\"casado (a)\",\"soltero (a)\",\"casado (a)\",\"soltero (a)\",\"soltero (a)\",\"casado (a)\",\"soltero (a)\",\"casado (a)\",\"soltero (a)\",\"divorciado (a)\",\"soltero (a)\",\"soltero (a)\",\"soltero (a)\",\"casado (a)\",\"casado (a)\",\"casado (a)\",\"casado (a)\",\"soltero (a)\",\"casado (a)\",\"casado (a)\",\"casado (a)\",\"casado (a)\",\"casado (a)\",\"soltero (a)\",\"soltero (a)\",\"casado (a)\",\"casado (a)\",\"casado (a)\",\"soltero (a)\",\"casado (a)\",\"casado (a)\",\"divorciado (a)\",\"casado (a)\",\"casado (a)\",\"soltero (a)\",\"casado (a)\",\"divorciado (a)\",\"casado (a)\",\"casado (a)\",\"soltero (a)\",\"soltero (a)\",\"divorciado (a)\",\"casado (a)\",\"casado (a)\",\"casado (a)\",\"casado (a)\",\"divorciado (a)\",\"divorciado (a)\",\"soltero (a)\",\"soltero (a)\",\"casado (a)\",\"soltero (a)\",\"soltero (a)\",\"casado (a)\",\"casado (a)\",\"casado (a)\",\"casado (a)\",\"casado (a)\",\"soltero (a)\",\"soltero (a)\",\"divorciado (a)\",\"soltero (a)\",\"divorciado (a)\",\"casado (a)\",\"soltero (a)\",\"casado (a)\",\"divorciado (a)\",\"soltero (a)\",\"casado (a)\",\"casado (a)\",\"soltero (a)\",\"casado (a)\",\"casado (a)\",\"divorciado (a)\",\"casado (a)\",\"soltero (a)\",\"casado (a)\",\"casado (a)\",\"casado (a)\",\"divorciado (a)\",\"casado (a)\",\"soltero (a)\",\"casado (a)\",\"casado (a)\",\"casado (a)\",\"divorciado (a)\",\"casado (a)\",\"soltero (a)\",\"casado (a)\",\"casado (a)\",\"casado (a)\",\"casado (a)\",\"casado (a)\",\"casado (a)\",\"soltero (a)\",\"casado (a)\",\"casado (a)\",\"casado (a)\",\"soltero (a)\",\"casado (a)\",\"casado (a)\",\"casado (a)\",\"casado (a)\",\"divorciado (a)\",\"soltero (a)\",\"casado (a)\",\"casado (a)\",\"casado (a)\",\"divorciado (a)\",\"casado (a)\",\"divorciado (a)\",\"soltero (a)\",\"casado (a)\",\"soltero (a)\",\"soltero (a)\",\"casado (a)\",\"casado (a)\",\"casado (a)\",\"casado (a)\",\"soltero (a)\",\"soltero (a)\",\"casado (a)\",\"casado (a)\",\"casado (a)\",\"soltero (a)\",\"soltero (a)\",\"casado (a)\",\"casado (a)\",\"casado (a)\",\"soltero (a)\",\"casado (a)\",\"casado (a)\",\"casado (a)\",\"casado (a)\",\"divorciado (a)\",\"soltero (a)\",\"casado (a)\",\"divorciado (a)\",\"soltero (a)\",\"soltero (a)\",\"casado (a)\",\"casado (a)\",\"casado (a)\",\"casado (a)\",\"casado (a)\",\"soltero (a)\",\"soltero (a)\",\"casado (a)\",\"soltero (a)\",\"soltero (a)\",\"soltero (a)\",\"divorciado (a)\",\"soltero (a)\",\"casado (a)\",\"divorciado (a)\",\"casado (a)\",\"casado (a)\",\"casado (a)\",\"casado (a)\",\"casado (a)\",\"soltero (a)\",\"casado (a)\",\"casado (a)\",\"casado (a)\",\"casado (a)\",\"soltero (a)\",\"casado (a)\",\"soltero (a)\",\"soltero (a)\",\"divorciado (a)\",\"soltero (a)\",\"soltero (a)\",\"casado (a)\",\"casado (a)\",\"divorciado (a)\",\"casado (a)\",\"soltero (a)\",\"casado (a)\",\"divorciado (a)\",\"soltero (a)\",\"casado (a)\",\"casado (a)\",\"divorciado (a)\",\"casado (a)\",\"casado (a)\",\"casado (a)\",\"soltero (a)\",\"casado (a)\",\"soltero (a)\",\"soltero (a)\",\"soltero (a)\",\"casado (a)\",\"casado (a)\",\"soltero (a)\",\"soltero (a)\",\"casado (a)\",\"casado (a)\",\"soltero (a)\",\"soltero (a)\",\"soltero (a)\",\"casado (a)\",\"casado (a)\",\"casado (a)\",\"casado (a)\",\"divorciado (a)\",\"soltero (a)\",\"divorciado (a)\",\"casado (a)\",\"divorciado (a)\",\"casado (a)\",\"soltero (a)\",\"soltero (a)\",\"divorciado (a)\",\"casado (a)\",\"soltero (a)\",\"soltero (a)\",\"casado (a)\",\"casado (a)\",\"casado (a)\",\"divorciado (a)\",\"soltero (a)\",\"soltero (a)\",\"soltero (a)\",\"casado (a)\",\"soltero (a)\",\"casado (a)\",\"casado (a)\",\"casado (a)\",\"soltero (a)\",\"casado (a)\",\"casado (a)\",\"soltero (a)\",\"soltero (a)\",\"divorciado (a)\",\"soltero (a)\",\"divorciado (a)\",\"divorciado (a)\",\"casado (a)\",\"divorciado (a)\",\"casado (a)\",\"divorciado (a)\",\"divorciado (a)\",\"divorciado (a)\",\"soltero (a)\",\"divorciado (a)\",\"divorciado (a)\",\"soltero (a)\",\"soltero (a)\",\"soltero (a)\",\"casado (a)\",\"divorciado (a)\",\"soltero (a)\",\"casado (a)\",\"divorciado (a)\",\"soltero (a)\",\"soltero (a)\",\"casado (a)\",\"soltero (a)\",\"soltero (a)\",\"soltero (a)\",\"soltero (a)\",\"casado (a)\",\"casado (a)\",\"soltero (a)\",\"divorciado (a)\",\"soltero (a)\",\"casado (a)\",\"casado (a)\",\"casado (a)\",\"casado (a)\",\"soltero (a)\",\"divorciado (a)\",\"casado (a)\",\"casado (a)\",\"casado (a)\",\"soltero (a)\",\"casado (a)\",\"casado (a)\",\"soltero (a)\",\"soltero (a)\",\"casado (a)\",\"soltero (a)\",\"casado (a)\",\"casado (a)\",\"soltero (a)\",\"casado (a)\",\"divorciado (a)\",\"casado (a)\",\"divorciado (a)\",\"soltero (a)\",\"soltero (a)\",\"casado (a)\",\"casado (a)\",\"soltero (a)\",\"divorciado (a)\",\"casado (a)\",\"divorciado (a)\",\"casado (a)\",\"soltero (a)\",\"casado (a)\",\"soltero (a)\",\"divorciado (a)\",\"divorciado (a)\",\"casado (a)\",\"casado (a)\",\"soltero (a)\",\"soltero (a)\",\"casado (a)\",\"casado (a)\",\"casado (a)\",\"casado (a)\",\"divorciado (a)\",\"soltero (a)\",\"casado (a)\",\"soltero (a)\",\"casado (a)\",\"casado (a)\",\"divorciado (a)\",\"casado (a)\",\"casado (a)\",\"casado (a)\",\"soltero (a)\",\"casado (a)\",\"soltero (a)\",\"casado (a)\",\"casado (a)\",\"casado (a)\",\"soltero (a)\",\"divorciado (a)\",\"casado (a)\",\"casado (a)\",\"casado (a)\",\"casado (a)\",\"casado (a)\",\"casado (a)\",\"soltero (a)\",\"soltero (a)\",\"casado (a)\",\"casado (a)\",\"casado (a)\",\"soltero (a)\",\"casado (a)\",\"casado (a)\",\"casado (a)\",\"divorciado (a)\",\"casado (a)\",\"soltero (a)\",\"casado (a)\",\"casado (a)\",\"divorciado (a)\",\"casado (a)\",\"soltero (a)\",\"soltero (a)\",\"soltero (a)\",\"casado (a)\",\"soltero (a)\"],\"xaxis\":\"x\",\"yaxis\":\"y\",\"type\":\"histogram\"},{\"alignmentgroup\":\"True\",\"bingroup\":\"x\",\"hovertemplate\":\"adherencia_inversion=no\\u003cbr\\u003eestado_civil=%{x}\\u003cbr\\u003ecount=%{y}\\u003cextra\\u003e\\u003c\\u002fextra\\u003e\",\"legendgroup\":\"no\",\"marker\":{\"color\":\"#EF553B\",\"pattern\":{\"shape\":\"\"}},\"name\":\"no\",\"offsetgroup\":\"no\",\"orientation\":\"v\",\"showlegend\":true,\"texttemplate\":\"%{value}\",\"x\":[\"soltero (a)\",\"casado (a)\",\"casado (a)\",\"casado (a)\",\"divorciado (a)\",\"casado (a)\",\"casado (a)\",\"soltero (a)\",\"casado (a)\",\"casado (a)\",\"casado (a)\",\"divorciado (a)\",\"soltero (a)\",\"casado (a)\",\"casado (a)\",\"casado (a)\",\"casado (a)\",\"soltero (a)\",\"casado (a)\",\"casado (a)\",\"casado (a)\",\"casado (a)\",\"divorciado (a)\",\"divorciado (a)\",\"casado (a)\",\"casado (a)\",\"casado (a)\",\"casado (a)\",\"casado (a)\",\"divorciado (a)\",\"casado (a)\",\"casado (a)\",\"casado (a)\",\"soltero (a)\",\"casado (a)\",\"soltero (a)\",\"divorciado (a)\",\"soltero (a)\",\"casado (a)\",\"casado (a)\",\"casado (a)\",\"casado (a)\",\"divorciado (a)\",\"casado (a)\",\"casado (a)\",\"casado (a)\",\"casado (a)\",\"casado (a)\",\"casado (a)\",\"casado (a)\",\"soltero (a)\",\"casado (a)\",\"casado (a)\",\"casado (a)\",\"soltero (a)\",\"casado (a)\",\"casado (a)\",\"casado (a)\",\"divorciado (a)\",\"soltero (a)\",\"casado (a)\",\"casado (a)\",\"soltero (a)\",\"casado (a)\",\"casado (a)\",\"casado (a)\",\"soltero (a)\",\"casado (a)\",\"soltero (a)\",\"casado (a)\",\"casado (a)\",\"casado (a)\",\"soltero (a)\",\"casado (a)\",\"casado (a)\",\"soltero (a)\",\"casado (a)\",\"soltero (a)\",\"casado (a)\",\"casado (a)\",\"casado (a)\",\"casado (a)\",\"casado (a)\",\"casado (a)\",\"casado (a)\",\"casado (a)\",\"casado (a)\",\"casado (a)\",\"casado (a)\",\"divorciado (a)\",\"casado (a)\",\"casado (a)\",\"casado (a)\",\"casado (a)\",\"soltero (a)\",\"casado (a)\",\"casado (a)\",\"casado (a)\",\"casado (a)\",\"casado (a)\",\"casado (a)\",\"casado (a)\",\"casado (a)\",\"casado (a)\",\"casado (a)\",\"casado (a)\",\"casado (a)\",\"soltero (a)\",\"soltero (a)\",\"soltero (a)\",\"soltero (a)\",\"soltero (a)\",\"casado (a)\",\"casado (a)\",\"casado (a)\",\"casado (a)\",\"casado (a)\",\"casado (a)\",\"casado (a)\",\"casado (a)\",\"casado (a)\",\"divorciado (a)\",\"casado (a)\",\"casado (a)\",\"casado (a)\",\"casado (a)\",\"casado (a)\",\"soltero (a)\",\"casado (a)\",\"soltero (a)\",\"casado (a)\",\"casado (a)\",\"casado (a)\",\"casado (a)\",\"casado (a)\",\"casado (a)\",\"soltero (a)\",\"casado (a)\",\"casado (a)\",\"casado (a)\",\"soltero (a)\",\"divorciado (a)\",\"casado (a)\",\"soltero (a)\",\"divorciado (a)\",\"casado (a)\",\"soltero (a)\",\"casado (a)\",\"soltero (a)\",\"soltero (a)\",\"casado (a)\",\"soltero (a)\",\"divorciado (a)\",\"divorciado (a)\",\"casado (a)\",\"soltero (a)\",\"casado (a)\",\"soltero (a)\",\"soltero (a)\",\"casado (a)\",\"casado (a)\",\"casado (a)\",\"soltero (a)\",\"casado (a)\",\"soltero (a)\",\"casado (a)\",\"casado (a)\",\"casado (a)\",\"casado (a)\",\"divorciado (a)\",\"soltero (a)\",\"soltero (a)\",\"casado (a)\",\"casado (a)\",\"divorciado (a)\",\"casado (a)\",\"soltero (a)\",\"casado (a)\",\"soltero (a)\",\"divorciado (a)\",\"casado (a)\",\"soltero (a)\",\"soltero (a)\",\"casado (a)\",\"casado (a)\",\"casado (a)\",\"soltero (a)\",\"casado (a)\",\"soltero (a)\",\"divorciado (a)\",\"divorciado (a)\",\"casado (a)\",\"casado (a)\",\"soltero (a)\",\"casado (a)\",\"casado (a)\",\"casado (a)\",\"soltero (a)\",\"divorciado (a)\",\"divorciado (a)\",\"casado (a)\",\"soltero (a)\",\"casado (a)\",\"casado (a)\",\"soltero (a)\",\"casado (a)\",\"divorciado (a)\",\"soltero (a)\",\"casado (a)\",\"casado (a)\",\"casado (a)\",\"casado (a)\",\"casado (a)\",\"casado (a)\",\"casado (a)\",\"casado (a)\",\"soltero (a)\",\"soltero (a)\",\"soltero (a)\",\"soltero (a)\",\"soltero (a)\",\"divorciado (a)\",\"soltero (a)\",\"casado (a)\",\"divorciado (a)\",\"casado (a)\",\"casado (a)\",\"casado (a)\",\"soltero (a)\",\"casado (a)\",\"soltero (a)\",\"soltero (a)\",\"casado (a)\",\"divorciado (a)\",\"soltero (a)\",\"casado (a)\",\"casado (a)\",\"casado (a)\",\"soltero (a)\",\"soltero (a)\",\"casado (a)\",\"divorciado (a)\",\"divorciado (a)\",\"casado (a)\",\"casado (a)\",\"casado (a)\",\"casado (a)\",\"casado (a)\",\"casado (a)\",\"casado (a)\",\"soltero (a)\",\"soltero (a)\",\"casado (a)\",\"casado (a)\",\"casado (a)\",\"casado (a)\",\"casado (a)\",\"casado (a)\",\"divorciado (a)\",\"casado (a)\",\"casado (a)\",\"divorciado (a)\",\"soltero (a)\",\"soltero (a)\",\"casado (a)\",\"casado (a)\",\"soltero (a)\",\"soltero (a)\",\"casado (a)\",\"casado (a)\",\"casado (a)\",\"casado (a)\",\"soltero (a)\",\"casado (a)\",\"soltero (a)\",\"divorciado (a)\",\"soltero (a)\",\"casado (a)\",\"casado (a)\",\"casado (a)\",\"divorciado (a)\",\"casado (a)\",\"casado (a)\",\"casado (a)\",\"soltero (a)\",\"soltero (a)\",\"divorciado (a)\",\"casado (a)\",\"casado (a)\",\"soltero (a)\",\"casado (a)\",\"soltero (a)\",\"soltero (a)\",\"soltero (a)\",\"casado (a)\",\"casado (a)\",\"casado (a)\",\"soltero (a)\",\"soltero (a)\",\"casado (a)\",\"casado (a)\",\"soltero (a)\",\"divorciado (a)\",\"casado (a)\",\"casado (a)\",\"divorciado (a)\",\"soltero (a)\",\"soltero (a)\",\"soltero (a)\",\"casado (a)\",\"casado (a)\",\"casado (a)\",\"casado (a)\",\"casado (a)\",\"soltero (a)\",\"soltero (a)\",\"soltero (a)\",\"casado (a)\",\"soltero (a)\",\"casado (a)\",\"casado (a)\",\"soltero (a)\",\"soltero (a)\",\"soltero (a)\",\"casado (a)\",\"divorciado (a)\",\"divorciado (a)\",\"soltero (a)\",\"casado (a)\",\"casado (a)\",\"casado (a)\",\"casado (a)\",\"soltero (a)\",\"soltero (a)\",\"casado (a)\",\"soltero (a)\",\"casado (a)\",\"casado (a)\",\"soltero (a)\",\"casado (a)\",\"casado (a)\",\"casado (a)\",\"casado (a)\",\"casado (a)\",\"casado (a)\",\"casado (a)\",\"casado (a)\",\"casado (a)\",\"casado (a)\",\"soltero (a)\",\"casado (a)\",\"soltero (a)\",\"soltero (a)\",\"casado (a)\",\"soltero (a)\",\"casado (a)\",\"casado (a)\",\"casado (a)\",\"casado (a)\",\"divorciado (a)\",\"soltero (a)\",\"casado (a)\",\"soltero (a)\",\"casado (a)\",\"soltero (a)\",\"casado (a)\",\"casado (a)\",\"casado (a)\",\"casado (a)\",\"divorciado (a)\",\"soltero (a)\",\"casado (a)\",\"soltero (a)\",\"casado (a)\",\"soltero (a)\",\"casado (a)\",\"casado (a)\",\"casado (a)\",\"casado (a)\",\"casado (a)\",\"soltero (a)\",\"casado (a)\",\"casado (a)\",\"casado (a)\",\"soltero (a)\",\"divorciado (a)\",\"soltero (a)\",\"casado (a)\",\"casado (a)\",\"casado (a)\",\"soltero (a)\",\"casado (a)\",\"casado (a)\",\"soltero (a)\",\"casado (a)\",\"soltero (a)\",\"casado (a)\",\"casado (a)\",\"casado (a)\",\"casado (a)\",\"casado (a)\",\"soltero (a)\",\"casado (a)\",\"soltero (a)\",\"casado (a)\",\"casado (a)\",\"casado (a)\",\"divorciado (a)\",\"casado (a)\",\"casado (a)\",\"casado (a)\",\"divorciado (a)\",\"casado (a)\",\"casado (a)\",\"soltero (a)\",\"casado (a)\",\"soltero (a)\",\"casado (a)\",\"divorciado (a)\",\"casado (a)\",\"casado (a)\",\"casado (a)\",\"divorciado (a)\",\"casado (a)\",\"casado (a)\",\"casado (a)\",\"soltero (a)\",\"soltero (a)\",\"casado (a)\",\"soltero (a)\",\"casado (a)\",\"casado (a)\",\"soltero (a)\",\"casado (a)\",\"soltero (a)\",\"casado (a)\",\"casado (a)\",\"casado (a)\",\"casado (a)\",\"casado (a)\",\"casado (a)\",\"casado (a)\",\"casado (a)\",\"casado (a)\",\"soltero (a)\",\"divorciado (a)\",\"casado (a)\",\"soltero (a)\",\"divorciado (a)\",\"soltero (a)\",\"divorciado (a)\",\"casado (a)\",\"casado (a)\",\"casado (a)\",\"casado (a)\",\"divorciado (a)\",\"casado (a)\",\"soltero (a)\",\"divorciado (a)\",\"casado (a)\",\"soltero (a)\",\"casado (a)\",\"divorciado (a)\",\"casado (a)\",\"casado (a)\",\"casado (a)\",\"soltero (a)\",\"casado (a)\",\"soltero (a)\",\"soltero (a)\",\"casado (a)\",\"casado (a)\",\"divorciado (a)\",\"soltero (a)\",\"soltero (a)\",\"casado (a)\",\"soltero (a)\",\"soltero (a)\",\"divorciado (a)\",\"casado (a)\",\"divorciado (a)\",\"casado (a)\",\"soltero (a)\",\"casado (a)\",\"divorciado (a)\",\"casado (a)\",\"casado (a)\",\"casado (a)\",\"divorciado (a)\",\"casado (a)\",\"casado (a)\",\"divorciado (a)\",\"casado (a)\",\"casado (a)\",\"casado (a)\",\"soltero (a)\",\"casado (a)\",\"divorciado (a)\",\"casado (a)\",\"casado (a)\",\"casado (a)\",\"casado (a)\",\"casado (a)\",\"casado (a)\",\"soltero (a)\",\"casado (a)\",\"soltero (a)\",\"casado (a)\",\"soltero (a)\",\"soltero (a)\",\"soltero (a)\",\"casado (a)\",\"casado (a)\",\"casado (a)\",\"casado (a)\",\"casado (a)\",\"soltero (a)\",\"casado (a)\",\"casado (a)\",\"soltero (a)\",\"soltero (a)\",\"casado (a)\",\"casado (a)\",\"divorciado (a)\",\"casado (a)\",\"divorciado (a)\",\"casado (a)\",\"soltero (a)\",\"casado (a)\",\"divorciado (a)\",\"casado (a)\",\"casado (a)\",\"soltero (a)\",\"casado (a)\",\"casado (a)\",\"divorciado (a)\",\"soltero (a)\",\"divorciado (a)\",\"casado (a)\",\"soltero (a)\",\"soltero (a)\",\"casado (a)\",\"soltero (a)\",\"casado (a)\",\"divorciado (a)\",\"casado (a)\",\"casado (a)\",\"casado (a)\",\"casado (a)\",\"casado (a)\",\"casado (a)\",\"soltero (a)\",\"casado (a)\",\"casado (a)\",\"casado (a)\",\"soltero (a)\",\"casado (a)\",\"casado (a)\",\"casado (a)\",\"soltero (a)\",\"divorciado (a)\",\"soltero (a)\",\"casado (a)\",\"soltero (a)\",\"casado (a)\",\"soltero (a)\",\"casado (a)\",\"casado (a)\",\"casado (a)\",\"casado (a)\",\"divorciado (a)\",\"casado (a)\",\"casado (a)\",\"divorciado (a)\",\"casado (a)\",\"casado (a)\",\"casado (a)\",\"casado (a)\",\"casado (a)\",\"soltero (a)\",\"divorciado (a)\",\"casado (a)\",\"casado (a)\",\"casado (a)\",\"soltero (a)\",\"casado (a)\",\"casado (a)\",\"casado (a)\",\"casado (a)\",\"casado (a)\",\"soltero (a)\",\"soltero (a)\",\"soltero (a)\",\"casado (a)\",\"divorciado (a)\",\"casado (a)\",\"divorciado (a)\",\"casado (a)\",\"casado (a)\",\"soltero (a)\",\"divorciado (a)\",\"casado (a)\",\"soltero (a)\",\"casado (a)\",\"casado (a)\",\"soltero (a)\",\"casado (a)\",\"casado (a)\",\"casado (a)\",\"casado (a)\",\"divorciado (a)\",\"casado (a)\",\"casado (a)\",\"casado (a)\",\"soltero (a)\",\"divorciado (a)\",\"soltero (a)\",\"casado (a)\",\"casado (a)\",\"soltero (a)\",\"casado (a)\",\"casado (a)\",\"casado (a)\",\"casado (a)\",\"casado (a)\",\"casado (a)\",\"soltero (a)\",\"soltero (a)\",\"divorciado (a)\",\"divorciado (a)\",\"casado (a)\",\"casado (a)\",\"soltero (a)\",\"divorciado (a)\",\"casado (a)\",\"soltero (a)\",\"casado (a)\",\"casado (a)\",\"casado (a)\",\"soltero (a)\",\"casado (a)\",\"casado (a)\",\"soltero (a)\",\"casado (a)\",\"soltero (a)\",\"soltero (a)\",\"casado (a)\",\"casado (a)\",\"casado (a)\",\"casado (a)\",\"divorciado (a)\",\"divorciado (a)\",\"casado (a)\",\"casado (a)\",\"casado (a)\",\"soltero (a)\",\"casado (a)\",\"divorciado (a)\",\"divorciado (a)\",\"divorciado (a)\",\"casado (a)\",\"soltero (a)\",\"divorciado (a)\",\"soltero (a)\",\"casado (a)\",\"casado (a)\",\"soltero (a)\",\"casado (a)\",\"divorciado (a)\",\"casado (a)\",\"casado (a)\",\"casado (a)\",\"soltero (a)\",\"casado (a)\",\"casado (a)\",\"casado (a)\",\"casado (a)\",\"casado (a)\",\"casado (a)\",\"casado (a)\",\"casado (a)\",\"casado (a)\",\"soltero (a)\",\"casado (a)\",\"divorciado (a)\",\"soltero (a)\",\"casado (a)\",\"casado (a)\",\"casado (a)\",\"casado (a)\",\"soltero (a)\",\"casado (a)\",\"casado (a)\",\"soltero (a)\",\"soltero (a)\",\"soltero (a)\",\"casado (a)\",\"casado (a)\",\"casado (a)\",\"casado (a)\",\"soltero (a)\",\"casado (a)\",\"casado (a)\",\"soltero (a)\",\"casado (a)\",\"divorciado (a)\",\"soltero (a)\",\"divorciado (a)\",\"casado (a)\",\"soltero (a)\",\"casado (a)\",\"casado (a)\",\"casado (a)\",\"soltero (a)\",\"casado (a)\",\"soltero (a)\",\"casado (a)\",\"casado (a)\",\"casado (a)\",\"divorciado (a)\",\"casado (a)\",\"soltero (a)\",\"soltero (a)\",\"casado (a)\",\"casado (a)\",\"soltero (a)\",\"casado (a)\",\"casado (a)\",\"divorciado (a)\",\"casado (a)\",\"soltero (a)\",\"casado (a)\",\"soltero (a)\",\"casado (a)\",\"divorciado (a)\",\"casado (a)\",\"soltero (a)\",\"casado (a)\",\"casado (a)\",\"soltero (a)\",\"casado (a)\",\"soltero (a)\",\"casado (a)\",\"casado (a)\",\"casado (a)\",\"casado (a)\",\"casado (a)\",\"casado (a)\",\"soltero (a)\",\"casado (a)\",\"soltero (a)\",\"casado (a)\",\"casado (a)\",\"casado (a)\",\"soltero (a)\",\"casado (a)\",\"casado (a)\",\"soltero (a)\",\"casado (a)\",\"casado (a)\",\"soltero (a)\",\"casado (a)\",\"divorciado (a)\",\"soltero (a)\",\"casado (a)\",\"casado (a)\"],\"xaxis\":\"x\",\"yaxis\":\"y\",\"type\":\"histogram\"}],                        {\"template\":{\"data\":{\"histogram2dcontour\":[{\"type\":\"histogram2dcontour\",\"colorbar\":{\"outlinewidth\":0,\"ticks\":\"\"},\"colorscale\":[[0.0,\"#0d0887\"],[0.1111111111111111,\"#46039f\"],[0.2222222222222222,\"#7201a8\"],[0.3333333333333333,\"#9c179e\"],[0.4444444444444444,\"#bd3786\"],[0.5555555555555556,\"#d8576b\"],[0.6666666666666666,\"#ed7953\"],[0.7777777777777778,\"#fb9f3a\"],[0.8888888888888888,\"#fdca26\"],[1.0,\"#f0f921\"]]}],\"choropleth\":[{\"type\":\"choropleth\",\"colorbar\":{\"outlinewidth\":0,\"ticks\":\"\"}}],\"histogram2d\":[{\"type\":\"histogram2d\",\"colorbar\":{\"outlinewidth\":0,\"ticks\":\"\"},\"colorscale\":[[0.0,\"#0d0887\"],[0.1111111111111111,\"#46039f\"],[0.2222222222222222,\"#7201a8\"],[0.3333333333333333,\"#9c179e\"],[0.4444444444444444,\"#bd3786\"],[0.5555555555555556,\"#d8576b\"],[0.6666666666666666,\"#ed7953\"],[0.7777777777777778,\"#fb9f3a\"],[0.8888888888888888,\"#fdca26\"],[1.0,\"#f0f921\"]]}],\"heatmap\":[{\"type\":\"heatmap\",\"colorbar\":{\"outlinewidth\":0,\"ticks\":\"\"},\"colorscale\":[[0.0,\"#0d0887\"],[0.1111111111111111,\"#46039f\"],[0.2222222222222222,\"#7201a8\"],[0.3333333333333333,\"#9c179e\"],[0.4444444444444444,\"#bd3786\"],[0.5555555555555556,\"#d8576b\"],[0.6666666666666666,\"#ed7953\"],[0.7777777777777778,\"#fb9f3a\"],[0.8888888888888888,\"#fdca26\"],[1.0,\"#f0f921\"]]}],\"heatmapgl\":[{\"type\":\"heatmapgl\",\"colorbar\":{\"outlinewidth\":0,\"ticks\":\"\"},\"colorscale\":[[0.0,\"#0d0887\"],[0.1111111111111111,\"#46039f\"],[0.2222222222222222,\"#7201a8\"],[0.3333333333333333,\"#9c179e\"],[0.4444444444444444,\"#bd3786\"],[0.5555555555555556,\"#d8576b\"],[0.6666666666666666,\"#ed7953\"],[0.7777777777777778,\"#fb9f3a\"],[0.8888888888888888,\"#fdca26\"],[1.0,\"#f0f921\"]]}],\"contourcarpet\":[{\"type\":\"contourcarpet\",\"colorbar\":{\"outlinewidth\":0,\"ticks\":\"\"}}],\"contour\":[{\"type\":\"contour\",\"colorbar\":{\"outlinewidth\":0,\"ticks\":\"\"},\"colorscale\":[[0.0,\"#0d0887\"],[0.1111111111111111,\"#46039f\"],[0.2222222222222222,\"#7201a8\"],[0.3333333333333333,\"#9c179e\"],[0.4444444444444444,\"#bd3786\"],[0.5555555555555556,\"#d8576b\"],[0.6666666666666666,\"#ed7953\"],[0.7777777777777778,\"#fb9f3a\"],[0.8888888888888888,\"#fdca26\"],[1.0,\"#f0f921\"]]}],\"surface\":[{\"type\":\"surface\",\"colorbar\":{\"outlinewidth\":0,\"ticks\":\"\"},\"colorscale\":[[0.0,\"#0d0887\"],[0.1111111111111111,\"#46039f\"],[0.2222222222222222,\"#7201a8\"],[0.3333333333333333,\"#9c179e\"],[0.4444444444444444,\"#bd3786\"],[0.5555555555555556,\"#d8576b\"],[0.6666666666666666,\"#ed7953\"],[0.7777777777777778,\"#fb9f3a\"],[0.8888888888888888,\"#fdca26\"],[1.0,\"#f0f921\"]]}],\"mesh3d\":[{\"type\":\"mesh3d\",\"colorbar\":{\"outlinewidth\":0,\"ticks\":\"\"}}],\"scatter\":[{\"fillpattern\":{\"fillmode\":\"overlay\",\"size\":10,\"solidity\":0.2},\"type\":\"scatter\"}],\"parcoords\":[{\"type\":\"parcoords\",\"line\":{\"colorbar\":{\"outlinewidth\":0,\"ticks\":\"\"}}}],\"scatterpolargl\":[{\"type\":\"scatterpolargl\",\"marker\":{\"colorbar\":{\"outlinewidth\":0,\"ticks\":\"\"}}}],\"bar\":[{\"error_x\":{\"color\":\"#2a3f5f\"},\"error_y\":{\"color\":\"#2a3f5f\"},\"marker\":{\"line\":{\"color\":\"#E5ECF6\",\"width\":0.5},\"pattern\":{\"fillmode\":\"overlay\",\"size\":10,\"solidity\":0.2}},\"type\":\"bar\"}],\"scattergeo\":[{\"type\":\"scattergeo\",\"marker\":{\"colorbar\":{\"outlinewidth\":0,\"ticks\":\"\"}}}],\"scatterpolar\":[{\"type\":\"scatterpolar\",\"marker\":{\"colorbar\":{\"outlinewidth\":0,\"ticks\":\"\"}}}],\"histogram\":[{\"marker\":{\"pattern\":{\"fillmode\":\"overlay\",\"size\":10,\"solidity\":0.2}},\"type\":\"histogram\"}],\"scattergl\":[{\"type\":\"scattergl\",\"marker\":{\"colorbar\":{\"outlinewidth\":0,\"ticks\":\"\"}}}],\"scatter3d\":[{\"type\":\"scatter3d\",\"line\":{\"colorbar\":{\"outlinewidth\":0,\"ticks\":\"\"}},\"marker\":{\"colorbar\":{\"outlinewidth\":0,\"ticks\":\"\"}}}],\"scattermapbox\":[{\"type\":\"scattermapbox\",\"marker\":{\"colorbar\":{\"outlinewidth\":0,\"ticks\":\"\"}}}],\"scatterternary\":[{\"type\":\"scatterternary\",\"marker\":{\"colorbar\":{\"outlinewidth\":0,\"ticks\":\"\"}}}],\"scattercarpet\":[{\"type\":\"scattercarpet\",\"marker\":{\"colorbar\":{\"outlinewidth\":0,\"ticks\":\"\"}}}],\"carpet\":[{\"aaxis\":{\"endlinecolor\":\"#2a3f5f\",\"gridcolor\":\"white\",\"linecolor\":\"white\",\"minorgridcolor\":\"white\",\"startlinecolor\":\"#2a3f5f\"},\"baxis\":{\"endlinecolor\":\"#2a3f5f\",\"gridcolor\":\"white\",\"linecolor\":\"white\",\"minorgridcolor\":\"white\",\"startlinecolor\":\"#2a3f5f\"},\"type\":\"carpet\"}],\"table\":[{\"cells\":{\"fill\":{\"color\":\"#EBF0F8\"},\"line\":{\"color\":\"white\"}},\"header\":{\"fill\":{\"color\":\"#C8D4E3\"},\"line\":{\"color\":\"white\"}},\"type\":\"table\"}],\"barpolar\":[{\"marker\":{\"line\":{\"color\":\"#E5ECF6\",\"width\":0.5},\"pattern\":{\"fillmode\":\"overlay\",\"size\":10,\"solidity\":0.2}},\"type\":\"barpolar\"}],\"pie\":[{\"automargin\":true,\"type\":\"pie\"}]},\"layout\":{\"autotypenumbers\":\"strict\",\"colorway\":[\"#636efa\",\"#EF553B\",\"#00cc96\",\"#ab63fa\",\"#FFA15A\",\"#19d3f3\",\"#FF6692\",\"#B6E880\",\"#FF97FF\",\"#FECB52\"],\"font\":{\"color\":\"#2a3f5f\"},\"hovermode\":\"closest\",\"hoverlabel\":{\"align\":\"left\"},\"paper_bgcolor\":\"white\",\"plot_bgcolor\":\"#E5ECF6\",\"polar\":{\"bgcolor\":\"#E5ECF6\",\"angularaxis\":{\"gridcolor\":\"white\",\"linecolor\":\"white\",\"ticks\":\"\"},\"radialaxis\":{\"gridcolor\":\"white\",\"linecolor\":\"white\",\"ticks\":\"\"}},\"ternary\":{\"bgcolor\":\"#E5ECF6\",\"aaxis\":{\"gridcolor\":\"white\",\"linecolor\":\"white\",\"ticks\":\"\"},\"baxis\":{\"gridcolor\":\"white\",\"linecolor\":\"white\",\"ticks\":\"\"},\"caxis\":{\"gridcolor\":\"white\",\"linecolor\":\"white\",\"ticks\":\"\"}},\"coloraxis\":{\"colorbar\":{\"outlinewidth\":0,\"ticks\":\"\"}},\"colorscale\":{\"sequential\":[[0.0,\"#0d0887\"],[0.1111111111111111,\"#46039f\"],[0.2222222222222222,\"#7201a8\"],[0.3333333333333333,\"#9c179e\"],[0.4444444444444444,\"#bd3786\"],[0.5555555555555556,\"#d8576b\"],[0.6666666666666666,\"#ed7953\"],[0.7777777777777778,\"#fb9f3a\"],[0.8888888888888888,\"#fdca26\"],[1.0,\"#f0f921\"]],\"sequentialminus\":[[0.0,\"#0d0887\"],[0.1111111111111111,\"#46039f\"],[0.2222222222222222,\"#7201a8\"],[0.3333333333333333,\"#9c179e\"],[0.4444444444444444,\"#bd3786\"],[0.5555555555555556,\"#d8576b\"],[0.6666666666666666,\"#ed7953\"],[0.7777777777777778,\"#fb9f3a\"],[0.8888888888888888,\"#fdca26\"],[1.0,\"#f0f921\"]],\"diverging\":[[0,\"#8e0152\"],[0.1,\"#c51b7d\"],[0.2,\"#de77ae\"],[0.3,\"#f1b6da\"],[0.4,\"#fde0ef\"],[0.5,\"#f7f7f7\"],[0.6,\"#e6f5d0\"],[0.7,\"#b8e186\"],[0.8,\"#7fbc41\"],[0.9,\"#4d9221\"],[1,\"#276419\"]]},\"xaxis\":{\"gridcolor\":\"white\",\"linecolor\":\"white\",\"ticks\":\"\",\"title\":{\"standoff\":15},\"zerolinecolor\":\"white\",\"automargin\":true,\"zerolinewidth\":2},\"yaxis\":{\"gridcolor\":\"white\",\"linecolor\":\"white\",\"ticks\":\"\",\"title\":{\"standoff\":15},\"zerolinecolor\":\"white\",\"automargin\":true,\"zerolinewidth\":2},\"scene\":{\"xaxis\":{\"backgroundcolor\":\"#E5ECF6\",\"gridcolor\":\"white\",\"linecolor\":\"white\",\"showbackground\":true,\"ticks\":\"\",\"zerolinecolor\":\"white\",\"gridwidth\":2},\"yaxis\":{\"backgroundcolor\":\"#E5ECF6\",\"gridcolor\":\"white\",\"linecolor\":\"white\",\"showbackground\":true,\"ticks\":\"\",\"zerolinecolor\":\"white\",\"gridwidth\":2},\"zaxis\":{\"backgroundcolor\":\"#E5ECF6\",\"gridcolor\":\"white\",\"linecolor\":\"white\",\"showbackground\":true,\"ticks\":\"\",\"zerolinecolor\":\"white\",\"gridwidth\":2}},\"shapedefaults\":{\"line\":{\"color\":\"#2a3f5f\"}},\"annotationdefaults\":{\"arrowcolor\":\"#2a3f5f\",\"arrowhead\":0,\"arrowwidth\":1},\"geo\":{\"bgcolor\":\"white\",\"landcolor\":\"#E5ECF6\",\"subunitcolor\":\"white\",\"showland\":true,\"showlakes\":true,\"lakecolor\":\"white\"},\"title\":{\"x\":0.05},\"mapbox\":{\"style\":\"light\"}}},\"xaxis\":{\"anchor\":\"y\",\"domain\":[0.0,1.0],\"title\":{\"text\":\"estado_civil\"}},\"yaxis\":{\"anchor\":\"x\",\"domain\":[0.0,1.0],\"title\":{\"text\":\"count\"}},\"legend\":{\"title\":{\"text\":\"adherencia_inversion\"},\"tracegroupgap\":0},\"margin\":{\"t\":60},\"barmode\":\"group\"},                        {\"responsive\": true}                    ).then(function(){\n",
              "                            \n",
              "var gd = document.getElementById('03f884ad-e868-459f-98f1-712bd76a8e89');\n",
              "var x = new MutationObserver(function (mutations, observer) {{\n",
              "        var display = window.getComputedStyle(gd).display;\n",
              "        if (!display || display === 'none') {{\n",
              "            console.log([gd, 'removed!']);\n",
              "            Plotly.purge(gd);\n",
              "            observer.disconnect();\n",
              "        }}\n",
              "}});\n",
              "\n",
              "// Listen for the removal of the full notebook cells\n",
              "var notebookContainer = gd.closest('#notebook-container');\n",
              "if (notebookContainer) {{\n",
              "    x.observe(notebookContainer, {childList: true});\n",
              "}}\n",
              "\n",
              "// Listen for the clearing of the current output cell\n",
              "var outputEl = gd.closest('.output');\n",
              "if (outputEl) {{\n",
              "    x.observe(outputEl, {childList: true});\n",
              "}}\n",
              "\n",
              "                        })                };                            </script>        </div>\n",
              "</body>\n",
              "</html>"
            ]
          },
          "metadata": {}
        }
      ]
    },
    {
      "cell_type": "code",
      "source": [
        "px.histogram(datos, x='escolaridad',color='adherencia_inversion',text_auto=True,barmode='group' )"
      ],
      "metadata": {
        "id": "zo-oTIRNBVgp",
        "colab": {
          "base_uri": "https://localhost:8080/",
          "height": 542
        },
        "outputId": "143553b7-f013-44c2-eeba-ba86c2e39d07"
      },
      "execution_count": 13,
      "outputs": [
        {
          "output_type": "display_data",
          "data": {
            "text/html": [
              "<html>\n",
              "<head><meta charset=\"utf-8\" /></head>\n",
              "<body>\n",
              "    <div>            <script src=\"https://cdnjs.cloudflare.com/ajax/libs/mathjax/2.7.5/MathJax.js?config=TeX-AMS-MML_SVG\"></script><script type=\"text/javascript\">if (window.MathJax && window.MathJax.Hub && window.MathJax.Hub.Config) {window.MathJax.Hub.Config({SVG: {font: \"STIX-Web\"}});}</script>                <script type=\"text/javascript\">window.PlotlyConfig = {MathJaxConfig: 'local'};</script>\n",
              "        <script charset=\"utf-8\" src=\"https://cdn.plot.ly/plotly-2.35.2.min.js\"></script>                <div id=\"a7f39153-794f-4798-84e7-291d96c439f3\" class=\"plotly-graph-div\" style=\"height:525px; width:100%;\"></div>            <script type=\"text/javascript\">                                    window.PLOTLYENV=window.PLOTLYENV || {};                                    if (document.getElementById(\"a7f39153-794f-4798-84e7-291d96c439f3\")) {                    Plotly.newPlot(                        \"a7f39153-794f-4798-84e7-291d96c439f3\",                        [{\"alignmentgroup\":\"True\",\"bingroup\":\"x\",\"hovertemplate\":\"adherencia_inversion=si\\u003cbr\\u003eescolaridad=%{x}\\u003cbr\\u003ecount=%{y}\\u003cextra\\u003e\\u003c\\u002fextra\\u003e\",\"legendgroup\":\"si\",\"marker\":{\"color\":\"#636efa\",\"pattern\":{\"shape\":\"\"}},\"name\":\"si\",\"offsetgroup\":\"si\",\"orientation\":\"v\",\"showlegend\":true,\"texttemplate\":\"%{value}\",\"x\":[\"superior\",\"secundaria\",\"superior\",\"secundaria\",\"secundaria\",\"superior\",\"secundaria\",\"secundaria\",\"secundaria\",\"superior\",\"superior\",\"superior\",\"secundaria\",\"secundaria\",\"secundaria\",\"superior\",\"superior\",\"secundaria\",\"secundaria\",\"secundaria\",\"secundaria\",\"secundaria\",\"superior\",\"superior\",\"superior\",\"superior\",\"superior\",\"superior\",\"superior\",\"secundaria\",\"superior\",\"superior\",\"secundaria\",\"primaria\",\"secundaria\",\"secundaria\",\"superior\",\"superior\",\"superior\",\"superior\",\"secundaria\",\"secundaria\",\"superior\",\"secundaria\",\"superior\",\"secundaria\",\"secundaria\",\"primaria\",\"secundaria\",\"secundaria\",\"secundaria\",\"superior\",\"secundaria\",\"superior\",\"superior\",\"superior\",\"primaria\",\"secundaria\",\"primaria\",\"superior\",\"superior\",\"secundaria\",\"superior\",\"secundaria\",\"secundaria\",\"secundaria\",\"secundaria\",\"secundaria\",\"superior\",\"superior\",\"primaria\",\"secundaria\",\"secundaria\",\"superior\",\"primaria\",\"superior\",\"secundaria\",\"primaria\",\"superior\",\"secundaria\",\"secundaria\",\"primaria\",\"secundaria\",\"primaria\",\"secundaria\",\"primaria\",\"primaria\",\"superior\",\"superior\",\"secundaria\",\"superior\",\"secundaria\",\"secundaria\",\"superior\",\"secundaria\",\"superior\",\"secundaria\",\"secundaria\",\"superior\",\"secundaria\",\"secundaria\",\"secundaria\",\"secundaria\",\"secundaria\",\"superior\",\"secundaria\",\"secundaria\",\"secundaria\",\"secundaria\",\"superior\",\"secundaria\",\"secundaria\",\"superior\",\"secundaria\",\"superior\",\"secundaria\",\"secundaria\",\"secundaria\",\"superior\",\"secundaria\",\"superior\",\"primaria\",\"secundaria\",\"superior\",\"secundaria\",\"secundaria\",\"primaria\",\"secundaria\",\"secundaria\",\"superior\",\"secundaria\",\"secundaria\",\"superior\",\"secundaria\",\"secundaria\",\"superior\",\"secundaria\",\"secundaria\",\"secundaria\",\"secundaria\",\"primaria\",\"primaria\",\"superior\",\"superior\",\"secundaria\",\"superior\",\"superior\",\"superior\",\"secundaria\",\"secundaria\",\"superior\",\"secundaria\",\"superior\",\"superior\",\"secundaria\",\"superior\",\"secundaria\",\"superior\",\"secundaria\",\"primaria\",\"secundaria\",\"superior\",\"secundaria\",\"secundaria\",\"primaria\",\"superior\",\"secundaria\",\"secundaria\",\"secundaria\",\"superior\",\"secundaria\",\"superior\",\"superior\",\"superior\",\"secundaria\",\"superior\",\"primaria\",\"superior\",\"secundaria\",\"secundaria\",\"secundaria\",\"superior\",\"secundaria\",\"superior\",\"superior\",\"primaria\",\"secundaria\",\"secundaria\",\"secundaria\",\"superior\",\"secundaria\",\"secundaria\",\"primaria\",\"primaria\",\"superior\",\"superior\",\"secundaria\",\"superior\",\"secundaria\",\"primaria\",\"primaria\",\"secundaria\",\"primaria\",\"superior\",\"primaria\",\"secundaria\",\"secundaria\",\"secundaria\",\"secundaria\",\"superior\",\"secundaria\",\"secundaria\",\"superior\",\"superior\",\"superior\",\"superior\",\"secundaria\",\"secundaria\",\"superior\",\"superior\",\"secundaria\",\"secundaria\",\"secundaria\",\"secundaria\",\"secundaria\",\"superior\",\"secundaria\",\"superior\",\"secundaria\",\"secundaria\",\"superior\",\"secundaria\",\"primaria\",\"secundaria\",\"primaria\",\"superior\",\"superior\",\"primaria\",\"primaria\",\"primaria\",\"superior\",\"superior\",\"superior\",\"secundaria\",\"secundaria\",\"secundaria\",\"secundaria\",\"secundaria\",\"secundaria\",\"secundaria\",\"secundaria\",\"secundaria\",\"superior\",\"primaria\",\"secundaria\",\"superior\",\"secundaria\",\"superior\",\"secundaria\",\"superior\",\"secundaria\",\"primaria\",\"primaria\",\"secundaria\",\"superior\",\"superior\",\"superior\",\"secundaria\",\"secundaria\",\"secundaria\",\"superior\",\"secundaria\",\"superior\",\"superior\",\"secundaria\",\"superior\",\"primaria\",\"secundaria\",\"secundaria\",\"secundaria\",\"secundaria\",\"superior\",\"superior\",\"secundaria\",\"secundaria\",\"secundaria\",\"primaria\",\"primaria\",\"secundaria\",\"superior\",\"superior\",\"primaria\",\"superior\",\"superior\",\"superior\",\"superior\",\"secundaria\",\"secundaria\",\"secundaria\",\"superior\",\"secundaria\",\"secundaria\",\"secundaria\",\"secundaria\",\"primaria\",\"secundaria\",\"superior\",\"secundaria\",\"secundaria\",\"secundaria\",\"superior\",\"secundaria\",\"secundaria\",\"primaria\",\"secundaria\",\"superior\",\"superior\",\"superior\",\"superior\",\"secundaria\",\"superior\",\"primaria\",\"secundaria\",\"primaria\",\"secundaria\",\"superior\",\"secundaria\",\"superior\",\"primaria\",\"secundaria\",\"superior\",\"secundaria\",\"secundaria\",\"superior\",\"superior\",\"superior\",\"secundaria\",\"secundaria\",\"superior\",\"secundaria\",\"superior\",\"secundaria\",\"superior\",\"secundaria\",\"secundaria\",\"primaria\",\"secundaria\",\"secundaria\",\"superior\",\"primaria\",\"secundaria\",\"primaria\",\"secundaria\",\"superior\",\"secundaria\",\"secundaria\",\"superior\",\"secundaria\",\"primaria\",\"superior\",\"secundaria\",\"secundaria\",\"secundaria\",\"secundaria\",\"secundaria\",\"primaria\",\"primaria\",\"superior\",\"secundaria\",\"secundaria\",\"superior\",\"superior\",\"superior\",\"superior\",\"secundaria\",\"secundaria\",\"primaria\",\"secundaria\",\"secundaria\",\"superior\",\"secundaria\",\"primaria\",\"superior\",\"primaria\",\"superior\",\"secundaria\",\"superior\",\"primaria\",\"secundaria\",\"secundaria\",\"primaria\",\"primaria\",\"superior\",\"secundaria\",\"secundaria\",\"superior\",\"secundaria\",\"secundaria\",\"superior\",\"superior\",\"secundaria\",\"secundaria\",\"superior\",\"superior\",\"superior\",\"superior\",\"secundaria\",\"primaria\",\"superior\",\"superior\",\"secundaria\",\"superior\",\"secundaria\",\"secundaria\",\"primaria\",\"superior\",\"superior\",\"secundaria\",\"secundaria\",\"primaria\",\"primaria\",\"superior\",\"superior\",\"superior\",\"superior\",\"superior\",\"secundaria\",\"secundaria\",\"superior\",\"secundaria\",\"secundaria\",\"superior\",\"secundaria\",\"superior\",\"superior\",\"superior\",\"superior\",\"secundaria\",\"primaria\",\"superior\",\"secundaria\",\"secundaria\",\"primaria\",\"superior\",\"secundaria\",\"secundaria\",\"superior\",\"secundaria\",\"superior\",\"superior\",\"secundaria\",\"secundaria\",\"superior\",\"secundaria\",\"superior\",\"superior\",\"superior\",\"superior\",\"secundaria\",\"secundaria\",\"superior\",\"secundaria\",\"primaria\",\"secundaria\",\"secundaria\",\"primaria\",\"superior\",\"secundaria\",\"secundaria\",\"secundaria\",\"secundaria\",\"secundaria\",\"secundaria\",\"secundaria\",\"secundaria\",\"secundaria\",\"secundaria\",\"primaria\",\"secundaria\",\"secundaria\",\"superior\",\"superior\",\"superior\",\"superior\",\"superior\",\"primaria\",\"superior\",\"superior\",\"superior\",\"secundaria\",\"secundaria\",\"secundaria\",\"secundaria\",\"superior\",\"secundaria\",\"superior\",\"superior\",\"superior\",\"superior\",\"superior\",\"superior\",\"superior\"],\"xaxis\":\"x\",\"yaxis\":\"y\",\"type\":\"histogram\"},{\"alignmentgroup\":\"True\",\"bingroup\":\"x\",\"hovertemplate\":\"adherencia_inversion=no\\u003cbr\\u003eescolaridad=%{x}\\u003cbr\\u003ecount=%{y}\\u003cextra\\u003e\\u003c\\u002fextra\\u003e\",\"legendgroup\":\"no\",\"marker\":{\"color\":\"#EF553B\",\"pattern\":{\"shape\":\"\"}},\"name\":\"no\",\"offsetgroup\":\"no\",\"orientation\":\"v\",\"showlegend\":true,\"texttemplate\":\"%{value}\",\"x\":[\"superior\",\"superior\",\"secundaria\",\"primaria\",\"secundaria\",\"primaria\",\"superior\",\"superior\",\"primaria\",\"secundaria\",\"secundaria\",\"secundaria\",\"secundaria\",\"secundaria\",\"secundaria\",\"primaria\",\"secundaria\",\"secundaria\",\"secundaria\",\"secundaria\",\"secundaria\",\"superior\",\"secundaria\",\"secundaria\",\"primaria\",\"superior\",\"superior\",\"superior\",\"superior\",\"superior\",\"superior\",\"secundaria\",\"superior\",\"secundaria\",\"secundaria\",\"primaria\",\"superior\",\"secundaria\",\"secundaria\",\"superior\",\"secundaria\",\"primaria\",\"primaria\",\"superior\",\"superior\",\"secundaria\",\"superior\",\"secundaria\",\"primaria\",\"secundaria\",\"superior\",\"superior\",\"secundaria\",\"superior\",\"secundaria\",\"secundaria\",\"primaria\",\"primaria\",\"secundaria\",\"superior\",\"secundaria\",\"primaria\",\"superior\",\"secundaria\",\"secundaria\",\"secundaria\",\"secundaria\",\"superior\",\"superior\",\"superior\",\"superior\",\"primaria\",\"superior\",\"secundaria\",\"secundaria\",\"secundaria\",\"primaria\",\"secundaria\",\"primaria\",\"secundaria\",\"superior\",\"secundaria\",\"secundaria\",\"superior\",\"secundaria\",\"secundaria\",\"primaria\",\"secundaria\",\"secundaria\",\"superior\",\"secundaria\",\"secundaria\",\"secundaria\",\"secundaria\",\"superior\",\"secundaria\",\"secundaria\",\"secundaria\",\"superior\",\"secundaria\",\"secundaria\",\"superior\",\"secundaria\",\"secundaria\",\"superior\",\"secundaria\",\"secundaria\",\"superior\",\"secundaria\",\"secundaria\",\"primaria\",\"superior\",\"secundaria\",\"secundaria\",\"secundaria\",\"secundaria\",\"secundaria\",\"primaria\",\"secundaria\",\"superior\",\"secundaria\",\"secundaria\",\"secundaria\",\"superior\",\"secundaria\",\"secundaria\",\"superior\",\"primaria\",\"secundaria\",\"secundaria\",\"secundaria\",\"secundaria\",\"secundaria\",\"secundaria\",\"secundaria\",\"secundaria\",\"superior\",\"secundaria\",\"secundaria\",\"primaria\",\"secundaria\",\"secundaria\",\"superior\",\"superior\",\"superior\",\"secundaria\",\"secundaria\",\"secundaria\",\"superior\",\"primaria\",\"superior\",\"primaria\",\"secundaria\",\"secundaria\",\"secundaria\",\"secundaria\",\"primaria\",\"secundaria\",\"secundaria\",\"primaria\",\"superior\",\"primaria\",\"primaria\",\"superior\",\"secundaria\",\"primaria\",\"secundaria\",\"secundaria\",\"superior\",\"secundaria\",\"primaria\",\"superior\",\"superior\",\"secundaria\",\"superior\",\"secundaria\",\"secundaria\",\"primaria\",\"secundaria\",\"primaria\",\"secundaria\",\"superior\",\"superior\",\"secundaria\",\"secundaria\",\"superior\",\"secundaria\",\"superior\",\"secundaria\",\"superior\",\"superior\",\"secundaria\",\"secundaria\",\"superior\",\"superior\",\"primaria\",\"secundaria\",\"superior\",\"secundaria\",\"secundaria\",\"primaria\",\"primaria\",\"secundaria\",\"secundaria\",\"secundaria\",\"primaria\",\"secundaria\",\"secundaria\",\"superior\",\"superior\",\"primaria\",\"secundaria\",\"secundaria\",\"secundaria\",\"superior\",\"primaria\",\"superior\",\"superior\",\"secundaria\",\"superior\",\"superior\",\"superior\",\"secundaria\",\"secundaria\",\"primaria\",\"superior\",\"secundaria\",\"secundaria\",\"primaria\",\"secundaria\",\"primaria\",\"superior\",\"secundaria\",\"secundaria\",\"secundaria\",\"secundaria\",\"secundaria\",\"secundaria\",\"secundaria\",\"secundaria\",\"secundaria\",\"secundaria\",\"secundaria\",\"secundaria\",\"secundaria\",\"superior\",\"primaria\",\"primaria\",\"superior\",\"secundaria\",\"secundaria\",\"superior\",\"secundaria\",\"primaria\",\"superior\",\"primaria\",\"superior\",\"secundaria\",\"superior\",\"primaria\",\"secundaria\",\"secundaria\",\"primaria\",\"superior\",\"secundaria\",\"secundaria\",\"primaria\",\"superior\",\"secundaria\",\"superior\",\"secundaria\",\"secundaria\",\"secundaria\",\"secundaria\",\"superior\",\"secundaria\",\"secundaria\",\"primaria\",\"superior\",\"secundaria\",\"superior\",\"secundaria\",\"secundaria\",\"superior\",\"superior\",\"superior\",\"superior\",\"superior\",\"secundaria\",\"secundaria\",\"secundaria\",\"secundaria\",\"secundaria\",\"secundaria\",\"secundaria\",\"secundaria\",\"primaria\",\"primaria\",\"secundaria\",\"secundaria\",\"superior\",\"secundaria\",\"superior\",\"secundaria\",\"secundaria\",\"superior\",\"superior\",\"secundaria\",\"secundaria\",\"secundaria\",\"secundaria\",\"secundaria\",\"secundaria\",\"secundaria\",\"superior\",\"secundaria\",\"superior\",\"primaria\",\"secundaria\",\"secundaria\",\"secundaria\",\"secundaria\",\"secundaria\",\"superior\",\"secundaria\",\"secundaria\",\"secundaria\",\"superior\",\"primaria\",\"superior\",\"secundaria\",\"superior\",\"superior\",\"secundaria\",\"superior\",\"superior\",\"superior\",\"secundaria\",\"secundaria\",\"primaria\",\"secundaria\",\"primaria\",\"secundaria\",\"primaria\",\"secundaria\",\"secundaria\",\"primaria\",\"primaria\",\"secundaria\",\"superior\",\"secundaria\",\"secundaria\",\"superior\",\"secundaria\",\"secundaria\",\"primaria\",\"primaria\",\"primaria\",\"secundaria\",\"secundaria\",\"superior\",\"secundaria\",\"primaria\",\"superior\",\"secundaria\",\"primaria\",\"primaria\",\"superior\",\"primaria\",\"secundaria\",\"secundaria\",\"secundaria\",\"secundaria\",\"primaria\",\"secundaria\",\"secundaria\",\"secundaria\",\"primaria\",\"secundaria\",\"superior\",\"secundaria\",\"secundaria\",\"secundaria\",\"secundaria\",\"secundaria\",\"secundaria\",\"superior\",\"secundaria\",\"secundaria\",\"secundaria\",\"superior\",\"secundaria\",\"secundaria\",\"secundaria\",\"primaria\",\"superior\",\"superior\",\"superior\",\"secundaria\",\"superior\",\"primaria\",\"secundaria\",\"secundaria\",\"superior\",\"superior\",\"secundaria\",\"superior\",\"superior\",\"secundaria\",\"secundaria\",\"primaria\",\"secundaria\",\"secundaria\",\"primaria\",\"secundaria\",\"secundaria\",\"superior\",\"primaria\",\"primaria\",\"superior\",\"secundaria\",\"secundaria\",\"secundaria\",\"superior\",\"secundaria\",\"superior\",\"secundaria\",\"superior\",\"primaria\",\"secundaria\",\"superior\",\"secundaria\",\"primaria\",\"secundaria\",\"superior\",\"superior\",\"secundaria\",\"secundaria\",\"superior\",\"primaria\",\"secundaria\",\"secundaria\",\"superior\",\"primaria\",\"secundaria\",\"superior\",\"secundaria\",\"superior\",\"superior\",\"superior\",\"superior\",\"primaria\",\"secundaria\",\"superior\",\"secundaria\",\"secundaria\",\"superior\",\"secundaria\",\"superior\",\"superior\",\"superior\",\"superior\",\"secundaria\",\"primaria\",\"secundaria\",\"secundaria\",\"superior\",\"primaria\",\"superior\",\"secundaria\",\"secundaria\",\"secundaria\",\"secundaria\",\"secundaria\",\"secundaria\",\"secundaria\",\"secundaria\",\"secundaria\",\"primaria\",\"primaria\",\"secundaria\",\"secundaria\",\"superior\",\"secundaria\",\"primaria\",\"secundaria\",\"primaria\",\"superior\",\"secundaria\",\"secundaria\",\"secundaria\",\"secundaria\",\"secundaria\",\"superior\",\"primaria\",\"secundaria\",\"secundaria\",\"secundaria\",\"secundaria\",\"secundaria\",\"secundaria\",\"superior\",\"superior\",\"secundaria\",\"secundaria\",\"superior\",\"superior\",\"secundaria\",\"secundaria\",\"secundaria\",\"secundaria\",\"secundaria\",\"secundaria\",\"primaria\",\"superior\",\"superior\",\"superior\",\"superior\",\"secundaria\",\"primaria\",\"primaria\",\"secundaria\",\"secundaria\",\"primaria\",\"secundaria\",\"secundaria\",\"superior\",\"secundaria\",\"secundaria\",\"secundaria\",\"superior\",\"superior\",\"superior\",\"secundaria\",\"secundaria\",\"secundaria\",\"secundaria\",\"primaria\",\"secundaria\",\"superior\",\"superior\",\"superior\",\"secundaria\",\"secundaria\",\"superior\",\"superior\",\"superior\",\"secundaria\",\"secundaria\",\"superior\",\"superior\",\"secundaria\",\"secundaria\",\"secundaria\",\"primaria\",\"primaria\",\"primaria\",\"secundaria\",\"secundaria\",\"secundaria\",\"secundaria\",\"secundaria\",\"secundaria\",\"superior\",\"secundaria\",\"superior\",\"primaria\",\"secundaria\",\"secundaria\",\"primaria\",\"primaria\",\"primaria\",\"secundaria\",\"secundaria\",\"secundaria\",\"superior\",\"primaria\",\"superior\",\"secundaria\",\"secundaria\",\"superior\",\"primaria\",\"superior\",\"primaria\",\"secundaria\",\"primaria\",\"superior\",\"primaria\",\"superior\",\"superior\",\"secundaria\",\"superior\",\"secundaria\",\"secundaria\",\"superior\",\"secundaria\",\"secundaria\",\"superior\",\"secundaria\",\"superior\",\"primaria\",\"superior\",\"secundaria\",\"primaria\",\"superior\",\"superior\",\"secundaria\",\"primaria\",\"primaria\",\"primaria\",\"secundaria\",\"secundaria\",\"secundaria\",\"primaria\",\"superior\",\"secundaria\",\"secundaria\",\"secundaria\",\"secundaria\",\"secundaria\",\"secundaria\",\"secundaria\",\"secundaria\",\"superior\",\"superior\",\"secundaria\",\"superior\",\"secundaria\",\"superior\",\"secundaria\",\"secundaria\",\"secundaria\",\"superior\",\"secundaria\",\"secundaria\",\"superior\",\"primaria\",\"secundaria\",\"secundaria\",\"superior\",\"secundaria\",\"secundaria\",\"secundaria\",\"superior\",\"secundaria\",\"secundaria\",\"primaria\",\"primaria\",\"primaria\",\"superior\",\"secundaria\",\"secundaria\",\"superior\",\"superior\",\"primaria\",\"secundaria\",\"secundaria\",\"secundaria\",\"secundaria\",\"secundaria\",\"secundaria\",\"primaria\",\"primaria\",\"superior\",\"secundaria\",\"secundaria\",\"secundaria\",\"superior\",\"superior\",\"secundaria\",\"superior\",\"primaria\",\"superior\",\"superior\",\"secundaria\",\"secundaria\",\"secundaria\",\"primaria\",\"secundaria\",\"secundaria\",\"secundaria\",\"primaria\",\"superior\",\"superior\",\"secundaria\",\"secundaria\",\"secundaria\",\"secundaria\",\"superior\",\"secundaria\",\"superior\",\"superior\",\"secundaria\",\"secundaria\",\"secundaria\",\"superior\",\"primaria\",\"secundaria\",\"secundaria\",\"primaria\",\"secundaria\",\"secundaria\",\"primaria\",\"superior\",\"secundaria\",\"secundaria\",\"superior\",\"secundaria\",\"primaria\",\"superior\",\"secundaria\",\"primaria\",\"superior\",\"superior\",\"secundaria\",\"superior\",\"primaria\",\"superior\",\"secundaria\",\"primaria\",\"secundaria\",\"secundaria\",\"superior\",\"primaria\",\"secundaria\",\"secundaria\",\"secundaria\",\"secundaria\",\"secundaria\",\"secundaria\",\"primaria\",\"secundaria\",\"secundaria\",\"secundaria\",\"secundaria\",\"secundaria\",\"superior\",\"secundaria\",\"secundaria\",\"superior\",\"superior\",\"secundaria\",\"superior\",\"primaria\",\"superior\",\"primaria\",\"superior\",\"secundaria\",\"secundaria\",\"secundaria\",\"secundaria\",\"secundaria\",\"primaria\",\"secundaria\",\"secundaria\",\"primaria\",\"secundaria\",\"superior\",\"superior\",\"superior\",\"secundaria\",\"secundaria\",\"secundaria\",\"secundaria\",\"secundaria\",\"secundaria\"],\"xaxis\":\"x\",\"yaxis\":\"y\",\"type\":\"histogram\"}],                        {\"template\":{\"data\":{\"histogram2dcontour\":[{\"type\":\"histogram2dcontour\",\"colorbar\":{\"outlinewidth\":0,\"ticks\":\"\"},\"colorscale\":[[0.0,\"#0d0887\"],[0.1111111111111111,\"#46039f\"],[0.2222222222222222,\"#7201a8\"],[0.3333333333333333,\"#9c179e\"],[0.4444444444444444,\"#bd3786\"],[0.5555555555555556,\"#d8576b\"],[0.6666666666666666,\"#ed7953\"],[0.7777777777777778,\"#fb9f3a\"],[0.8888888888888888,\"#fdca26\"],[1.0,\"#f0f921\"]]}],\"choropleth\":[{\"type\":\"choropleth\",\"colorbar\":{\"outlinewidth\":0,\"ticks\":\"\"}}],\"histogram2d\":[{\"type\":\"histogram2d\",\"colorbar\":{\"outlinewidth\":0,\"ticks\":\"\"},\"colorscale\":[[0.0,\"#0d0887\"],[0.1111111111111111,\"#46039f\"],[0.2222222222222222,\"#7201a8\"],[0.3333333333333333,\"#9c179e\"],[0.4444444444444444,\"#bd3786\"],[0.5555555555555556,\"#d8576b\"],[0.6666666666666666,\"#ed7953\"],[0.7777777777777778,\"#fb9f3a\"],[0.8888888888888888,\"#fdca26\"],[1.0,\"#f0f921\"]]}],\"heatmap\":[{\"type\":\"heatmap\",\"colorbar\":{\"outlinewidth\":0,\"ticks\":\"\"},\"colorscale\":[[0.0,\"#0d0887\"],[0.1111111111111111,\"#46039f\"],[0.2222222222222222,\"#7201a8\"],[0.3333333333333333,\"#9c179e\"],[0.4444444444444444,\"#bd3786\"],[0.5555555555555556,\"#d8576b\"],[0.6666666666666666,\"#ed7953\"],[0.7777777777777778,\"#fb9f3a\"],[0.8888888888888888,\"#fdca26\"],[1.0,\"#f0f921\"]]}],\"heatmapgl\":[{\"type\":\"heatmapgl\",\"colorbar\":{\"outlinewidth\":0,\"ticks\":\"\"},\"colorscale\":[[0.0,\"#0d0887\"],[0.1111111111111111,\"#46039f\"],[0.2222222222222222,\"#7201a8\"],[0.3333333333333333,\"#9c179e\"],[0.4444444444444444,\"#bd3786\"],[0.5555555555555556,\"#d8576b\"],[0.6666666666666666,\"#ed7953\"],[0.7777777777777778,\"#fb9f3a\"],[0.8888888888888888,\"#fdca26\"],[1.0,\"#f0f921\"]]}],\"contourcarpet\":[{\"type\":\"contourcarpet\",\"colorbar\":{\"outlinewidth\":0,\"ticks\":\"\"}}],\"contour\":[{\"type\":\"contour\",\"colorbar\":{\"outlinewidth\":0,\"ticks\":\"\"},\"colorscale\":[[0.0,\"#0d0887\"],[0.1111111111111111,\"#46039f\"],[0.2222222222222222,\"#7201a8\"],[0.3333333333333333,\"#9c179e\"],[0.4444444444444444,\"#bd3786\"],[0.5555555555555556,\"#d8576b\"],[0.6666666666666666,\"#ed7953\"],[0.7777777777777778,\"#fb9f3a\"],[0.8888888888888888,\"#fdca26\"],[1.0,\"#f0f921\"]]}],\"surface\":[{\"type\":\"surface\",\"colorbar\":{\"outlinewidth\":0,\"ticks\":\"\"},\"colorscale\":[[0.0,\"#0d0887\"],[0.1111111111111111,\"#46039f\"],[0.2222222222222222,\"#7201a8\"],[0.3333333333333333,\"#9c179e\"],[0.4444444444444444,\"#bd3786\"],[0.5555555555555556,\"#d8576b\"],[0.6666666666666666,\"#ed7953\"],[0.7777777777777778,\"#fb9f3a\"],[0.8888888888888888,\"#fdca26\"],[1.0,\"#f0f921\"]]}],\"mesh3d\":[{\"type\":\"mesh3d\",\"colorbar\":{\"outlinewidth\":0,\"ticks\":\"\"}}],\"scatter\":[{\"fillpattern\":{\"fillmode\":\"overlay\",\"size\":10,\"solidity\":0.2},\"type\":\"scatter\"}],\"parcoords\":[{\"type\":\"parcoords\",\"line\":{\"colorbar\":{\"outlinewidth\":0,\"ticks\":\"\"}}}],\"scatterpolargl\":[{\"type\":\"scatterpolargl\",\"marker\":{\"colorbar\":{\"outlinewidth\":0,\"ticks\":\"\"}}}],\"bar\":[{\"error_x\":{\"color\":\"#2a3f5f\"},\"error_y\":{\"color\":\"#2a3f5f\"},\"marker\":{\"line\":{\"color\":\"#E5ECF6\",\"width\":0.5},\"pattern\":{\"fillmode\":\"overlay\",\"size\":10,\"solidity\":0.2}},\"type\":\"bar\"}],\"scattergeo\":[{\"type\":\"scattergeo\",\"marker\":{\"colorbar\":{\"outlinewidth\":0,\"ticks\":\"\"}}}],\"scatterpolar\":[{\"type\":\"scatterpolar\",\"marker\":{\"colorbar\":{\"outlinewidth\":0,\"ticks\":\"\"}}}],\"histogram\":[{\"marker\":{\"pattern\":{\"fillmode\":\"overlay\",\"size\":10,\"solidity\":0.2}},\"type\":\"histogram\"}],\"scattergl\":[{\"type\":\"scattergl\",\"marker\":{\"colorbar\":{\"outlinewidth\":0,\"ticks\":\"\"}}}],\"scatter3d\":[{\"type\":\"scatter3d\",\"line\":{\"colorbar\":{\"outlinewidth\":0,\"ticks\":\"\"}},\"marker\":{\"colorbar\":{\"outlinewidth\":0,\"ticks\":\"\"}}}],\"scattermapbox\":[{\"type\":\"scattermapbox\",\"marker\":{\"colorbar\":{\"outlinewidth\":0,\"ticks\":\"\"}}}],\"scatterternary\":[{\"type\":\"scatterternary\",\"marker\":{\"colorbar\":{\"outlinewidth\":0,\"ticks\":\"\"}}}],\"scattercarpet\":[{\"type\":\"scattercarpet\",\"marker\":{\"colorbar\":{\"outlinewidth\":0,\"ticks\":\"\"}}}],\"carpet\":[{\"aaxis\":{\"endlinecolor\":\"#2a3f5f\",\"gridcolor\":\"white\",\"linecolor\":\"white\",\"minorgridcolor\":\"white\",\"startlinecolor\":\"#2a3f5f\"},\"baxis\":{\"endlinecolor\":\"#2a3f5f\",\"gridcolor\":\"white\",\"linecolor\":\"white\",\"minorgridcolor\":\"white\",\"startlinecolor\":\"#2a3f5f\"},\"type\":\"carpet\"}],\"table\":[{\"cells\":{\"fill\":{\"color\":\"#EBF0F8\"},\"line\":{\"color\":\"white\"}},\"header\":{\"fill\":{\"color\":\"#C8D4E3\"},\"line\":{\"color\":\"white\"}},\"type\":\"table\"}],\"barpolar\":[{\"marker\":{\"line\":{\"color\":\"#E5ECF6\",\"width\":0.5},\"pattern\":{\"fillmode\":\"overlay\",\"size\":10,\"solidity\":0.2}},\"type\":\"barpolar\"}],\"pie\":[{\"automargin\":true,\"type\":\"pie\"}]},\"layout\":{\"autotypenumbers\":\"strict\",\"colorway\":[\"#636efa\",\"#EF553B\",\"#00cc96\",\"#ab63fa\",\"#FFA15A\",\"#19d3f3\",\"#FF6692\",\"#B6E880\",\"#FF97FF\",\"#FECB52\"],\"font\":{\"color\":\"#2a3f5f\"},\"hovermode\":\"closest\",\"hoverlabel\":{\"align\":\"left\"},\"paper_bgcolor\":\"white\",\"plot_bgcolor\":\"#E5ECF6\",\"polar\":{\"bgcolor\":\"#E5ECF6\",\"angularaxis\":{\"gridcolor\":\"white\",\"linecolor\":\"white\",\"ticks\":\"\"},\"radialaxis\":{\"gridcolor\":\"white\",\"linecolor\":\"white\",\"ticks\":\"\"}},\"ternary\":{\"bgcolor\":\"#E5ECF6\",\"aaxis\":{\"gridcolor\":\"white\",\"linecolor\":\"white\",\"ticks\":\"\"},\"baxis\":{\"gridcolor\":\"white\",\"linecolor\":\"white\",\"ticks\":\"\"},\"caxis\":{\"gridcolor\":\"white\",\"linecolor\":\"white\",\"ticks\":\"\"}},\"coloraxis\":{\"colorbar\":{\"outlinewidth\":0,\"ticks\":\"\"}},\"colorscale\":{\"sequential\":[[0.0,\"#0d0887\"],[0.1111111111111111,\"#46039f\"],[0.2222222222222222,\"#7201a8\"],[0.3333333333333333,\"#9c179e\"],[0.4444444444444444,\"#bd3786\"],[0.5555555555555556,\"#d8576b\"],[0.6666666666666666,\"#ed7953\"],[0.7777777777777778,\"#fb9f3a\"],[0.8888888888888888,\"#fdca26\"],[1.0,\"#f0f921\"]],\"sequentialminus\":[[0.0,\"#0d0887\"],[0.1111111111111111,\"#46039f\"],[0.2222222222222222,\"#7201a8\"],[0.3333333333333333,\"#9c179e\"],[0.4444444444444444,\"#bd3786\"],[0.5555555555555556,\"#d8576b\"],[0.6666666666666666,\"#ed7953\"],[0.7777777777777778,\"#fb9f3a\"],[0.8888888888888888,\"#fdca26\"],[1.0,\"#f0f921\"]],\"diverging\":[[0,\"#8e0152\"],[0.1,\"#c51b7d\"],[0.2,\"#de77ae\"],[0.3,\"#f1b6da\"],[0.4,\"#fde0ef\"],[0.5,\"#f7f7f7\"],[0.6,\"#e6f5d0\"],[0.7,\"#b8e186\"],[0.8,\"#7fbc41\"],[0.9,\"#4d9221\"],[1,\"#276419\"]]},\"xaxis\":{\"gridcolor\":\"white\",\"linecolor\":\"white\",\"ticks\":\"\",\"title\":{\"standoff\":15},\"zerolinecolor\":\"white\",\"automargin\":true,\"zerolinewidth\":2},\"yaxis\":{\"gridcolor\":\"white\",\"linecolor\":\"white\",\"ticks\":\"\",\"title\":{\"standoff\":15},\"zerolinecolor\":\"white\",\"automargin\":true,\"zerolinewidth\":2},\"scene\":{\"xaxis\":{\"backgroundcolor\":\"#E5ECF6\",\"gridcolor\":\"white\",\"linecolor\":\"white\",\"showbackground\":true,\"ticks\":\"\",\"zerolinecolor\":\"white\",\"gridwidth\":2},\"yaxis\":{\"backgroundcolor\":\"#E5ECF6\",\"gridcolor\":\"white\",\"linecolor\":\"white\",\"showbackground\":true,\"ticks\":\"\",\"zerolinecolor\":\"white\",\"gridwidth\":2},\"zaxis\":{\"backgroundcolor\":\"#E5ECF6\",\"gridcolor\":\"white\",\"linecolor\":\"white\",\"showbackground\":true,\"ticks\":\"\",\"zerolinecolor\":\"white\",\"gridwidth\":2}},\"shapedefaults\":{\"line\":{\"color\":\"#2a3f5f\"}},\"annotationdefaults\":{\"arrowcolor\":\"#2a3f5f\",\"arrowhead\":0,\"arrowwidth\":1},\"geo\":{\"bgcolor\":\"white\",\"landcolor\":\"#E5ECF6\",\"subunitcolor\":\"white\",\"showland\":true,\"showlakes\":true,\"lakecolor\":\"white\"},\"title\":{\"x\":0.05},\"mapbox\":{\"style\":\"light\"}}},\"xaxis\":{\"anchor\":\"y\",\"domain\":[0.0,1.0],\"title\":{\"text\":\"escolaridad\"}},\"yaxis\":{\"anchor\":\"x\",\"domain\":[0.0,1.0],\"title\":{\"text\":\"count\"}},\"legend\":{\"title\":{\"text\":\"adherencia_inversion\"},\"tracegroupgap\":0},\"margin\":{\"t\":60},\"barmode\":\"group\"},                        {\"responsive\": true}                    ).then(function(){\n",
              "                            \n",
              "var gd = document.getElementById('a7f39153-794f-4798-84e7-291d96c439f3');\n",
              "var x = new MutationObserver(function (mutations, observer) {{\n",
              "        var display = window.getComputedStyle(gd).display;\n",
              "        if (!display || display === 'none') {{\n",
              "            console.log([gd, 'removed!']);\n",
              "            Plotly.purge(gd);\n",
              "            observer.disconnect();\n",
              "        }}\n",
              "}});\n",
              "\n",
              "// Listen for the removal of the full notebook cells\n",
              "var notebookContainer = gd.closest('#notebook-container');\n",
              "if (notebookContainer) {{\n",
              "    x.observe(notebookContainer, {childList: true});\n",
              "}}\n",
              "\n",
              "// Listen for the clearing of the current output cell\n",
              "var outputEl = gd.closest('.output');\n",
              "if (outputEl) {{\n",
              "    x.observe(outputEl, {childList: true});\n",
              "}}\n",
              "\n",
              "                        })                };                            </script>        </div>\n",
              "</body>\n",
              "</html>"
            ]
          },
          "metadata": {}
        }
      ]
    },
    {
      "cell_type": "code",
      "source": [
        "px.histogram(datos, x='default',color='adherencia_inversion',text_auto=True,barmode='group' )"
      ],
      "metadata": {
        "colab": {
          "base_uri": "https://localhost:8080/",
          "height": 542
        },
        "id": "RPq_zoR8CRRH",
        "outputId": "f36a1961-3697-446a-dfe3-9f2c02939fdd"
      },
      "execution_count": 14,
      "outputs": [
        {
          "output_type": "display_data",
          "data": {
            "text/html": [
              "<html>\n",
              "<head><meta charset=\"utf-8\" /></head>\n",
              "<body>\n",
              "    <div>            <script src=\"https://cdnjs.cloudflare.com/ajax/libs/mathjax/2.7.5/MathJax.js?config=TeX-AMS-MML_SVG\"></script><script type=\"text/javascript\">if (window.MathJax && window.MathJax.Hub && window.MathJax.Hub.Config) {window.MathJax.Hub.Config({SVG: {font: \"STIX-Web\"}});}</script>                <script type=\"text/javascript\">window.PlotlyConfig = {MathJaxConfig: 'local'};</script>\n",
              "        <script charset=\"utf-8\" src=\"https://cdn.plot.ly/plotly-2.35.2.min.js\"></script>                <div id=\"13177200-4228-4bb6-b0f5-ac9e1da86d86\" class=\"plotly-graph-div\" style=\"height:525px; width:100%;\"></div>            <script type=\"text/javascript\">                                    window.PLOTLYENV=window.PLOTLYENV || {};                                    if (document.getElementById(\"13177200-4228-4bb6-b0f5-ac9e1da86d86\")) {                    Plotly.newPlot(                        \"13177200-4228-4bb6-b0f5-ac9e1da86d86\",                        [{\"alignmentgroup\":\"True\",\"bingroup\":\"x\",\"hovertemplate\":\"adherencia_inversion=si\\u003cbr\\u003edefault=%{x}\\u003cbr\\u003ecount=%{y}\\u003cextra\\u003e\\u003c\\u002fextra\\u003e\",\"legendgroup\":\"si\",\"marker\":{\"color\":\"#636efa\",\"pattern\":{\"shape\":\"\"}},\"name\":\"si\",\"offsetgroup\":\"si\",\"orientation\":\"v\",\"showlegend\":true,\"texttemplate\":\"%{value}\",\"x\":[\"no\",\"no\",\"no\",\"no\",\"no\",\"no\",\"no\",\"no\",\"no\",\"no\",\"no\",\"no\",\"no\",\"no\",\"no\",\"no\",\"no\",\"no\",\"no\",\"no\",\"no\",\"no\",\"no\",\"no\",\"no\",\"no\",\"no\",\"no\",\"no\",\"no\",\"no\",\"no\",\"no\",\"no\",\"no\",\"no\",\"no\",\"no\",\"no\",\"no\",\"no\",\"no\",\"no\",\"no\",\"no\",\"si\",\"no\",\"no\",\"no\",\"no\",\"no\",\"no\",\"no\",\"no\",\"no\",\"no\",\"no\",\"no\",\"no\",\"no\",\"no\",\"no\",\"no\",\"no\",\"no\",\"no\",\"no\",\"no\",\"no\",\"no\",\"no\",\"no\",\"no\",\"no\",\"no\",\"no\",\"no\",\"no\",\"no\",\"no\",\"no\",\"no\",\"no\",\"no\",\"no\",\"no\",\"no\",\"no\",\"no\",\"no\",\"no\",\"no\",\"no\",\"no\",\"no\",\"no\",\"no\",\"no\",\"no\",\"no\",\"no\",\"no\",\"no\",\"no\",\"no\",\"no\",\"no\",\"no\",\"no\",\"no\",\"no\",\"no\",\"no\",\"no\",\"no\",\"no\",\"no\",\"no\",\"no\",\"no\",\"no\",\"no\",\"no\",\"no\",\"no\",\"no\",\"no\",\"no\",\"no\",\"no\",\"no\",\"no\",\"no\",\"no\",\"no\",\"no\",\"no\",\"no\",\"no\",\"no\",\"no\",\"no\",\"no\",\"no\",\"no\",\"no\",\"no\",\"no\",\"no\",\"no\",\"no\",\"no\",\"no\",\"no\",\"no\",\"no\",\"no\",\"no\",\"si\",\"no\",\"no\",\"no\",\"no\",\"no\",\"no\",\"no\",\"no\",\"no\",\"si\",\"no\",\"no\",\"no\",\"no\",\"no\",\"no\",\"no\",\"no\",\"no\",\"no\",\"no\",\"no\",\"no\",\"no\",\"no\",\"no\",\"no\",\"no\",\"no\",\"no\",\"no\",\"no\",\"no\",\"no\",\"no\",\"no\",\"no\",\"no\",\"no\",\"no\",\"no\",\"no\",\"no\",\"no\",\"no\",\"no\",\"no\",\"no\",\"no\",\"no\",\"no\",\"si\",\"no\",\"no\",\"no\",\"no\",\"no\",\"no\",\"no\",\"no\",\"no\",\"no\",\"no\",\"no\",\"no\",\"no\",\"no\",\"no\",\"no\",\"no\",\"no\",\"no\",\"no\",\"no\",\"no\",\"no\",\"no\",\"no\",\"no\",\"no\",\"no\",\"no\",\"no\",\"no\",\"no\",\"no\",\"no\",\"no\",\"no\",\"no\",\"no\",\"no\",\"no\",\"no\",\"no\",\"no\",\"no\",\"no\",\"no\",\"no\",\"no\",\"no\",\"no\",\"no\",\"no\",\"no\",\"no\",\"no\",\"no\",\"no\",\"no\",\"no\",\"no\",\"no\",\"no\",\"no\",\"no\",\"no\",\"no\",\"no\",\"no\",\"no\",\"no\",\"no\",\"no\",\"no\",\"no\",\"no\",\"no\",\"no\",\"no\",\"no\",\"no\",\"no\",\"no\",\"no\",\"no\",\"no\",\"no\",\"no\",\"no\",\"no\",\"no\",\"no\",\"no\",\"no\",\"no\",\"no\",\"no\",\"no\",\"no\",\"no\",\"no\",\"no\",\"no\",\"no\",\"no\",\"no\",\"no\",\"no\",\"no\",\"no\",\"no\",\"no\",\"no\",\"no\",\"no\",\"no\",\"no\",\"no\",\"no\",\"no\",\"no\",\"no\",\"no\",\"no\",\"no\",\"no\",\"no\",\"no\",\"no\",\"no\",\"no\",\"no\",\"no\",\"no\",\"no\",\"no\",\"no\",\"no\",\"no\",\"no\",\"no\",\"no\",\"no\",\"no\",\"no\",\"no\",\"no\",\"no\",\"no\",\"no\",\"no\",\"no\",\"no\",\"no\",\"no\",\"no\",\"no\",\"no\",\"no\",\"no\",\"no\",\"no\",\"no\",\"no\",\"no\",\"no\",\"no\",\"no\",\"no\",\"no\",\"no\",\"no\",\"no\",\"no\",\"no\",\"no\",\"si\",\"no\",\"no\",\"no\",\"no\",\"no\",\"no\",\"no\",\"no\",\"no\",\"no\",\"no\",\"no\",\"no\",\"si\",\"no\",\"no\",\"no\",\"no\",\"no\",\"no\",\"no\",\"no\",\"no\",\"no\",\"no\",\"no\",\"no\",\"no\",\"no\",\"no\",\"no\",\"no\",\"no\",\"no\",\"no\",\"no\",\"no\",\"no\",\"no\",\"no\",\"no\",\"no\",\"no\",\"no\",\"no\",\"no\",\"no\",\"no\",\"no\",\"no\",\"no\",\"no\",\"no\",\"no\",\"no\",\"no\",\"no\",\"no\",\"no\",\"no\",\"si\",\"no\",\"no\",\"no\",\"no\",\"no\",\"no\",\"no\",\"no\",\"no\",\"no\",\"no\",\"no\",\"no\",\"no\",\"no\",\"no\",\"no\",\"no\",\"no\",\"no\",\"no\",\"no\",\"no\",\"no\",\"no\",\"no\",\"no\",\"si\",\"no\",\"no\",\"no\",\"no\",\"no\",\"no\",\"no\",\"no\",\"no\",\"no\",\"no\",\"no\",\"no\",\"no\",\"no\",\"no\",\"no\",\"no\",\"no\",\"no\",\"no\",\"no\",\"no\",\"no\",\"no\"],\"xaxis\":\"x\",\"yaxis\":\"y\",\"type\":\"histogram\"},{\"alignmentgroup\":\"True\",\"bingroup\":\"x\",\"hovertemplate\":\"adherencia_inversion=no\\u003cbr\\u003edefault=%{x}\\u003cbr\\u003ecount=%{y}\\u003cextra\\u003e\\u003c\\u002fextra\\u003e\",\"legendgroup\":\"no\",\"marker\":{\"color\":\"#EF553B\",\"pattern\":{\"shape\":\"\"}},\"name\":\"no\",\"offsetgroup\":\"no\",\"orientation\":\"v\",\"showlegend\":true,\"texttemplate\":\"%{value}\",\"x\":[\"no\",\"no\",\"no\",\"no\",\"no\",\"no\",\"no\",\"no\",\"no\",\"no\",\"no\",\"no\",\"no\",\"no\",\"no\",\"no\",\"no\",\"no\",\"no\",\"no\",\"no\",\"no\",\"no\",\"si\",\"no\",\"no\",\"no\",\"no\",\"no\",\"no\",\"no\",\"no\",\"no\",\"no\",\"no\",\"no\",\"no\",\"no\",\"no\",\"no\",\"no\",\"no\",\"no\",\"no\",\"no\",\"no\",\"no\",\"no\",\"no\",\"no\",\"no\",\"no\",\"no\",\"no\",\"no\",\"no\",\"si\",\"no\",\"no\",\"no\",\"no\",\"no\",\"no\",\"no\",\"no\",\"no\",\"no\",\"no\",\"no\",\"no\",\"no\",\"no\",\"no\",\"no\",\"no\",\"no\",\"no\",\"no\",\"no\",\"no\",\"no\",\"no\",\"no\",\"no\",\"no\",\"no\",\"no\",\"no\",\"no\",\"no\",\"no\",\"no\",\"no\",\"no\",\"no\",\"no\",\"no\",\"no\",\"no\",\"no\",\"no\",\"no\",\"no\",\"no\",\"no\",\"no\",\"no\",\"no\",\"no\",\"no\",\"no\",\"si\",\"no\",\"no\",\"si\",\"no\",\"no\",\"no\",\"no\",\"no\",\"no\",\"no\",\"no\",\"no\",\"no\",\"no\",\"no\",\"no\",\"no\",\"no\",\"no\",\"no\",\"no\",\"no\",\"no\",\"no\",\"no\",\"no\",\"no\",\"no\",\"no\",\"no\",\"no\",\"no\",\"no\",\"no\",\"no\",\"no\",\"no\",\"no\",\"no\",\"no\",\"no\",\"no\",\"no\",\"no\",\"no\",\"no\",\"no\",\"no\",\"no\",\"no\",\"no\",\"no\",\"si\",\"no\",\"no\",\"no\",\"no\",\"no\",\"no\",\"no\",\"no\",\"no\",\"no\",\"no\",\"no\",\"no\",\"no\",\"no\",\"no\",\"no\",\"no\",\"no\",\"no\",\"no\",\"no\",\"no\",\"no\",\"no\",\"no\",\"no\",\"no\",\"no\",\"no\",\"no\",\"no\",\"no\",\"no\",\"no\",\"no\",\"no\",\"no\",\"no\",\"no\",\"no\",\"no\",\"no\",\"no\",\"no\",\"no\",\"no\",\"no\",\"no\",\"no\",\"no\",\"no\",\"no\",\"no\",\"no\",\"no\",\"no\",\"no\",\"no\",\"no\",\"no\",\"no\",\"no\",\"no\",\"no\",\"no\",\"no\",\"no\",\"no\",\"no\",\"no\",\"no\",\"no\",\"no\",\"no\",\"no\",\"no\",\"no\",\"no\",\"no\",\"no\",\"no\",\"no\",\"no\",\"no\",\"no\",\"no\",\"no\",\"no\",\"no\",\"no\",\"no\",\"no\",\"no\",\"no\",\"no\",\"no\",\"no\",\"no\",\"no\",\"no\",\"no\",\"no\",\"no\",\"no\",\"no\",\"no\",\"no\",\"no\",\"no\",\"no\",\"no\",\"no\",\"no\",\"no\",\"no\",\"no\",\"no\",\"no\",\"no\",\"no\",\"no\",\"no\",\"no\",\"no\",\"no\",\"no\",\"no\",\"no\",\"no\",\"no\",\"no\",\"no\",\"no\",\"no\",\"no\",\"no\",\"no\",\"no\",\"no\",\"si\",\"no\",\"si\",\"no\",\"no\",\"no\",\"no\",\"no\",\"no\",\"no\",\"no\",\"no\",\"no\",\"no\",\"no\",\"no\",\"no\",\"no\",\"no\",\"no\",\"no\",\"si\",\"no\",\"no\",\"no\",\"no\",\"no\",\"no\",\"no\",\"no\",\"no\",\"no\",\"no\",\"no\",\"no\",\"no\",\"no\",\"no\",\"no\",\"no\",\"no\",\"no\",\"no\",\"no\",\"no\",\"no\",\"no\",\"no\",\"no\",\"no\",\"no\",\"no\",\"no\",\"no\",\"no\",\"no\",\"no\",\"no\",\"no\",\"si\",\"no\",\"no\",\"no\",\"no\",\"no\",\"no\",\"no\",\"no\",\"no\",\"no\",\"no\",\"no\",\"no\",\"no\",\"no\",\"no\",\"no\",\"no\",\"no\",\"no\",\"no\",\"no\",\"no\",\"no\",\"no\",\"no\",\"no\",\"no\",\"no\",\"no\",\"no\",\"no\",\"no\",\"no\",\"no\",\"no\",\"no\",\"no\",\"no\",\"no\",\"no\",\"no\",\"no\",\"no\",\"no\",\"no\",\"no\",\"no\",\"no\",\"no\",\"no\",\"no\",\"no\",\"no\",\"no\",\"no\",\"no\",\"no\",\"no\",\"no\",\"no\",\"no\",\"no\",\"no\",\"no\",\"no\",\"no\",\"no\",\"no\",\"no\",\"no\",\"no\",\"no\",\"no\",\"no\",\"no\",\"no\",\"no\",\"no\",\"no\",\"no\",\"no\",\"no\",\"si\",\"no\",\"no\",\"no\",\"no\",\"no\",\"no\",\"no\",\"no\",\"no\",\"no\",\"no\",\"no\",\"no\",\"no\",\"no\",\"no\",\"no\",\"no\",\"no\",\"no\",\"no\",\"no\",\"no\",\"no\",\"no\",\"no\",\"no\",\"no\",\"no\",\"no\",\"no\",\"no\",\"no\",\"no\",\"no\",\"no\",\"no\",\"no\",\"no\",\"no\",\"no\",\"no\",\"no\",\"no\",\"no\",\"no\",\"no\",\"no\",\"no\",\"no\",\"no\",\"no\",\"no\",\"no\",\"no\",\"no\",\"no\",\"no\",\"no\",\"no\",\"no\",\"no\",\"no\",\"no\",\"no\",\"no\",\"no\",\"no\",\"no\",\"no\",\"no\",\"no\",\"no\",\"no\",\"no\",\"no\",\"no\",\"no\",\"no\",\"no\",\"no\",\"no\",\"no\",\"no\",\"no\",\"no\",\"no\",\"no\",\"no\",\"no\",\"no\",\"no\",\"no\",\"no\",\"no\",\"no\",\"no\",\"no\",\"no\",\"no\",\"no\",\"no\",\"no\",\"no\",\"no\",\"no\",\"no\",\"no\",\"no\",\"no\",\"no\",\"no\",\"no\",\"no\",\"no\",\"no\",\"no\",\"no\",\"no\",\"no\",\"no\",\"no\",\"no\",\"no\",\"si\",\"no\",\"no\",\"no\",\"no\",\"no\",\"no\",\"no\",\"no\",\"no\",\"no\",\"no\",\"si\",\"no\",\"no\",\"no\",\"no\",\"no\",\"no\",\"no\",\"no\",\"no\",\"no\",\"no\",\"no\",\"no\",\"no\",\"no\",\"no\",\"no\",\"no\",\"no\",\"no\",\"no\",\"no\",\"no\",\"no\",\"no\",\"no\",\"no\",\"no\",\"no\",\"no\",\"no\",\"no\",\"no\",\"no\",\"no\",\"no\",\"no\",\"no\",\"no\",\"no\",\"no\",\"no\",\"no\",\"no\",\"no\",\"no\",\"no\",\"no\",\"no\",\"no\",\"no\",\"no\",\"no\",\"no\",\"no\",\"no\",\"no\",\"no\",\"no\",\"no\",\"no\",\"no\",\"no\",\"no\",\"no\",\"no\",\"no\",\"no\",\"no\",\"no\",\"no\",\"no\",\"no\",\"no\",\"no\",\"no\",\"no\",\"no\",\"no\",\"no\",\"no\",\"no\",\"no\",\"no\",\"no\",\"no\",\"no\",\"no\",\"no\",\"no\",\"no\",\"no\",\"no\",\"no\",\"no\",\"no\",\"no\",\"no\",\"no\",\"no\",\"no\",\"no\",\"no\",\"no\",\"si\",\"no\",\"si\",\"no\",\"no\",\"no\",\"no\",\"no\",\"no\",\"no\",\"no\",\"no\",\"no\",\"no\",\"no\",\"no\",\"no\",\"no\",\"no\",\"no\",\"no\",\"no\",\"no\",\"no\",\"no\",\"no\",\"no\",\"no\",\"no\",\"no\",\"no\",\"no\",\"no\",\"no\",\"no\",\"no\",\"no\",\"no\",\"no\",\"no\",\"no\",\"no\",\"no\",\"no\",\"no\",\"no\",\"si\",\"no\",\"no\",\"no\",\"no\",\"no\",\"no\",\"no\",\"no\",\"no\",\"no\",\"no\",\"no\",\"no\",\"no\",\"no\",\"no\",\"no\",\"no\",\"no\",\"no\",\"no\",\"no\",\"no\",\"no\",\"no\",\"no\",\"no\",\"no\",\"no\"],\"xaxis\":\"x\",\"yaxis\":\"y\",\"type\":\"histogram\"}],                        {\"template\":{\"data\":{\"histogram2dcontour\":[{\"type\":\"histogram2dcontour\",\"colorbar\":{\"outlinewidth\":0,\"ticks\":\"\"},\"colorscale\":[[0.0,\"#0d0887\"],[0.1111111111111111,\"#46039f\"],[0.2222222222222222,\"#7201a8\"],[0.3333333333333333,\"#9c179e\"],[0.4444444444444444,\"#bd3786\"],[0.5555555555555556,\"#d8576b\"],[0.6666666666666666,\"#ed7953\"],[0.7777777777777778,\"#fb9f3a\"],[0.8888888888888888,\"#fdca26\"],[1.0,\"#f0f921\"]]}],\"choropleth\":[{\"type\":\"choropleth\",\"colorbar\":{\"outlinewidth\":0,\"ticks\":\"\"}}],\"histogram2d\":[{\"type\":\"histogram2d\",\"colorbar\":{\"outlinewidth\":0,\"ticks\":\"\"},\"colorscale\":[[0.0,\"#0d0887\"],[0.1111111111111111,\"#46039f\"],[0.2222222222222222,\"#7201a8\"],[0.3333333333333333,\"#9c179e\"],[0.4444444444444444,\"#bd3786\"],[0.5555555555555556,\"#d8576b\"],[0.6666666666666666,\"#ed7953\"],[0.7777777777777778,\"#fb9f3a\"],[0.8888888888888888,\"#fdca26\"],[1.0,\"#f0f921\"]]}],\"heatmap\":[{\"type\":\"heatmap\",\"colorbar\":{\"outlinewidth\":0,\"ticks\":\"\"},\"colorscale\":[[0.0,\"#0d0887\"],[0.1111111111111111,\"#46039f\"],[0.2222222222222222,\"#7201a8\"],[0.3333333333333333,\"#9c179e\"],[0.4444444444444444,\"#bd3786\"],[0.5555555555555556,\"#d8576b\"],[0.6666666666666666,\"#ed7953\"],[0.7777777777777778,\"#fb9f3a\"],[0.8888888888888888,\"#fdca26\"],[1.0,\"#f0f921\"]]}],\"heatmapgl\":[{\"type\":\"heatmapgl\",\"colorbar\":{\"outlinewidth\":0,\"ticks\":\"\"},\"colorscale\":[[0.0,\"#0d0887\"],[0.1111111111111111,\"#46039f\"],[0.2222222222222222,\"#7201a8\"],[0.3333333333333333,\"#9c179e\"],[0.4444444444444444,\"#bd3786\"],[0.5555555555555556,\"#d8576b\"],[0.6666666666666666,\"#ed7953\"],[0.7777777777777778,\"#fb9f3a\"],[0.8888888888888888,\"#fdca26\"],[1.0,\"#f0f921\"]]}],\"contourcarpet\":[{\"type\":\"contourcarpet\",\"colorbar\":{\"outlinewidth\":0,\"ticks\":\"\"}}],\"contour\":[{\"type\":\"contour\",\"colorbar\":{\"outlinewidth\":0,\"ticks\":\"\"},\"colorscale\":[[0.0,\"#0d0887\"],[0.1111111111111111,\"#46039f\"],[0.2222222222222222,\"#7201a8\"],[0.3333333333333333,\"#9c179e\"],[0.4444444444444444,\"#bd3786\"],[0.5555555555555556,\"#d8576b\"],[0.6666666666666666,\"#ed7953\"],[0.7777777777777778,\"#fb9f3a\"],[0.8888888888888888,\"#fdca26\"],[1.0,\"#f0f921\"]]}],\"surface\":[{\"type\":\"surface\",\"colorbar\":{\"outlinewidth\":0,\"ticks\":\"\"},\"colorscale\":[[0.0,\"#0d0887\"],[0.1111111111111111,\"#46039f\"],[0.2222222222222222,\"#7201a8\"],[0.3333333333333333,\"#9c179e\"],[0.4444444444444444,\"#bd3786\"],[0.5555555555555556,\"#d8576b\"],[0.6666666666666666,\"#ed7953\"],[0.7777777777777778,\"#fb9f3a\"],[0.8888888888888888,\"#fdca26\"],[1.0,\"#f0f921\"]]}],\"mesh3d\":[{\"type\":\"mesh3d\",\"colorbar\":{\"outlinewidth\":0,\"ticks\":\"\"}}],\"scatter\":[{\"fillpattern\":{\"fillmode\":\"overlay\",\"size\":10,\"solidity\":0.2},\"type\":\"scatter\"}],\"parcoords\":[{\"type\":\"parcoords\",\"line\":{\"colorbar\":{\"outlinewidth\":0,\"ticks\":\"\"}}}],\"scatterpolargl\":[{\"type\":\"scatterpolargl\",\"marker\":{\"colorbar\":{\"outlinewidth\":0,\"ticks\":\"\"}}}],\"bar\":[{\"error_x\":{\"color\":\"#2a3f5f\"},\"error_y\":{\"color\":\"#2a3f5f\"},\"marker\":{\"line\":{\"color\":\"#E5ECF6\",\"width\":0.5},\"pattern\":{\"fillmode\":\"overlay\",\"size\":10,\"solidity\":0.2}},\"type\":\"bar\"}],\"scattergeo\":[{\"type\":\"scattergeo\",\"marker\":{\"colorbar\":{\"outlinewidth\":0,\"ticks\":\"\"}}}],\"scatterpolar\":[{\"type\":\"scatterpolar\",\"marker\":{\"colorbar\":{\"outlinewidth\":0,\"ticks\":\"\"}}}],\"histogram\":[{\"marker\":{\"pattern\":{\"fillmode\":\"overlay\",\"size\":10,\"solidity\":0.2}},\"type\":\"histogram\"}],\"scattergl\":[{\"type\":\"scattergl\",\"marker\":{\"colorbar\":{\"outlinewidth\":0,\"ticks\":\"\"}}}],\"scatter3d\":[{\"type\":\"scatter3d\",\"line\":{\"colorbar\":{\"outlinewidth\":0,\"ticks\":\"\"}},\"marker\":{\"colorbar\":{\"outlinewidth\":0,\"ticks\":\"\"}}}],\"scattermapbox\":[{\"type\":\"scattermapbox\",\"marker\":{\"colorbar\":{\"outlinewidth\":0,\"ticks\":\"\"}}}],\"scatterternary\":[{\"type\":\"scatterternary\",\"marker\":{\"colorbar\":{\"outlinewidth\":0,\"ticks\":\"\"}}}],\"scattercarpet\":[{\"type\":\"scattercarpet\",\"marker\":{\"colorbar\":{\"outlinewidth\":0,\"ticks\":\"\"}}}],\"carpet\":[{\"aaxis\":{\"endlinecolor\":\"#2a3f5f\",\"gridcolor\":\"white\",\"linecolor\":\"white\",\"minorgridcolor\":\"white\",\"startlinecolor\":\"#2a3f5f\"},\"baxis\":{\"endlinecolor\":\"#2a3f5f\",\"gridcolor\":\"white\",\"linecolor\":\"white\",\"minorgridcolor\":\"white\",\"startlinecolor\":\"#2a3f5f\"},\"type\":\"carpet\"}],\"table\":[{\"cells\":{\"fill\":{\"color\":\"#EBF0F8\"},\"line\":{\"color\":\"white\"}},\"header\":{\"fill\":{\"color\":\"#C8D4E3\"},\"line\":{\"color\":\"white\"}},\"type\":\"table\"}],\"barpolar\":[{\"marker\":{\"line\":{\"color\":\"#E5ECF6\",\"width\":0.5},\"pattern\":{\"fillmode\":\"overlay\",\"size\":10,\"solidity\":0.2}},\"type\":\"barpolar\"}],\"pie\":[{\"automargin\":true,\"type\":\"pie\"}]},\"layout\":{\"autotypenumbers\":\"strict\",\"colorway\":[\"#636efa\",\"#EF553B\",\"#00cc96\",\"#ab63fa\",\"#FFA15A\",\"#19d3f3\",\"#FF6692\",\"#B6E880\",\"#FF97FF\",\"#FECB52\"],\"font\":{\"color\":\"#2a3f5f\"},\"hovermode\":\"closest\",\"hoverlabel\":{\"align\":\"left\"},\"paper_bgcolor\":\"white\",\"plot_bgcolor\":\"#E5ECF6\",\"polar\":{\"bgcolor\":\"#E5ECF6\",\"angularaxis\":{\"gridcolor\":\"white\",\"linecolor\":\"white\",\"ticks\":\"\"},\"radialaxis\":{\"gridcolor\":\"white\",\"linecolor\":\"white\",\"ticks\":\"\"}},\"ternary\":{\"bgcolor\":\"#E5ECF6\",\"aaxis\":{\"gridcolor\":\"white\",\"linecolor\":\"white\",\"ticks\":\"\"},\"baxis\":{\"gridcolor\":\"white\",\"linecolor\":\"white\",\"ticks\":\"\"},\"caxis\":{\"gridcolor\":\"white\",\"linecolor\":\"white\",\"ticks\":\"\"}},\"coloraxis\":{\"colorbar\":{\"outlinewidth\":0,\"ticks\":\"\"}},\"colorscale\":{\"sequential\":[[0.0,\"#0d0887\"],[0.1111111111111111,\"#46039f\"],[0.2222222222222222,\"#7201a8\"],[0.3333333333333333,\"#9c179e\"],[0.4444444444444444,\"#bd3786\"],[0.5555555555555556,\"#d8576b\"],[0.6666666666666666,\"#ed7953\"],[0.7777777777777778,\"#fb9f3a\"],[0.8888888888888888,\"#fdca26\"],[1.0,\"#f0f921\"]],\"sequentialminus\":[[0.0,\"#0d0887\"],[0.1111111111111111,\"#46039f\"],[0.2222222222222222,\"#7201a8\"],[0.3333333333333333,\"#9c179e\"],[0.4444444444444444,\"#bd3786\"],[0.5555555555555556,\"#d8576b\"],[0.6666666666666666,\"#ed7953\"],[0.7777777777777778,\"#fb9f3a\"],[0.8888888888888888,\"#fdca26\"],[1.0,\"#f0f921\"]],\"diverging\":[[0,\"#8e0152\"],[0.1,\"#c51b7d\"],[0.2,\"#de77ae\"],[0.3,\"#f1b6da\"],[0.4,\"#fde0ef\"],[0.5,\"#f7f7f7\"],[0.6,\"#e6f5d0\"],[0.7,\"#b8e186\"],[0.8,\"#7fbc41\"],[0.9,\"#4d9221\"],[1,\"#276419\"]]},\"xaxis\":{\"gridcolor\":\"white\",\"linecolor\":\"white\",\"ticks\":\"\",\"title\":{\"standoff\":15},\"zerolinecolor\":\"white\",\"automargin\":true,\"zerolinewidth\":2},\"yaxis\":{\"gridcolor\":\"white\",\"linecolor\":\"white\",\"ticks\":\"\",\"title\":{\"standoff\":15},\"zerolinecolor\":\"white\",\"automargin\":true,\"zerolinewidth\":2},\"scene\":{\"xaxis\":{\"backgroundcolor\":\"#E5ECF6\",\"gridcolor\":\"white\",\"linecolor\":\"white\",\"showbackground\":true,\"ticks\":\"\",\"zerolinecolor\":\"white\",\"gridwidth\":2},\"yaxis\":{\"backgroundcolor\":\"#E5ECF6\",\"gridcolor\":\"white\",\"linecolor\":\"white\",\"showbackground\":true,\"ticks\":\"\",\"zerolinecolor\":\"white\",\"gridwidth\":2},\"zaxis\":{\"backgroundcolor\":\"#E5ECF6\",\"gridcolor\":\"white\",\"linecolor\":\"white\",\"showbackground\":true,\"ticks\":\"\",\"zerolinecolor\":\"white\",\"gridwidth\":2}},\"shapedefaults\":{\"line\":{\"color\":\"#2a3f5f\"}},\"annotationdefaults\":{\"arrowcolor\":\"#2a3f5f\",\"arrowhead\":0,\"arrowwidth\":1},\"geo\":{\"bgcolor\":\"white\",\"landcolor\":\"#E5ECF6\",\"subunitcolor\":\"white\",\"showland\":true,\"showlakes\":true,\"lakecolor\":\"white\"},\"title\":{\"x\":0.05},\"mapbox\":{\"style\":\"light\"}}},\"xaxis\":{\"anchor\":\"y\",\"domain\":[0.0,1.0],\"title\":{\"text\":\"default\"}},\"yaxis\":{\"anchor\":\"x\",\"domain\":[0.0,1.0],\"title\":{\"text\":\"count\"}},\"legend\":{\"title\":{\"text\":\"adherencia_inversion\"},\"tracegroupgap\":0},\"margin\":{\"t\":60},\"barmode\":\"group\"},                        {\"responsive\": true}                    ).then(function(){\n",
              "                            \n",
              "var gd = document.getElementById('13177200-4228-4bb6-b0f5-ac9e1da86d86');\n",
              "var x = new MutationObserver(function (mutations, observer) {{\n",
              "        var display = window.getComputedStyle(gd).display;\n",
              "        if (!display || display === 'none') {{\n",
              "            console.log([gd, 'removed!']);\n",
              "            Plotly.purge(gd);\n",
              "            observer.disconnect();\n",
              "        }}\n",
              "}});\n",
              "\n",
              "// Listen for the removal of the full notebook cells\n",
              "var notebookContainer = gd.closest('#notebook-container');\n",
              "if (notebookContainer) {{\n",
              "    x.observe(notebookContainer, {childList: true});\n",
              "}}\n",
              "\n",
              "// Listen for the clearing of the current output cell\n",
              "var outputEl = gd.closest('.output');\n",
              "if (outputEl) {{\n",
              "    x.observe(outputEl, {childList: true});\n",
              "}}\n",
              "\n",
              "                        })                };                            </script>        </div>\n",
              "</body>\n",
              "</html>"
            ]
          },
          "metadata": {}
        }
      ]
    },
    {
      "cell_type": "code",
      "source": [
        "px.histogram(datos, x='prestatario',color='adherencia_inversion',text_auto=True,barmode='group' )"
      ],
      "metadata": {
        "colab": {
          "base_uri": "https://localhost:8080/",
          "height": 542
        },
        "id": "BO1q7lJaCr_Z",
        "outputId": "c2195558-a20c-4e3c-893d-90622ce6ccf0"
      },
      "execution_count": 16,
      "outputs": [
        {
          "output_type": "display_data",
          "data": {
            "text/html": [
              "<html>\n",
              "<head><meta charset=\"utf-8\" /></head>\n",
              "<body>\n",
              "    <div>            <script src=\"https://cdnjs.cloudflare.com/ajax/libs/mathjax/2.7.5/MathJax.js?config=TeX-AMS-MML_SVG\"></script><script type=\"text/javascript\">if (window.MathJax && window.MathJax.Hub && window.MathJax.Hub.Config) {window.MathJax.Hub.Config({SVG: {font: \"STIX-Web\"}});}</script>                <script type=\"text/javascript\">window.PlotlyConfig = {MathJaxConfig: 'local'};</script>\n",
              "        <script charset=\"utf-8\" src=\"https://cdn.plot.ly/plotly-2.35.2.min.js\"></script>                <div id=\"de8ca98e-8275-42f3-8463-3d5810f80b4f\" class=\"plotly-graph-div\" style=\"height:525px; width:100%;\"></div>            <script type=\"text/javascript\">                                    window.PLOTLYENV=window.PLOTLYENV || {};                                    if (document.getElementById(\"de8ca98e-8275-42f3-8463-3d5810f80b4f\")) {                    Plotly.newPlot(                        \"de8ca98e-8275-42f3-8463-3d5810f80b4f\",                        [{\"alignmentgroup\":\"True\",\"bingroup\":\"x\",\"hovertemplate\":\"adherencia_inversion=si\\u003cbr\\u003eprestatario=%{x}\\u003cbr\\u003ecount=%{y}\\u003cextra\\u003e\\u003c\\u002fextra\\u003e\",\"legendgroup\":\"si\",\"marker\":{\"color\":\"#636efa\",\"pattern\":{\"shape\":\"\"}},\"name\":\"si\",\"offsetgroup\":\"si\",\"orientation\":\"v\",\"showlegend\":true,\"texttemplate\":\"%{value}\",\"x\":[\"no\",\"no\",\"no\",\"no\",\"si\",\"no\",\"si\",\"no\",\"no\",\"no\",\"no\",\"no\",\"no\",\"no\",\"no\",\"no\",\"no\",\"si\",\"no\",\"no\",\"no\",\"no\",\"no\",\"no\",\"no\",\"no\",\"no\",\"no\",\"si\",\"no\",\"no\",\"no\",\"no\",\"no\",\"no\",\"no\",\"no\",\"no\",\"no\",\"no\",\"no\",\"no\",\"si\",\"no\",\"no\",\"no\",\"no\",\"no\",\"no\",\"no\",\"no\",\"no\",\"no\",\"no\",\"no\",\"no\",\"no\",\"no\",\"no\",\"si\",\"no\",\"no\",\"no\",\"no\",\"no\",\"no\",\"no\",\"no\",\"no\",\"no\",\"no\",\"si\",\"no\",\"no\",\"no\",\"no\",\"si\",\"no\",\"no\",\"no\",\"no\",\"no\",\"no\",\"no\",\"no\",\"no\",\"no\",\"no\",\"no\",\"no\",\"no\",\"no\",\"no\",\"no\",\"no\",\"no\",\"no\",\"no\",\"no\",\"no\",\"si\",\"no\",\"no\",\"no\",\"no\",\"no\",\"no\",\"no\",\"no\",\"no\",\"no\",\"no\",\"no\",\"no\",\"no\",\"no\",\"no\",\"no\",\"no\",\"no\",\"no\",\"no\",\"no\",\"no\",\"no\",\"no\",\"si\",\"no\",\"no\",\"no\",\"no\",\"no\",\"no\",\"no\",\"no\",\"si\",\"no\",\"no\",\"no\",\"no\",\"no\",\"no\",\"no\",\"no\",\"no\",\"no\",\"no\",\"si\",\"no\",\"no\",\"no\",\"no\",\"no\",\"no\",\"no\",\"no\",\"no\",\"no\",\"si\",\"no\",\"no\",\"no\",\"no\",\"no\",\"no\",\"no\",\"no\",\"no\",\"si\",\"no\",\"no\",\"si\",\"no\",\"si\",\"no\",\"no\",\"no\",\"no\",\"no\",\"no\",\"no\",\"no\",\"no\",\"no\",\"no\",\"no\",\"no\",\"no\",\"no\",\"no\",\"no\",\"no\",\"no\",\"no\",\"no\",\"no\",\"no\",\"no\",\"no\",\"no\",\"no\",\"no\",\"no\",\"no\",\"no\",\"no\",\"no\",\"no\",\"no\",\"no\",\"no\",\"no\",\"no\",\"no\",\"no\",\"no\",\"no\",\"si\",\"no\",\"no\",\"no\",\"no\",\"no\",\"no\",\"no\",\"no\",\"no\",\"no\",\"no\",\"no\",\"no\",\"si\",\"no\",\"no\",\"no\",\"no\",\"no\",\"no\",\"no\",\"no\",\"no\",\"no\",\"no\",\"no\",\"no\",\"no\",\"no\",\"no\",\"no\",\"no\",\"si\",\"no\",\"no\",\"si\",\"no\",\"no\",\"no\",\"no\",\"no\",\"no\",\"no\",\"no\",\"no\",\"no\",\"no\",\"no\",\"no\",\"si\",\"no\",\"no\",\"no\",\"no\",\"si\",\"si\",\"no\",\"no\",\"no\",\"no\",\"no\",\"no\",\"no\",\"no\",\"no\",\"no\",\"no\",\"no\",\"no\",\"no\",\"no\",\"no\",\"no\",\"no\",\"no\",\"no\",\"no\",\"no\",\"no\",\"no\",\"no\",\"no\",\"si\",\"no\",\"no\",\"no\",\"no\",\"no\",\"no\",\"no\",\"no\",\"no\",\"no\",\"si\",\"no\",\"no\",\"no\",\"no\",\"no\",\"no\",\"no\",\"no\",\"no\",\"no\",\"no\",\"no\",\"no\",\"no\",\"si\",\"no\",\"si\",\"no\",\"no\",\"no\",\"no\",\"si\",\"no\",\"no\",\"si\",\"no\",\"no\",\"no\",\"no\",\"no\",\"no\",\"no\",\"no\",\"no\",\"no\",\"no\",\"no\",\"no\",\"no\",\"no\",\"no\",\"no\",\"no\",\"no\",\"no\",\"no\",\"no\",\"no\",\"si\",\"no\",\"no\",\"si\",\"si\",\"no\",\"no\",\"no\",\"no\",\"no\",\"no\",\"no\",\"no\",\"no\",\"si\",\"no\",\"no\",\"no\",\"no\",\"no\",\"no\",\"no\",\"no\",\"no\",\"no\",\"no\",\"no\",\"no\",\"si\",\"no\",\"no\",\"no\",\"no\",\"no\",\"no\",\"no\",\"no\",\"no\",\"no\",\"no\",\"no\",\"no\",\"no\",\"no\",\"no\",\"no\",\"no\",\"si\",\"no\",\"no\",\"no\",\"no\",\"no\",\"no\",\"no\",\"si\",\"no\",\"no\",\"si\",\"no\",\"no\",\"no\",\"si\",\"no\",\"no\",\"no\",\"no\",\"no\",\"no\",\"no\",\"no\",\"no\",\"no\",\"no\",\"no\",\"no\",\"no\",\"no\",\"no\",\"no\",\"si\",\"no\",\"no\",\"no\",\"no\",\"no\",\"no\",\"no\",\"no\",\"no\",\"no\",\"no\",\"no\",\"no\",\"no\",\"no\",\"no\",\"no\",\"si\",\"no\",\"no\",\"no\",\"no\",\"no\",\"no\",\"no\",\"no\",\"no\",\"no\",\"no\",\"si\",\"no\",\"no\",\"no\",\"no\",\"no\",\"no\",\"no\",\"no\",\"no\",\"no\",\"no\",\"no\",\"no\",\"no\",\"no\",\"no\",\"no\",\"no\",\"no\",\"no\",\"si\",\"no\",\"no\",\"no\",\"no\",\"no\",\"no\",\"no\",\"si\",\"no\",\"no\"],\"xaxis\":\"x\",\"yaxis\":\"y\",\"type\":\"histogram\"},{\"alignmentgroup\":\"True\",\"bingroup\":\"x\",\"hovertemplate\":\"adherencia_inversion=no\\u003cbr\\u003eprestatario=%{x}\\u003cbr\\u003ecount=%{y}\\u003cextra\\u003e\\u003c\\u002fextra\\u003e\",\"legendgroup\":\"no\",\"marker\":{\"color\":\"#EF553B\",\"pattern\":{\"shape\":\"\"}},\"name\":\"no\",\"offsetgroup\":\"no\",\"orientation\":\"v\",\"showlegend\":true,\"texttemplate\":\"%{value}\",\"x\":[\"no\",\"no\",\"no\",\"no\",\"no\",\"no\",\"no\",\"no\",\"no\",\"no\",\"no\",\"no\",\"no\",\"no\",\"no\",\"no\",\"si\",\"si\",\"no\",\"no\",\"no\",\"no\",\"no\",\"no\",\"si\",\"no\",\"no\",\"no\",\"no\",\"no\",\"no\",\"si\",\"si\",\"no\",\"no\",\"no\",\"no\",\"no\",\"si\",\"no\",\"no\",\"no\",\"no\",\"no\",\"no\",\"no\",\"no\",\"no\",\"no\",\"si\",\"no\",\"no\",\"no\",\"si\",\"no\",\"si\",\"si\",\"no\",\"no\",\"si\",\"no\",\"no\",\"no\",\"no\",\"no\",\"si\",\"no\",\"no\",\"si\",\"si\",\"si\",\"no\",\"no\",\"no\",\"no\",\"no\",\"no\",\"no\",\"si\",\"no\",\"no\",\"no\",\"no\",\"no\",\"si\",\"no\",\"no\",\"no\",\"no\",\"no\",\"no\",\"no\",\"no\",\"no\",\"si\",\"no\",\"no\",\"no\",\"no\",\"no\",\"no\",\"no\",\"no\",\"no\",\"no\",\"no\",\"no\",\"no\",\"no\",\"no\",\"no\",\"no\",\"si\",\"no\",\"si\",\"no\",\"si\",\"no\",\"no\",\"no\",\"no\",\"no\",\"no\",\"no\",\"no\",\"no\",\"no\",\"no\",\"no\",\"si\",\"no\",\"si\",\"si\",\"no\",\"no\",\"no\",\"no\",\"si\",\"no\",\"no\",\"no\",\"no\",\"si\",\"no\",\"no\",\"no\",\"no\",\"no\",\"no\",\"no\",\"no\",\"no\",\"no\",\"no\",\"si\",\"no\",\"no\",\"no\",\"no\",\"no\",\"no\",\"no\",\"si\",\"no\",\"no\",\"no\",\"no\",\"no\",\"no\",\"no\",\"si\",\"no\",\"no\",\"no\",\"no\",\"no\",\"no\",\"no\",\"no\",\"no\",\"no\",\"no\",\"no\",\"no\",\"no\",\"no\",\"no\",\"no\",\"no\",\"no\",\"no\",\"no\",\"no\",\"no\",\"no\",\"no\",\"no\",\"no\",\"si\",\"no\",\"no\",\"si\",\"no\",\"si\",\"no\",\"no\",\"no\",\"no\",\"si\",\"no\",\"no\",\"si\",\"si\",\"no\",\"no\",\"no\",\"no\",\"no\",\"no\",\"no\",\"si\",\"no\",\"no\",\"no\",\"no\",\"no\",\"no\",\"no\",\"no\",\"no\",\"no\",\"no\",\"no\",\"si\",\"no\",\"no\",\"no\",\"no\",\"no\",\"no\",\"no\",\"no\",\"no\",\"no\",\"no\",\"no\",\"no\",\"si\",\"no\",\"no\",\"no\",\"no\",\"si\",\"no\",\"no\",\"no\",\"no\",\"no\",\"no\",\"no\",\"si\",\"no\",\"no\",\"no\",\"no\",\"no\",\"no\",\"no\",\"no\",\"no\",\"no\",\"no\",\"no\",\"no\",\"no\",\"no\",\"no\",\"no\",\"si\",\"no\",\"no\",\"no\",\"no\",\"no\",\"no\",\"no\",\"no\",\"no\",\"si\",\"no\",\"si\",\"no\",\"si\",\"si\",\"si\",\"no\",\"no\",\"no\",\"no\",\"no\",\"no\",\"no\",\"no\",\"si\",\"no\",\"si\",\"no\",\"no\",\"no\",\"no\",\"no\",\"no\",\"no\",\"no\",\"no\",\"no\",\"no\",\"no\",\"si\",\"no\",\"no\",\"si\",\"si\",\"no\",\"no\",\"no\",\"si\",\"no\",\"si\",\"no\",\"no\",\"no\",\"no\",\"no\",\"no\",\"no\",\"no\",\"no\",\"no\",\"no\",\"no\",\"no\",\"no\",\"si\",\"si\",\"si\",\"no\",\"no\",\"no\",\"no\",\"no\",\"no\",\"si\",\"no\",\"no\",\"si\",\"no\",\"si\",\"no\",\"no\",\"no\",\"no\",\"no\",\"no\",\"no\",\"no\",\"no\",\"no\",\"no\",\"si\",\"si\",\"no\",\"no\",\"no\",\"no\",\"no\",\"no\",\"no\",\"no\",\"si\",\"no\",\"no\",\"no\",\"no\",\"no\",\"si\",\"no\",\"si\",\"si\",\"no\",\"no\",\"no\",\"no\",\"si\",\"si\",\"no\",\"no\",\"no\",\"no\",\"no\",\"no\",\"no\",\"no\",\"no\",\"no\",\"no\",\"no\",\"no\",\"no\",\"no\",\"no\",\"si\",\"no\",\"no\",\"si\",\"no\",\"no\",\"no\",\"no\",\"no\",\"no\",\"no\",\"no\",\"no\",\"si\",\"no\",\"no\",\"no\",\"no\",\"no\",\"no\",\"no\",\"no\",\"no\",\"no\",\"si\",\"no\",\"no\",\"no\",\"no\",\"no\",\"no\",\"no\",\"no\",\"no\",\"no\",\"no\",\"no\",\"no\",\"no\",\"no\",\"no\",\"no\",\"no\",\"si\",\"no\",\"no\",\"si\",\"si\",\"no\",\"no\",\"no\",\"no\",\"no\",\"no\",\"no\",\"no\",\"si\",\"si\",\"no\",\"no\",\"no\",\"no\",\"si\",\"no\",\"si\",\"no\",\"si\",\"no\",\"si\",\"no\",\"si\",\"si\",\"no\",\"no\",\"no\",\"no\",\"no\",\"no\",\"si\",\"no\",\"si\",\"no\",\"si\",\"no\",\"no\",\"no\",\"no\",\"no\",\"no\",\"no\",\"no\",\"si\",\"no\",\"no\",\"no\",\"no\",\"no\",\"no\",\"no\",\"no\",\"si\",\"si\",\"no\",\"no\",\"no\",\"no\",\"no\",\"no\",\"no\",\"no\",\"no\",\"si\",\"no\",\"si\",\"no\",\"no\",\"si\",\"si\",\"no\",\"si\",\"no\",\"no\",\"no\",\"no\",\"no\",\"no\",\"no\",\"no\",\"no\",\"no\",\"no\",\"no\",\"no\",\"no\",\"no\",\"no\",\"no\",\"no\",\"no\",\"no\",\"no\",\"no\",\"si\",\"no\",\"si\",\"no\",\"no\",\"no\",\"si\",\"no\",\"no\",\"no\",\"no\",\"no\",\"no\",\"no\",\"si\",\"no\",\"no\",\"no\",\"no\",\"no\",\"no\",\"no\",\"no\",\"si\",\"si\",\"si\",\"no\",\"no\",\"no\",\"no\",\"no\",\"no\",\"no\",\"no\",\"no\",\"no\",\"no\",\"no\",\"no\",\"no\",\"no\",\"no\",\"no\",\"no\",\"no\",\"no\",\"no\",\"no\",\"no\",\"no\",\"si\",\"si\",\"no\",\"no\",\"no\",\"no\",\"no\",\"si\",\"no\",\"si\",\"no\",\"no\",\"si\",\"si\",\"no\",\"no\",\"no\",\"no\",\"no\",\"no\",\"no\",\"si\",\"si\",\"si\",\"no\",\"no\",\"no\",\"si\",\"no\",\"no\",\"no\",\"no\",\"no\",\"si\",\"no\",\"no\",\"no\",\"no\",\"no\",\"si\",\"no\",\"no\",\"no\",\"no\",\"no\",\"no\",\"no\",\"no\",\"no\",\"si\",\"no\",\"no\",\"no\",\"no\",\"no\",\"no\",\"no\",\"no\",\"no\",\"no\",\"no\",\"no\",\"no\",\"no\",\"no\",\"no\",\"no\",\"no\",\"no\",\"no\",\"no\",\"no\",\"no\",\"no\",\"no\",\"no\",\"no\",\"no\",\"no\",\"no\",\"no\",\"no\",\"si\",\"no\",\"no\",\"no\",\"no\",\"no\",\"no\",\"no\",\"no\",\"no\",\"no\",\"no\",\"no\",\"no\",\"si\",\"no\",\"no\",\"si\",\"no\",\"no\",\"no\",\"no\",\"no\",\"no\",\"no\",\"no\",\"no\",\"no\",\"no\",\"si\",\"no\",\"no\",\"no\",\"si\",\"no\",\"si\",\"no\",\"si\",\"no\",\"no\",\"no\",\"no\",\"no\",\"no\",\"no\",\"no\",\"si\",\"no\",\"si\",\"si\",\"no\",\"no\",\"no\",\"no\",\"no\",\"no\",\"no\",\"no\",\"no\",\"no\",\"no\",\"no\",\"no\",\"no\",\"no\",\"no\",\"no\",\"si\",\"si\",\"no\",\"no\",\"no\",\"no\",\"no\",\"no\",\"no\",\"no\",\"no\",\"no\",\"si\",\"si\"],\"xaxis\":\"x\",\"yaxis\":\"y\",\"type\":\"histogram\"}],                        {\"template\":{\"data\":{\"histogram2dcontour\":[{\"type\":\"histogram2dcontour\",\"colorbar\":{\"outlinewidth\":0,\"ticks\":\"\"},\"colorscale\":[[0.0,\"#0d0887\"],[0.1111111111111111,\"#46039f\"],[0.2222222222222222,\"#7201a8\"],[0.3333333333333333,\"#9c179e\"],[0.4444444444444444,\"#bd3786\"],[0.5555555555555556,\"#d8576b\"],[0.6666666666666666,\"#ed7953\"],[0.7777777777777778,\"#fb9f3a\"],[0.8888888888888888,\"#fdca26\"],[1.0,\"#f0f921\"]]}],\"choropleth\":[{\"type\":\"choropleth\",\"colorbar\":{\"outlinewidth\":0,\"ticks\":\"\"}}],\"histogram2d\":[{\"type\":\"histogram2d\",\"colorbar\":{\"outlinewidth\":0,\"ticks\":\"\"},\"colorscale\":[[0.0,\"#0d0887\"],[0.1111111111111111,\"#46039f\"],[0.2222222222222222,\"#7201a8\"],[0.3333333333333333,\"#9c179e\"],[0.4444444444444444,\"#bd3786\"],[0.5555555555555556,\"#d8576b\"],[0.6666666666666666,\"#ed7953\"],[0.7777777777777778,\"#fb9f3a\"],[0.8888888888888888,\"#fdca26\"],[1.0,\"#f0f921\"]]}],\"heatmap\":[{\"type\":\"heatmap\",\"colorbar\":{\"outlinewidth\":0,\"ticks\":\"\"},\"colorscale\":[[0.0,\"#0d0887\"],[0.1111111111111111,\"#46039f\"],[0.2222222222222222,\"#7201a8\"],[0.3333333333333333,\"#9c179e\"],[0.4444444444444444,\"#bd3786\"],[0.5555555555555556,\"#d8576b\"],[0.6666666666666666,\"#ed7953\"],[0.7777777777777778,\"#fb9f3a\"],[0.8888888888888888,\"#fdca26\"],[1.0,\"#f0f921\"]]}],\"heatmapgl\":[{\"type\":\"heatmapgl\",\"colorbar\":{\"outlinewidth\":0,\"ticks\":\"\"},\"colorscale\":[[0.0,\"#0d0887\"],[0.1111111111111111,\"#46039f\"],[0.2222222222222222,\"#7201a8\"],[0.3333333333333333,\"#9c179e\"],[0.4444444444444444,\"#bd3786\"],[0.5555555555555556,\"#d8576b\"],[0.6666666666666666,\"#ed7953\"],[0.7777777777777778,\"#fb9f3a\"],[0.8888888888888888,\"#fdca26\"],[1.0,\"#f0f921\"]]}],\"contourcarpet\":[{\"type\":\"contourcarpet\",\"colorbar\":{\"outlinewidth\":0,\"ticks\":\"\"}}],\"contour\":[{\"type\":\"contour\",\"colorbar\":{\"outlinewidth\":0,\"ticks\":\"\"},\"colorscale\":[[0.0,\"#0d0887\"],[0.1111111111111111,\"#46039f\"],[0.2222222222222222,\"#7201a8\"],[0.3333333333333333,\"#9c179e\"],[0.4444444444444444,\"#bd3786\"],[0.5555555555555556,\"#d8576b\"],[0.6666666666666666,\"#ed7953\"],[0.7777777777777778,\"#fb9f3a\"],[0.8888888888888888,\"#fdca26\"],[1.0,\"#f0f921\"]]}],\"surface\":[{\"type\":\"surface\",\"colorbar\":{\"outlinewidth\":0,\"ticks\":\"\"},\"colorscale\":[[0.0,\"#0d0887\"],[0.1111111111111111,\"#46039f\"],[0.2222222222222222,\"#7201a8\"],[0.3333333333333333,\"#9c179e\"],[0.4444444444444444,\"#bd3786\"],[0.5555555555555556,\"#d8576b\"],[0.6666666666666666,\"#ed7953\"],[0.7777777777777778,\"#fb9f3a\"],[0.8888888888888888,\"#fdca26\"],[1.0,\"#f0f921\"]]}],\"mesh3d\":[{\"type\":\"mesh3d\",\"colorbar\":{\"outlinewidth\":0,\"ticks\":\"\"}}],\"scatter\":[{\"fillpattern\":{\"fillmode\":\"overlay\",\"size\":10,\"solidity\":0.2},\"type\":\"scatter\"}],\"parcoords\":[{\"type\":\"parcoords\",\"line\":{\"colorbar\":{\"outlinewidth\":0,\"ticks\":\"\"}}}],\"scatterpolargl\":[{\"type\":\"scatterpolargl\",\"marker\":{\"colorbar\":{\"outlinewidth\":0,\"ticks\":\"\"}}}],\"bar\":[{\"error_x\":{\"color\":\"#2a3f5f\"},\"error_y\":{\"color\":\"#2a3f5f\"},\"marker\":{\"line\":{\"color\":\"#E5ECF6\",\"width\":0.5},\"pattern\":{\"fillmode\":\"overlay\",\"size\":10,\"solidity\":0.2}},\"type\":\"bar\"}],\"scattergeo\":[{\"type\":\"scattergeo\",\"marker\":{\"colorbar\":{\"outlinewidth\":0,\"ticks\":\"\"}}}],\"scatterpolar\":[{\"type\":\"scatterpolar\",\"marker\":{\"colorbar\":{\"outlinewidth\":0,\"ticks\":\"\"}}}],\"histogram\":[{\"marker\":{\"pattern\":{\"fillmode\":\"overlay\",\"size\":10,\"solidity\":0.2}},\"type\":\"histogram\"}],\"scattergl\":[{\"type\":\"scattergl\",\"marker\":{\"colorbar\":{\"outlinewidth\":0,\"ticks\":\"\"}}}],\"scatter3d\":[{\"type\":\"scatter3d\",\"line\":{\"colorbar\":{\"outlinewidth\":0,\"ticks\":\"\"}},\"marker\":{\"colorbar\":{\"outlinewidth\":0,\"ticks\":\"\"}}}],\"scattermapbox\":[{\"type\":\"scattermapbox\",\"marker\":{\"colorbar\":{\"outlinewidth\":0,\"ticks\":\"\"}}}],\"scatterternary\":[{\"type\":\"scatterternary\",\"marker\":{\"colorbar\":{\"outlinewidth\":0,\"ticks\":\"\"}}}],\"scattercarpet\":[{\"type\":\"scattercarpet\",\"marker\":{\"colorbar\":{\"outlinewidth\":0,\"ticks\":\"\"}}}],\"carpet\":[{\"aaxis\":{\"endlinecolor\":\"#2a3f5f\",\"gridcolor\":\"white\",\"linecolor\":\"white\",\"minorgridcolor\":\"white\",\"startlinecolor\":\"#2a3f5f\"},\"baxis\":{\"endlinecolor\":\"#2a3f5f\",\"gridcolor\":\"white\",\"linecolor\":\"white\",\"minorgridcolor\":\"white\",\"startlinecolor\":\"#2a3f5f\"},\"type\":\"carpet\"}],\"table\":[{\"cells\":{\"fill\":{\"color\":\"#EBF0F8\"},\"line\":{\"color\":\"white\"}},\"header\":{\"fill\":{\"color\":\"#C8D4E3\"},\"line\":{\"color\":\"white\"}},\"type\":\"table\"}],\"barpolar\":[{\"marker\":{\"line\":{\"color\":\"#E5ECF6\",\"width\":0.5},\"pattern\":{\"fillmode\":\"overlay\",\"size\":10,\"solidity\":0.2}},\"type\":\"barpolar\"}],\"pie\":[{\"automargin\":true,\"type\":\"pie\"}]},\"layout\":{\"autotypenumbers\":\"strict\",\"colorway\":[\"#636efa\",\"#EF553B\",\"#00cc96\",\"#ab63fa\",\"#FFA15A\",\"#19d3f3\",\"#FF6692\",\"#B6E880\",\"#FF97FF\",\"#FECB52\"],\"font\":{\"color\":\"#2a3f5f\"},\"hovermode\":\"closest\",\"hoverlabel\":{\"align\":\"left\"},\"paper_bgcolor\":\"white\",\"plot_bgcolor\":\"#E5ECF6\",\"polar\":{\"bgcolor\":\"#E5ECF6\",\"angularaxis\":{\"gridcolor\":\"white\",\"linecolor\":\"white\",\"ticks\":\"\"},\"radialaxis\":{\"gridcolor\":\"white\",\"linecolor\":\"white\",\"ticks\":\"\"}},\"ternary\":{\"bgcolor\":\"#E5ECF6\",\"aaxis\":{\"gridcolor\":\"white\",\"linecolor\":\"white\",\"ticks\":\"\"},\"baxis\":{\"gridcolor\":\"white\",\"linecolor\":\"white\",\"ticks\":\"\"},\"caxis\":{\"gridcolor\":\"white\",\"linecolor\":\"white\",\"ticks\":\"\"}},\"coloraxis\":{\"colorbar\":{\"outlinewidth\":0,\"ticks\":\"\"}},\"colorscale\":{\"sequential\":[[0.0,\"#0d0887\"],[0.1111111111111111,\"#46039f\"],[0.2222222222222222,\"#7201a8\"],[0.3333333333333333,\"#9c179e\"],[0.4444444444444444,\"#bd3786\"],[0.5555555555555556,\"#d8576b\"],[0.6666666666666666,\"#ed7953\"],[0.7777777777777778,\"#fb9f3a\"],[0.8888888888888888,\"#fdca26\"],[1.0,\"#f0f921\"]],\"sequentialminus\":[[0.0,\"#0d0887\"],[0.1111111111111111,\"#46039f\"],[0.2222222222222222,\"#7201a8\"],[0.3333333333333333,\"#9c179e\"],[0.4444444444444444,\"#bd3786\"],[0.5555555555555556,\"#d8576b\"],[0.6666666666666666,\"#ed7953\"],[0.7777777777777778,\"#fb9f3a\"],[0.8888888888888888,\"#fdca26\"],[1.0,\"#f0f921\"]],\"diverging\":[[0,\"#8e0152\"],[0.1,\"#c51b7d\"],[0.2,\"#de77ae\"],[0.3,\"#f1b6da\"],[0.4,\"#fde0ef\"],[0.5,\"#f7f7f7\"],[0.6,\"#e6f5d0\"],[0.7,\"#b8e186\"],[0.8,\"#7fbc41\"],[0.9,\"#4d9221\"],[1,\"#276419\"]]},\"xaxis\":{\"gridcolor\":\"white\",\"linecolor\":\"white\",\"ticks\":\"\",\"title\":{\"standoff\":15},\"zerolinecolor\":\"white\",\"automargin\":true,\"zerolinewidth\":2},\"yaxis\":{\"gridcolor\":\"white\",\"linecolor\":\"white\",\"ticks\":\"\",\"title\":{\"standoff\":15},\"zerolinecolor\":\"white\",\"automargin\":true,\"zerolinewidth\":2},\"scene\":{\"xaxis\":{\"backgroundcolor\":\"#E5ECF6\",\"gridcolor\":\"white\",\"linecolor\":\"white\",\"showbackground\":true,\"ticks\":\"\",\"zerolinecolor\":\"white\",\"gridwidth\":2},\"yaxis\":{\"backgroundcolor\":\"#E5ECF6\",\"gridcolor\":\"white\",\"linecolor\":\"white\",\"showbackground\":true,\"ticks\":\"\",\"zerolinecolor\":\"white\",\"gridwidth\":2},\"zaxis\":{\"backgroundcolor\":\"#E5ECF6\",\"gridcolor\":\"white\",\"linecolor\":\"white\",\"showbackground\":true,\"ticks\":\"\",\"zerolinecolor\":\"white\",\"gridwidth\":2}},\"shapedefaults\":{\"line\":{\"color\":\"#2a3f5f\"}},\"annotationdefaults\":{\"arrowcolor\":\"#2a3f5f\",\"arrowhead\":0,\"arrowwidth\":1},\"geo\":{\"bgcolor\":\"white\",\"landcolor\":\"#E5ECF6\",\"subunitcolor\":\"white\",\"showland\":true,\"showlakes\":true,\"lakecolor\":\"white\"},\"title\":{\"x\":0.05},\"mapbox\":{\"style\":\"light\"}}},\"xaxis\":{\"anchor\":\"y\",\"domain\":[0.0,1.0],\"title\":{\"text\":\"prestatario\"}},\"yaxis\":{\"anchor\":\"x\",\"domain\":[0.0,1.0],\"title\":{\"text\":\"count\"}},\"legend\":{\"title\":{\"text\":\"adherencia_inversion\"},\"tracegroupgap\":0},\"margin\":{\"t\":60},\"barmode\":\"group\"},                        {\"responsive\": true}                    ).then(function(){\n",
              "                            \n",
              "var gd = document.getElementById('de8ca98e-8275-42f3-8463-3d5810f80b4f');\n",
              "var x = new MutationObserver(function (mutations, observer) {{\n",
              "        var display = window.getComputedStyle(gd).display;\n",
              "        if (!display || display === 'none') {{\n",
              "            console.log([gd, 'removed!']);\n",
              "            Plotly.purge(gd);\n",
              "            observer.disconnect();\n",
              "        }}\n",
              "}});\n",
              "\n",
              "// Listen for the removal of the full notebook cells\n",
              "var notebookContainer = gd.closest('#notebook-container');\n",
              "if (notebookContainer) {{\n",
              "    x.observe(notebookContainer, {childList: true});\n",
              "}}\n",
              "\n",
              "// Listen for the clearing of the current output cell\n",
              "var outputEl = gd.closest('.output');\n",
              "if (outputEl) {{\n",
              "    x.observe(outputEl, {childList: true});\n",
              "}}\n",
              "\n",
              "                        })                };                            </script>        </div>\n",
              "</body>\n",
              "</html>"
            ]
          },
          "metadata": {}
        }
      ]
    },
    {
      "cell_type": "markdown",
      "source": [
        "### Variables numéricas"
      ],
      "metadata": {
        "id": "k9-qL8BEMH23"
      }
    },
    {
      "cell_type": "code",
      "source": [
        "px.box(datos, x='edad', color='adherencia_inversion')"
      ],
      "metadata": {
        "id": "VepkUB3FBXA6",
        "colab": {
          "base_uri": "https://localhost:8080/",
          "height": 542
        },
        "outputId": "8a28416b-4b59-45b6-a026-c36dd8a2947a"
      },
      "execution_count": 17,
      "outputs": [
        {
          "output_type": "display_data",
          "data": {
            "text/html": [
              "<html>\n",
              "<head><meta charset=\"utf-8\" /></head>\n",
              "<body>\n",
              "    <div>            <script src=\"https://cdnjs.cloudflare.com/ajax/libs/mathjax/2.7.5/MathJax.js?config=TeX-AMS-MML_SVG\"></script><script type=\"text/javascript\">if (window.MathJax && window.MathJax.Hub && window.MathJax.Hub.Config) {window.MathJax.Hub.Config({SVG: {font: \"STIX-Web\"}});}</script>                <script type=\"text/javascript\">window.PlotlyConfig = {MathJaxConfig: 'local'};</script>\n",
              "        <script charset=\"utf-8\" src=\"https://cdn.plot.ly/plotly-2.35.2.min.js\"></script>                <div id=\"6fa3f5ce-5f05-48b7-8876-25d1a6993531\" class=\"plotly-graph-div\" style=\"height:525px; width:100%;\"></div>            <script type=\"text/javascript\">                                    window.PLOTLYENV=window.PLOTLYENV || {};                                    if (document.getElementById(\"6fa3f5ce-5f05-48b7-8876-25d1a6993531\")) {                    Plotly.newPlot(                        \"6fa3f5ce-5f05-48b7-8876-25d1a6993531\",                        [{\"alignmentgroup\":\"True\",\"hovertemplate\":\"adherencia_inversion=si\\u003cbr\\u003eedad=%{x}\\u003cextra\\u003e\\u003c\\u002fextra\\u003e\",\"legendgroup\":\"si\",\"marker\":{\"color\":\"#636efa\"},\"name\":\"si\",\"notched\":false,\"offsetgroup\":\"si\",\"orientation\":\"h\",\"showlegend\":true,\"x\":[45,42,58,50,24,34,33,33,80,46,30,47,30,47,32,71,31,30,52,51,34,59,35,22,28,60,43,35,54,32,49,43,20,49,48,49,49,32,38,31,27,32,34,33,34,32,68,60,32,21,33,39,54,42,45,31,83,34,47,48,29,33,31,58,37,28,49,57,34,30,78,29,59,48,49,75,46,79,28,43,26,66,61,72,53,58,52,62,37,55,33,35,40,25,49,37,74,35,33,39,47,34,51,46,36,43,61,31,55,30,49,32,36,34,49,38,45,53,52,43,61,31,59,30,35,38,53,47,22,35,27,63,28,47,27,29,46,44,32,38,71,73,41,38,25,46,77,30,48,25,32,53,51,37,28,49,19,50,41,80,52,31,46,28,41,27,46,44,41,28,44,57,43,30,37,36,58,54,32,44,24,55,53,35,34,31,32,59,33,30,46,52,45,55,32,33,56,34,43,32,41,42,53,54,23,32,75,37,39,36,36,53,35,32,49,77,41,45,67,46,48,27,54,63,27,32,48,27,33,49,41,35,87,32,53,31,30,56,49,36,28,36,33,32,44,49,35,61,36,46,42,47,48,60,46,66,55,30,34,40,40,59,50,39,37,47,43,38,38,35,25,25,31,50,47,29,59,46,75,37,63,32,34,48,27,33,55,60,46,33,30,45,23,59,44,29,28,34,29,34,50,43,47,71,34,28,32,53,49,33,64,25,60,22,32,34,31,29,31,51,61,83,29,44,38,29,46,44,41,43,39,59,37,40,38,44,42,45,54,28,36,59,59,36,26,26,35,64,38,59,42,60,51,62,27,34,26,53,36,37,30,32,40,43,27,45,19,25,44,38,27,37,35,41,28,56,36,29,33,55,28,84,32,73,77,52,62,56,41,41,31,56,39,40,28,36,42,31,25,35,59,30,53,32,38,34,26,50,38,38,34,69,47,35,39,34,38,29,54,55,48,34,25,52,40,36,24,33,34,68,27,47,39,36,41,34,35,57,32,28,55,41,35,60,28,35,27,74,39,34,56,26,29,33,37,42,61,50,29,36,32,31,53,45,37,53,40,27,36,34,31,55,61,45,45,49,55,41,47,42,37,32,25,38,39,79,26,33,47,24,53,40,30,38,32,37,36,52,35,30,42,29],\"x0\":\" \",\"xaxis\":\"x\",\"y0\":\" \",\"yaxis\":\"y\",\"type\":\"box\"},{\"alignmentgroup\":\"True\",\"hovertemplate\":\"adherencia_inversion=no\\u003cbr\\u003eedad=%{x}\\u003cextra\\u003e\\u003c\\u002fextra\\u003e\",\"legendgroup\":\"no\",\"marker\":{\"color\":\"#EF553B\"},\"name\":\"no\",\"notched\":false,\"offsetgroup\":\"no\",\"orientation\":\"h\",\"showlegend\":true,\"x\":[23,53,30,39,30,39,34,38,48,39,53,38,24,44,53,41,27,58,51,47,34,40,44,55,38,38,54,43,31,36,33,38,57,31,34,29,38,41,34,37,50,55,45,35,49,36,41,48,49,55,34,57,38,40,45,61,57,76,33,32,34,37,34,31,47,31,35,31,35,40,38,49,40,34,50,40,43,39,45,26,42,33,75,30,32,59,38,52,36,50,27,45,40,48,36,49,36,39,33,30,32,29,36,41,38,36,42,30,31,30,27,37,34,59,35,42,28,55,50,33,32,53,60,34,54,42,36,33,67,34,70,35,34,61,47,40,28,33,52,43,30,59,39,32,42,57,33,37,44,45,41,26,51,46,45,46,41,29,41,59,34,30,42,33,30,39,59,39,33,42,52,33,36,40,45,60,36,53,34,49,43,46,39,41,44,41,27,31,25,32,56,30,29,31,37,58,57,33,51,42,54,28,35,46,26,59,50,36,52,32,53,52,41,40,34,49,34,28,32,34,36,56,42,29,45,37,46,40,42,34,55,33,51,42,30,50,41,32,32,53,36,33,33,58,49,43,80,55,30,27,36,35,36,32,39,50,36,52,37,47,39,41,23,36,58,52,23,34,47,50,38,31,40,40,48,39,34,41,55,59,40,28,36,41,27,33,47,44,31,28,34,31,31,34,33,37,58,37,28,34,34,25,35,39,58,26,32,31,31,45,37,83,51,52,29,30,35,30,26,45,41,22,41,33,41,34,33,29,49,51,40,42,31,31,31,46,34,38,27,56,33,37,30,42,52,49,47,46,51,42,59,27,60,38,28,31,38,55,58,53,30,49,25,46,28,49,43,56,38,33,32,27,29,59,28,32,44,63,51,44,38,40,33,36,35,56,32,35,57,31,39,57,44,38,60,38,37,34,49,40,46,29,31,23,48,38,33,42,48,48,45,39,34,59,40,31,33,57,58,36,50,34,45,36,53,36,28,30,33,43,38,32,30,45,30,53,43,49,35,36,45,30,40,40,34,36,42,52,42,28,39,41,46,40,33,54,51,33,56,43,29,43,58,29,57,54,42,34,31,30,31,47,44,30,33,57,37,36,51,43,59,54,32,45,37,69,43,31,58,56,34,47,31,39,38,46,57,27,58,26,58,37,41,49,37,43,34,53,33,36,26,41,37,33,36,38,33,48,33,27,33,33,33,59,33,36,46,26,40,46,26,39,36,39,39,35,31,45,48,47,33,41,31,50,55,37,36,36,60,32,35,32,39,50,52,35,35,43,55,26,31,30,38,48,43,35,37,58,41,49,49,49,53,48,28,36,42,36,37,28,42,69,45,46,40,48,52,52,32,32,31,34,32,56,34,39,44,39,42,30,54,38,35,30,32,36,40,41,31,58,55,39,38,34,42,35,29,54,48,32,46,51,56,35,42,46,58,44,54,53,41,42,25,70,56,35,38,50,30,30,39,36,34,53,27,42,51,57,59,39,38,45,41,45,52,38,40,29,35,43,34,41,76,30,32,39,38,59,47,44,52,51,32,33,56,35,59,58,28,56,42,58,32,33,55,33,48,61,49,36,51,30,27,33,28,34,45,50,54,56,25,47,51,28,33,39,36,37,35,26,41,40,36,35,31,30,47,47,56,33,31,30,30,51,37,34,54,41,35,49,37,49,58,31,42,33,51,36,57,34,42,30,43,42,34,46,33,27,46,31,66,57,38,45,28,33,35,32,58,34,26,37,40,26,38,56],\"x0\":\" \",\"xaxis\":\"x\",\"y0\":\" \",\"yaxis\":\"y\",\"type\":\"box\"}],                        {\"template\":{\"data\":{\"histogram2dcontour\":[{\"type\":\"histogram2dcontour\",\"colorbar\":{\"outlinewidth\":0,\"ticks\":\"\"},\"colorscale\":[[0.0,\"#0d0887\"],[0.1111111111111111,\"#46039f\"],[0.2222222222222222,\"#7201a8\"],[0.3333333333333333,\"#9c179e\"],[0.4444444444444444,\"#bd3786\"],[0.5555555555555556,\"#d8576b\"],[0.6666666666666666,\"#ed7953\"],[0.7777777777777778,\"#fb9f3a\"],[0.8888888888888888,\"#fdca26\"],[1.0,\"#f0f921\"]]}],\"choropleth\":[{\"type\":\"choropleth\",\"colorbar\":{\"outlinewidth\":0,\"ticks\":\"\"}}],\"histogram2d\":[{\"type\":\"histogram2d\",\"colorbar\":{\"outlinewidth\":0,\"ticks\":\"\"},\"colorscale\":[[0.0,\"#0d0887\"],[0.1111111111111111,\"#46039f\"],[0.2222222222222222,\"#7201a8\"],[0.3333333333333333,\"#9c179e\"],[0.4444444444444444,\"#bd3786\"],[0.5555555555555556,\"#d8576b\"],[0.6666666666666666,\"#ed7953\"],[0.7777777777777778,\"#fb9f3a\"],[0.8888888888888888,\"#fdca26\"],[1.0,\"#f0f921\"]]}],\"heatmap\":[{\"type\":\"heatmap\",\"colorbar\":{\"outlinewidth\":0,\"ticks\":\"\"},\"colorscale\":[[0.0,\"#0d0887\"],[0.1111111111111111,\"#46039f\"],[0.2222222222222222,\"#7201a8\"],[0.3333333333333333,\"#9c179e\"],[0.4444444444444444,\"#bd3786\"],[0.5555555555555556,\"#d8576b\"],[0.6666666666666666,\"#ed7953\"],[0.7777777777777778,\"#fb9f3a\"],[0.8888888888888888,\"#fdca26\"],[1.0,\"#f0f921\"]]}],\"heatmapgl\":[{\"type\":\"heatmapgl\",\"colorbar\":{\"outlinewidth\":0,\"ticks\":\"\"},\"colorscale\":[[0.0,\"#0d0887\"],[0.1111111111111111,\"#46039f\"],[0.2222222222222222,\"#7201a8\"],[0.3333333333333333,\"#9c179e\"],[0.4444444444444444,\"#bd3786\"],[0.5555555555555556,\"#d8576b\"],[0.6666666666666666,\"#ed7953\"],[0.7777777777777778,\"#fb9f3a\"],[0.8888888888888888,\"#fdca26\"],[1.0,\"#f0f921\"]]}],\"contourcarpet\":[{\"type\":\"contourcarpet\",\"colorbar\":{\"outlinewidth\":0,\"ticks\":\"\"}}],\"contour\":[{\"type\":\"contour\",\"colorbar\":{\"outlinewidth\":0,\"ticks\":\"\"},\"colorscale\":[[0.0,\"#0d0887\"],[0.1111111111111111,\"#46039f\"],[0.2222222222222222,\"#7201a8\"],[0.3333333333333333,\"#9c179e\"],[0.4444444444444444,\"#bd3786\"],[0.5555555555555556,\"#d8576b\"],[0.6666666666666666,\"#ed7953\"],[0.7777777777777778,\"#fb9f3a\"],[0.8888888888888888,\"#fdca26\"],[1.0,\"#f0f921\"]]}],\"surface\":[{\"type\":\"surface\",\"colorbar\":{\"outlinewidth\":0,\"ticks\":\"\"},\"colorscale\":[[0.0,\"#0d0887\"],[0.1111111111111111,\"#46039f\"],[0.2222222222222222,\"#7201a8\"],[0.3333333333333333,\"#9c179e\"],[0.4444444444444444,\"#bd3786\"],[0.5555555555555556,\"#d8576b\"],[0.6666666666666666,\"#ed7953\"],[0.7777777777777778,\"#fb9f3a\"],[0.8888888888888888,\"#fdca26\"],[1.0,\"#f0f921\"]]}],\"mesh3d\":[{\"type\":\"mesh3d\",\"colorbar\":{\"outlinewidth\":0,\"ticks\":\"\"}}],\"scatter\":[{\"fillpattern\":{\"fillmode\":\"overlay\",\"size\":10,\"solidity\":0.2},\"type\":\"scatter\"}],\"parcoords\":[{\"type\":\"parcoords\",\"line\":{\"colorbar\":{\"outlinewidth\":0,\"ticks\":\"\"}}}],\"scatterpolargl\":[{\"type\":\"scatterpolargl\",\"marker\":{\"colorbar\":{\"outlinewidth\":0,\"ticks\":\"\"}}}],\"bar\":[{\"error_x\":{\"color\":\"#2a3f5f\"},\"error_y\":{\"color\":\"#2a3f5f\"},\"marker\":{\"line\":{\"color\":\"#E5ECF6\",\"width\":0.5},\"pattern\":{\"fillmode\":\"overlay\",\"size\":10,\"solidity\":0.2}},\"type\":\"bar\"}],\"scattergeo\":[{\"type\":\"scattergeo\",\"marker\":{\"colorbar\":{\"outlinewidth\":0,\"ticks\":\"\"}}}],\"scatterpolar\":[{\"type\":\"scatterpolar\",\"marker\":{\"colorbar\":{\"outlinewidth\":0,\"ticks\":\"\"}}}],\"histogram\":[{\"marker\":{\"pattern\":{\"fillmode\":\"overlay\",\"size\":10,\"solidity\":0.2}},\"type\":\"histogram\"}],\"scattergl\":[{\"type\":\"scattergl\",\"marker\":{\"colorbar\":{\"outlinewidth\":0,\"ticks\":\"\"}}}],\"scatter3d\":[{\"type\":\"scatter3d\",\"line\":{\"colorbar\":{\"outlinewidth\":0,\"ticks\":\"\"}},\"marker\":{\"colorbar\":{\"outlinewidth\":0,\"ticks\":\"\"}}}],\"scattermapbox\":[{\"type\":\"scattermapbox\",\"marker\":{\"colorbar\":{\"outlinewidth\":0,\"ticks\":\"\"}}}],\"scatterternary\":[{\"type\":\"scatterternary\",\"marker\":{\"colorbar\":{\"outlinewidth\":0,\"ticks\":\"\"}}}],\"scattercarpet\":[{\"type\":\"scattercarpet\",\"marker\":{\"colorbar\":{\"outlinewidth\":0,\"ticks\":\"\"}}}],\"carpet\":[{\"aaxis\":{\"endlinecolor\":\"#2a3f5f\",\"gridcolor\":\"white\",\"linecolor\":\"white\",\"minorgridcolor\":\"white\",\"startlinecolor\":\"#2a3f5f\"},\"baxis\":{\"endlinecolor\":\"#2a3f5f\",\"gridcolor\":\"white\",\"linecolor\":\"white\",\"minorgridcolor\":\"white\",\"startlinecolor\":\"#2a3f5f\"},\"type\":\"carpet\"}],\"table\":[{\"cells\":{\"fill\":{\"color\":\"#EBF0F8\"},\"line\":{\"color\":\"white\"}},\"header\":{\"fill\":{\"color\":\"#C8D4E3\"},\"line\":{\"color\":\"white\"}},\"type\":\"table\"}],\"barpolar\":[{\"marker\":{\"line\":{\"color\":\"#E5ECF6\",\"width\":0.5},\"pattern\":{\"fillmode\":\"overlay\",\"size\":10,\"solidity\":0.2}},\"type\":\"barpolar\"}],\"pie\":[{\"automargin\":true,\"type\":\"pie\"}]},\"layout\":{\"autotypenumbers\":\"strict\",\"colorway\":[\"#636efa\",\"#EF553B\",\"#00cc96\",\"#ab63fa\",\"#FFA15A\",\"#19d3f3\",\"#FF6692\",\"#B6E880\",\"#FF97FF\",\"#FECB52\"],\"font\":{\"color\":\"#2a3f5f\"},\"hovermode\":\"closest\",\"hoverlabel\":{\"align\":\"left\"},\"paper_bgcolor\":\"white\",\"plot_bgcolor\":\"#E5ECF6\",\"polar\":{\"bgcolor\":\"#E5ECF6\",\"angularaxis\":{\"gridcolor\":\"white\",\"linecolor\":\"white\",\"ticks\":\"\"},\"radialaxis\":{\"gridcolor\":\"white\",\"linecolor\":\"white\",\"ticks\":\"\"}},\"ternary\":{\"bgcolor\":\"#E5ECF6\",\"aaxis\":{\"gridcolor\":\"white\",\"linecolor\":\"white\",\"ticks\":\"\"},\"baxis\":{\"gridcolor\":\"white\",\"linecolor\":\"white\",\"ticks\":\"\"},\"caxis\":{\"gridcolor\":\"white\",\"linecolor\":\"white\",\"ticks\":\"\"}},\"coloraxis\":{\"colorbar\":{\"outlinewidth\":0,\"ticks\":\"\"}},\"colorscale\":{\"sequential\":[[0.0,\"#0d0887\"],[0.1111111111111111,\"#46039f\"],[0.2222222222222222,\"#7201a8\"],[0.3333333333333333,\"#9c179e\"],[0.4444444444444444,\"#bd3786\"],[0.5555555555555556,\"#d8576b\"],[0.6666666666666666,\"#ed7953\"],[0.7777777777777778,\"#fb9f3a\"],[0.8888888888888888,\"#fdca26\"],[1.0,\"#f0f921\"]],\"sequentialminus\":[[0.0,\"#0d0887\"],[0.1111111111111111,\"#46039f\"],[0.2222222222222222,\"#7201a8\"],[0.3333333333333333,\"#9c179e\"],[0.4444444444444444,\"#bd3786\"],[0.5555555555555556,\"#d8576b\"],[0.6666666666666666,\"#ed7953\"],[0.7777777777777778,\"#fb9f3a\"],[0.8888888888888888,\"#fdca26\"],[1.0,\"#f0f921\"]],\"diverging\":[[0,\"#8e0152\"],[0.1,\"#c51b7d\"],[0.2,\"#de77ae\"],[0.3,\"#f1b6da\"],[0.4,\"#fde0ef\"],[0.5,\"#f7f7f7\"],[0.6,\"#e6f5d0\"],[0.7,\"#b8e186\"],[0.8,\"#7fbc41\"],[0.9,\"#4d9221\"],[1,\"#276419\"]]},\"xaxis\":{\"gridcolor\":\"white\",\"linecolor\":\"white\",\"ticks\":\"\",\"title\":{\"standoff\":15},\"zerolinecolor\":\"white\",\"automargin\":true,\"zerolinewidth\":2},\"yaxis\":{\"gridcolor\":\"white\",\"linecolor\":\"white\",\"ticks\":\"\",\"title\":{\"standoff\":15},\"zerolinecolor\":\"white\",\"automargin\":true,\"zerolinewidth\":2},\"scene\":{\"xaxis\":{\"backgroundcolor\":\"#E5ECF6\",\"gridcolor\":\"white\",\"linecolor\":\"white\",\"showbackground\":true,\"ticks\":\"\",\"zerolinecolor\":\"white\",\"gridwidth\":2},\"yaxis\":{\"backgroundcolor\":\"#E5ECF6\",\"gridcolor\":\"white\",\"linecolor\":\"white\",\"showbackground\":true,\"ticks\":\"\",\"zerolinecolor\":\"white\",\"gridwidth\":2},\"zaxis\":{\"backgroundcolor\":\"#E5ECF6\",\"gridcolor\":\"white\",\"linecolor\":\"white\",\"showbackground\":true,\"ticks\":\"\",\"zerolinecolor\":\"white\",\"gridwidth\":2}},\"shapedefaults\":{\"line\":{\"color\":\"#2a3f5f\"}},\"annotationdefaults\":{\"arrowcolor\":\"#2a3f5f\",\"arrowhead\":0,\"arrowwidth\":1},\"geo\":{\"bgcolor\":\"white\",\"landcolor\":\"#E5ECF6\",\"subunitcolor\":\"white\",\"showland\":true,\"showlakes\":true,\"lakecolor\":\"white\"},\"title\":{\"x\":0.05},\"mapbox\":{\"style\":\"light\"}}},\"xaxis\":{\"anchor\":\"y\",\"domain\":[0.0,1.0],\"title\":{\"text\":\"edad\"}},\"yaxis\":{\"anchor\":\"x\",\"domain\":[0.0,1.0]},\"legend\":{\"title\":{\"text\":\"adherencia_inversion\"},\"tracegroupgap\":0},\"margin\":{\"t\":60},\"boxmode\":\"group\"},                        {\"responsive\": true}                    ).then(function(){\n",
              "                            \n",
              "var gd = document.getElementById('6fa3f5ce-5f05-48b7-8876-25d1a6993531');\n",
              "var x = new MutationObserver(function (mutations, observer) {{\n",
              "        var display = window.getComputedStyle(gd).display;\n",
              "        if (!display || display === 'none') {{\n",
              "            console.log([gd, 'removed!']);\n",
              "            Plotly.purge(gd);\n",
              "            observer.disconnect();\n",
              "        }}\n",
              "}});\n",
              "\n",
              "// Listen for the removal of the full notebook cells\n",
              "var notebookContainer = gd.closest('#notebook-container');\n",
              "if (notebookContainer) {{\n",
              "    x.observe(notebookContainer, {childList: true});\n",
              "}}\n",
              "\n",
              "// Listen for the clearing of the current output cell\n",
              "var outputEl = gd.closest('.output');\n",
              "if (outputEl) {{\n",
              "    x.observe(outputEl, {childList: true});\n",
              "}}\n",
              "\n",
              "                        })                };                            </script>        </div>\n",
              "</body>\n",
              "</html>"
            ]
          },
          "metadata": {}
        }
      ]
    },
    {
      "cell_type": "code",
      "source": [
        "px.box(datos, x='saldo', color='adherencia_inversion')"
      ],
      "metadata": {
        "id": "RKDBY1UDBXXf",
        "colab": {
          "base_uri": "https://localhost:8080/",
          "height": 542
        },
        "outputId": "825efbde-0641-4523-8e22-9102d3782021"
      },
      "execution_count": 18,
      "outputs": [
        {
          "output_type": "display_data",
          "data": {
            "text/html": [
              "<html>\n",
              "<head><meta charset=\"utf-8\" /></head>\n",
              "<body>\n",
              "    <div>            <script src=\"https://cdnjs.cloudflare.com/ajax/libs/mathjax/2.7.5/MathJax.js?config=TeX-AMS-MML_SVG\"></script><script type=\"text/javascript\">if (window.MathJax && window.MathJax.Hub && window.MathJax.Hub.Config) {window.MathJax.Hub.Config({SVG: {font: \"STIX-Web\"}});}</script>                <script type=\"text/javascript\">window.PlotlyConfig = {MathJaxConfig: 'local'};</script>\n",
              "        <script charset=\"utf-8\" src=\"https://cdn.plot.ly/plotly-2.35.2.min.js\"></script>                <div id=\"4d81edad-f2ff-4bbd-bfa1-b48770e5cf31\" class=\"plotly-graph-div\" style=\"height:525px; width:100%;\"></div>            <script type=\"text/javascript\">                                    window.PLOTLYENV=window.PLOTLYENV || {};                                    if (document.getElementById(\"4d81edad-f2ff-4bbd-bfa1-b48770e5cf31\")) {                    Plotly.newPlot(                        \"4d81edad-f2ff-4bbd-bfa1-b48770e5cf31\",                        [{\"alignmentgroup\":\"True\",\"hovertemplate\":\"adherencia_inversion=si\\u003cbr\\u003esaldo=%{x}\\u003cextra\\u003e\\u003c\\u002fextra\\u003e\",\"legendgroup\":\"si\",\"marker\":{\"color\":\"#636efa\"},\"name\":\"si\",\"notched\":false,\"offsetgroup\":\"si\",\"orientation\":\"h\",\"showlegend\":true,\"x\":[242,1289,1382,3357,174,5086,139,2411,8304,624,102,4402,2145,1167,118,14220,156,-393,335,117,1337,259,1265,691,0,366,388,470,2171,230,151,1696,502,2146,480,687,3726,2431,3436,3283,213,1905,18,0,606,-53,4189,65,678,2488,3935,1047,2206,372,2048,4148,1097,247,126,1167,1445,478,325,462,0,198,2039,1044,3050,305,229,-20,2308,1147,889,3810,-90,8556,442,2160,255,206,985,763,1796,565,-191,6,238,3450,79,152,1451,760,3608,1315,921,0,3143,7066,405,2374,1679,548,2944,3285,4608,2544,1613,302,-454,811,1133,215,523,2543,410,25,-970,132,997,26965,1026,201,0,2253,104,3696,2488,2658,-195,3904,1562,225,897,199,668,14,2089,-242,4657,796,1646,1988,331,273,0,2,817,8,311,94,297,5106,227,755,302,1200,-386,0,195,636,22,171,39,802,368,205,720,4579,244,0,1429,1942,-242,495,1013,0,38,2776,822,-375,765,7050,197,406,2881,5845,386,944,70,657,844,976,0,61,-1206,462,3403,228,5310,4945,306,8295,4,620,1341,2442,902,3057,12,459,1354,2,1235,7802,75,5346,701,1297,4415,158,0,474,0,874,568,3733,133,197,231,3636,230,152,27,1331,569,3391,3371,1177,80,9,1412,759,7138,320,724,1191,4438,-824,1080,1219,1808,362,2232,1948,538,424,0,0,3,0,4108,607,5355,3727,1304,593,226,4508,808,304,1224,3463,3676,2325,4198,4,3771,480,1490,41,703,4099,489,-416,3334,493,57,273,1221,1893,1129,2013,5063,572,153,479,1070,3301,-54,136,1230,2850,2929,2788,4665,665,823,95,846,505,3735,3472,133,674,12569,437,2603,95,6610,425,113,4758,70,455,556,1058,664,104,2763,0,3665,-17,25,2734,-247,204,876,1633,490,1,9676,1511,668,-887,978,1574,2812,1727,936,11262,9228,1859,451,1076,294,2398,-308,393,-522,0,1836,699,710,-311,103,343,1679,6728,5291,3913,8,326,517,1044,1925,908,2085,9756,4745,639,883,279,4659,2087,0,1238,6046,1020,459,694,426,100,168,495,257,747,10,0,351,239,15,2536,623,5462,1347,341,170,0,-251,2144,1996,2971,2303,69,104,84,-315,2587,7195,2646,-242,2557,1361,197,556,697,1539,19317,54,0,687,2987,5037,925,145,2887,415,0,1580,1066,1792,4256,-46,0,703,4079,3,0,45,622,1026,661,4089,1205,6016,13,482,480,5514,92,732,59,1978,980,0,3792,1049,16,1766,602,2917,0,0,1623,-308,-306,1233,994,0,1625,2506,1199,763,429,170,1064,2306,4500,0,-839,315,3234,889,66,925,83,5958,-477,2187,19],\"x0\":\" \",\"xaxis\":\"x\",\"y0\":\" \",\"yaxis\":\"y\",\"type\":\"box\"},{\"alignmentgroup\":\"True\",\"hovertemplate\":\"adherencia_inversion=no\\u003cbr\\u003esaldo=%{x}\\u003cextra\\u003e\\u003c\\u002fextra\\u003e\",\"legendgroup\":\"no\",\"marker\":{\"color\":\"#EF553B\"},\"name\":\"no\",\"notched\":false,\"offsetgroup\":\"no\",\"orientation\":\"h\",\"showlegend\":true,\"x\":[363,4446,946,879,-94,7685,1116,0,559,0,70,157,-46,10888,719,7735,-247,1640,2662,2246,475,1584,0,-404,168,12877,98,13342,8312,119,3696,497,27069,40,1831,950,1513,1680,61,0,579,2275,0,8,87,3064,771,340,1032,1467,84,320,-673,-495,0,313,195,2590,106,1100,-228,403,415,1660,302,0,1810,0,62,194,2278,937,226,1553,0,10378,8167,102,180,-759,0,3470,6053,0,950,204,-363,-888,-461,201,7,827,0,302,678,2201,63,1439,641,1743,4,451,465,77,432,2394,-921,2,1086,3107,1209,0,1897,92,0,292,225,298,7317,640,1005,751,-396,436,653,508,6,92,16353,4943,2815,1067,470,5207,0,260,-328,0,431,2567,4,879,691,2185,7190,1469,22,1053,900,999,-29,3342,1069,7378,128,834,8,103,231,748,1657,1317,1322,263,4,1506,5314,260,150,1811,217,1240,1109,1012,220,89,1482,2581,475,198,17555,334,0,4900,304,171,619,2395,913,267,2959,975,0,1494,1698,781,158,316,2323,2974,541,0,13658,451,209,0,1111,1855,54,3939,4143,196,8238,1100,899,365,171,0,0,-292,442,442,30,228,757,489,390,61,1628,250,1187,2155,143,1533,178,732,552,1148,6402,5715,1409,474,0,502,1568,422,6483,229,0,2171,0,71,146,795,894,395,0,-9,168,2642,285,174,8627,1531,14412,108,8627,586,1121,52,3732,24,-1,93,-551,1022,943,204,979,9976,502,655,80,72,1,23,2515,22,-230,459,103,775,203,1386,-163,430,435,851,389,5320,180,1790,321,1045,111,-402,1831,25,4888,315,4153,0,1840,1117,828,102,633,1787,-32,295,-217,333,879,0,-256,44,10,14,305,-3,51,12223,614,360,22546,1410,1611,435,671,828,4902,3242,371,0,2347,0,145,2558,2237,525,2381,842,0,279,28,355,0,284,116,4554,6164,280,-221,-3,-298,1019,-93,21664,290,1897,604,186,-194,0,56,401,27,1084,-379,3463,578,9374,215,1746,35,212,705,786,0,500,5803,295,310,258,252,0,2685,902,1114,542,2904,417,388,736,-471,-278,75,-166,2294,1738,7353,399,50,46,462,191,1410,1238,2538,167,283,351,809,222,105,1327,378,2186,324,34,126,736,79,68,1372,71,520,171,949,177,115,125,-117,2805,0,0,179,1623,2,356,1315,4,1427,3571,181,1327,5108,-56,-59,1188,4210,192,314,200,11494,-630,-411,351,462,75,631,2,0,648,5235,82,3561,398,602,-98,2921,2225,569,-839,260,745,7343,5191,-123,2146,1671,136,472,278,0,324,16063,76,225,115,413,410,176,321,1050,291,6766,459,706,475,443,0,140,925,0,0,-53,0,6699,-179,1,359,804,133,137,1594,2262,856,-378,435,454,562,613,266,-540,69,1588,3854,10655,0,621,6563,609,1011,1983,0,605,1328,1025,62,118,493,406,60,1141,1147,0,3060,1011,236,202,20,0,2330,667,44,37,590,2993,902,15,-384,225,20,8,16430,-679,9269,427,2700,0,579,265,222,1670,-583,3163,1054,2349,5878,-219,4348,249,344,262,0,-329,0,130,4213,4382,950,5731,-518,273,553,-396,1172,25,0,61,4722,0,1666,10907,275,3672,0,1355,473,271,1415,16873,1145,157,0,331,5045,1295,-905,2125,0,1420,6850,1270,2988,506,669,11,261,0,2357,79,451,468,382,377,5799,2814,722,595,1269,4824,1529,592,4366,2,330,308,738,0,0,86,329,0,5731,-196,593,477,1071,0,42,3616,595,345,2,163,65,-97,238,3052,23,474,148,138,238,117,967,443,42,-55,931,-584,894,1532,0,-322,181,1480,306,-350,480,5050,0,0,83,40,490,0,1216,1602,33,-381,0,0,3516,881,286,2190,636,79,334,901,40,176,1076,865,429,221,4667,6969,1916,2223,5,47,1844,-55,300,0,318,1932,180,1574,-97,8,-35,1465,872,1790,660,10177,0,1147,784,16,212,5304,2343,1831,297,203,64,6,1064,-762,205],\"x0\":\" \",\"xaxis\":\"x\",\"y0\":\" \",\"yaxis\":\"y\",\"type\":\"box\"}],                        {\"template\":{\"data\":{\"histogram2dcontour\":[{\"type\":\"histogram2dcontour\",\"colorbar\":{\"outlinewidth\":0,\"ticks\":\"\"},\"colorscale\":[[0.0,\"#0d0887\"],[0.1111111111111111,\"#46039f\"],[0.2222222222222222,\"#7201a8\"],[0.3333333333333333,\"#9c179e\"],[0.4444444444444444,\"#bd3786\"],[0.5555555555555556,\"#d8576b\"],[0.6666666666666666,\"#ed7953\"],[0.7777777777777778,\"#fb9f3a\"],[0.8888888888888888,\"#fdca26\"],[1.0,\"#f0f921\"]]}],\"choropleth\":[{\"type\":\"choropleth\",\"colorbar\":{\"outlinewidth\":0,\"ticks\":\"\"}}],\"histogram2d\":[{\"type\":\"histogram2d\",\"colorbar\":{\"outlinewidth\":0,\"ticks\":\"\"},\"colorscale\":[[0.0,\"#0d0887\"],[0.1111111111111111,\"#46039f\"],[0.2222222222222222,\"#7201a8\"],[0.3333333333333333,\"#9c179e\"],[0.4444444444444444,\"#bd3786\"],[0.5555555555555556,\"#d8576b\"],[0.6666666666666666,\"#ed7953\"],[0.7777777777777778,\"#fb9f3a\"],[0.8888888888888888,\"#fdca26\"],[1.0,\"#f0f921\"]]}],\"heatmap\":[{\"type\":\"heatmap\",\"colorbar\":{\"outlinewidth\":0,\"ticks\":\"\"},\"colorscale\":[[0.0,\"#0d0887\"],[0.1111111111111111,\"#46039f\"],[0.2222222222222222,\"#7201a8\"],[0.3333333333333333,\"#9c179e\"],[0.4444444444444444,\"#bd3786\"],[0.5555555555555556,\"#d8576b\"],[0.6666666666666666,\"#ed7953\"],[0.7777777777777778,\"#fb9f3a\"],[0.8888888888888888,\"#fdca26\"],[1.0,\"#f0f921\"]]}],\"heatmapgl\":[{\"type\":\"heatmapgl\",\"colorbar\":{\"outlinewidth\":0,\"ticks\":\"\"},\"colorscale\":[[0.0,\"#0d0887\"],[0.1111111111111111,\"#46039f\"],[0.2222222222222222,\"#7201a8\"],[0.3333333333333333,\"#9c179e\"],[0.4444444444444444,\"#bd3786\"],[0.5555555555555556,\"#d8576b\"],[0.6666666666666666,\"#ed7953\"],[0.7777777777777778,\"#fb9f3a\"],[0.8888888888888888,\"#fdca26\"],[1.0,\"#f0f921\"]]}],\"contourcarpet\":[{\"type\":\"contourcarpet\",\"colorbar\":{\"outlinewidth\":0,\"ticks\":\"\"}}],\"contour\":[{\"type\":\"contour\",\"colorbar\":{\"outlinewidth\":0,\"ticks\":\"\"},\"colorscale\":[[0.0,\"#0d0887\"],[0.1111111111111111,\"#46039f\"],[0.2222222222222222,\"#7201a8\"],[0.3333333333333333,\"#9c179e\"],[0.4444444444444444,\"#bd3786\"],[0.5555555555555556,\"#d8576b\"],[0.6666666666666666,\"#ed7953\"],[0.7777777777777778,\"#fb9f3a\"],[0.8888888888888888,\"#fdca26\"],[1.0,\"#f0f921\"]]}],\"surface\":[{\"type\":\"surface\",\"colorbar\":{\"outlinewidth\":0,\"ticks\":\"\"},\"colorscale\":[[0.0,\"#0d0887\"],[0.1111111111111111,\"#46039f\"],[0.2222222222222222,\"#7201a8\"],[0.3333333333333333,\"#9c179e\"],[0.4444444444444444,\"#bd3786\"],[0.5555555555555556,\"#d8576b\"],[0.6666666666666666,\"#ed7953\"],[0.7777777777777778,\"#fb9f3a\"],[0.8888888888888888,\"#fdca26\"],[1.0,\"#f0f921\"]]}],\"mesh3d\":[{\"type\":\"mesh3d\",\"colorbar\":{\"outlinewidth\":0,\"ticks\":\"\"}}],\"scatter\":[{\"fillpattern\":{\"fillmode\":\"overlay\",\"size\":10,\"solidity\":0.2},\"type\":\"scatter\"}],\"parcoords\":[{\"type\":\"parcoords\",\"line\":{\"colorbar\":{\"outlinewidth\":0,\"ticks\":\"\"}}}],\"scatterpolargl\":[{\"type\":\"scatterpolargl\",\"marker\":{\"colorbar\":{\"outlinewidth\":0,\"ticks\":\"\"}}}],\"bar\":[{\"error_x\":{\"color\":\"#2a3f5f\"},\"error_y\":{\"color\":\"#2a3f5f\"},\"marker\":{\"line\":{\"color\":\"#E5ECF6\",\"width\":0.5},\"pattern\":{\"fillmode\":\"overlay\",\"size\":10,\"solidity\":0.2}},\"type\":\"bar\"}],\"scattergeo\":[{\"type\":\"scattergeo\",\"marker\":{\"colorbar\":{\"outlinewidth\":0,\"ticks\":\"\"}}}],\"scatterpolar\":[{\"type\":\"scatterpolar\",\"marker\":{\"colorbar\":{\"outlinewidth\":0,\"ticks\":\"\"}}}],\"histogram\":[{\"marker\":{\"pattern\":{\"fillmode\":\"overlay\",\"size\":10,\"solidity\":0.2}},\"type\":\"histogram\"}],\"scattergl\":[{\"type\":\"scattergl\",\"marker\":{\"colorbar\":{\"outlinewidth\":0,\"ticks\":\"\"}}}],\"scatter3d\":[{\"type\":\"scatter3d\",\"line\":{\"colorbar\":{\"outlinewidth\":0,\"ticks\":\"\"}},\"marker\":{\"colorbar\":{\"outlinewidth\":0,\"ticks\":\"\"}}}],\"scattermapbox\":[{\"type\":\"scattermapbox\",\"marker\":{\"colorbar\":{\"outlinewidth\":0,\"ticks\":\"\"}}}],\"scatterternary\":[{\"type\":\"scatterternary\",\"marker\":{\"colorbar\":{\"outlinewidth\":0,\"ticks\":\"\"}}}],\"scattercarpet\":[{\"type\":\"scattercarpet\",\"marker\":{\"colorbar\":{\"outlinewidth\":0,\"ticks\":\"\"}}}],\"carpet\":[{\"aaxis\":{\"endlinecolor\":\"#2a3f5f\",\"gridcolor\":\"white\",\"linecolor\":\"white\",\"minorgridcolor\":\"white\",\"startlinecolor\":\"#2a3f5f\"},\"baxis\":{\"endlinecolor\":\"#2a3f5f\",\"gridcolor\":\"white\",\"linecolor\":\"white\",\"minorgridcolor\":\"white\",\"startlinecolor\":\"#2a3f5f\"},\"type\":\"carpet\"}],\"table\":[{\"cells\":{\"fill\":{\"color\":\"#EBF0F8\"},\"line\":{\"color\":\"white\"}},\"header\":{\"fill\":{\"color\":\"#C8D4E3\"},\"line\":{\"color\":\"white\"}},\"type\":\"table\"}],\"barpolar\":[{\"marker\":{\"line\":{\"color\":\"#E5ECF6\",\"width\":0.5},\"pattern\":{\"fillmode\":\"overlay\",\"size\":10,\"solidity\":0.2}},\"type\":\"barpolar\"}],\"pie\":[{\"automargin\":true,\"type\":\"pie\"}]},\"layout\":{\"autotypenumbers\":\"strict\",\"colorway\":[\"#636efa\",\"#EF553B\",\"#00cc96\",\"#ab63fa\",\"#FFA15A\",\"#19d3f3\",\"#FF6692\",\"#B6E880\",\"#FF97FF\",\"#FECB52\"],\"font\":{\"color\":\"#2a3f5f\"},\"hovermode\":\"closest\",\"hoverlabel\":{\"align\":\"left\"},\"paper_bgcolor\":\"white\",\"plot_bgcolor\":\"#E5ECF6\",\"polar\":{\"bgcolor\":\"#E5ECF6\",\"angularaxis\":{\"gridcolor\":\"white\",\"linecolor\":\"white\",\"ticks\":\"\"},\"radialaxis\":{\"gridcolor\":\"white\",\"linecolor\":\"white\",\"ticks\":\"\"}},\"ternary\":{\"bgcolor\":\"#E5ECF6\",\"aaxis\":{\"gridcolor\":\"white\",\"linecolor\":\"white\",\"ticks\":\"\"},\"baxis\":{\"gridcolor\":\"white\",\"linecolor\":\"white\",\"ticks\":\"\"},\"caxis\":{\"gridcolor\":\"white\",\"linecolor\":\"white\",\"ticks\":\"\"}},\"coloraxis\":{\"colorbar\":{\"outlinewidth\":0,\"ticks\":\"\"}},\"colorscale\":{\"sequential\":[[0.0,\"#0d0887\"],[0.1111111111111111,\"#46039f\"],[0.2222222222222222,\"#7201a8\"],[0.3333333333333333,\"#9c179e\"],[0.4444444444444444,\"#bd3786\"],[0.5555555555555556,\"#d8576b\"],[0.6666666666666666,\"#ed7953\"],[0.7777777777777778,\"#fb9f3a\"],[0.8888888888888888,\"#fdca26\"],[1.0,\"#f0f921\"]],\"sequentialminus\":[[0.0,\"#0d0887\"],[0.1111111111111111,\"#46039f\"],[0.2222222222222222,\"#7201a8\"],[0.3333333333333333,\"#9c179e\"],[0.4444444444444444,\"#bd3786\"],[0.5555555555555556,\"#d8576b\"],[0.6666666666666666,\"#ed7953\"],[0.7777777777777778,\"#fb9f3a\"],[0.8888888888888888,\"#fdca26\"],[1.0,\"#f0f921\"]],\"diverging\":[[0,\"#8e0152\"],[0.1,\"#c51b7d\"],[0.2,\"#de77ae\"],[0.3,\"#f1b6da\"],[0.4,\"#fde0ef\"],[0.5,\"#f7f7f7\"],[0.6,\"#e6f5d0\"],[0.7,\"#b8e186\"],[0.8,\"#7fbc41\"],[0.9,\"#4d9221\"],[1,\"#276419\"]]},\"xaxis\":{\"gridcolor\":\"white\",\"linecolor\":\"white\",\"ticks\":\"\",\"title\":{\"standoff\":15},\"zerolinecolor\":\"white\",\"automargin\":true,\"zerolinewidth\":2},\"yaxis\":{\"gridcolor\":\"white\",\"linecolor\":\"white\",\"ticks\":\"\",\"title\":{\"standoff\":15},\"zerolinecolor\":\"white\",\"automargin\":true,\"zerolinewidth\":2},\"scene\":{\"xaxis\":{\"backgroundcolor\":\"#E5ECF6\",\"gridcolor\":\"white\",\"linecolor\":\"white\",\"showbackground\":true,\"ticks\":\"\",\"zerolinecolor\":\"white\",\"gridwidth\":2},\"yaxis\":{\"backgroundcolor\":\"#E5ECF6\",\"gridcolor\":\"white\",\"linecolor\":\"white\",\"showbackground\":true,\"ticks\":\"\",\"zerolinecolor\":\"white\",\"gridwidth\":2},\"zaxis\":{\"backgroundcolor\":\"#E5ECF6\",\"gridcolor\":\"white\",\"linecolor\":\"white\",\"showbackground\":true,\"ticks\":\"\",\"zerolinecolor\":\"white\",\"gridwidth\":2}},\"shapedefaults\":{\"line\":{\"color\":\"#2a3f5f\"}},\"annotationdefaults\":{\"arrowcolor\":\"#2a3f5f\",\"arrowhead\":0,\"arrowwidth\":1},\"geo\":{\"bgcolor\":\"white\",\"landcolor\":\"#E5ECF6\",\"subunitcolor\":\"white\",\"showland\":true,\"showlakes\":true,\"lakecolor\":\"white\"},\"title\":{\"x\":0.05},\"mapbox\":{\"style\":\"light\"}}},\"xaxis\":{\"anchor\":\"y\",\"domain\":[0.0,1.0],\"title\":{\"text\":\"saldo\"}},\"yaxis\":{\"anchor\":\"x\",\"domain\":[0.0,1.0]},\"legend\":{\"title\":{\"text\":\"adherencia_inversion\"},\"tracegroupgap\":0},\"margin\":{\"t\":60},\"boxmode\":\"group\"},                        {\"responsive\": true}                    ).then(function(){\n",
              "                            \n",
              "var gd = document.getElementById('4d81edad-f2ff-4bbd-bfa1-b48770e5cf31');\n",
              "var x = new MutationObserver(function (mutations, observer) {{\n",
              "        var display = window.getComputedStyle(gd).display;\n",
              "        if (!display || display === 'none') {{\n",
              "            console.log([gd, 'removed!']);\n",
              "            Plotly.purge(gd);\n",
              "            observer.disconnect();\n",
              "        }}\n",
              "}});\n",
              "\n",
              "// Listen for the removal of the full notebook cells\n",
              "var notebookContainer = gd.closest('#notebook-container');\n",
              "if (notebookContainer) {{\n",
              "    x.observe(notebookContainer, {childList: true});\n",
              "}}\n",
              "\n",
              "// Listen for the clearing of the current output cell\n",
              "var outputEl = gd.closest('.output');\n",
              "if (outputEl) {{\n",
              "    x.observe(outputEl, {childList: true});\n",
              "}}\n",
              "\n",
              "                        })                };                            </script>        </div>\n",
              "</body>\n",
              "</html>"
            ]
          },
          "metadata": {}
        }
      ]
    },
    {
      "cell_type": "code",
      "source": [
        "px.box(datos, x='ultimo_contacto', color='adherencia_inversion')"
      ],
      "metadata": {
        "id": "pLTneC3XBW9T",
        "colab": {
          "base_uri": "https://localhost:8080/",
          "height": 542
        },
        "outputId": "1b68ab2d-82c8-4449-c5ae-5f0fc20e4367"
      },
      "execution_count": 20,
      "outputs": [
        {
          "output_type": "display_data",
          "data": {
            "text/html": [
              "<html>\n",
              "<head><meta charset=\"utf-8\" /></head>\n",
              "<body>\n",
              "    <div>            <script src=\"https://cdnjs.cloudflare.com/ajax/libs/mathjax/2.7.5/MathJax.js?config=TeX-AMS-MML_SVG\"></script><script type=\"text/javascript\">if (window.MathJax && window.MathJax.Hub && window.MathJax.Hub.Config) {window.MathJax.Hub.Config({SVG: {font: \"STIX-Web\"}});}</script>                <script type=\"text/javascript\">window.PlotlyConfig = {MathJaxConfig: 'local'};</script>\n",
              "        <script charset=\"utf-8\" src=\"https://cdn.plot.ly/plotly-2.35.2.min.js\"></script>                <div id=\"6d230b1e-3d53-41f1-94ce-39c9fc1a79c5\" class=\"plotly-graph-div\" style=\"height:525px; width:100%;\"></div>            <script type=\"text/javascript\">                                    window.PLOTLYENV=window.PLOTLYENV || {};                                    if (document.getElementById(\"6d230b1e-3d53-41f1-94ce-39c9fc1a79c5\")) {                    Plotly.newPlot(                        \"6d230b1e-3d53-41f1-94ce-39c9fc1a79c5\",                        [{\"alignmentgroup\":\"True\",\"hovertemplate\":\"adherencia_inversion=si\\u003cbr\\u003eultimo_contacto=%{x}\\u003cextra\\u003e\\u003c\\u002fextra\\u003e\",\"legendgroup\":\"si\",\"marker\":{\"color\":\"#636efa\"},\"name\":\"si\",\"notched\":false,\"offsetgroup\":\"si\",\"orientation\":\"h\",\"showlegend\":true,\"x\":[587,250,700,239,487,213,732,130,712,336,470,805,727,968,1275,397,657,435,411,467,330,415,326,338,767,593,2087,743,1034,442,97,257,261,1516,830,772,875,646,663,258,378,709,359,1448,97,648,897,1028,1579,258,765,554,104,654,310,316,181,401,2456,264,328,475,1139,495,146,128,451,585,469,633,97,574,815,389,388,262,270,326,474,261,457,479,998,384,295,876,755,216,185,169,249,563,314,223,231,224,394,1073,421,667,994,161,417,1181,882,1721,212,252,296,528,558,563,293,350,152,223,891,528,489,574,106,654,669,325,1174,937,701,250,449,768,391,250,659,1126,397,1689,1263,167,132,1173,93,427,261,164,170,910,847,1031,517,107,757,493,415,244,278,1212,205,904,477,639,220,352,388,93,549,569,293,289,651,409,1735,648,1015,436,1149,157,206,618,744,701,184,814,959,222,78,736,356,1060,253,251,229,398,1018,345,550,836,382,1877,707,1017,984,311,388,207,395,1234,415,91,691,2769,587,558,736,100,354,421,479,187,254,716,1032,650,161,423,1608,1282,378,198,218,223,352,808,144,158,230,297,976,243,269,330,676,386,480,317,809,1971,287,214,446,429,951,697,245,816,121,216,353,298,154,228,998,493,526,454,466,993,501,1484,762,854,267,226,1441,96,567,125,309,268,185,344,506,686,342,397,356,767,632,671,796,803,279,1259,806,222,418,314,1124,515,30,485,698,363,412,185,518,369,860,371,780,335,671,386,190,332,171,587,344,504,280,1309,481,883,328,712,255,403,646,188,955,635,526,812,664,474,232,897,519,224,269,275,207,159,234,270,576,827,1370,301,830,500,931,323,655,245,652,152,87,317,725,567,670,594,750,1258,653,1030,104,377,718,232,192,124,93,788,681,353,904,1663,501,103,360,353,798,399,161,267,227,1558,300,882,623,144,1029,221,347,213,955,543,857,171,1063,412,921,958,297,430,280,670,442,260,641,417,761,429,775,120,606,1101,2029,328,609,142,600,134,1473,260,460,860,441,249,543,508,869,307,252,709,799,819,777,294,1007,109,630,239,199,524,590,343,488,262,1467,1451,226,968,289,376,670,76,1097,213,319,688,759,873,404,352,147,279,224,990,166,324,215,1472,264,1081,781,500,91,149,268,796,485,178,877,1006,129,562,239,733,80,1018,1407,578,185,1164,321,1223,215,1532,525,110],\"x0\":\" \",\"xaxis\":\"x\",\"y0\":\" \",\"yaxis\":\"y\",\"type\":\"box\"},{\"alignmentgroup\":\"True\",\"hovertemplate\":\"adherencia_inversion=no\\u003cbr\\u003eultimo_contacto=%{x}\\u003cextra\\u003e\\u003c\\u002fextra\\u003e\",\"legendgroup\":\"no\",\"marker\":{\"color\":\"#EF553B\"},\"name\":\"no\",\"notched\":false,\"offsetgroup\":\"no\",\"orientation\":\"h\",\"showlegend\":true,\"x\":[16,429,1065,102,41,493,53,71,1231,793,611,299,23,163,230,220,344,72,148,330,559,661,264,502,212,118,420,465,43,127,305,88,174,123,203,135,330,76,21,129,83,139,211,55,165,240,106,255,41,277,231,76,364,303,768,42,185,68,175,67,187,318,123,342,89,79,65,298,67,189,244,66,176,200,86,523,114,272,62,191,118,285,865,209,219,286,340,135,254,248,98,319,297,208,85,233,56,73,347,192,145,451,160,56,10,184,115,102,410,1516,283,108,441,139,105,222,866,144,172,318,215,343,443,28,352,70,246,127,223,117,125,179,217,336,676,52,318,83,73,109,443,228,517,354,375,364,76,405,322,182,41,329,247,466,275,196,155,314,76,184,566,395,178,119,84,299,200,146,151,150,193,505,328,410,89,156,177,99,538,205,14,36,561,121,129,209,16,218,113,128,325,256,83,275,95,74,73,126,151,187,237,380,220,389,319,3025,50,75,103,209,200,116,124,660,377,59,191,479,181,181,102,77,98,12,103,205,208,112,119,193,193,295,627,86,747,736,463,121,158,287,235,400,224,197,206,110,123,175,127,130,85,836,284,131,491,419,60,123,227,310,209,367,169,81,297,543,281,489,454,22,379,631,173,134,168,20,96,111,123,57,267,606,251,764,65,216,40,265,715,83,956,361,177,185,502,154,122,151,15,114,298,224,189,290,58,127,86,381,475,103,35,140,312,365,215,614,128,79,14,92,313,129,60,236,147,118,167,87,834,91,50,36,72,592,8,93,490,193,332,214,110,233,124,209,603,71,157,107,619,127,173,273,151,110,220,61,179,252,580,8,152,162,250,205,559,285,402,214,283,197,95,136,127,207,66,294,485,201,261,210,112,7,543,99,152,27,20,322,104,19,83,151,200,587,123,39,187,159,283,1816,277,90,730,119,668,143,204,85,251,349,536,133,89,78,272,40,8,274,307,57,226,467,155,317,74,174,346,366,217,29,164,700,317,254,240,86,15,19,245,63,209,238,770,173,163,81,96,21,380,76,1337,74,32,222,265,115,272,119,127,140,119,203,67,322,198,173,78,326,147,123,248,89,389,287,67,140,98,77,347,112,251,73,348,68,446,595,217,187,131,594,160,70,907,60,29,293,352,236,122,46,104,337,42,135,586,150,210,317,329,141,84,107,490,884,147,206,617,176,425,54,257,210,266,206,305,250,44,95,541,192,28,303,86,102,29,461,14,10,5,58,217,136,1126,340,123,115,204,82,388,166,358,289,253,151,22,29,90,253,112,8,146,404,82,15,228,310,24,133,24,210,550,25,304,145,196,197,159,107,371,337,131,230,14,71,161,25,56,273,134,159,66,373,258,221,371,53,171,46,285,142,193,210,164,244,97,106,127,153,169,535,113,483,1473,30,74,144,1210,1366,134,624,134,151,223,82,650,239,82,20,179,213,285,82,124,252,80,179,122,88,157,233,502,228,104,125,109,294,143,97,81,141,245,549,168,160,122,188,197,88,77,585,172,239,192,122,80,175,60,64,973,143,197,51,165,22,605,653,464,162,79,808,32,91,90,717,205,45,635,180,27,102,281,1183,411,509,253,191,225,599,108,212,95,211,75,205,44,69,359,73,340,472,142,70,30,669,71,447,143,557,90,211,235,389,601,79,147,70,71,244,150,130,412,281,1139,101,141,241,119,287,197,133,192,203,167,216,169,304,98,1130,214,115,272,97,249,34,119,260,340,226,1531,63,104,239,140,113,408,442],\"x0\":\" \",\"xaxis\":\"x\",\"y0\":\" \",\"yaxis\":\"y\",\"type\":\"box\"}],                        {\"template\":{\"data\":{\"histogram2dcontour\":[{\"type\":\"histogram2dcontour\",\"colorbar\":{\"outlinewidth\":0,\"ticks\":\"\"},\"colorscale\":[[0.0,\"#0d0887\"],[0.1111111111111111,\"#46039f\"],[0.2222222222222222,\"#7201a8\"],[0.3333333333333333,\"#9c179e\"],[0.4444444444444444,\"#bd3786\"],[0.5555555555555556,\"#d8576b\"],[0.6666666666666666,\"#ed7953\"],[0.7777777777777778,\"#fb9f3a\"],[0.8888888888888888,\"#fdca26\"],[1.0,\"#f0f921\"]]}],\"choropleth\":[{\"type\":\"choropleth\",\"colorbar\":{\"outlinewidth\":0,\"ticks\":\"\"}}],\"histogram2d\":[{\"type\":\"histogram2d\",\"colorbar\":{\"outlinewidth\":0,\"ticks\":\"\"},\"colorscale\":[[0.0,\"#0d0887\"],[0.1111111111111111,\"#46039f\"],[0.2222222222222222,\"#7201a8\"],[0.3333333333333333,\"#9c179e\"],[0.4444444444444444,\"#bd3786\"],[0.5555555555555556,\"#d8576b\"],[0.6666666666666666,\"#ed7953\"],[0.7777777777777778,\"#fb9f3a\"],[0.8888888888888888,\"#fdca26\"],[1.0,\"#f0f921\"]]}],\"heatmap\":[{\"type\":\"heatmap\",\"colorbar\":{\"outlinewidth\":0,\"ticks\":\"\"},\"colorscale\":[[0.0,\"#0d0887\"],[0.1111111111111111,\"#46039f\"],[0.2222222222222222,\"#7201a8\"],[0.3333333333333333,\"#9c179e\"],[0.4444444444444444,\"#bd3786\"],[0.5555555555555556,\"#d8576b\"],[0.6666666666666666,\"#ed7953\"],[0.7777777777777778,\"#fb9f3a\"],[0.8888888888888888,\"#fdca26\"],[1.0,\"#f0f921\"]]}],\"heatmapgl\":[{\"type\":\"heatmapgl\",\"colorbar\":{\"outlinewidth\":0,\"ticks\":\"\"},\"colorscale\":[[0.0,\"#0d0887\"],[0.1111111111111111,\"#46039f\"],[0.2222222222222222,\"#7201a8\"],[0.3333333333333333,\"#9c179e\"],[0.4444444444444444,\"#bd3786\"],[0.5555555555555556,\"#d8576b\"],[0.6666666666666666,\"#ed7953\"],[0.7777777777777778,\"#fb9f3a\"],[0.8888888888888888,\"#fdca26\"],[1.0,\"#f0f921\"]]}],\"contourcarpet\":[{\"type\":\"contourcarpet\",\"colorbar\":{\"outlinewidth\":0,\"ticks\":\"\"}}],\"contour\":[{\"type\":\"contour\",\"colorbar\":{\"outlinewidth\":0,\"ticks\":\"\"},\"colorscale\":[[0.0,\"#0d0887\"],[0.1111111111111111,\"#46039f\"],[0.2222222222222222,\"#7201a8\"],[0.3333333333333333,\"#9c179e\"],[0.4444444444444444,\"#bd3786\"],[0.5555555555555556,\"#d8576b\"],[0.6666666666666666,\"#ed7953\"],[0.7777777777777778,\"#fb9f3a\"],[0.8888888888888888,\"#fdca26\"],[1.0,\"#f0f921\"]]}],\"surface\":[{\"type\":\"surface\",\"colorbar\":{\"outlinewidth\":0,\"ticks\":\"\"},\"colorscale\":[[0.0,\"#0d0887\"],[0.1111111111111111,\"#46039f\"],[0.2222222222222222,\"#7201a8\"],[0.3333333333333333,\"#9c179e\"],[0.4444444444444444,\"#bd3786\"],[0.5555555555555556,\"#d8576b\"],[0.6666666666666666,\"#ed7953\"],[0.7777777777777778,\"#fb9f3a\"],[0.8888888888888888,\"#fdca26\"],[1.0,\"#f0f921\"]]}],\"mesh3d\":[{\"type\":\"mesh3d\",\"colorbar\":{\"outlinewidth\":0,\"ticks\":\"\"}}],\"scatter\":[{\"fillpattern\":{\"fillmode\":\"overlay\",\"size\":10,\"solidity\":0.2},\"type\":\"scatter\"}],\"parcoords\":[{\"type\":\"parcoords\",\"line\":{\"colorbar\":{\"outlinewidth\":0,\"ticks\":\"\"}}}],\"scatterpolargl\":[{\"type\":\"scatterpolargl\",\"marker\":{\"colorbar\":{\"outlinewidth\":0,\"ticks\":\"\"}}}],\"bar\":[{\"error_x\":{\"color\":\"#2a3f5f\"},\"error_y\":{\"color\":\"#2a3f5f\"},\"marker\":{\"line\":{\"color\":\"#E5ECF6\",\"width\":0.5},\"pattern\":{\"fillmode\":\"overlay\",\"size\":10,\"solidity\":0.2}},\"type\":\"bar\"}],\"scattergeo\":[{\"type\":\"scattergeo\",\"marker\":{\"colorbar\":{\"outlinewidth\":0,\"ticks\":\"\"}}}],\"scatterpolar\":[{\"type\":\"scatterpolar\",\"marker\":{\"colorbar\":{\"outlinewidth\":0,\"ticks\":\"\"}}}],\"histogram\":[{\"marker\":{\"pattern\":{\"fillmode\":\"overlay\",\"size\":10,\"solidity\":0.2}},\"type\":\"histogram\"}],\"scattergl\":[{\"type\":\"scattergl\",\"marker\":{\"colorbar\":{\"outlinewidth\":0,\"ticks\":\"\"}}}],\"scatter3d\":[{\"type\":\"scatter3d\",\"line\":{\"colorbar\":{\"outlinewidth\":0,\"ticks\":\"\"}},\"marker\":{\"colorbar\":{\"outlinewidth\":0,\"ticks\":\"\"}}}],\"scattermapbox\":[{\"type\":\"scattermapbox\",\"marker\":{\"colorbar\":{\"outlinewidth\":0,\"ticks\":\"\"}}}],\"scatterternary\":[{\"type\":\"scatterternary\",\"marker\":{\"colorbar\":{\"outlinewidth\":0,\"ticks\":\"\"}}}],\"scattercarpet\":[{\"type\":\"scattercarpet\",\"marker\":{\"colorbar\":{\"outlinewidth\":0,\"ticks\":\"\"}}}],\"carpet\":[{\"aaxis\":{\"endlinecolor\":\"#2a3f5f\",\"gridcolor\":\"white\",\"linecolor\":\"white\",\"minorgridcolor\":\"white\",\"startlinecolor\":\"#2a3f5f\"},\"baxis\":{\"endlinecolor\":\"#2a3f5f\",\"gridcolor\":\"white\",\"linecolor\":\"white\",\"minorgridcolor\":\"white\",\"startlinecolor\":\"#2a3f5f\"},\"type\":\"carpet\"}],\"table\":[{\"cells\":{\"fill\":{\"color\":\"#EBF0F8\"},\"line\":{\"color\":\"white\"}},\"header\":{\"fill\":{\"color\":\"#C8D4E3\"},\"line\":{\"color\":\"white\"}},\"type\":\"table\"}],\"barpolar\":[{\"marker\":{\"line\":{\"color\":\"#E5ECF6\",\"width\":0.5},\"pattern\":{\"fillmode\":\"overlay\",\"size\":10,\"solidity\":0.2}},\"type\":\"barpolar\"}],\"pie\":[{\"automargin\":true,\"type\":\"pie\"}]},\"layout\":{\"autotypenumbers\":\"strict\",\"colorway\":[\"#636efa\",\"#EF553B\",\"#00cc96\",\"#ab63fa\",\"#FFA15A\",\"#19d3f3\",\"#FF6692\",\"#B6E880\",\"#FF97FF\",\"#FECB52\"],\"font\":{\"color\":\"#2a3f5f\"},\"hovermode\":\"closest\",\"hoverlabel\":{\"align\":\"left\"},\"paper_bgcolor\":\"white\",\"plot_bgcolor\":\"#E5ECF6\",\"polar\":{\"bgcolor\":\"#E5ECF6\",\"angularaxis\":{\"gridcolor\":\"white\",\"linecolor\":\"white\",\"ticks\":\"\"},\"radialaxis\":{\"gridcolor\":\"white\",\"linecolor\":\"white\",\"ticks\":\"\"}},\"ternary\":{\"bgcolor\":\"#E5ECF6\",\"aaxis\":{\"gridcolor\":\"white\",\"linecolor\":\"white\",\"ticks\":\"\"},\"baxis\":{\"gridcolor\":\"white\",\"linecolor\":\"white\",\"ticks\":\"\"},\"caxis\":{\"gridcolor\":\"white\",\"linecolor\":\"white\",\"ticks\":\"\"}},\"coloraxis\":{\"colorbar\":{\"outlinewidth\":0,\"ticks\":\"\"}},\"colorscale\":{\"sequential\":[[0.0,\"#0d0887\"],[0.1111111111111111,\"#46039f\"],[0.2222222222222222,\"#7201a8\"],[0.3333333333333333,\"#9c179e\"],[0.4444444444444444,\"#bd3786\"],[0.5555555555555556,\"#d8576b\"],[0.6666666666666666,\"#ed7953\"],[0.7777777777777778,\"#fb9f3a\"],[0.8888888888888888,\"#fdca26\"],[1.0,\"#f0f921\"]],\"sequentialminus\":[[0.0,\"#0d0887\"],[0.1111111111111111,\"#46039f\"],[0.2222222222222222,\"#7201a8\"],[0.3333333333333333,\"#9c179e\"],[0.4444444444444444,\"#bd3786\"],[0.5555555555555556,\"#d8576b\"],[0.6666666666666666,\"#ed7953\"],[0.7777777777777778,\"#fb9f3a\"],[0.8888888888888888,\"#fdca26\"],[1.0,\"#f0f921\"]],\"diverging\":[[0,\"#8e0152\"],[0.1,\"#c51b7d\"],[0.2,\"#de77ae\"],[0.3,\"#f1b6da\"],[0.4,\"#fde0ef\"],[0.5,\"#f7f7f7\"],[0.6,\"#e6f5d0\"],[0.7,\"#b8e186\"],[0.8,\"#7fbc41\"],[0.9,\"#4d9221\"],[1,\"#276419\"]]},\"xaxis\":{\"gridcolor\":\"white\",\"linecolor\":\"white\",\"ticks\":\"\",\"title\":{\"standoff\":15},\"zerolinecolor\":\"white\",\"automargin\":true,\"zerolinewidth\":2},\"yaxis\":{\"gridcolor\":\"white\",\"linecolor\":\"white\",\"ticks\":\"\",\"title\":{\"standoff\":15},\"zerolinecolor\":\"white\",\"automargin\":true,\"zerolinewidth\":2},\"scene\":{\"xaxis\":{\"backgroundcolor\":\"#E5ECF6\",\"gridcolor\":\"white\",\"linecolor\":\"white\",\"showbackground\":true,\"ticks\":\"\",\"zerolinecolor\":\"white\",\"gridwidth\":2},\"yaxis\":{\"backgroundcolor\":\"#E5ECF6\",\"gridcolor\":\"white\",\"linecolor\":\"white\",\"showbackground\":true,\"ticks\":\"\",\"zerolinecolor\":\"white\",\"gridwidth\":2},\"zaxis\":{\"backgroundcolor\":\"#E5ECF6\",\"gridcolor\":\"white\",\"linecolor\":\"white\",\"showbackground\":true,\"ticks\":\"\",\"zerolinecolor\":\"white\",\"gridwidth\":2}},\"shapedefaults\":{\"line\":{\"color\":\"#2a3f5f\"}},\"annotationdefaults\":{\"arrowcolor\":\"#2a3f5f\",\"arrowhead\":0,\"arrowwidth\":1},\"geo\":{\"bgcolor\":\"white\",\"landcolor\":\"#E5ECF6\",\"subunitcolor\":\"white\",\"showland\":true,\"showlakes\":true,\"lakecolor\":\"white\"},\"title\":{\"x\":0.05},\"mapbox\":{\"style\":\"light\"}}},\"xaxis\":{\"anchor\":\"y\",\"domain\":[0.0,1.0],\"title\":{\"text\":\"ultimo_contacto\"}},\"yaxis\":{\"anchor\":\"x\",\"domain\":[0.0,1.0]},\"legend\":{\"title\":{\"text\":\"adherencia_inversion\"},\"tracegroupgap\":0},\"margin\":{\"t\":60},\"boxmode\":\"group\"},                        {\"responsive\": true}                    ).then(function(){\n",
              "                            \n",
              "var gd = document.getElementById('6d230b1e-3d53-41f1-94ce-39c9fc1a79c5');\n",
              "var x = new MutationObserver(function (mutations, observer) {{\n",
              "        var display = window.getComputedStyle(gd).display;\n",
              "        if (!display || display === 'none') {{\n",
              "            console.log([gd, 'removed!']);\n",
              "            Plotly.purge(gd);\n",
              "            observer.disconnect();\n",
              "        }}\n",
              "}});\n",
              "\n",
              "// Listen for the removal of the full notebook cells\n",
              "var notebookContainer = gd.closest('#notebook-container');\n",
              "if (notebookContainer) {{\n",
              "    x.observe(notebookContainer, {childList: true});\n",
              "}}\n",
              "\n",
              "// Listen for the clearing of the current output cell\n",
              "var outputEl = gd.closest('.output');\n",
              "if (outputEl) {{\n",
              "    x.observe(outputEl, {childList: true});\n",
              "}}\n",
              "\n",
              "                        })                };                            </script>        </div>\n",
              "</body>\n",
              "</html>"
            ]
          },
          "metadata": {}
        }
      ]
    },
    {
      "cell_type": "code",
      "source": [
        "px.box(datos, x='ct_contactos', color='adherencia_inversion')"
      ],
      "metadata": {
        "id": "ZjAzrJWjBW6m",
        "colab": {
          "base_uri": "https://localhost:8080/",
          "height": 542
        },
        "outputId": "4bc9282a-c6bd-4082-9730-4e4cbaa93dfc"
      },
      "execution_count": 21,
      "outputs": [
        {
          "output_type": "display_data",
          "data": {
            "text/html": [
              "<html>\n",
              "<head><meta charset=\"utf-8\" /></head>\n",
              "<body>\n",
              "    <div>            <script src=\"https://cdnjs.cloudflare.com/ajax/libs/mathjax/2.7.5/MathJax.js?config=TeX-AMS-MML_SVG\"></script><script type=\"text/javascript\">if (window.MathJax && window.MathJax.Hub && window.MathJax.Hub.Config) {window.MathJax.Hub.Config({SVG: {font: \"STIX-Web\"}});}</script>                <script type=\"text/javascript\">window.PlotlyConfig = {MathJaxConfig: 'local'};</script>\n",
              "        <script charset=\"utf-8\" src=\"https://cdn.plot.ly/plotly-2.35.2.min.js\"></script>                <div id=\"0aa71b37-e108-4002-a291-53a684b35825\" class=\"plotly-graph-div\" style=\"height:525px; width:100%;\"></div>            <script type=\"text/javascript\">                                    window.PLOTLYENV=window.PLOTLYENV || {};                                    if (document.getElementById(\"0aa71b37-e108-4002-a291-53a684b35825\")) {                    Plotly.newPlot(                        \"0aa71b37-e108-4002-a291-53a684b35825\",                        [{\"alignmentgroup\":\"True\",\"hovertemplate\":\"adherencia_inversion=si\\u003cbr\\u003ect_contactos=%{x}\\u003cextra\\u003e\\u003c\\u002fextra\\u003e\",\"legendgroup\":\"si\",\"marker\":{\"color\":\"#636efa\"},\"name\":\"si\",\"notched\":false,\"offsetgroup\":\"si\",\"orientation\":\"h\",\"showlegend\":true,\"x\":[1,4,1,4,1,4,2,1,1,2,7,1,2,1,1,1,7,1,1,2,2,1,5,1,5,1,2,13,1,1,3,1,1,2,1,1,2,5,4,1,1,2,1,7,1,1,2,2,1,6,1,1,1,2,1,3,1,2,2,1,2,2,2,1,4,2,1,1,1,1,1,1,1,1,1,1,1,2,3,1,1,1,6,2,1,1,1,1,1,1,2,1,1,3,1,1,2,1,2,3,2,1,1,4,8,2,1,1,1,3,1,1,1,3,2,1,4,2,1,1,1,2,1,2,1,3,1,2,2,2,1,2,4,4,1,4,2,1,1,3,5,1,1,2,4,2,1,8,1,2,2,1,4,1,1,4,1,3,1,1,1,4,6,1,2,1,1,1,1,2,4,1,1,2,6,3,1,1,1,1,1,2,3,3,3,1,1,2,1,2,2,2,3,1,4,3,2,3,2,6,1,2,3,1,2,3,7,3,2,4,2,1,2,2,3,1,9,1,2,3,3,2,1,1,13,6,2,1,1,1,2,2,1,2,3,1,12,1,2,1,2,4,1,5,2,4,2,4,1,3,3,4,1,6,1,1,2,4,1,2,1,2,2,2,4,6,2,24,3,1,2,2,2,1,1,1,1,1,1,2,1,5,1,2,4,2,4,4,1,1,4,6,1,4,2,1,2,1,1,2,2,7,1,1,2,2,2,2,4,1,1,2,1,1,1,2,1,1,4,4,2,1,2,6,3,1,3,3,5,3,2,1,3,1,2,4,1,2,3,1,8,2,2,1,3,2,3,3,1,4,1,1,4,3,1,1,1,1,1,3,2,4,2,2,1,1,2,1,1,1,2,1,3,1,1,2,2,1,2,2,1,3,1,3,1,1,2,1,6,1,1,1,1,1,3,3,2,2,4,1,5,1,2,6,4,1,6,4,1,3,1,1,2,4,3,3,3,2,1,2,2,1,4,5,1,1,2,2,1,1,2,1,1,1,9,1,2,10,4,2,1,3,6,3,1,1,3,3,1,1,1,2,1,1,2,2,3,1,3,1,1,1,2,8,1,1,1,2,4,1,2,3,1,1,1,2,1,1,1,1,2,1,1,1,7,2,1,1,4,2,2,2,1,2,1,2,3,6,1,2,3,2],\"x0\":\" \",\"xaxis\":\"x\",\"y0\":\" \",\"yaxis\":\"y\",\"type\":\"box\"},{\"alignmentgroup\":\"True\",\"hovertemplate\":\"adherencia_inversion=no\\u003cbr\\u003ect_contactos=%{x}\\u003cextra\\u003e\\u003c\\u002fextra\\u003e\",\"legendgroup\":\"no\",\"marker\":{\"color\":\"#EF553B\"},\"name\":\"no\",\"notched\":false,\"offsetgroup\":\"no\",\"orientation\":\"h\",\"showlegend\":true,\"x\":[18,1,1,2,2,3,5,1,2,2,2,5,1,1,1,1,2,6,2,1,1,1,5,3,3,3,4,1,13,8,1,5,3,2,2,3,1,2,1,4,4,9,2,4,1,3,8,2,5,2,1,2,1,2,2,1,4,12,3,1,3,2,1,1,3,3,2,1,1,2,1,1,2,2,4,3,2,2,2,1,6,2,2,2,4,2,2,1,2,1,2,5,1,3,3,3,8,6,2,4,2,1,1,1,2,2,2,1,1,2,1,1,1,2,3,3,2,3,1,1,1,4,1,1,1,1,1,1,2,2,2,6,1,1,1,1,2,12,17,1,2,1,1,2,2,1,2,3,2,2,2,4,2,1,2,2,2,1,2,1,2,2,1,2,3,2,3,1,2,1,6,2,2,1,4,2,2,1,8,3,14,6,4,2,2,1,5,1,4,1,1,2,6,12,2,2,1,3,10,5,3,4,2,4,2,2,1,1,1,2,3,1,4,2,3,2,1,1,2,6,3,3,1,8,1,5,2,3,1,6,2,1,1,1,5,7,1,1,1,2,2,2,8,2,6,1,1,3,1,1,6,12,2,3,1,2,1,1,1,2,1,2,1,3,1,12,1,2,6,8,2,1,1,2,2,3,4,7,1,2,4,2,3,3,2,3,3,2,1,13,2,1,1,6,2,4,6,1,7,6,3,1,1,13,2,2,2,1,4,1,16,10,3,1,3,2,3,1,6,1,1,1,4,10,2,1,5,1,10,9,1,1,4,4,6,1,2,2,2,1,1,1,2,2,3,7,6,1,1,2,2,1,1,5,2,6,2,4,3,6,11,3,1,2,7,5,2,8,1,1,3,2,1,2,1,2,1,1,1,3,2,8,12,1,1,1,4,1,2,18,3,11,1,2,2,2,2,1,1,1,2,1,2,1,7,2,4,4,11,1,2,2,2,2,1,1,1,1,6,1,3,1,2,1,2,2,1,1,2,1,2,3,1,1,2,1,13,3,2,5,4,2,2,6,2,4,1,17,1,2,4,5,3,3,2,2,1,5,6,2,1,2,2,2,1,1,5,11,1,1,4,1,5,1,3,1,1,2,1,2,1,2,1,1,2,1,4,2,2,1,1,1,2,3,32,6,3,1,6,3,5,2,1,3,3,2,5,6,1,3,3,1,1,3,2,1,2,15,1,2,1,1,1,1,12,3,14,5,1,3,18,2,2,2,1,3,1,3,3,3,1,8,1,2,1,1,1,4,8,1,2,2,5,8,5,1,6,2,2,2,1,6,4,1,3,2,2,1,12,2,7,1,1,3,1,3,1,2,3,4,2,1,3,2,2,7,6,1,5,2,2,8,1,1,1,1,1,2,1,4,4,2,2,6,3,2,1,1,5,2,3,1,6,1,3,5,1,1,2,5,4,3,1,2,1,2,3,6,10,1,3,12,2,3,2,1,1,1,1,1,1,2,1,1,1,1,4,1,3,1,3,2,7,1,2,2,5,2,2,4,1,1,1,16,2,2,1,2,1,3,1,2,2,2,1,3,1,1,1,1,1,6,3,1,1,5,1,1,6,4,2,1,2,2,1,2,2,2,1,1,3,2,7,6,8,6,3,1,3,2,1,3,29,6,1,4,1,7,2,11,11,2,1,1,2,2,1,1,1,2,1,3,2,7,1,3,6,1,2,2,32,1,3,4,4,3,4,3,5,1,4,1,5,1,4,2,1,1,1,4,1,4,1,1,2,2],\"x0\":\" \",\"xaxis\":\"x\",\"y0\":\" \",\"yaxis\":\"y\",\"type\":\"box\"}],                        {\"template\":{\"data\":{\"histogram2dcontour\":[{\"type\":\"histogram2dcontour\",\"colorbar\":{\"outlinewidth\":0,\"ticks\":\"\"},\"colorscale\":[[0.0,\"#0d0887\"],[0.1111111111111111,\"#46039f\"],[0.2222222222222222,\"#7201a8\"],[0.3333333333333333,\"#9c179e\"],[0.4444444444444444,\"#bd3786\"],[0.5555555555555556,\"#d8576b\"],[0.6666666666666666,\"#ed7953\"],[0.7777777777777778,\"#fb9f3a\"],[0.8888888888888888,\"#fdca26\"],[1.0,\"#f0f921\"]]}],\"choropleth\":[{\"type\":\"choropleth\",\"colorbar\":{\"outlinewidth\":0,\"ticks\":\"\"}}],\"histogram2d\":[{\"type\":\"histogram2d\",\"colorbar\":{\"outlinewidth\":0,\"ticks\":\"\"},\"colorscale\":[[0.0,\"#0d0887\"],[0.1111111111111111,\"#46039f\"],[0.2222222222222222,\"#7201a8\"],[0.3333333333333333,\"#9c179e\"],[0.4444444444444444,\"#bd3786\"],[0.5555555555555556,\"#d8576b\"],[0.6666666666666666,\"#ed7953\"],[0.7777777777777778,\"#fb9f3a\"],[0.8888888888888888,\"#fdca26\"],[1.0,\"#f0f921\"]]}],\"heatmap\":[{\"type\":\"heatmap\",\"colorbar\":{\"outlinewidth\":0,\"ticks\":\"\"},\"colorscale\":[[0.0,\"#0d0887\"],[0.1111111111111111,\"#46039f\"],[0.2222222222222222,\"#7201a8\"],[0.3333333333333333,\"#9c179e\"],[0.4444444444444444,\"#bd3786\"],[0.5555555555555556,\"#d8576b\"],[0.6666666666666666,\"#ed7953\"],[0.7777777777777778,\"#fb9f3a\"],[0.8888888888888888,\"#fdca26\"],[1.0,\"#f0f921\"]]}],\"heatmapgl\":[{\"type\":\"heatmapgl\",\"colorbar\":{\"outlinewidth\":0,\"ticks\":\"\"},\"colorscale\":[[0.0,\"#0d0887\"],[0.1111111111111111,\"#46039f\"],[0.2222222222222222,\"#7201a8\"],[0.3333333333333333,\"#9c179e\"],[0.4444444444444444,\"#bd3786\"],[0.5555555555555556,\"#d8576b\"],[0.6666666666666666,\"#ed7953\"],[0.7777777777777778,\"#fb9f3a\"],[0.8888888888888888,\"#fdca26\"],[1.0,\"#f0f921\"]]}],\"contourcarpet\":[{\"type\":\"contourcarpet\",\"colorbar\":{\"outlinewidth\":0,\"ticks\":\"\"}}],\"contour\":[{\"type\":\"contour\",\"colorbar\":{\"outlinewidth\":0,\"ticks\":\"\"},\"colorscale\":[[0.0,\"#0d0887\"],[0.1111111111111111,\"#46039f\"],[0.2222222222222222,\"#7201a8\"],[0.3333333333333333,\"#9c179e\"],[0.4444444444444444,\"#bd3786\"],[0.5555555555555556,\"#d8576b\"],[0.6666666666666666,\"#ed7953\"],[0.7777777777777778,\"#fb9f3a\"],[0.8888888888888888,\"#fdca26\"],[1.0,\"#f0f921\"]]}],\"surface\":[{\"type\":\"surface\",\"colorbar\":{\"outlinewidth\":0,\"ticks\":\"\"},\"colorscale\":[[0.0,\"#0d0887\"],[0.1111111111111111,\"#46039f\"],[0.2222222222222222,\"#7201a8\"],[0.3333333333333333,\"#9c179e\"],[0.4444444444444444,\"#bd3786\"],[0.5555555555555556,\"#d8576b\"],[0.6666666666666666,\"#ed7953\"],[0.7777777777777778,\"#fb9f3a\"],[0.8888888888888888,\"#fdca26\"],[1.0,\"#f0f921\"]]}],\"mesh3d\":[{\"type\":\"mesh3d\",\"colorbar\":{\"outlinewidth\":0,\"ticks\":\"\"}}],\"scatter\":[{\"fillpattern\":{\"fillmode\":\"overlay\",\"size\":10,\"solidity\":0.2},\"type\":\"scatter\"}],\"parcoords\":[{\"type\":\"parcoords\",\"line\":{\"colorbar\":{\"outlinewidth\":0,\"ticks\":\"\"}}}],\"scatterpolargl\":[{\"type\":\"scatterpolargl\",\"marker\":{\"colorbar\":{\"outlinewidth\":0,\"ticks\":\"\"}}}],\"bar\":[{\"error_x\":{\"color\":\"#2a3f5f\"},\"error_y\":{\"color\":\"#2a3f5f\"},\"marker\":{\"line\":{\"color\":\"#E5ECF6\",\"width\":0.5},\"pattern\":{\"fillmode\":\"overlay\",\"size\":10,\"solidity\":0.2}},\"type\":\"bar\"}],\"scattergeo\":[{\"type\":\"scattergeo\",\"marker\":{\"colorbar\":{\"outlinewidth\":0,\"ticks\":\"\"}}}],\"scatterpolar\":[{\"type\":\"scatterpolar\",\"marker\":{\"colorbar\":{\"outlinewidth\":0,\"ticks\":\"\"}}}],\"histogram\":[{\"marker\":{\"pattern\":{\"fillmode\":\"overlay\",\"size\":10,\"solidity\":0.2}},\"type\":\"histogram\"}],\"scattergl\":[{\"type\":\"scattergl\",\"marker\":{\"colorbar\":{\"outlinewidth\":0,\"ticks\":\"\"}}}],\"scatter3d\":[{\"type\":\"scatter3d\",\"line\":{\"colorbar\":{\"outlinewidth\":0,\"ticks\":\"\"}},\"marker\":{\"colorbar\":{\"outlinewidth\":0,\"ticks\":\"\"}}}],\"scattermapbox\":[{\"type\":\"scattermapbox\",\"marker\":{\"colorbar\":{\"outlinewidth\":0,\"ticks\":\"\"}}}],\"scatterternary\":[{\"type\":\"scatterternary\",\"marker\":{\"colorbar\":{\"outlinewidth\":0,\"ticks\":\"\"}}}],\"scattercarpet\":[{\"type\":\"scattercarpet\",\"marker\":{\"colorbar\":{\"outlinewidth\":0,\"ticks\":\"\"}}}],\"carpet\":[{\"aaxis\":{\"endlinecolor\":\"#2a3f5f\",\"gridcolor\":\"white\",\"linecolor\":\"white\",\"minorgridcolor\":\"white\",\"startlinecolor\":\"#2a3f5f\"},\"baxis\":{\"endlinecolor\":\"#2a3f5f\",\"gridcolor\":\"white\",\"linecolor\":\"white\",\"minorgridcolor\":\"white\",\"startlinecolor\":\"#2a3f5f\"},\"type\":\"carpet\"}],\"table\":[{\"cells\":{\"fill\":{\"color\":\"#EBF0F8\"},\"line\":{\"color\":\"white\"}},\"header\":{\"fill\":{\"color\":\"#C8D4E3\"},\"line\":{\"color\":\"white\"}},\"type\":\"table\"}],\"barpolar\":[{\"marker\":{\"line\":{\"color\":\"#E5ECF6\",\"width\":0.5},\"pattern\":{\"fillmode\":\"overlay\",\"size\":10,\"solidity\":0.2}},\"type\":\"barpolar\"}],\"pie\":[{\"automargin\":true,\"type\":\"pie\"}]},\"layout\":{\"autotypenumbers\":\"strict\",\"colorway\":[\"#636efa\",\"#EF553B\",\"#00cc96\",\"#ab63fa\",\"#FFA15A\",\"#19d3f3\",\"#FF6692\",\"#B6E880\",\"#FF97FF\",\"#FECB52\"],\"font\":{\"color\":\"#2a3f5f\"},\"hovermode\":\"closest\",\"hoverlabel\":{\"align\":\"left\"},\"paper_bgcolor\":\"white\",\"plot_bgcolor\":\"#E5ECF6\",\"polar\":{\"bgcolor\":\"#E5ECF6\",\"angularaxis\":{\"gridcolor\":\"white\",\"linecolor\":\"white\",\"ticks\":\"\"},\"radialaxis\":{\"gridcolor\":\"white\",\"linecolor\":\"white\",\"ticks\":\"\"}},\"ternary\":{\"bgcolor\":\"#E5ECF6\",\"aaxis\":{\"gridcolor\":\"white\",\"linecolor\":\"white\",\"ticks\":\"\"},\"baxis\":{\"gridcolor\":\"white\",\"linecolor\":\"white\",\"ticks\":\"\"},\"caxis\":{\"gridcolor\":\"white\",\"linecolor\":\"white\",\"ticks\":\"\"}},\"coloraxis\":{\"colorbar\":{\"outlinewidth\":0,\"ticks\":\"\"}},\"colorscale\":{\"sequential\":[[0.0,\"#0d0887\"],[0.1111111111111111,\"#46039f\"],[0.2222222222222222,\"#7201a8\"],[0.3333333333333333,\"#9c179e\"],[0.4444444444444444,\"#bd3786\"],[0.5555555555555556,\"#d8576b\"],[0.6666666666666666,\"#ed7953\"],[0.7777777777777778,\"#fb9f3a\"],[0.8888888888888888,\"#fdca26\"],[1.0,\"#f0f921\"]],\"sequentialminus\":[[0.0,\"#0d0887\"],[0.1111111111111111,\"#46039f\"],[0.2222222222222222,\"#7201a8\"],[0.3333333333333333,\"#9c179e\"],[0.4444444444444444,\"#bd3786\"],[0.5555555555555556,\"#d8576b\"],[0.6666666666666666,\"#ed7953\"],[0.7777777777777778,\"#fb9f3a\"],[0.8888888888888888,\"#fdca26\"],[1.0,\"#f0f921\"]],\"diverging\":[[0,\"#8e0152\"],[0.1,\"#c51b7d\"],[0.2,\"#de77ae\"],[0.3,\"#f1b6da\"],[0.4,\"#fde0ef\"],[0.5,\"#f7f7f7\"],[0.6,\"#e6f5d0\"],[0.7,\"#b8e186\"],[0.8,\"#7fbc41\"],[0.9,\"#4d9221\"],[1,\"#276419\"]]},\"xaxis\":{\"gridcolor\":\"white\",\"linecolor\":\"white\",\"ticks\":\"\",\"title\":{\"standoff\":15},\"zerolinecolor\":\"white\",\"automargin\":true,\"zerolinewidth\":2},\"yaxis\":{\"gridcolor\":\"white\",\"linecolor\":\"white\",\"ticks\":\"\",\"title\":{\"standoff\":15},\"zerolinecolor\":\"white\",\"automargin\":true,\"zerolinewidth\":2},\"scene\":{\"xaxis\":{\"backgroundcolor\":\"#E5ECF6\",\"gridcolor\":\"white\",\"linecolor\":\"white\",\"showbackground\":true,\"ticks\":\"\",\"zerolinecolor\":\"white\",\"gridwidth\":2},\"yaxis\":{\"backgroundcolor\":\"#E5ECF6\",\"gridcolor\":\"white\",\"linecolor\":\"white\",\"showbackground\":true,\"ticks\":\"\",\"zerolinecolor\":\"white\",\"gridwidth\":2},\"zaxis\":{\"backgroundcolor\":\"#E5ECF6\",\"gridcolor\":\"white\",\"linecolor\":\"white\",\"showbackground\":true,\"ticks\":\"\",\"zerolinecolor\":\"white\",\"gridwidth\":2}},\"shapedefaults\":{\"line\":{\"color\":\"#2a3f5f\"}},\"annotationdefaults\":{\"arrowcolor\":\"#2a3f5f\",\"arrowhead\":0,\"arrowwidth\":1},\"geo\":{\"bgcolor\":\"white\",\"landcolor\":\"#E5ECF6\",\"subunitcolor\":\"white\",\"showland\":true,\"showlakes\":true,\"lakecolor\":\"white\"},\"title\":{\"x\":0.05},\"mapbox\":{\"style\":\"light\"}}},\"xaxis\":{\"anchor\":\"y\",\"domain\":[0.0,1.0],\"title\":{\"text\":\"ct_contactos\"}},\"yaxis\":{\"anchor\":\"x\",\"domain\":[0.0,1.0]},\"legend\":{\"title\":{\"text\":\"adherencia_inversion\"},\"tracegroupgap\":0},\"margin\":{\"t\":60},\"boxmode\":\"group\"},                        {\"responsive\": true}                    ).then(function(){\n",
              "                            \n",
              "var gd = document.getElementById('0aa71b37-e108-4002-a291-53a684b35825');\n",
              "var x = new MutationObserver(function (mutations, observer) {{\n",
              "        var display = window.getComputedStyle(gd).display;\n",
              "        if (!display || display === 'none') {{\n",
              "            console.log([gd, 'removed!']);\n",
              "            Plotly.purge(gd);\n",
              "            observer.disconnect();\n",
              "        }}\n",
              "}});\n",
              "\n",
              "// Listen for the removal of the full notebook cells\n",
              "var notebookContainer = gd.closest('#notebook-container');\n",
              "if (notebookContainer) {{\n",
              "    x.observe(notebookContainer, {childList: true});\n",
              "}}\n",
              "\n",
              "// Listen for the clearing of the current output cell\n",
              "var outputEl = gd.closest('.output');\n",
              "if (outputEl) {{\n",
              "    x.observe(outputEl, {childList: true});\n",
              "}}\n",
              "\n",
              "                        })                };                            </script>        </div>\n",
              "</body>\n",
              "</html>"
            ]
          },
          "metadata": {}
        }
      ]
    },
    {
      "cell_type": "markdown",
      "source": [
        "# 2. Tranformación de los datos"
      ],
      "metadata": {
        "id": "NGNspq7WoGrH"
      }
    },
    {
      "cell_type": "markdown",
      "source": [
        "## Variables explicativas y variable de respuesta"
      ],
      "metadata": {
        "id": "EZIgFOVLmg5v"
      }
    },
    {
      "cell_type": "markdown",
      "source": [
        "Para realizar la predicción de los valores con un modelo de aprendizaje automático, necesitamos separar la variable objetivo de las variables explicativas. La variable **y** representa lo que queremos predecir, mientras que **x** incluye todas las variables que se utilizarán para explicar el comportamiento de **y**."
      ],
      "metadata": {
        "id": "Ji18mcM3In44"
      }
    },
    {
      "cell_type": "code",
      "source": [
        "#separar variable explicativa de la variable respuesta (adherencia_inversion)\n",
        "datos"
      ],
      "metadata": {
        "id": "cAo4uhHRA9Jb",
        "colab": {
          "base_uri": "https://localhost:8080/",
          "height": 423
        },
        "outputId": "139ab3d1-47fb-4609-f3ba-d4f11677e845"
      },
      "execution_count": 24,
      "outputs": [
        {
          "output_type": "execute_result",
          "data": {
            "text/plain": [
              "      edad    estado_civil escolaridad default  saldo prestatario  \\\n",
              "0       45      casado (a)    superior      no    242          no   \n",
              "1       42      casado (a)  secundaria      no   1289          no   \n",
              "2       23     soltero (a)    superior      no    363          no   \n",
              "3       58  divorciado (a)    superior      no   1382          no   \n",
              "4       50      casado (a)  secundaria      no   3357          no   \n",
              "...    ...             ...         ...     ...    ...         ...   \n",
              "1263    52     soltero (a)    superior      no     83          no   \n",
              "1264    35     soltero (a)    superior      no   5958          no   \n",
              "1265    30     soltero (a)    superior      no   -477          si   \n",
              "1266    42      casado (a)    superior      no   2187          no   \n",
              "1267    29     soltero (a)    superior      no     19          no   \n",
              "\n",
              "      ultimo_contacto  ct_contactos adherencia_inversion  \n",
              "0                 587             1                   si  \n",
              "1                 250             4                   si  \n",
              "2                  16            18                   no  \n",
              "3                 700             1                   si  \n",
              "4                 239             4                   si  \n",
              "...               ...           ...                  ...  \n",
              "1263             1223             6                   si  \n",
              "1264              215             1                   si  \n",
              "1265             1532             2                   si  \n",
              "1266              525             3                   si  \n",
              "1267              110             2                   si  \n",
              "\n",
              "[1268 rows x 9 columns]"
            ],
            "text/html": [
              "\n",
              "  <div id=\"df-5215d326-bddc-4910-9a11-9d191f9eddf3\" class=\"colab-df-container\">\n",
              "    <div>\n",
              "<style scoped>\n",
              "    .dataframe tbody tr th:only-of-type {\n",
              "        vertical-align: middle;\n",
              "    }\n",
              "\n",
              "    .dataframe tbody tr th {\n",
              "        vertical-align: top;\n",
              "    }\n",
              "\n",
              "    .dataframe thead th {\n",
              "        text-align: right;\n",
              "    }\n",
              "</style>\n",
              "<table border=\"1\" class=\"dataframe\">\n",
              "  <thead>\n",
              "    <tr style=\"text-align: right;\">\n",
              "      <th></th>\n",
              "      <th>edad</th>\n",
              "      <th>estado_civil</th>\n",
              "      <th>escolaridad</th>\n",
              "      <th>default</th>\n",
              "      <th>saldo</th>\n",
              "      <th>prestatario</th>\n",
              "      <th>ultimo_contacto</th>\n",
              "      <th>ct_contactos</th>\n",
              "      <th>adherencia_inversion</th>\n",
              "    </tr>\n",
              "  </thead>\n",
              "  <tbody>\n",
              "    <tr>\n",
              "      <th>0</th>\n",
              "      <td>45</td>\n",
              "      <td>casado (a)</td>\n",
              "      <td>superior</td>\n",
              "      <td>no</td>\n",
              "      <td>242</td>\n",
              "      <td>no</td>\n",
              "      <td>587</td>\n",
              "      <td>1</td>\n",
              "      <td>si</td>\n",
              "    </tr>\n",
              "    <tr>\n",
              "      <th>1</th>\n",
              "      <td>42</td>\n",
              "      <td>casado (a)</td>\n",
              "      <td>secundaria</td>\n",
              "      <td>no</td>\n",
              "      <td>1289</td>\n",
              "      <td>no</td>\n",
              "      <td>250</td>\n",
              "      <td>4</td>\n",
              "      <td>si</td>\n",
              "    </tr>\n",
              "    <tr>\n",
              "      <th>2</th>\n",
              "      <td>23</td>\n",
              "      <td>soltero (a)</td>\n",
              "      <td>superior</td>\n",
              "      <td>no</td>\n",
              "      <td>363</td>\n",
              "      <td>no</td>\n",
              "      <td>16</td>\n",
              "      <td>18</td>\n",
              "      <td>no</td>\n",
              "    </tr>\n",
              "    <tr>\n",
              "      <th>3</th>\n",
              "      <td>58</td>\n",
              "      <td>divorciado (a)</td>\n",
              "      <td>superior</td>\n",
              "      <td>no</td>\n",
              "      <td>1382</td>\n",
              "      <td>no</td>\n",
              "      <td>700</td>\n",
              "      <td>1</td>\n",
              "      <td>si</td>\n",
              "    </tr>\n",
              "    <tr>\n",
              "      <th>4</th>\n",
              "      <td>50</td>\n",
              "      <td>casado (a)</td>\n",
              "      <td>secundaria</td>\n",
              "      <td>no</td>\n",
              "      <td>3357</td>\n",
              "      <td>no</td>\n",
              "      <td>239</td>\n",
              "      <td>4</td>\n",
              "      <td>si</td>\n",
              "    </tr>\n",
              "    <tr>\n",
              "      <th>...</th>\n",
              "      <td>...</td>\n",
              "      <td>...</td>\n",
              "      <td>...</td>\n",
              "      <td>...</td>\n",
              "      <td>...</td>\n",
              "      <td>...</td>\n",
              "      <td>...</td>\n",
              "      <td>...</td>\n",
              "      <td>...</td>\n",
              "    </tr>\n",
              "    <tr>\n",
              "      <th>1263</th>\n",
              "      <td>52</td>\n",
              "      <td>soltero (a)</td>\n",
              "      <td>superior</td>\n",
              "      <td>no</td>\n",
              "      <td>83</td>\n",
              "      <td>no</td>\n",
              "      <td>1223</td>\n",
              "      <td>6</td>\n",
              "      <td>si</td>\n",
              "    </tr>\n",
              "    <tr>\n",
              "      <th>1264</th>\n",
              "      <td>35</td>\n",
              "      <td>soltero (a)</td>\n",
              "      <td>superior</td>\n",
              "      <td>no</td>\n",
              "      <td>5958</td>\n",
              "      <td>no</td>\n",
              "      <td>215</td>\n",
              "      <td>1</td>\n",
              "      <td>si</td>\n",
              "    </tr>\n",
              "    <tr>\n",
              "      <th>1265</th>\n",
              "      <td>30</td>\n",
              "      <td>soltero (a)</td>\n",
              "      <td>superior</td>\n",
              "      <td>no</td>\n",
              "      <td>-477</td>\n",
              "      <td>si</td>\n",
              "      <td>1532</td>\n",
              "      <td>2</td>\n",
              "      <td>si</td>\n",
              "    </tr>\n",
              "    <tr>\n",
              "      <th>1266</th>\n",
              "      <td>42</td>\n",
              "      <td>casado (a)</td>\n",
              "      <td>superior</td>\n",
              "      <td>no</td>\n",
              "      <td>2187</td>\n",
              "      <td>no</td>\n",
              "      <td>525</td>\n",
              "      <td>3</td>\n",
              "      <td>si</td>\n",
              "    </tr>\n",
              "    <tr>\n",
              "      <th>1267</th>\n",
              "      <td>29</td>\n",
              "      <td>soltero (a)</td>\n",
              "      <td>superior</td>\n",
              "      <td>no</td>\n",
              "      <td>19</td>\n",
              "      <td>no</td>\n",
              "      <td>110</td>\n",
              "      <td>2</td>\n",
              "      <td>si</td>\n",
              "    </tr>\n",
              "  </tbody>\n",
              "</table>\n",
              "<p>1268 rows × 9 columns</p>\n",
              "</div>\n",
              "    <div class=\"colab-df-buttons\">\n",
              "\n",
              "  <div class=\"colab-df-container\">\n",
              "    <button class=\"colab-df-convert\" onclick=\"convertToInteractive('df-5215d326-bddc-4910-9a11-9d191f9eddf3')\"\n",
              "            title=\"Convert this dataframe to an interactive table.\"\n",
              "            style=\"display:none;\">\n",
              "\n",
              "  <svg xmlns=\"http://www.w3.org/2000/svg\" height=\"24px\" viewBox=\"0 -960 960 960\">\n",
              "    <path d=\"M120-120v-720h720v720H120Zm60-500h600v-160H180v160Zm220 220h160v-160H400v160Zm0 220h160v-160H400v160ZM180-400h160v-160H180v160Zm440 0h160v-160H620v160ZM180-180h160v-160H180v160Zm440 0h160v-160H620v160Z\"/>\n",
              "  </svg>\n",
              "    </button>\n",
              "\n",
              "  <style>\n",
              "    .colab-df-container {\n",
              "      display:flex;\n",
              "      gap: 12px;\n",
              "    }\n",
              "\n",
              "    .colab-df-convert {\n",
              "      background-color: #E8F0FE;\n",
              "      border: none;\n",
              "      border-radius: 50%;\n",
              "      cursor: pointer;\n",
              "      display: none;\n",
              "      fill: #1967D2;\n",
              "      height: 32px;\n",
              "      padding: 0 0 0 0;\n",
              "      width: 32px;\n",
              "    }\n",
              "\n",
              "    .colab-df-convert:hover {\n",
              "      background-color: #E2EBFA;\n",
              "      box-shadow: 0px 1px 2px rgba(60, 64, 67, 0.3), 0px 1px 3px 1px rgba(60, 64, 67, 0.15);\n",
              "      fill: #174EA6;\n",
              "    }\n",
              "\n",
              "    .colab-df-buttons div {\n",
              "      margin-bottom: 4px;\n",
              "    }\n",
              "\n",
              "    [theme=dark] .colab-df-convert {\n",
              "      background-color: #3B4455;\n",
              "      fill: #D2E3FC;\n",
              "    }\n",
              "\n",
              "    [theme=dark] .colab-df-convert:hover {\n",
              "      background-color: #434B5C;\n",
              "      box-shadow: 0px 1px 3px 1px rgba(0, 0, 0, 0.15);\n",
              "      filter: drop-shadow(0px 1px 2px rgba(0, 0, 0, 0.3));\n",
              "      fill: #FFFFFF;\n",
              "    }\n",
              "  </style>\n",
              "\n",
              "    <script>\n",
              "      const buttonEl =\n",
              "        document.querySelector('#df-5215d326-bddc-4910-9a11-9d191f9eddf3 button.colab-df-convert');\n",
              "      buttonEl.style.display =\n",
              "        google.colab.kernel.accessAllowed ? 'block' : 'none';\n",
              "\n",
              "      async function convertToInteractive(key) {\n",
              "        const element = document.querySelector('#df-5215d326-bddc-4910-9a11-9d191f9eddf3');\n",
              "        const dataTable =\n",
              "          await google.colab.kernel.invokeFunction('convertToInteractive',\n",
              "                                                    [key], {});\n",
              "        if (!dataTable) return;\n",
              "\n",
              "        const docLinkHtml = 'Like what you see? Visit the ' +\n",
              "          '<a target=\"_blank\" href=https://colab.research.google.com/notebooks/data_table.ipynb>data table notebook</a>'\n",
              "          + ' to learn more about interactive tables.';\n",
              "        element.innerHTML = '';\n",
              "        dataTable['output_type'] = 'display_data';\n",
              "        await google.colab.output.renderOutput(dataTable, element);\n",
              "        const docLink = document.createElement('div');\n",
              "        docLink.innerHTML = docLinkHtml;\n",
              "        element.appendChild(docLink);\n",
              "      }\n",
              "    </script>\n",
              "  </div>\n",
              "\n",
              "\n",
              "    <div id=\"df-ef47e93a-7304-493d-9912-622d1505dd66\">\n",
              "      <button class=\"colab-df-quickchart\" onclick=\"quickchart('df-ef47e93a-7304-493d-9912-622d1505dd66')\"\n",
              "                title=\"Suggest charts\"\n",
              "                style=\"display:none;\">\n",
              "\n",
              "<svg xmlns=\"http://www.w3.org/2000/svg\" height=\"24px\"viewBox=\"0 0 24 24\"\n",
              "     width=\"24px\">\n",
              "    <g>\n",
              "        <path d=\"M19 3H5c-1.1 0-2 .9-2 2v14c0 1.1.9 2 2 2h14c1.1 0 2-.9 2-2V5c0-1.1-.9-2-2-2zM9 17H7v-7h2v7zm4 0h-2V7h2v10zm4 0h-2v-4h2v4z\"/>\n",
              "    </g>\n",
              "</svg>\n",
              "      </button>\n",
              "\n",
              "<style>\n",
              "  .colab-df-quickchart {\n",
              "      --bg-color: #E8F0FE;\n",
              "      --fill-color: #1967D2;\n",
              "      --hover-bg-color: #E2EBFA;\n",
              "      --hover-fill-color: #174EA6;\n",
              "      --disabled-fill-color: #AAA;\n",
              "      --disabled-bg-color: #DDD;\n",
              "  }\n",
              "\n",
              "  [theme=dark] .colab-df-quickchart {\n",
              "      --bg-color: #3B4455;\n",
              "      --fill-color: #D2E3FC;\n",
              "      --hover-bg-color: #434B5C;\n",
              "      --hover-fill-color: #FFFFFF;\n",
              "      --disabled-bg-color: #3B4455;\n",
              "      --disabled-fill-color: #666;\n",
              "  }\n",
              "\n",
              "  .colab-df-quickchart {\n",
              "    background-color: var(--bg-color);\n",
              "    border: none;\n",
              "    border-radius: 50%;\n",
              "    cursor: pointer;\n",
              "    display: none;\n",
              "    fill: var(--fill-color);\n",
              "    height: 32px;\n",
              "    padding: 0;\n",
              "    width: 32px;\n",
              "  }\n",
              "\n",
              "  .colab-df-quickchart:hover {\n",
              "    background-color: var(--hover-bg-color);\n",
              "    box-shadow: 0 1px 2px rgba(60, 64, 67, 0.3), 0 1px 3px 1px rgba(60, 64, 67, 0.15);\n",
              "    fill: var(--button-hover-fill-color);\n",
              "  }\n",
              "\n",
              "  .colab-df-quickchart-complete:disabled,\n",
              "  .colab-df-quickchart-complete:disabled:hover {\n",
              "    background-color: var(--disabled-bg-color);\n",
              "    fill: var(--disabled-fill-color);\n",
              "    box-shadow: none;\n",
              "  }\n",
              "\n",
              "  .colab-df-spinner {\n",
              "    border: 2px solid var(--fill-color);\n",
              "    border-color: transparent;\n",
              "    border-bottom-color: var(--fill-color);\n",
              "    animation:\n",
              "      spin 1s steps(1) infinite;\n",
              "  }\n",
              "\n",
              "  @keyframes spin {\n",
              "    0% {\n",
              "      border-color: transparent;\n",
              "      border-bottom-color: var(--fill-color);\n",
              "      border-left-color: var(--fill-color);\n",
              "    }\n",
              "    20% {\n",
              "      border-color: transparent;\n",
              "      border-left-color: var(--fill-color);\n",
              "      border-top-color: var(--fill-color);\n",
              "    }\n",
              "    30% {\n",
              "      border-color: transparent;\n",
              "      border-left-color: var(--fill-color);\n",
              "      border-top-color: var(--fill-color);\n",
              "      border-right-color: var(--fill-color);\n",
              "    }\n",
              "    40% {\n",
              "      border-color: transparent;\n",
              "      border-right-color: var(--fill-color);\n",
              "      border-top-color: var(--fill-color);\n",
              "    }\n",
              "    60% {\n",
              "      border-color: transparent;\n",
              "      border-right-color: var(--fill-color);\n",
              "    }\n",
              "    80% {\n",
              "      border-color: transparent;\n",
              "      border-right-color: var(--fill-color);\n",
              "      border-bottom-color: var(--fill-color);\n",
              "    }\n",
              "    90% {\n",
              "      border-color: transparent;\n",
              "      border-bottom-color: var(--fill-color);\n",
              "    }\n",
              "  }\n",
              "</style>\n",
              "\n",
              "      <script>\n",
              "        async function quickchart(key) {\n",
              "          const quickchartButtonEl =\n",
              "            document.querySelector('#' + key + ' button');\n",
              "          quickchartButtonEl.disabled = true;  // To prevent multiple clicks.\n",
              "          quickchartButtonEl.classList.add('colab-df-spinner');\n",
              "          try {\n",
              "            const charts = await google.colab.kernel.invokeFunction(\n",
              "                'suggestCharts', [key], {});\n",
              "          } catch (error) {\n",
              "            console.error('Error during call to suggestCharts:', error);\n",
              "          }\n",
              "          quickchartButtonEl.classList.remove('colab-df-spinner');\n",
              "          quickchartButtonEl.classList.add('colab-df-quickchart-complete');\n",
              "        }\n",
              "        (() => {\n",
              "          let quickchartButtonEl =\n",
              "            document.querySelector('#df-ef47e93a-7304-493d-9912-622d1505dd66 button');\n",
              "          quickchartButtonEl.style.display =\n",
              "            google.colab.kernel.accessAllowed ? 'block' : 'none';\n",
              "        })();\n",
              "      </script>\n",
              "    </div>\n",
              "\n",
              "  <div id=\"id_9b84f8d8-79f8-4cc2-af8f-a40aebefb235\">\n",
              "    <style>\n",
              "      .colab-df-generate {\n",
              "        background-color: #E8F0FE;\n",
              "        border: none;\n",
              "        border-radius: 50%;\n",
              "        cursor: pointer;\n",
              "        display: none;\n",
              "        fill: #1967D2;\n",
              "        height: 32px;\n",
              "        padding: 0 0 0 0;\n",
              "        width: 32px;\n",
              "      }\n",
              "\n",
              "      .colab-df-generate:hover {\n",
              "        background-color: #E2EBFA;\n",
              "        box-shadow: 0px 1px 2px rgba(60, 64, 67, 0.3), 0px 1px 3px 1px rgba(60, 64, 67, 0.15);\n",
              "        fill: #174EA6;\n",
              "      }\n",
              "\n",
              "      [theme=dark] .colab-df-generate {\n",
              "        background-color: #3B4455;\n",
              "        fill: #D2E3FC;\n",
              "      }\n",
              "\n",
              "      [theme=dark] .colab-df-generate:hover {\n",
              "        background-color: #434B5C;\n",
              "        box-shadow: 0px 1px 3px 1px rgba(0, 0, 0, 0.15);\n",
              "        filter: drop-shadow(0px 1px 2px rgba(0, 0, 0, 0.3));\n",
              "        fill: #FFFFFF;\n",
              "      }\n",
              "    </style>\n",
              "    <button class=\"colab-df-generate\" onclick=\"generateWithVariable('datos')\"\n",
              "            title=\"Generate code using this dataframe.\"\n",
              "            style=\"display:none;\">\n",
              "\n",
              "  <svg xmlns=\"http://www.w3.org/2000/svg\" height=\"24px\"viewBox=\"0 0 24 24\"\n",
              "       width=\"24px\">\n",
              "    <path d=\"M7,19H8.4L18.45,9,17,7.55,7,17.6ZM5,21V16.75L18.45,3.32a2,2,0,0,1,2.83,0l1.4,1.43a1.91,1.91,0,0,1,.58,1.4,1.91,1.91,0,0,1-.58,1.4L9.25,21ZM18.45,9,17,7.55Zm-12,3A5.31,5.31,0,0,0,4.9,8.1,5.31,5.31,0,0,0,1,6.5,5.31,5.31,0,0,0,4.9,4.9,5.31,5.31,0,0,0,6.5,1,5.31,5.31,0,0,0,8.1,4.9,5.31,5.31,0,0,0,12,6.5,5.46,5.46,0,0,0,6.5,12Z\"/>\n",
              "  </svg>\n",
              "    </button>\n",
              "    <script>\n",
              "      (() => {\n",
              "      const buttonEl =\n",
              "        document.querySelector('#id_9b84f8d8-79f8-4cc2-af8f-a40aebefb235 button.colab-df-generate');\n",
              "      buttonEl.style.display =\n",
              "        google.colab.kernel.accessAllowed ? 'block' : 'none';\n",
              "\n",
              "      buttonEl.onclick = () => {\n",
              "        google.colab.notebook.generateWithVariable('datos');\n",
              "      }\n",
              "      })();\n",
              "    </script>\n",
              "  </div>\n",
              "\n",
              "    </div>\n",
              "  </div>\n"
            ],
            "application/vnd.google.colaboratory.intrinsic+json": {
              "type": "dataframe",
              "variable_name": "datos",
              "summary": "{\n  \"name\": \"datos\",\n  \"rows\": 1268,\n  \"fields\": [\n    {\n      \"column\": \"edad\",\n      \"properties\": {\n        \"dtype\": \"number\",\n        \"std\": 11,\n        \"min\": 19,\n        \"max\": 87,\n        \"num_unique_values\": 64,\n        \"samples\": [\n          70,\n          77,\n          45\n        ],\n        \"semantic_type\": \"\",\n        \"description\": \"\"\n      }\n    },\n    {\n      \"column\": \"estado_civil\",\n      \"properties\": {\n        \"dtype\": \"category\",\n        \"num_unique_values\": 3,\n        \"samples\": [\n          \"casado (a)\",\n          \"soltero (a)\",\n          \"divorciado (a)\"\n        ],\n        \"semantic_type\": \"\",\n        \"description\": \"\"\n      }\n    },\n    {\n      \"column\": \"escolaridad\",\n      \"properties\": {\n        \"dtype\": \"category\",\n        \"num_unique_values\": 3,\n        \"samples\": [\n          \"superior\",\n          \"secundaria\",\n          \"primaria\"\n        ],\n        \"semantic_type\": \"\",\n        \"description\": \"\"\n      }\n    },\n    {\n      \"column\": \"default\",\n      \"properties\": {\n        \"dtype\": \"category\",\n        \"num_unique_values\": 2,\n        \"samples\": [\n          \"si\",\n          \"no\"\n        ],\n        \"semantic_type\": \"\",\n        \"description\": \"\"\n      }\n    },\n    {\n      \"column\": \"saldo\",\n      \"properties\": {\n        \"dtype\": \"number\",\n        \"std\": 2690,\n        \"min\": -1206,\n        \"max\": 27069,\n        \"num_unique_values\": 946,\n        \"samples\": [\n          1148,\n          -247\n        ],\n        \"semantic_type\": \"\",\n        \"description\": \"\"\n      }\n    },\n    {\n      \"column\": \"prestatario\",\n      \"properties\": {\n        \"dtype\": \"category\",\n        \"num_unique_values\": 2,\n        \"samples\": [\n          \"si\",\n          \"no\"\n        ],\n        \"semantic_type\": \"\",\n        \"description\": \"\"\n      }\n    },\n    {\n      \"column\": \"ultimo_contacto\",\n      \"properties\": {\n        \"dtype\": \"number\",\n        \"std\": 347,\n        \"min\": 5,\n        \"max\": 3025,\n        \"num_unique_values\": 646,\n        \"samples\": [\n          1006,\n          1060\n        ],\n        \"semantic_type\": \"\",\n        \"description\": \"\"\n      }\n    },\n    {\n      \"column\": \"ct_contactos\",\n      \"properties\": {\n        \"dtype\": \"number\",\n        \"std\": 2,\n        \"min\": 1,\n        \"max\": 32,\n        \"num_unique_values\": 21,\n        \"samples\": [\n          1,\n          24\n        ],\n        \"semantic_type\": \"\",\n        \"description\": \"\"\n      }\n    },\n    {\n      \"column\": \"adherencia_inversion\",\n      \"properties\": {\n        \"dtype\": \"category\",\n        \"num_unique_values\": 2,\n        \"samples\": [\n          \"no\",\n          \"si\"\n        ],\n        \"semantic_type\": \"\",\n        \"description\": \"\"\n      }\n    }\n  ]\n}"
            }
          },
          "metadata": {},
          "execution_count": 24
        }
      ]
    },
    {
      "cell_type": "code",
      "source": [
        "#variables explicativas por convension estan en X y en Y quedara la variable Explicativa\n",
        "x = datos.drop('adherencia_inversion', axis=1)\n",
        "y = datos['adherencia_inversion']"
      ],
      "metadata": {
        "id": "hRAqFK0NA845"
      },
      "execution_count": 25,
      "outputs": []
    },
    {
      "cell_type": "code",
      "source": [
        "x"
      ],
      "metadata": {
        "id": "it_i0dxpA82F",
        "colab": {
          "base_uri": "https://localhost:8080/",
          "height": 423
        },
        "outputId": "34696bcc-49b8-4820-9dd1-5b8c4f5e5750"
      },
      "execution_count": 26,
      "outputs": [
        {
          "output_type": "execute_result",
          "data": {
            "text/plain": [
              "      edad    estado_civil escolaridad default  saldo prestatario  \\\n",
              "0       45      casado (a)    superior      no    242          no   \n",
              "1       42      casado (a)  secundaria      no   1289          no   \n",
              "2       23     soltero (a)    superior      no    363          no   \n",
              "3       58  divorciado (a)    superior      no   1382          no   \n",
              "4       50      casado (a)  secundaria      no   3357          no   \n",
              "...    ...             ...         ...     ...    ...         ...   \n",
              "1263    52     soltero (a)    superior      no     83          no   \n",
              "1264    35     soltero (a)    superior      no   5958          no   \n",
              "1265    30     soltero (a)    superior      no   -477          si   \n",
              "1266    42      casado (a)    superior      no   2187          no   \n",
              "1267    29     soltero (a)    superior      no     19          no   \n",
              "\n",
              "      ultimo_contacto  ct_contactos  \n",
              "0                 587             1  \n",
              "1                 250             4  \n",
              "2                  16            18  \n",
              "3                 700             1  \n",
              "4                 239             4  \n",
              "...               ...           ...  \n",
              "1263             1223             6  \n",
              "1264              215             1  \n",
              "1265             1532             2  \n",
              "1266              525             3  \n",
              "1267              110             2  \n",
              "\n",
              "[1268 rows x 8 columns]"
            ],
            "text/html": [
              "\n",
              "  <div id=\"df-f4a8b08d-e0c5-4f9a-9029-309d422c758b\" class=\"colab-df-container\">\n",
              "    <div>\n",
              "<style scoped>\n",
              "    .dataframe tbody tr th:only-of-type {\n",
              "        vertical-align: middle;\n",
              "    }\n",
              "\n",
              "    .dataframe tbody tr th {\n",
              "        vertical-align: top;\n",
              "    }\n",
              "\n",
              "    .dataframe thead th {\n",
              "        text-align: right;\n",
              "    }\n",
              "</style>\n",
              "<table border=\"1\" class=\"dataframe\">\n",
              "  <thead>\n",
              "    <tr style=\"text-align: right;\">\n",
              "      <th></th>\n",
              "      <th>edad</th>\n",
              "      <th>estado_civil</th>\n",
              "      <th>escolaridad</th>\n",
              "      <th>default</th>\n",
              "      <th>saldo</th>\n",
              "      <th>prestatario</th>\n",
              "      <th>ultimo_contacto</th>\n",
              "      <th>ct_contactos</th>\n",
              "    </tr>\n",
              "  </thead>\n",
              "  <tbody>\n",
              "    <tr>\n",
              "      <th>0</th>\n",
              "      <td>45</td>\n",
              "      <td>casado (a)</td>\n",
              "      <td>superior</td>\n",
              "      <td>no</td>\n",
              "      <td>242</td>\n",
              "      <td>no</td>\n",
              "      <td>587</td>\n",
              "      <td>1</td>\n",
              "    </tr>\n",
              "    <tr>\n",
              "      <th>1</th>\n",
              "      <td>42</td>\n",
              "      <td>casado (a)</td>\n",
              "      <td>secundaria</td>\n",
              "      <td>no</td>\n",
              "      <td>1289</td>\n",
              "      <td>no</td>\n",
              "      <td>250</td>\n",
              "      <td>4</td>\n",
              "    </tr>\n",
              "    <tr>\n",
              "      <th>2</th>\n",
              "      <td>23</td>\n",
              "      <td>soltero (a)</td>\n",
              "      <td>superior</td>\n",
              "      <td>no</td>\n",
              "      <td>363</td>\n",
              "      <td>no</td>\n",
              "      <td>16</td>\n",
              "      <td>18</td>\n",
              "    </tr>\n",
              "    <tr>\n",
              "      <th>3</th>\n",
              "      <td>58</td>\n",
              "      <td>divorciado (a)</td>\n",
              "      <td>superior</td>\n",
              "      <td>no</td>\n",
              "      <td>1382</td>\n",
              "      <td>no</td>\n",
              "      <td>700</td>\n",
              "      <td>1</td>\n",
              "    </tr>\n",
              "    <tr>\n",
              "      <th>4</th>\n",
              "      <td>50</td>\n",
              "      <td>casado (a)</td>\n",
              "      <td>secundaria</td>\n",
              "      <td>no</td>\n",
              "      <td>3357</td>\n",
              "      <td>no</td>\n",
              "      <td>239</td>\n",
              "      <td>4</td>\n",
              "    </tr>\n",
              "    <tr>\n",
              "      <th>...</th>\n",
              "      <td>...</td>\n",
              "      <td>...</td>\n",
              "      <td>...</td>\n",
              "      <td>...</td>\n",
              "      <td>...</td>\n",
              "      <td>...</td>\n",
              "      <td>...</td>\n",
              "      <td>...</td>\n",
              "    </tr>\n",
              "    <tr>\n",
              "      <th>1263</th>\n",
              "      <td>52</td>\n",
              "      <td>soltero (a)</td>\n",
              "      <td>superior</td>\n",
              "      <td>no</td>\n",
              "      <td>83</td>\n",
              "      <td>no</td>\n",
              "      <td>1223</td>\n",
              "      <td>6</td>\n",
              "    </tr>\n",
              "    <tr>\n",
              "      <th>1264</th>\n",
              "      <td>35</td>\n",
              "      <td>soltero (a)</td>\n",
              "      <td>superior</td>\n",
              "      <td>no</td>\n",
              "      <td>5958</td>\n",
              "      <td>no</td>\n",
              "      <td>215</td>\n",
              "      <td>1</td>\n",
              "    </tr>\n",
              "    <tr>\n",
              "      <th>1265</th>\n",
              "      <td>30</td>\n",
              "      <td>soltero (a)</td>\n",
              "      <td>superior</td>\n",
              "      <td>no</td>\n",
              "      <td>-477</td>\n",
              "      <td>si</td>\n",
              "      <td>1532</td>\n",
              "      <td>2</td>\n",
              "    </tr>\n",
              "    <tr>\n",
              "      <th>1266</th>\n",
              "      <td>42</td>\n",
              "      <td>casado (a)</td>\n",
              "      <td>superior</td>\n",
              "      <td>no</td>\n",
              "      <td>2187</td>\n",
              "      <td>no</td>\n",
              "      <td>525</td>\n",
              "      <td>3</td>\n",
              "    </tr>\n",
              "    <tr>\n",
              "      <th>1267</th>\n",
              "      <td>29</td>\n",
              "      <td>soltero (a)</td>\n",
              "      <td>superior</td>\n",
              "      <td>no</td>\n",
              "      <td>19</td>\n",
              "      <td>no</td>\n",
              "      <td>110</td>\n",
              "      <td>2</td>\n",
              "    </tr>\n",
              "  </tbody>\n",
              "</table>\n",
              "<p>1268 rows × 8 columns</p>\n",
              "</div>\n",
              "    <div class=\"colab-df-buttons\">\n",
              "\n",
              "  <div class=\"colab-df-container\">\n",
              "    <button class=\"colab-df-convert\" onclick=\"convertToInteractive('df-f4a8b08d-e0c5-4f9a-9029-309d422c758b')\"\n",
              "            title=\"Convert this dataframe to an interactive table.\"\n",
              "            style=\"display:none;\">\n",
              "\n",
              "  <svg xmlns=\"http://www.w3.org/2000/svg\" height=\"24px\" viewBox=\"0 -960 960 960\">\n",
              "    <path d=\"M120-120v-720h720v720H120Zm60-500h600v-160H180v160Zm220 220h160v-160H400v160Zm0 220h160v-160H400v160ZM180-400h160v-160H180v160Zm440 0h160v-160H620v160ZM180-180h160v-160H180v160Zm440 0h160v-160H620v160Z\"/>\n",
              "  </svg>\n",
              "    </button>\n",
              "\n",
              "  <style>\n",
              "    .colab-df-container {\n",
              "      display:flex;\n",
              "      gap: 12px;\n",
              "    }\n",
              "\n",
              "    .colab-df-convert {\n",
              "      background-color: #E8F0FE;\n",
              "      border: none;\n",
              "      border-radius: 50%;\n",
              "      cursor: pointer;\n",
              "      display: none;\n",
              "      fill: #1967D2;\n",
              "      height: 32px;\n",
              "      padding: 0 0 0 0;\n",
              "      width: 32px;\n",
              "    }\n",
              "\n",
              "    .colab-df-convert:hover {\n",
              "      background-color: #E2EBFA;\n",
              "      box-shadow: 0px 1px 2px rgba(60, 64, 67, 0.3), 0px 1px 3px 1px rgba(60, 64, 67, 0.15);\n",
              "      fill: #174EA6;\n",
              "    }\n",
              "\n",
              "    .colab-df-buttons div {\n",
              "      margin-bottom: 4px;\n",
              "    }\n",
              "\n",
              "    [theme=dark] .colab-df-convert {\n",
              "      background-color: #3B4455;\n",
              "      fill: #D2E3FC;\n",
              "    }\n",
              "\n",
              "    [theme=dark] .colab-df-convert:hover {\n",
              "      background-color: #434B5C;\n",
              "      box-shadow: 0px 1px 3px 1px rgba(0, 0, 0, 0.15);\n",
              "      filter: drop-shadow(0px 1px 2px rgba(0, 0, 0, 0.3));\n",
              "      fill: #FFFFFF;\n",
              "    }\n",
              "  </style>\n",
              "\n",
              "    <script>\n",
              "      const buttonEl =\n",
              "        document.querySelector('#df-f4a8b08d-e0c5-4f9a-9029-309d422c758b button.colab-df-convert');\n",
              "      buttonEl.style.display =\n",
              "        google.colab.kernel.accessAllowed ? 'block' : 'none';\n",
              "\n",
              "      async function convertToInteractive(key) {\n",
              "        const element = document.querySelector('#df-f4a8b08d-e0c5-4f9a-9029-309d422c758b');\n",
              "        const dataTable =\n",
              "          await google.colab.kernel.invokeFunction('convertToInteractive',\n",
              "                                                    [key], {});\n",
              "        if (!dataTable) return;\n",
              "\n",
              "        const docLinkHtml = 'Like what you see? Visit the ' +\n",
              "          '<a target=\"_blank\" href=https://colab.research.google.com/notebooks/data_table.ipynb>data table notebook</a>'\n",
              "          + ' to learn more about interactive tables.';\n",
              "        element.innerHTML = '';\n",
              "        dataTable['output_type'] = 'display_data';\n",
              "        await google.colab.output.renderOutput(dataTable, element);\n",
              "        const docLink = document.createElement('div');\n",
              "        docLink.innerHTML = docLinkHtml;\n",
              "        element.appendChild(docLink);\n",
              "      }\n",
              "    </script>\n",
              "  </div>\n",
              "\n",
              "\n",
              "    <div id=\"df-40ce16d0-c6f1-4320-8932-ec85485fbb6d\">\n",
              "      <button class=\"colab-df-quickchart\" onclick=\"quickchart('df-40ce16d0-c6f1-4320-8932-ec85485fbb6d')\"\n",
              "                title=\"Suggest charts\"\n",
              "                style=\"display:none;\">\n",
              "\n",
              "<svg xmlns=\"http://www.w3.org/2000/svg\" height=\"24px\"viewBox=\"0 0 24 24\"\n",
              "     width=\"24px\">\n",
              "    <g>\n",
              "        <path d=\"M19 3H5c-1.1 0-2 .9-2 2v14c0 1.1.9 2 2 2h14c1.1 0 2-.9 2-2V5c0-1.1-.9-2-2-2zM9 17H7v-7h2v7zm4 0h-2V7h2v10zm4 0h-2v-4h2v4z\"/>\n",
              "    </g>\n",
              "</svg>\n",
              "      </button>\n",
              "\n",
              "<style>\n",
              "  .colab-df-quickchart {\n",
              "      --bg-color: #E8F0FE;\n",
              "      --fill-color: #1967D2;\n",
              "      --hover-bg-color: #E2EBFA;\n",
              "      --hover-fill-color: #174EA6;\n",
              "      --disabled-fill-color: #AAA;\n",
              "      --disabled-bg-color: #DDD;\n",
              "  }\n",
              "\n",
              "  [theme=dark] .colab-df-quickchart {\n",
              "      --bg-color: #3B4455;\n",
              "      --fill-color: #D2E3FC;\n",
              "      --hover-bg-color: #434B5C;\n",
              "      --hover-fill-color: #FFFFFF;\n",
              "      --disabled-bg-color: #3B4455;\n",
              "      --disabled-fill-color: #666;\n",
              "  }\n",
              "\n",
              "  .colab-df-quickchart {\n",
              "    background-color: var(--bg-color);\n",
              "    border: none;\n",
              "    border-radius: 50%;\n",
              "    cursor: pointer;\n",
              "    display: none;\n",
              "    fill: var(--fill-color);\n",
              "    height: 32px;\n",
              "    padding: 0;\n",
              "    width: 32px;\n",
              "  }\n",
              "\n",
              "  .colab-df-quickchart:hover {\n",
              "    background-color: var(--hover-bg-color);\n",
              "    box-shadow: 0 1px 2px rgba(60, 64, 67, 0.3), 0 1px 3px 1px rgba(60, 64, 67, 0.15);\n",
              "    fill: var(--button-hover-fill-color);\n",
              "  }\n",
              "\n",
              "  .colab-df-quickchart-complete:disabled,\n",
              "  .colab-df-quickchart-complete:disabled:hover {\n",
              "    background-color: var(--disabled-bg-color);\n",
              "    fill: var(--disabled-fill-color);\n",
              "    box-shadow: none;\n",
              "  }\n",
              "\n",
              "  .colab-df-spinner {\n",
              "    border: 2px solid var(--fill-color);\n",
              "    border-color: transparent;\n",
              "    border-bottom-color: var(--fill-color);\n",
              "    animation:\n",
              "      spin 1s steps(1) infinite;\n",
              "  }\n",
              "\n",
              "  @keyframes spin {\n",
              "    0% {\n",
              "      border-color: transparent;\n",
              "      border-bottom-color: var(--fill-color);\n",
              "      border-left-color: var(--fill-color);\n",
              "    }\n",
              "    20% {\n",
              "      border-color: transparent;\n",
              "      border-left-color: var(--fill-color);\n",
              "      border-top-color: var(--fill-color);\n",
              "    }\n",
              "    30% {\n",
              "      border-color: transparent;\n",
              "      border-left-color: var(--fill-color);\n",
              "      border-top-color: var(--fill-color);\n",
              "      border-right-color: var(--fill-color);\n",
              "    }\n",
              "    40% {\n",
              "      border-color: transparent;\n",
              "      border-right-color: var(--fill-color);\n",
              "      border-top-color: var(--fill-color);\n",
              "    }\n",
              "    60% {\n",
              "      border-color: transparent;\n",
              "      border-right-color: var(--fill-color);\n",
              "    }\n",
              "    80% {\n",
              "      border-color: transparent;\n",
              "      border-right-color: var(--fill-color);\n",
              "      border-bottom-color: var(--fill-color);\n",
              "    }\n",
              "    90% {\n",
              "      border-color: transparent;\n",
              "      border-bottom-color: var(--fill-color);\n",
              "    }\n",
              "  }\n",
              "</style>\n",
              "\n",
              "      <script>\n",
              "        async function quickchart(key) {\n",
              "          const quickchartButtonEl =\n",
              "            document.querySelector('#' + key + ' button');\n",
              "          quickchartButtonEl.disabled = true;  // To prevent multiple clicks.\n",
              "          quickchartButtonEl.classList.add('colab-df-spinner');\n",
              "          try {\n",
              "            const charts = await google.colab.kernel.invokeFunction(\n",
              "                'suggestCharts', [key], {});\n",
              "          } catch (error) {\n",
              "            console.error('Error during call to suggestCharts:', error);\n",
              "          }\n",
              "          quickchartButtonEl.classList.remove('colab-df-spinner');\n",
              "          quickchartButtonEl.classList.add('colab-df-quickchart-complete');\n",
              "        }\n",
              "        (() => {\n",
              "          let quickchartButtonEl =\n",
              "            document.querySelector('#df-40ce16d0-c6f1-4320-8932-ec85485fbb6d button');\n",
              "          quickchartButtonEl.style.display =\n",
              "            google.colab.kernel.accessAllowed ? 'block' : 'none';\n",
              "        })();\n",
              "      </script>\n",
              "    </div>\n",
              "\n",
              "  <div id=\"id_10a93ce3-f8ee-4dc1-898a-8b2f873b1bbd\">\n",
              "    <style>\n",
              "      .colab-df-generate {\n",
              "        background-color: #E8F0FE;\n",
              "        border: none;\n",
              "        border-radius: 50%;\n",
              "        cursor: pointer;\n",
              "        display: none;\n",
              "        fill: #1967D2;\n",
              "        height: 32px;\n",
              "        padding: 0 0 0 0;\n",
              "        width: 32px;\n",
              "      }\n",
              "\n",
              "      .colab-df-generate:hover {\n",
              "        background-color: #E2EBFA;\n",
              "        box-shadow: 0px 1px 2px rgba(60, 64, 67, 0.3), 0px 1px 3px 1px rgba(60, 64, 67, 0.15);\n",
              "        fill: #174EA6;\n",
              "      }\n",
              "\n",
              "      [theme=dark] .colab-df-generate {\n",
              "        background-color: #3B4455;\n",
              "        fill: #D2E3FC;\n",
              "      }\n",
              "\n",
              "      [theme=dark] .colab-df-generate:hover {\n",
              "        background-color: #434B5C;\n",
              "        box-shadow: 0px 1px 3px 1px rgba(0, 0, 0, 0.15);\n",
              "        filter: drop-shadow(0px 1px 2px rgba(0, 0, 0, 0.3));\n",
              "        fill: #FFFFFF;\n",
              "      }\n",
              "    </style>\n",
              "    <button class=\"colab-df-generate\" onclick=\"generateWithVariable('x')\"\n",
              "            title=\"Generate code using this dataframe.\"\n",
              "            style=\"display:none;\">\n",
              "\n",
              "  <svg xmlns=\"http://www.w3.org/2000/svg\" height=\"24px\"viewBox=\"0 0 24 24\"\n",
              "       width=\"24px\">\n",
              "    <path d=\"M7,19H8.4L18.45,9,17,7.55,7,17.6ZM5,21V16.75L18.45,3.32a2,2,0,0,1,2.83,0l1.4,1.43a1.91,1.91,0,0,1,.58,1.4,1.91,1.91,0,0,1-.58,1.4L9.25,21ZM18.45,9,17,7.55Zm-12,3A5.31,5.31,0,0,0,4.9,8.1,5.31,5.31,0,0,0,1,6.5,5.31,5.31,0,0,0,4.9,4.9,5.31,5.31,0,0,0,6.5,1,5.31,5.31,0,0,0,8.1,4.9,5.31,5.31,0,0,0,12,6.5,5.46,5.46,0,0,0,6.5,12Z\"/>\n",
              "  </svg>\n",
              "    </button>\n",
              "    <script>\n",
              "      (() => {\n",
              "      const buttonEl =\n",
              "        document.querySelector('#id_10a93ce3-f8ee-4dc1-898a-8b2f873b1bbd button.colab-df-generate');\n",
              "      buttonEl.style.display =\n",
              "        google.colab.kernel.accessAllowed ? 'block' : 'none';\n",
              "\n",
              "      buttonEl.onclick = () => {\n",
              "        google.colab.notebook.generateWithVariable('x');\n",
              "      }\n",
              "      })();\n",
              "    </script>\n",
              "  </div>\n",
              "\n",
              "    </div>\n",
              "  </div>\n"
            ],
            "application/vnd.google.colaboratory.intrinsic+json": {
              "type": "dataframe",
              "variable_name": "x",
              "summary": "{\n  \"name\": \"x\",\n  \"rows\": 1268,\n  \"fields\": [\n    {\n      \"column\": \"edad\",\n      \"properties\": {\n        \"dtype\": \"number\",\n        \"std\": 11,\n        \"min\": 19,\n        \"max\": 87,\n        \"num_unique_values\": 64,\n        \"samples\": [\n          70,\n          77,\n          45\n        ],\n        \"semantic_type\": \"\",\n        \"description\": \"\"\n      }\n    },\n    {\n      \"column\": \"estado_civil\",\n      \"properties\": {\n        \"dtype\": \"category\",\n        \"num_unique_values\": 3,\n        \"samples\": [\n          \"casado (a)\",\n          \"soltero (a)\",\n          \"divorciado (a)\"\n        ],\n        \"semantic_type\": \"\",\n        \"description\": \"\"\n      }\n    },\n    {\n      \"column\": \"escolaridad\",\n      \"properties\": {\n        \"dtype\": \"category\",\n        \"num_unique_values\": 3,\n        \"samples\": [\n          \"superior\",\n          \"secundaria\",\n          \"primaria\"\n        ],\n        \"semantic_type\": \"\",\n        \"description\": \"\"\n      }\n    },\n    {\n      \"column\": \"default\",\n      \"properties\": {\n        \"dtype\": \"category\",\n        \"num_unique_values\": 2,\n        \"samples\": [\n          \"si\",\n          \"no\"\n        ],\n        \"semantic_type\": \"\",\n        \"description\": \"\"\n      }\n    },\n    {\n      \"column\": \"saldo\",\n      \"properties\": {\n        \"dtype\": \"number\",\n        \"std\": 2690,\n        \"min\": -1206,\n        \"max\": 27069,\n        \"num_unique_values\": 946,\n        \"samples\": [\n          1148,\n          -247\n        ],\n        \"semantic_type\": \"\",\n        \"description\": \"\"\n      }\n    },\n    {\n      \"column\": \"prestatario\",\n      \"properties\": {\n        \"dtype\": \"category\",\n        \"num_unique_values\": 2,\n        \"samples\": [\n          \"si\",\n          \"no\"\n        ],\n        \"semantic_type\": \"\",\n        \"description\": \"\"\n      }\n    },\n    {\n      \"column\": \"ultimo_contacto\",\n      \"properties\": {\n        \"dtype\": \"number\",\n        \"std\": 347,\n        \"min\": 5,\n        \"max\": 3025,\n        \"num_unique_values\": 646,\n        \"samples\": [\n          1006,\n          1060\n        ],\n        \"semantic_type\": \"\",\n        \"description\": \"\"\n      }\n    },\n    {\n      \"column\": \"ct_contactos\",\n      \"properties\": {\n        \"dtype\": \"number\",\n        \"std\": 2,\n        \"min\": 1,\n        \"max\": 32,\n        \"num_unique_values\": 21,\n        \"samples\": [\n          1,\n          24\n        ],\n        \"semantic_type\": \"\",\n        \"description\": \"\"\n      }\n    }\n  ]\n}"
            }
          },
          "metadata": {},
          "execution_count": 26
        }
      ]
    },
    {
      "cell_type": "code",
      "source": [
        "#pandas serie, no dataframe\n",
        "y"
      ],
      "metadata": {
        "id": "RYamYUlpA8zi",
        "colab": {
          "base_uri": "https://localhost:8080/",
          "height": 458
        },
        "outputId": "b4b7929d-b8cc-444e-f119-f2cd8b410952"
      },
      "execution_count": 27,
      "outputs": [
        {
          "output_type": "execute_result",
          "data": {
            "text/plain": [
              "0       si\n",
              "1       si\n",
              "2       no\n",
              "3       si\n",
              "4       si\n",
              "        ..\n",
              "1263    si\n",
              "1264    si\n",
              "1265    si\n",
              "1266    si\n",
              "1267    si\n",
              "Name: adherencia_inversion, Length: 1268, dtype: object"
            ],
            "text/html": [
              "<div>\n",
              "<style scoped>\n",
              "    .dataframe tbody tr th:only-of-type {\n",
              "        vertical-align: middle;\n",
              "    }\n",
              "\n",
              "    .dataframe tbody tr th {\n",
              "        vertical-align: top;\n",
              "    }\n",
              "\n",
              "    .dataframe thead th {\n",
              "        text-align: right;\n",
              "    }\n",
              "</style>\n",
              "<table border=\"1\" class=\"dataframe\">\n",
              "  <thead>\n",
              "    <tr style=\"text-align: right;\">\n",
              "      <th></th>\n",
              "      <th>adherencia_inversion</th>\n",
              "    </tr>\n",
              "  </thead>\n",
              "  <tbody>\n",
              "    <tr>\n",
              "      <th>0</th>\n",
              "      <td>si</td>\n",
              "    </tr>\n",
              "    <tr>\n",
              "      <th>1</th>\n",
              "      <td>si</td>\n",
              "    </tr>\n",
              "    <tr>\n",
              "      <th>2</th>\n",
              "      <td>no</td>\n",
              "    </tr>\n",
              "    <tr>\n",
              "      <th>3</th>\n",
              "      <td>si</td>\n",
              "    </tr>\n",
              "    <tr>\n",
              "      <th>4</th>\n",
              "      <td>si</td>\n",
              "    </tr>\n",
              "    <tr>\n",
              "      <th>...</th>\n",
              "      <td>...</td>\n",
              "    </tr>\n",
              "    <tr>\n",
              "      <th>1263</th>\n",
              "      <td>si</td>\n",
              "    </tr>\n",
              "    <tr>\n",
              "      <th>1264</th>\n",
              "      <td>si</td>\n",
              "    </tr>\n",
              "    <tr>\n",
              "      <th>1265</th>\n",
              "      <td>si</td>\n",
              "    </tr>\n",
              "    <tr>\n",
              "      <th>1266</th>\n",
              "      <td>si</td>\n",
              "    </tr>\n",
              "    <tr>\n",
              "      <th>1267</th>\n",
              "      <td>si</td>\n",
              "    </tr>\n",
              "  </tbody>\n",
              "</table>\n",
              "<p>1268 rows × 1 columns</p>\n",
              "</div><br><label><b>dtype:</b> object</label>"
            ]
          },
          "metadata": {},
          "execution_count": 27
        }
      ]
    },
    {
      "cell_type": "markdown",
      "source": [
        "## Transformando las variables explicativas"
      ],
      "metadata": {
        "id": "lAwB5Nv6n6S0"
      }
    },
    {
      "cell_type": "markdown",
      "source": [
        "Los algoritmos de aprendizaje automático no comprenden datos en formato de texto, por lo que debemos transformar los datos a un formato numérico para que el algoritmo pueda interpretar la información. Esta transformación debe realizarse de manera que no altere la información original del conjunto de datos, por lo que no basta con simplemente cambiar los valores a números aleatorios."
      ],
      "metadata": {
        "id": "twG9GNHPKIky"
      }
    },
    {
      "cell_type": "markdown",
      "source": [
        "![image.png](data:image/png;base64,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)"
      ],
      "metadata": {
        "id": "vcnL3X4VAHE5"
      }
    },
    {
      "cell_type": "code",
      "source": [
        "from sklearn.compose import make_column_transformer\n",
        "from sklearn.preprocessing import OneHotEncoder"
      ],
      "metadata": {
        "id": "PyGM0TVzA7Dk"
      },
      "execution_count": 28,
      "outputs": []
    },
    {
      "cell_type": "code",
      "source": [
        "columnas = x.columns"
      ],
      "metadata": {
        "id": "Mnb5v1dcA61R"
      },
      "execution_count": 30,
      "outputs": []
    },
    {
      "cell_type": "code",
      "source": [
        "#remainder='passthrough' = omitir el restante de las columnas\n",
        "#sparse_threshold=0 = no quite informacion relevnte\n",
        "#sparse_threshold=0,force_int_remainder_cols=False = no cambiar los nombres de las columnas\n",
        "one_hot = make_column_transformer((OneHotEncoder(drop='if_binary'),['estado_civil','escolaridad','default','prestatario']),remainder='passthrough', sparse_threshold=0,force_int_remainder_cols=False)"
      ],
      "metadata": {
        "id": "cVgxDa88A6zB"
      },
      "execution_count": 31,
      "outputs": []
    },
    {
      "cell_type": "code",
      "source": [
        "x = one_hot.fit_transform(x)"
      ],
      "metadata": {
        "id": "yQ7gh8xXA6wb"
      },
      "execution_count": 32,
      "outputs": []
    },
    {
      "cell_type": "code",
      "source": [
        "one_hot.get_feature_names_out(columnas)"
      ],
      "metadata": {
        "id": "eQHLYLmnTzL0",
        "outputId": "f8e75512-5a1c-40fc-d0f4-cff831d20c2c",
        "colab": {
          "base_uri": "https://localhost:8080/"
        }
      },
      "execution_count": 33,
      "outputs": [
        {
          "output_type": "execute_result",
          "data": {
            "text/plain": [
              "array(['onehotencoder__estado_civil_casado (a)',\n",
              "       'onehotencoder__estado_civil_divorciado (a)',\n",
              "       'onehotencoder__estado_civil_soltero (a)',\n",
              "       'onehotencoder__escolaridad_primaria',\n",
              "       'onehotencoder__escolaridad_secundaria',\n",
              "       'onehotencoder__escolaridad_superior', 'onehotencoder__default_si',\n",
              "       'onehotencoder__prestatario_si', 'remainder__edad',\n",
              "       'remainder__saldo', 'remainder__ultimo_contacto',\n",
              "       'remainder__ct_contactos'], dtype=object)"
            ]
          },
          "metadata": {},
          "execution_count": 33
        }
      ]
    },
    {
      "cell_type": "code",
      "source": [
        "pd.DataFrame(x,columns=one_hot.get_feature_names_out(columnas))"
      ],
      "metadata": {
        "id": "RG70WMpdVKW6",
        "outputId": "067a3e3b-f74a-4300-e16e-631af30585eb",
        "colab": {
          "base_uri": "https://localhost:8080/",
          "height": 461
        }
      },
      "execution_count": 36,
      "outputs": [
        {
          "output_type": "execute_result",
          "data": {
            "text/plain": [
              "      onehotencoder__estado_civil_casado (a)  \\\n",
              "0                                        1.0   \n",
              "1                                        1.0   \n",
              "2                                        0.0   \n",
              "3                                        0.0   \n",
              "4                                        1.0   \n",
              "...                                      ...   \n",
              "1263                                     0.0   \n",
              "1264                                     0.0   \n",
              "1265                                     0.0   \n",
              "1266                                     1.0   \n",
              "1267                                     0.0   \n",
              "\n",
              "      onehotencoder__estado_civil_divorciado (a)  \\\n",
              "0                                            0.0   \n",
              "1                                            0.0   \n",
              "2                                            0.0   \n",
              "3                                            1.0   \n",
              "4                                            0.0   \n",
              "...                                          ...   \n",
              "1263                                         0.0   \n",
              "1264                                         0.0   \n",
              "1265                                         0.0   \n",
              "1266                                         0.0   \n",
              "1267                                         0.0   \n",
              "\n",
              "      onehotencoder__estado_civil_soltero (a)  \\\n",
              "0                                         0.0   \n",
              "1                                         0.0   \n",
              "2                                         1.0   \n",
              "3                                         0.0   \n",
              "4                                         0.0   \n",
              "...                                       ...   \n",
              "1263                                      1.0   \n",
              "1264                                      1.0   \n",
              "1265                                      1.0   \n",
              "1266                                      0.0   \n",
              "1267                                      1.0   \n",
              "\n",
              "      onehotencoder__escolaridad_primaria  \\\n",
              "0                                     0.0   \n",
              "1                                     0.0   \n",
              "2                                     0.0   \n",
              "3                                     0.0   \n",
              "4                                     0.0   \n",
              "...                                   ...   \n",
              "1263                                  0.0   \n",
              "1264                                  0.0   \n",
              "1265                                  0.0   \n",
              "1266                                  0.0   \n",
              "1267                                  0.0   \n",
              "\n",
              "      onehotencoder__escolaridad_secundaria  \\\n",
              "0                                       0.0   \n",
              "1                                       1.0   \n",
              "2                                       0.0   \n",
              "3                                       0.0   \n",
              "4                                       1.0   \n",
              "...                                     ...   \n",
              "1263                                    0.0   \n",
              "1264                                    0.0   \n",
              "1265                                    0.0   \n",
              "1266                                    0.0   \n",
              "1267                                    0.0   \n",
              "\n",
              "      onehotencoder__escolaridad_superior  onehotencoder__default_si  \\\n",
              "0                                     1.0                        0.0   \n",
              "1                                     0.0                        0.0   \n",
              "2                                     1.0                        0.0   \n",
              "3                                     1.0                        0.0   \n",
              "4                                     0.0                        0.0   \n",
              "...                                   ...                        ...   \n",
              "1263                                  1.0                        0.0   \n",
              "1264                                  1.0                        0.0   \n",
              "1265                                  1.0                        0.0   \n",
              "1266                                  1.0                        0.0   \n",
              "1267                                  1.0                        0.0   \n",
              "\n",
              "      onehotencoder__prestatario_si  remainder__edad  remainder__saldo  \\\n",
              "0                               0.0             45.0             242.0   \n",
              "1                               0.0             42.0            1289.0   \n",
              "2                               0.0             23.0             363.0   \n",
              "3                               0.0             58.0            1382.0   \n",
              "4                               0.0             50.0            3357.0   \n",
              "...                             ...              ...               ...   \n",
              "1263                            0.0             52.0              83.0   \n",
              "1264                            0.0             35.0            5958.0   \n",
              "1265                            1.0             30.0            -477.0   \n",
              "1266                            0.0             42.0            2187.0   \n",
              "1267                            0.0             29.0              19.0   \n",
              "\n",
              "      remainder__ultimo_contacto  remainder__ct_contactos  \n",
              "0                          587.0                      1.0  \n",
              "1                          250.0                      4.0  \n",
              "2                           16.0                     18.0  \n",
              "3                          700.0                      1.0  \n",
              "4                          239.0                      4.0  \n",
              "...                          ...                      ...  \n",
              "1263                      1223.0                      6.0  \n",
              "1264                       215.0                      1.0  \n",
              "1265                      1532.0                      2.0  \n",
              "1266                       525.0                      3.0  \n",
              "1267                       110.0                      2.0  \n",
              "\n",
              "[1268 rows x 12 columns]"
            ],
            "text/html": [
              "\n",
              "  <div id=\"df-285c55cc-7cc6-41ad-9571-2fc0ec3ba7e2\" class=\"colab-df-container\">\n",
              "    <div>\n",
              "<style scoped>\n",
              "    .dataframe tbody tr th:only-of-type {\n",
              "        vertical-align: middle;\n",
              "    }\n",
              "\n",
              "    .dataframe tbody tr th {\n",
              "        vertical-align: top;\n",
              "    }\n",
              "\n",
              "    .dataframe thead th {\n",
              "        text-align: right;\n",
              "    }\n",
              "</style>\n",
              "<table border=\"1\" class=\"dataframe\">\n",
              "  <thead>\n",
              "    <tr style=\"text-align: right;\">\n",
              "      <th></th>\n",
              "      <th>onehotencoder__estado_civil_casado (a)</th>\n",
              "      <th>onehotencoder__estado_civil_divorciado (a)</th>\n",
              "      <th>onehotencoder__estado_civil_soltero (a)</th>\n",
              "      <th>onehotencoder__escolaridad_primaria</th>\n",
              "      <th>onehotencoder__escolaridad_secundaria</th>\n",
              "      <th>onehotencoder__escolaridad_superior</th>\n",
              "      <th>onehotencoder__default_si</th>\n",
              "      <th>onehotencoder__prestatario_si</th>\n",
              "      <th>remainder__edad</th>\n",
              "      <th>remainder__saldo</th>\n",
              "      <th>remainder__ultimo_contacto</th>\n",
              "      <th>remainder__ct_contactos</th>\n",
              "    </tr>\n",
              "  </thead>\n",
              "  <tbody>\n",
              "    <tr>\n",
              "      <th>0</th>\n",
              "      <td>1.0</td>\n",
              "      <td>0.0</td>\n",
              "      <td>0.0</td>\n",
              "      <td>0.0</td>\n",
              "      <td>0.0</td>\n",
              "      <td>1.0</td>\n",
              "      <td>0.0</td>\n",
              "      <td>0.0</td>\n",
              "      <td>45.0</td>\n",
              "      <td>242.0</td>\n",
              "      <td>587.0</td>\n",
              "      <td>1.0</td>\n",
              "    </tr>\n",
              "    <tr>\n",
              "      <th>1</th>\n",
              "      <td>1.0</td>\n",
              "      <td>0.0</td>\n",
              "      <td>0.0</td>\n",
              "      <td>0.0</td>\n",
              "      <td>1.0</td>\n",
              "      <td>0.0</td>\n",
              "      <td>0.0</td>\n",
              "      <td>0.0</td>\n",
              "      <td>42.0</td>\n",
              "      <td>1289.0</td>\n",
              "      <td>250.0</td>\n",
              "      <td>4.0</td>\n",
              "    </tr>\n",
              "    <tr>\n",
              "      <th>2</th>\n",
              "      <td>0.0</td>\n",
              "      <td>0.0</td>\n",
              "      <td>1.0</td>\n",
              "      <td>0.0</td>\n",
              "      <td>0.0</td>\n",
              "      <td>1.0</td>\n",
              "      <td>0.0</td>\n",
              "      <td>0.0</td>\n",
              "      <td>23.0</td>\n",
              "      <td>363.0</td>\n",
              "      <td>16.0</td>\n",
              "      <td>18.0</td>\n",
              "    </tr>\n",
              "    <tr>\n",
              "      <th>3</th>\n",
              "      <td>0.0</td>\n",
              "      <td>1.0</td>\n",
              "      <td>0.0</td>\n",
              "      <td>0.0</td>\n",
              "      <td>0.0</td>\n",
              "      <td>1.0</td>\n",
              "      <td>0.0</td>\n",
              "      <td>0.0</td>\n",
              "      <td>58.0</td>\n",
              "      <td>1382.0</td>\n",
              "      <td>700.0</td>\n",
              "      <td>1.0</td>\n",
              "    </tr>\n",
              "    <tr>\n",
              "      <th>4</th>\n",
              "      <td>1.0</td>\n",
              "      <td>0.0</td>\n",
              "      <td>0.0</td>\n",
              "      <td>0.0</td>\n",
              "      <td>1.0</td>\n",
              "      <td>0.0</td>\n",
              "      <td>0.0</td>\n",
              "      <td>0.0</td>\n",
              "      <td>50.0</td>\n",
              "      <td>3357.0</td>\n",
              "      <td>239.0</td>\n",
              "      <td>4.0</td>\n",
              "    </tr>\n",
              "    <tr>\n",
              "      <th>...</th>\n",
              "      <td>...</td>\n",
              "      <td>...</td>\n",
              "      <td>...</td>\n",
              "      <td>...</td>\n",
              "      <td>...</td>\n",
              "      <td>...</td>\n",
              "      <td>...</td>\n",
              "      <td>...</td>\n",
              "      <td>...</td>\n",
              "      <td>...</td>\n",
              "      <td>...</td>\n",
              "      <td>...</td>\n",
              "    </tr>\n",
              "    <tr>\n",
              "      <th>1263</th>\n",
              "      <td>0.0</td>\n",
              "      <td>0.0</td>\n",
              "      <td>1.0</td>\n",
              "      <td>0.0</td>\n",
              "      <td>0.0</td>\n",
              "      <td>1.0</td>\n",
              "      <td>0.0</td>\n",
              "      <td>0.0</td>\n",
              "      <td>52.0</td>\n",
              "      <td>83.0</td>\n",
              "      <td>1223.0</td>\n",
              "      <td>6.0</td>\n",
              "    </tr>\n",
              "    <tr>\n",
              "      <th>1264</th>\n",
              "      <td>0.0</td>\n",
              "      <td>0.0</td>\n",
              "      <td>1.0</td>\n",
              "      <td>0.0</td>\n",
              "      <td>0.0</td>\n",
              "      <td>1.0</td>\n",
              "      <td>0.0</td>\n",
              "      <td>0.0</td>\n",
              "      <td>35.0</td>\n",
              "      <td>5958.0</td>\n",
              "      <td>215.0</td>\n",
              "      <td>1.0</td>\n",
              "    </tr>\n",
              "    <tr>\n",
              "      <th>1265</th>\n",
              "      <td>0.0</td>\n",
              "      <td>0.0</td>\n",
              "      <td>1.0</td>\n",
              "      <td>0.0</td>\n",
              "      <td>0.0</td>\n",
              "      <td>1.0</td>\n",
              "      <td>0.0</td>\n",
              "      <td>1.0</td>\n",
              "      <td>30.0</td>\n",
              "      <td>-477.0</td>\n",
              "      <td>1532.0</td>\n",
              "      <td>2.0</td>\n",
              "    </tr>\n",
              "    <tr>\n",
              "      <th>1266</th>\n",
              "      <td>1.0</td>\n",
              "      <td>0.0</td>\n",
              "      <td>0.0</td>\n",
              "      <td>0.0</td>\n",
              "      <td>0.0</td>\n",
              "      <td>1.0</td>\n",
              "      <td>0.0</td>\n",
              "      <td>0.0</td>\n",
              "      <td>42.0</td>\n",
              "      <td>2187.0</td>\n",
              "      <td>525.0</td>\n",
              "      <td>3.0</td>\n",
              "    </tr>\n",
              "    <tr>\n",
              "      <th>1267</th>\n",
              "      <td>0.0</td>\n",
              "      <td>0.0</td>\n",
              "      <td>1.0</td>\n",
              "      <td>0.0</td>\n",
              "      <td>0.0</td>\n",
              "      <td>1.0</td>\n",
              "      <td>0.0</td>\n",
              "      <td>0.0</td>\n",
              "      <td>29.0</td>\n",
              "      <td>19.0</td>\n",
              "      <td>110.0</td>\n",
              "      <td>2.0</td>\n",
              "    </tr>\n",
              "  </tbody>\n",
              "</table>\n",
              "<p>1268 rows × 12 columns</p>\n",
              "</div>\n",
              "    <div class=\"colab-df-buttons\">\n",
              "\n",
              "  <div class=\"colab-df-container\">\n",
              "    <button class=\"colab-df-convert\" onclick=\"convertToInteractive('df-285c55cc-7cc6-41ad-9571-2fc0ec3ba7e2')\"\n",
              "            title=\"Convert this dataframe to an interactive table.\"\n",
              "            style=\"display:none;\">\n",
              "\n",
              "  <svg xmlns=\"http://www.w3.org/2000/svg\" height=\"24px\" viewBox=\"0 -960 960 960\">\n",
              "    <path d=\"M120-120v-720h720v720H120Zm60-500h600v-160H180v160Zm220 220h160v-160H400v160Zm0 220h160v-160H400v160ZM180-400h160v-160H180v160Zm440 0h160v-160H620v160ZM180-180h160v-160H180v160Zm440 0h160v-160H620v160Z\"/>\n",
              "  </svg>\n",
              "    </button>\n",
              "\n",
              "  <style>\n",
              "    .colab-df-container {\n",
              "      display:flex;\n",
              "      gap: 12px;\n",
              "    }\n",
              "\n",
              "    .colab-df-convert {\n",
              "      background-color: #E8F0FE;\n",
              "      border: none;\n",
              "      border-radius: 50%;\n",
              "      cursor: pointer;\n",
              "      display: none;\n",
              "      fill: #1967D2;\n",
              "      height: 32px;\n",
              "      padding: 0 0 0 0;\n",
              "      width: 32px;\n",
              "    }\n",
              "\n",
              "    .colab-df-convert:hover {\n",
              "      background-color: #E2EBFA;\n",
              "      box-shadow: 0px 1px 2px rgba(60, 64, 67, 0.3), 0px 1px 3px 1px rgba(60, 64, 67, 0.15);\n",
              "      fill: #174EA6;\n",
              "    }\n",
              "\n",
              "    .colab-df-buttons div {\n",
              "      margin-bottom: 4px;\n",
              "    }\n",
              "\n",
              "    [theme=dark] .colab-df-convert {\n",
              "      background-color: #3B4455;\n",
              "      fill: #D2E3FC;\n",
              "    }\n",
              "\n",
              "    [theme=dark] .colab-df-convert:hover {\n",
              "      background-color: #434B5C;\n",
              "      box-shadow: 0px 1px 3px 1px rgba(0, 0, 0, 0.15);\n",
              "      filter: drop-shadow(0px 1px 2px rgba(0, 0, 0, 0.3));\n",
              "      fill: #FFFFFF;\n",
              "    }\n",
              "  </style>\n",
              "\n",
              "    <script>\n",
              "      const buttonEl =\n",
              "        document.querySelector('#df-285c55cc-7cc6-41ad-9571-2fc0ec3ba7e2 button.colab-df-convert');\n",
              "      buttonEl.style.display =\n",
              "        google.colab.kernel.accessAllowed ? 'block' : 'none';\n",
              "\n",
              "      async function convertToInteractive(key) {\n",
              "        const element = document.querySelector('#df-285c55cc-7cc6-41ad-9571-2fc0ec3ba7e2');\n",
              "        const dataTable =\n",
              "          await google.colab.kernel.invokeFunction('convertToInteractive',\n",
              "                                                    [key], {});\n",
              "        if (!dataTable) return;\n",
              "\n",
              "        const docLinkHtml = 'Like what you see? Visit the ' +\n",
              "          '<a target=\"_blank\" href=https://colab.research.google.com/notebooks/data_table.ipynb>data table notebook</a>'\n",
              "          + ' to learn more about interactive tables.';\n",
              "        element.innerHTML = '';\n",
              "        dataTable['output_type'] = 'display_data';\n",
              "        await google.colab.output.renderOutput(dataTable, element);\n",
              "        const docLink = document.createElement('div');\n",
              "        docLink.innerHTML = docLinkHtml;\n",
              "        element.appendChild(docLink);\n",
              "      }\n",
              "    </script>\n",
              "  </div>\n",
              "\n",
              "\n",
              "    <div id=\"df-c8102ebc-fb1b-4d67-addb-0b98e9b1f401\">\n",
              "      <button class=\"colab-df-quickchart\" onclick=\"quickchart('df-c8102ebc-fb1b-4d67-addb-0b98e9b1f401')\"\n",
              "                title=\"Suggest charts\"\n",
              "                style=\"display:none;\">\n",
              "\n",
              "<svg xmlns=\"http://www.w3.org/2000/svg\" height=\"24px\"viewBox=\"0 0 24 24\"\n",
              "     width=\"24px\">\n",
              "    <g>\n",
              "        <path d=\"M19 3H5c-1.1 0-2 .9-2 2v14c0 1.1.9 2 2 2h14c1.1 0 2-.9 2-2V5c0-1.1-.9-2-2-2zM9 17H7v-7h2v7zm4 0h-2V7h2v10zm4 0h-2v-4h2v4z\"/>\n",
              "    </g>\n",
              "</svg>\n",
              "      </button>\n",
              "\n",
              "<style>\n",
              "  .colab-df-quickchart {\n",
              "      --bg-color: #E8F0FE;\n",
              "      --fill-color: #1967D2;\n",
              "      --hover-bg-color: #E2EBFA;\n",
              "      --hover-fill-color: #174EA6;\n",
              "      --disabled-fill-color: #AAA;\n",
              "      --disabled-bg-color: #DDD;\n",
              "  }\n",
              "\n",
              "  [theme=dark] .colab-df-quickchart {\n",
              "      --bg-color: #3B4455;\n",
              "      --fill-color: #D2E3FC;\n",
              "      --hover-bg-color: #434B5C;\n",
              "      --hover-fill-color: #FFFFFF;\n",
              "      --disabled-bg-color: #3B4455;\n",
              "      --disabled-fill-color: #666;\n",
              "  }\n",
              "\n",
              "  .colab-df-quickchart {\n",
              "    background-color: var(--bg-color);\n",
              "    border: none;\n",
              "    border-radius: 50%;\n",
              "    cursor: pointer;\n",
              "    display: none;\n",
              "    fill: var(--fill-color);\n",
              "    height: 32px;\n",
              "    padding: 0;\n",
              "    width: 32px;\n",
              "  }\n",
              "\n",
              "  .colab-df-quickchart:hover {\n",
              "    background-color: var(--hover-bg-color);\n",
              "    box-shadow: 0 1px 2px rgba(60, 64, 67, 0.3), 0 1px 3px 1px rgba(60, 64, 67, 0.15);\n",
              "    fill: var(--button-hover-fill-color);\n",
              "  }\n",
              "\n",
              "  .colab-df-quickchart-complete:disabled,\n",
              "  .colab-df-quickchart-complete:disabled:hover {\n",
              "    background-color: var(--disabled-bg-color);\n",
              "    fill: var(--disabled-fill-color);\n",
              "    box-shadow: none;\n",
              "  }\n",
              "\n",
              "  .colab-df-spinner {\n",
              "    border: 2px solid var(--fill-color);\n",
              "    border-color: transparent;\n",
              "    border-bottom-color: var(--fill-color);\n",
              "    animation:\n",
              "      spin 1s steps(1) infinite;\n",
              "  }\n",
              "\n",
              "  @keyframes spin {\n",
              "    0% {\n",
              "      border-color: transparent;\n",
              "      border-bottom-color: var(--fill-color);\n",
              "      border-left-color: var(--fill-color);\n",
              "    }\n",
              "    20% {\n",
              "      border-color: transparent;\n",
              "      border-left-color: var(--fill-color);\n",
              "      border-top-color: var(--fill-color);\n",
              "    }\n",
              "    30% {\n",
              "      border-color: transparent;\n",
              "      border-left-color: var(--fill-color);\n",
              "      border-top-color: var(--fill-color);\n",
              "      border-right-color: var(--fill-color);\n",
              "    }\n",
              "    40% {\n",
              "      border-color: transparent;\n",
              "      border-right-color: var(--fill-color);\n",
              "      border-top-color: var(--fill-color);\n",
              "    }\n",
              "    60% {\n",
              "      border-color: transparent;\n",
              "      border-right-color: var(--fill-color);\n",
              "    }\n",
              "    80% {\n",
              "      border-color: transparent;\n",
              "      border-right-color: var(--fill-color);\n",
              "      border-bottom-color: var(--fill-color);\n",
              "    }\n",
              "    90% {\n",
              "      border-color: transparent;\n",
              "      border-bottom-color: var(--fill-color);\n",
              "    }\n",
              "  }\n",
              "</style>\n",
              "\n",
              "      <script>\n",
              "        async function quickchart(key) {\n",
              "          const quickchartButtonEl =\n",
              "            document.querySelector('#' + key + ' button');\n",
              "          quickchartButtonEl.disabled = true;  // To prevent multiple clicks.\n",
              "          quickchartButtonEl.classList.add('colab-df-spinner');\n",
              "          try {\n",
              "            const charts = await google.colab.kernel.invokeFunction(\n",
              "                'suggestCharts', [key], {});\n",
              "          } catch (error) {\n",
              "            console.error('Error during call to suggestCharts:', error);\n",
              "          }\n",
              "          quickchartButtonEl.classList.remove('colab-df-spinner');\n",
              "          quickchartButtonEl.classList.add('colab-df-quickchart-complete');\n",
              "        }\n",
              "        (() => {\n",
              "          let quickchartButtonEl =\n",
              "            document.querySelector('#df-c8102ebc-fb1b-4d67-addb-0b98e9b1f401 button');\n",
              "          quickchartButtonEl.style.display =\n",
              "            google.colab.kernel.accessAllowed ? 'block' : 'none';\n",
              "        })();\n",
              "      </script>\n",
              "    </div>\n",
              "\n",
              "    </div>\n",
              "  </div>\n"
            ],
            "application/vnd.google.colaboratory.intrinsic+json": {
              "type": "dataframe",
              "summary": "{\n  \"name\": \"pd\",\n  \"rows\": 1268,\n  \"fields\": [\n    {\n      \"column\": \"onehotencoder__estado_civil_casado (a)\",\n      \"properties\": {\n        \"dtype\": \"number\",\n        \"std\": 0.4934216275780293,\n        \"min\": 0.0,\n        \"max\": 1.0,\n        \"num_unique_values\": 2,\n        \"samples\": [\n          0.0,\n          1.0\n        ],\n        \"semantic_type\": \"\",\n        \"description\": \"\"\n      }\n    },\n    {\n      \"column\": \"onehotencoder__estado_civil_divorciado (a)\",\n      \"properties\": {\n        \"dtype\": \"number\",\n        \"std\": 0.33395437437580244,\n        \"min\": 0.0,\n        \"max\": 1.0,\n        \"num_unique_values\": 2,\n        \"samples\": [\n          1.0,\n          0.0\n        ],\n        \"semantic_type\": \"\",\n        \"description\": \"\"\n      }\n    },\n    {\n      \"column\": \"onehotencoder__estado_civil_soltero (a)\",\n      \"properties\": {\n        \"dtype\": \"number\",\n        \"std\": 0.45404325646940547,\n        \"min\": 0.0,\n        \"max\": 1.0,\n        \"num_unique_values\": 2,\n        \"samples\": [\n          1.0,\n          0.0\n        ],\n        \"semantic_type\": \"\",\n        \"description\": \"\"\n      }\n    },\n    {\n      \"column\": \"onehotencoder__escolaridad_primaria\",\n      \"properties\": {\n        \"dtype\": \"number\",\n        \"std\": 0.3593643175588921,\n        \"min\": 0.0,\n        \"max\": 1.0,\n        \"num_unique_values\": 2,\n        \"samples\": [\n          1.0,\n          0.0\n        ],\n        \"semantic_type\": \"\",\n        \"description\": \"\"\n      }\n    },\n    {\n      \"column\": \"onehotencoder__escolaridad_secundaria\",\n      \"properties\": {\n        \"dtype\": \"number\",\n        \"std\": 0.4997092315310663,\n        \"min\": 0.0,\n        \"max\": 1.0,\n        \"num_unique_values\": 2,\n        \"samples\": [\n          1.0,\n          0.0\n        ],\n        \"semantic_type\": \"\",\n        \"description\": \"\"\n      }\n    },\n    {\n      \"column\": \"onehotencoder__escolaridad_superior\",\n      \"properties\": {\n        \"dtype\": \"number\",\n        \"std\": 0.4688243379191868,\n        \"min\": 0.0,\n        \"max\": 1.0,\n        \"num_unique_values\": 2,\n        \"samples\": [\n          0.0,\n          1.0\n        ],\n        \"semantic_type\": \"\",\n        \"description\": \"\"\n      }\n    },\n    {\n      \"column\": \"onehotencoder__default_si\",\n      \"properties\": {\n        \"dtype\": \"number\",\n        \"std\": 0.13350596169531515,\n        \"min\": 0.0,\n        \"max\": 1.0,\n        \"num_unique_values\": 2,\n        \"samples\": [\n          1.0,\n          0.0\n        ],\n        \"semantic_type\": \"\",\n        \"description\": \"\"\n      }\n    },\n    {\n      \"column\": \"onehotencoder__prestatario_si\",\n      \"properties\": {\n        \"dtype\": \"number\",\n        \"std\": 0.3408613004126143,\n        \"min\": 0.0,\n        \"max\": 1.0,\n        \"num_unique_values\": 2,\n        \"samples\": [\n          1.0,\n          0.0\n        ],\n        \"semantic_type\": \"\",\n        \"description\": \"\"\n      }\n    },\n    {\n      \"column\": \"remainder__edad\",\n      \"properties\": {\n        \"dtype\": \"number\",\n        \"std\": 11.383804651491229,\n        \"min\": 19.0,\n        \"max\": 87.0,\n        \"num_unique_values\": 64,\n        \"samples\": [\n          70.0,\n          77.0\n        ],\n        \"semantic_type\": \"\",\n        \"description\": \"\"\n      }\n    },\n    {\n      \"column\": \"remainder__saldo\",\n      \"properties\": {\n        \"dtype\": \"number\",\n        \"std\": 2690.40676693504,\n        \"min\": -1206.0,\n        \"max\": 27069.0,\n        \"num_unique_values\": 946,\n        \"samples\": [\n          1148.0,\n          -247.0\n        ],\n        \"semantic_type\": \"\",\n        \"description\": \"\"\n      }\n    },\n    {\n      \"column\": \"remainder__ultimo_contacto\",\n      \"properties\": {\n        \"dtype\": \"number\",\n        \"std\": 347.9697229415952,\n        \"min\": 5.0,\n        \"max\": 3025.0,\n        \"num_unique_values\": 646,\n        \"samples\": [\n          1006.0,\n          1060.0\n        ],\n        \"semantic_type\": \"\",\n        \"description\": \"\"\n      }\n    },\n    {\n      \"column\": \"remainder__ct_contactos\",\n      \"properties\": {\n        \"dtype\": \"number\",\n        \"std\": 2.8856424362736948,\n        \"min\": 1.0,\n        \"max\": 32.0,\n        \"num_unique_values\": 21,\n        \"samples\": [\n          1.0,\n          24.0\n        ],\n        \"semantic_type\": \"\",\n        \"description\": \"\"\n      }\n    }\n  ]\n}"
            }
          },
          "metadata": {},
          "execution_count": 36
        }
      ]
    },
    {
      "cell_type": "markdown",
      "source": [
        "## Transformando la variable respuesta"
      ],
      "metadata": {
        "id": "eVg26seuoAvc"
      }
    },
    {
      "cell_type": "markdown",
      "source": [
        "Así como las variables explicativas, la variable objetivo también debe convertirse al formato numérico. Podemos representar una variable objetivo binaria como 0 o 1, donde 0 indica la ausencia de la característica de la variable y 1 representa su presencia."
      ],
      "metadata": {
        "id": "v2czom6YKsCp"
      }
    },
    {
      "cell_type": "code",
      "source": [
        "from sklearn.preprocessing import LabelEncoder"
      ],
      "metadata": {
        "id": "kOVKLS1uA2LN"
      },
      "execution_count": 37,
      "outputs": []
    },
    {
      "cell_type": "code",
      "source": [
        "label_encoder = LabelEncoder()"
      ],
      "metadata": {
        "id": "aB0ESpVxA2Hj"
      },
      "execution_count": 38,
      "outputs": []
    },
    {
      "cell_type": "code",
      "source": [
        "y = label_encoder.fit_transform(y)"
      ],
      "metadata": {
        "id": "-t4p8aO2A3oY"
      },
      "execution_count": 39,
      "outputs": []
    },
    {
      "cell_type": "code",
      "source": [
        "y"
      ],
      "metadata": {
        "id": "kiQDHea5A2E1",
        "colab": {
          "base_uri": "https://localhost:8080/"
        },
        "outputId": "396961a8-cf21-409e-fb01-84ab479cdf8a"
      },
      "execution_count": 40,
      "outputs": [
        {
          "output_type": "execute_result",
          "data": {
            "text/plain": [
              "array([1, 1, 0, ..., 1, 1, 1])"
            ]
          },
          "metadata": {},
          "execution_count": 40
        }
      ]
    },
    {
      "cell_type": "markdown",
      "source": [
        "# 3 Ajustando modelos"
      ],
      "metadata": {
        "id": "04r_U98KoNML"
      }
    },
    {
      "cell_type": "markdown",
      "source": [
        "## Dividiendo los datos entre entrenamiento y prueba"
      ],
      "metadata": {
        "id": "IhVdsTrEobYU"
      }
    },
    {
      "cell_type": "markdown",
      "source": [
        "Para comprender si el modelo realmente está aprendiendo de los datos, necesitamos hacer una separación de los datos entre entrenamiento y prueba. Los datos de **entrenamiento** se utilizan para ajustar el modelo, mientras que los datos de **prueba** sirven para verificar el aprendizaje del modelo en datos que no fueron utilizados en el momento del ajuste."
      ],
      "metadata": {
        "id": "fj__Hu1bLCVY"
      }
    },
    {
      "cell_type": "markdown",
      "source": [
        "<a href=\"https://ibb.co/2749Chh3\"><img src=\"https://i.ibb.co/Y7sC1QQB/train-test.png\" alt=\"train-test\" border=\"0\"></a>"
      ],
      "metadata": {
        "id": "Az25kGn-PYir"
      }
    },
    {
      "cell_type": "code",
      "source": [],
      "metadata": {
        "id": "PRttl9ml_3o9"
      },
      "execution_count": null,
      "outputs": []
    },
    {
      "cell_type": "code",
      "source": [],
      "metadata": {
        "id": "XXGsRowP_3XX"
      },
      "execution_count": null,
      "outputs": []
    },
    {
      "cell_type": "markdown",
      "source": [
        "## Modelo de referencia - Baseline"
      ],
      "metadata": {
        "id": "EPMZl3TasDtS"
      }
    },
    {
      "cell_type": "markdown",
      "source": [
        "El modelo más simple de clasificar los datos es simplemente utilizar un algoritmo que asigna todas las clasificaciones a la clase que tiene mayor frecuencia. Este algoritmo sirve como un criterio de comparación para identificar si los otros modelos tienen un rendimiento mejor que la clasificación más simple posible."
      ],
      "metadata": {
        "id": "fuydEJIBLbmh"
      }
    },
    {
      "cell_type": "code",
      "source": [],
      "metadata": {
        "id": "XhmVFsrT_7b0"
      },
      "execution_count": null,
      "outputs": []
    },
    {
      "cell_type": "code",
      "source": [],
      "metadata": {
        "id": "nn-egwQm_7Xw"
      },
      "execution_count": null,
      "outputs": []
    },
    {
      "cell_type": "markdown",
      "source": [
        "## Árboles de Decisión"
      ],
      "metadata": {
        "id": "4piugifGsF4g"
      }
    },
    {
      "cell_type": "markdown",
      "source": [
        "El modelo de árbol de decisión es muy utilizado debido a su alta **explicabilidad** y **procesamiento rápido**, manteniendo un rendimiento bastante interesante.\n",
        "\n",
        "Se basa en decisiones simples tomadas por el algoritmo, separando los datos mediante comparaciones de **menor** y **mayor** en los valores de las columnas de la base de datos."
      ],
      "metadata": {
        "id": "Hx3luIUAMEWY"
      }
    },
    {
      "cell_type": "code",
      "source": [],
      "metadata": {
        "id": "7RW7IJ_t_8N3"
      },
      "execution_count": null,
      "outputs": []
    },
    {
      "cell_type": "code",
      "source": [],
      "metadata": {
        "id": "0o5XX-5U_8KC"
      },
      "execution_count": null,
      "outputs": []
    },
    {
      "cell_type": "code",
      "source": [],
      "metadata": {
        "id": "2Z-vk9hs_8G6"
      },
      "execution_count": null,
      "outputs": []
    },
    {
      "cell_type": "markdown",
      "source": [
        "```python\n",
        "valores_columnas = ['casado (a)',\n",
        "                'divorciado (a)',\n",
        "                'soltero (a)',\n",
        "                'primaria',\n",
        "                'secundaria',\n",
        "                'superior',\n",
        "                'default',\n",
        "                'prestatario',\n",
        "                'edad',\n",
        "                'saldo',\n",
        "                'ultimo_contacto',\n",
        "                'ct_contactos']\n",
        "```"
      ],
      "metadata": {
        "id": "df2Z_0iWhe6s"
      }
    },
    {
      "cell_type": "code",
      "source": [],
      "metadata": {
        "id": "tTXqDZxWAA4q"
      },
      "execution_count": null,
      "outputs": []
    },
    {
      "cell_type": "code",
      "source": [],
      "metadata": {
        "id": "SVyXiwIMAA1L"
      },
      "execution_count": null,
      "outputs": []
    },
    {
      "cell_type": "code",
      "source": [],
      "metadata": {
        "id": "0UwoiWOEAAyq"
      },
      "execution_count": null,
      "outputs": []
    },
    {
      "cell_type": "markdown",
      "source": [
        "# 4. Selección de modelos"
      ],
      "metadata": {
        "id": "VKrlCIXdP7Yi"
      }
    },
    {
      "cell_type": "markdown",
      "source": [
        "## Normalizando los datos"
      ],
      "metadata": {
        "id": "jc5hcDjhP_7i"
      }
    },
    {
      "cell_type": "markdown",
      "source": [
        "Algunos algoritmos pueden asignar un mayor peso a los valores de las variables debido a la escala de los valores y no por la importancia de la clasificación de la variable objetivo. Por ejemplo, en una base de datos con las columnas **edad** y **salario**, el algoritmo puede dar un mayor peso de decisión a los valores del salario simplemente por estar en una escala mayor que los valores de la edad, y no porque la variable salario sea más importante que la variable edad.\n",
        "\n",
        "En estos casos, necesitamos realizar una transformación en los datos para que estén en una misma escala, evitando que el algoritmo sea influenciado incorrectamente por los valores numéricos divergentes entre las variables."
      ],
      "metadata": {
        "id": "5lPMT48xM1Jm"
      }
    },
    {
      "cell_type": "markdown",
      "source": [
        "$X_{sc} = \\frac{X - X_{min}}{X_{max} - X_{min}} $"
      ],
      "metadata": {
        "id": "v1lUQnVXbhCb"
      }
    },
    {
      "cell_type": "code",
      "source": [],
      "metadata": {
        "id": "sOJiNe2A-eH_"
      },
      "execution_count": null,
      "outputs": []
    },
    {
      "cell_type": "code",
      "source": [],
      "metadata": {
        "id": "ogyiUP8e-eBg"
      },
      "execution_count": null,
      "outputs": []
    },
    {
      "cell_type": "code",
      "source": [],
      "metadata": {
        "id": "9jONGKMz-d_M"
      },
      "execution_count": null,
      "outputs": []
    },
    {
      "cell_type": "markdown",
      "source": [
        "## KNN"
      ],
      "metadata": {
        "id": "EeLwrThg0W7C"
      }
    },
    {
      "cell_type": "markdown",
      "source": [
        "El algoritmo KNN se basa en el cálculo de la distancia entre los registros de la base de datos y busca elementos que estén cerca unos de otros (vecinos) para tomar la decisión de clasificación.\n",
        "\n",
        "Debido a que utiliza cálculos de distancia, este algoritmo está influenciado por la escala de las variables, y por eso es necesario realizar una transformación en los datos antes de utilizar este método."
      ],
      "metadata": {
        "id": "QmAV0IFuNs43"
      }
    },
    {
      "cell_type": "code",
      "source": [],
      "metadata": {
        "id": "WWfngI9t-fjN"
      },
      "execution_count": null,
      "outputs": []
    },
    {
      "cell_type": "code",
      "source": [],
      "metadata": {
        "id": "OLA-IDeJ-ffP"
      },
      "execution_count": null,
      "outputs": []
    },
    {
      "cell_type": "code",
      "source": [],
      "metadata": {
        "id": "sLFS5Q-W-fc3"
      },
      "execution_count": null,
      "outputs": []
    },
    {
      "cell_type": "markdown",
      "source": [
        "## Escogiendo y serializando el mejor modelo"
      ],
      "metadata": {
        "id": "8qdYbnwhVFSU"
      }
    },
    {
      "cell_type": "markdown",
      "source": [
        "Al final de un proyecto de machine learning, debemos comparar los resultados de los modelos y elegir el que tenga el mejor rendimiento.\n",
        "\n",
        "Podemos almacenar el modelo en un archivo serializado del tipo pickle para que sea utilizado en producción, es decir, en datos del mundo real para atender las necesidades del problema que necesita ser resuelto."
      ],
      "metadata": {
        "id": "HXa-CK0kOGr3"
      }
    },
    {
      "cell_type": "code",
      "source": [],
      "metadata": {
        "id": "5nPHjdtn-jDe"
      },
      "execution_count": null,
      "outputs": []
    },
    {
      "cell_type": "code",
      "source": [],
      "metadata": {
        "id": "_QJx3nzo-i7j"
      },
      "execution_count": null,
      "outputs": []
    },
    {
      "cell_type": "code",
      "source": [],
      "metadata": {
        "id": "H_miBe1Z-i31"
      },
      "execution_count": null,
      "outputs": []
    },
    {
      "cell_type": "markdown",
      "source": [
        "```python\n",
        "nuevo_dato = {\n",
        "    'edad': [45],\n",
        "    'estado_civil':['soltero (a)'],\n",
        "    'escolaridad':['superior'],\n",
        "    'default': ['no'],\n",
        "    'saldo': [23040],\n",
        "    'prestatario': ['no'],\n",
        "    'ultimo_contacto': [800],\n",
        "    'ct_contactos': [4]\n",
        "}\n",
        "```"
      ],
      "metadata": {
        "id": "nKDya8qahXrt"
      }
    },
    {
      "cell_type": "code",
      "source": [],
      "metadata": {
        "id": "M36ZyNeI-nXD"
      },
      "execution_count": null,
      "outputs": []
    },
    {
      "cell_type": "code",
      "source": [],
      "metadata": {
        "id": "9e6TGmHX-nSW"
      },
      "execution_count": null,
      "outputs": []
    },
    {
      "cell_type": "code",
      "source": [],
      "metadata": {
        "id": "MJhJ1VzS-nPM"
      },
      "execution_count": null,
      "outputs": []
    },
    {
      "cell_type": "markdown",
      "source": [
        "#**Para saber más: ¿qué es Machine Learning?**"
      ],
      "metadata": {
        "id": "PjRtCIdPAAoI"
      }
    },
    {
      "cell_type": "markdown",
      "source": [
        "El Inteligencia Artificial (IA) se ha destacado como una de las áreas de mayor crecimiento y visibilidad en los últimos años. Es un campo de estudio amplio que abarca diversas áreas del conocimiento, tanto prácticas como teóricas, incluyendo la ciencia de la computación, la ciencia cognitiva, la filosofía de la mente y el Machine Learning (Aprendizaje Automático).\n",
        "\n",
        "El Machine Learning (ML), como una subárea de la inteligencia artificial, se concentra en el desarrollo de algoritmos que son utilizados en la computadora para realizar tareas sin la necesidad de programar explícitamente las reglas que se utilizarán. Estos algoritmos basan sus decisiones a partir de datos con el objetivo de comprender e identificar el patrón existente en esos datos, para luego utilizar ese conocimiento en la realización de predicciones.\n",
        "\n",
        "Cómo funciona el Machine Learning\n",
        "El funcionamiento del Machine Learning tiene 3 etapas principales:\n",
        "\n",
        "1 - Recolección de datos\n",
        "\n",
        "La primera etapa de un proyecto de ML es la extracción o recolección de datos. Los datos son esenciales y pueden considerarse la materia prima de los algoritmos. La cantidad y calidad de estos datos tienen un impacto muy grande en el aprendizaje de los modelos. Con pocos datos, el modelo puede no tener información suficiente para aprender. Con datos de poca calidad, el modelo puede no ser capaz de diferenciar bien el patrón de los datos o comprender el patrón de manera diferente a lo que ocurre con los datos del mundo real.\n",
        "\n",
        "2 - Entrenamiento de los modelos\n",
        "\n",
        "Después de recolectar datos y asegurar que tienen calidad, se llega a la etapa de entrenar los modelos. El entrenamiento consiste en que el algoritmo busque el patrón presente en los datos y construya una regla para tomar decisiones posteriormente en nuevos datos.\n",
        "\n",
        "3 - Evaluación\n",
        "\n",
        "Con el modelo entrenado, se llega a la etapa de evaluar el desempeño del modelo, para identificar si realmente aprendió el patrón de los datos y si es capaz de aplicar de forma satisfactoria la regla generada por el algoritmo en datos nuevos, que no fueron utilizados durante el momento del entrenamiento.\n",
        "\n",
        "A pesar de ser las etapas principales, estas no son las únicas tareas presentes en proyectos de Machine Learning. Cada proyecto tiene sus propias características, ya sea por el formato y naturaleza de los datos, el tipo de aplicación o los desafíos encontrados a lo largo del proceso."
      ],
      "metadata": {
        "id": "UYOHH4BwAG-u"
      }
    },
    {
      "cell_type": "markdown",
      "source": [
        "#**Para saber más: ¿qué es clasificación?**"
      ],
      "metadata": {
        "id": "C8eJh9S1DZzR"
      }
    },
    {
      "cell_type": "markdown",
      "source": [
        "Dentro del área de Machine Learning, existen diferentes tipos de aprendizaje: el supervisado, semi supervisado, no supervisado y por refuerzo. La tarea de clasificación es solo una entre las tareas realizadas por los algoritmos, que forma parte del aprendizaje supervisado. Con el organigrama a continuación, observa los flujos que se establecen en estas relaciones."
      ],
      "metadata": {
        "id": "3l56hwY2DdhZ"
      }
    },
    {
      "cell_type": "markdown",
      "source": [
        "![1234.png](data:image/png;base64,iVBORw0KGgoAAAANSUhEUgAAAtoAAAHlCAYAAADLKlvWAAAAAXNSR0IArs4c6QAAAARnQU1BAACxjwv8YQUAAAAJcEhZcwAADsMAAA7DAcdvqGQAAP+lSURBVHhe7N11nFzV/f/x1713bN1dshvduLsRggYJ7t5ihZY6VWj5ldKW6rcUawsUdw2aBBJC3D2bbJLdrGTdZeze8/tjZje7Q4CECCufJ48bdu6ce2d2dube95x7RFOgEEIIIYQQQhxXeugKIYQQQgghxLHT2mu0E+LjQ+8TQgghhBBCHKWa2lqQGm0hhBBCCCFOjI4a7ZLSSpITY0LvF0IIIYQQQhyhtLS0jhrtQ0G7pJK42PDQskIIIYQQx1VgFAYreENDa/+54z4hug+ty0+BW0oL3D503yHZ2dkStIUQQghx8imlsFBggVIWKAtlKZQKxu9DWUaIb5ymAguApmmg66Bp6LqOpgWitqZ1fcNK0BZCCCHESaVQHYHa7/Ph9rtpaKqjqqac5tZmvH4/mhVMNFKtLboJFezNqKHhsNuJiogiIT6F6Ig4XE4XNsPAMIwuYVuCthBCCCFOGqUUlrLw+/00NjWQX7idjbvWsC1/AwdKC6hrqsXjdaOUkowtuh0N0DUdp8NFfHQy/TIHMmLgOMYOncTAfkOIjo7GZtiCtdyaBG0hhBBCnBxKKUzLxOv1UVpVyCerP2DBx6+yu3gH9Y0+tEPNs4Xo9pQGmg7xUS7yMkdwzqlXMHfq2SQnJuGwO9ENnX79+knQFkIIIcSJpZTCsiw8Hjf7D+7l5fef4vWPnqOuvgV/p7avQvQowVYimgapcQlcNvcGrrjgBpITk3E6XeTm5so42kIIIYQ4cdpDts/rpaqmgveXvsKbHz9HVW0gZKMCtYOB0RuE6BmUdqgLgaWgrK6GZ9//F2++/wJV1dX4fN4u5SVoCyGEEOK4U0phmn5a29pYv3M1Hy57k6qaFtA6DZImtdqipwl5vyoF1S1u3ln6Mpt3rKe1pbXL/RK0hRBCCHFctXd+9Hr91DRWs3LLx+wt2Y9lBYNK+3BpoRsK0c1pwXbX7V8S29tg768oYOnahVTX1nQpL0FbCCGEEMedZVq4vW627dnAivVLaHMHw0loQSF6MA3QLHD7YfveDRysLO1yvwRtIYQQQhxXikCzkZaWZvaV7Kas/GCg9i+0oBC9gA5gQnVdOSXlBz5/nxBCCCHE8aKsYNBubaGqpgJfsOOjEL1Re2uoVk8LJSXFXe6ToC2EEEKI40ap4OyPfgtPm5vW1q6dw4TorfymSUtzc5d1ErSFEEIIcdxZlsJn+vGbXtpnVheit7OsrjMwSdAWQgghxHHVXqttmX6UFRyWQcK26OUUYIbMdCpBWwghhBAngIVSltRmi74lpDOCBG0hhBBCHH9Siy36pK5vegnaQgghhDjuJGMLIUFbCCGEEEKIE0KCthBCCCGEECeABG0hhBBCCCFOAAnaQgghhBBCnAAStIUQQgghhDgBJGgLIYQQQghxAkjQFkIIIYQQ4gSQoC2EEEIIIcQJIEFbCCGEEEKIE0CCthBCCCGEECeABG0hhBBCCCFOAAnaQgghhBBCnAAStIUQQgghhDgBJGgLIYQQQghxAkjQFkIIIYQQ4gSQoC2EEEIIIcQJIEFbCCGEEEKIE0CCthBCCCGEECeABG0hhBBCCCFOAAnaQgghhBBCnAAStIUQQgghhDgBJGgLIYQQQghxAkjQFkIIIYQQ4gSQoC2EEEIIIcQJIEFbCCGEEEKIE0CCthBCCCEEoOngdEC4E8LDgosTnDYwtECZxHvWUrK0gZKl2/mbM3QPx8ewiefz4RvllCxt4LGbz8YIrtc0GDP9LhY8vz/4HBoo/KiYF26N4jf/t4uipQ1se+T32EP2dzLFJKTw76cKObC0gXV/vBVbaIGgiJg8nnu1mpKlDRz4+AB/uXRgaJFeQYK2EEIIIfq8sNj+XHDJ73jhiT3seK+B3R80sPv9Wja/tpOXf/sA5+TFnrQAmxx7OilRYQAMSh/JgOD6hJTZ/PqHv2JMRjwAlmli6M1U7riE0blpGEBs5jjO67Svk83luIQBqXHoQPLAWUwNLQAQk8HNv32DGYk6DZVreOLv5/CjVwpCS/UKErSFEEII0ceN47s/epr7b7mDSVnJ2GygLBMLg7CodEaPPYfBWcmhG50wO3Y/ywuLF7B+7Us89dHLlATXR4y9g6EJDgDqdv6Vu+6/nrt+fxv/Wv0Gj7/4Lz5Z+wFPv/Q3lnXZ28nV0Pgm/3vrWVasfZOHn/oTW0ILkMxFV/6DW0elUrt/IX/5v9v53YKtoYV6DU2BAigpqSQuNjz0fiGEEEKII6aUwu/309DYwO6CXTz1zsMs+PRtlBVasvs4684FPHrJTGwa0JTP0/+5lQc/3k5c1lQuveJXnBO/n/t+dQuL6gJNRzbNHQyU8MoZw/mBJ3Rvx4EGDjvYDfC4wa8Cq3Nu/pBF10zBBex8N4bT/9RpEwPCHOD3gtc8tP6bYLMFnr/PA77D/N3Dw224bDp+00trG/gPU6Ynigyzc8n0m3nuiRepqa0FqdEWQgghRJ+WPp8bTxmDTQPTvZcn/nAZv3hzI3WNXvZtX8off306s+4IhOwvpjHuvF/z6pPb2LOopqP99L53tvLEHVcxNOFQyfCEFK6463VWLajgwJJAuQOLSljx+IvcNj0agMmnXMGnbzeQ/0EDT//0ZiCT67/3Cm9dFgjZAEPPCWy74aHLSIiA/zwXaO6y7/nnDj0YkJ07m98/+CnbPqimeGkDJUvq2ff2Jp64/axAAbuTU877Ba/9bxd7Fgf2WbK0gb3vbOOx264mLwqCzdMBSMucxM9/t5DN71V2PP/Cd3fy8k+uIykSElNSeO3VwHMpePIvnbaEtCFT+fl9H7L89Qq2vFPFjgU1bH5+CfedN4rMmEPlUm98n4KlDRS+8AKDB32bF5/aw/5PAo+1/81N/O3qc0g/Qe3jjzcJ2kIIIYQ4IVTwv+6s3+hBDIgKAyxq933Aq3sLQ4scgThGjj+TKf0zcSg39fXV1Da7cURnc8YlD/LQty8gEoBY5l//X/540VwyI220ttRSW1dNqwonu/8ERkVFhe44aDCThg7E8B6qPve3VFNbV01NYxvWF7zEA0Zfw78efJnrJo0mNsyO5TcxLQ1HdDJptmCLc2ccQ0fOYWx2Gk7VQn1dNfVtPpzRWcy75Pf88op5hAV7NGYMmsvv732OO2ZOIiHCCZaJ3wRbZCIp4VFf2PERgCHz+N2vX+T22VNICrPh9/mxsBGTNpabfvQBf7nxIvqH/Pq2xMk88Zc/Mj0nCc0KVHvb43K56OrfcOPUfl0Ld1MStIUQQghxzAKB2gQFCgu/6aG84QCVDWWoLwiC3cGo+FgiDBvgpy6/mLbK0BJHopZXHnqYf7/yc66/fQYXf282l3z3ElZW+UCPZMjMWzkDgGFMyhmIAfib9vDXf93AJXfN5rIfnMP9T/2R/1tbEbrjoE+4/3fncOfiXXiDa4pWz+aSu2Zz6/+9T5M7pDiAsx/nzb+ZUYkuMJtY/8EvuOrOSZx/x2zu/9+j/HHR+kC55nJeWvgQT/3vW8y7bToX3TWbi3/5IPs9oNljmTpzPk4nYIti+qnfYerAJFA+Clb/g1u/P4lzb53A3Y8/xEOLPqO6JfRJtLNx/ZW/4/SsWHS8FHzyY869bRKX//ZOPiupR2kRTJrzE2aN6d91M0cCOVGVPPnnMzn3ttP4+6q9ABgRAzhrdmLXst2UBG0hhBBCHB9KQ2HR5m9iY8lnfLpjAdV1ZaGluhWboaMF20ZYXoX6mu2bPfXP87enn2R7TSV1TfU0NGyistUfuDMqmVwAKqluCaRRW/Rgvnvt3Vw8OImy4rU88eK/2VUTLP85irLSMgqb2mhvzuxpLWF3UQn7yv2HbeNs65/LsCE5GBq01G7j2Q8fZvnOAjbv3MQjT97Hkp2H/i6Nm97iH68voKK2kvqmeur3F1MbfCquyAw0HYzEBPqPHUWkruH31PHW+7/j/S0FbNuzh+ee+y2vLN+M74u+UNnO4OzhKeiAqt3IH599g20Fe1m55FU+WrkWU4E9KoPTU4cTGp/rNtzPPQtWs23Pev78+sfUAGDgiOwZEbZnPEshhBBCdHMKvzIpadzLh1teYF3+UrIS8shJGdQxDnR35Pb7sYJV7nqYhvY1xvCLTs3hsmv+ynOPbmTZy8Wsf72U9a+XML9fYIi+Qwp4/YOn2F7djKUM4tKnc8evlrDk0fe4+7KzSYsIKX4MssLDyAgPPL6noYSmosOn4Ji4PK664Z+89PAmVr58gHWvl7L+jUcYH/Jc4hx28qIDbTtM7wFq8tvr1o/A0FQSwgMvbGPjFko91cE72ihqOIBpKTAcxDkjCIyp0s5Pyb5nD91cXUNz57t7AAnaQgghhDgmCoXH9LKlbAWvL3+Uytoq5gy7kHG5U4kM69TLrRvaUd9Mq2kBNuIGpBMWWqX6lSKYe8pv+cU1NzI2PRWzZhuvvPoLbv7VpSwv//yQJDuX/pM7f3Mlv3v9LQ40tKGA2PTJfOv6v3LvhWmhxY8LZZpfOOpL3uUPcPcV1zAiKw1vzSZee/EHfO+3fyU/pDmKCjYJCtzwYx1Nzb/H3zH6iK6HobVfQvhKHpqqQtf1LBK0hRBCCHGETBSBcYEVFgoTU4HP52FhwQu8tfwhBiSO58qp3yUvYwxhtsCwwdaR5qpvQNH2fRS1tgE6SQPnc3leSDvhr5KcyoAp44ix6/g9FTz13FX85F//4oPPPqKkvelIiD1bP+XfD13H7Jum8duPd+ADDFc6s2fcHFr0ayt0uyl2B4K+KyGXmP6Hv65w8aRJxNh0oITX7p/Ljx97gtc/XktdyFOv8fvZ0dIGgOEaQNKIoxj2Y08pFQ2BGvCoqDwyne3fZsLpH5uDoWtgeqn2NHe0Qe8tJGgLIU44pZQssvSoRRyewkDDCixKw2eaFNZu5amV97N9+zrOGHMrp42ZT0x4VGAwaOj0/26q6DWe/nQzbhXoQHj1j1/l37ddxczxk5g54Xy+c+c/efmfz3HppNANg3wWlifwBUTTnaSlj2HssJFMOePPTM0MbQsymh/efj+3njGZKSNGMzolgk1vLKIkWPHt8zaElP/6VPEB9u0/gAVExA3nhnN/zLzJk5gxcRa3fO8//Pu2sQA0+doTtYvU/qMZO2w08751CSMDw6QcUl9H2fYdtFlgc8Rx0Tn3c/n0ScwYN5HLv/UP/vPDC0j9okFT1GLe2ZAfCNFxo/nZjdcyY9xEzjr3es6aPhFDA29jIYtKt9DeqKS3kKAthDgh2gOLZVlYloVpml0Wv98viyzdagl9f1qWJeH7cwKvg2VBi9nEuqLFvL3mCXDbuXLm95gyaA5hdhd8+UBv3Yzired+zuOrd+O2wBY5gLOvfITn//Ihz//lGX5x6XWM75dCsInx5zWWU7BzEy1+heGI48KLH+N/D7zN03ffTHRDMW1d3jrR5A6/jF//8kOe/dM7PPXA2zz14HfIdYLlLubD997tXPjYNO7ljbeeZXeTH4xIRp36Cx554AOe++Ob3HPxfPpFBUbk/mzdOhpNgETO+M47PPWHBTx01RlUHwjpxNpWz9KFT7CurB40G7njb+bB//chzz34AX+57hqGJEZ9aah8/blf8ObOMrzKTu70e3nuwQ94/Ie/Z3JaNJrVxPLFf2HJlgOhm/V4MjOkEOK4s1QgXCvLwm/6cXtb8fjc+JQPy7ICjf2E6I40DUO34TBcuJxhOAwHhmFD13V0TTuKtqW9lFKY+KluLWN5/jvsLNzKhP6nMXXwXKLCYkHTQVn4/X4aGhrZU7CLpxY8zDvdfGZIgLC4dE475yd8d/6FDEyMw6EDpp/mxhI2rX2MPz/xMOsOHn5myLDIEdz1g79x4ymTiLCB31PDpo9/z5Mra7jrJ08xOKqAv80ez1/I5No7/8RdZ59OYrgDWzCZNpRv5MVnf82j7y+jyg+T51zBP+5+jMww+PS9H3PVH/8NITND7lgQwxkPHnr+/32xgTPTgPIFZF5+dWClDikjbuS+2+9i7qBsXHYDpSxqS9fw4hO38MDiIlxpI7n59of4zrRRRNk1vC3FLH33Xu57azovP/Nt0uqWMer6c6ltCuwvcfCF/Pw7P+fcoQOIcAS+UDVWbeftF+7i92+vxRGfwn8f2834ODAL/0O/63/U8RwTMgdz5bV/4oYZM0mNtIHlo7lyG++8dTd/eGs1NcHhAVNvfJ/PbpiGixZW/Cudy15u38PPWb70Z/QDStecxuSfrO3Yd3dwuJkhJWgLIY6ZCgycC0rhVwpl+mnzNVPTVM3Bpn0UN+RT1lhIs6cKn9kGWO1bCdGtGMqJ0xZBYngGWXFDyIgYTFJsNjHhsThtDvRgMuorgVuh0Nr/VQqvv5V9dfmszF9AdXU1Z4+9miGZY3AaTtrHyLOUhem3aGio71FBW4hjJUFbCHFitE9QYfnxeX3UNlezq3oD2yqWU9G8H4+7DM1qQFeNaFZbx+VnIborhQ2MGOLC88iNm8GIjDlkxA0iIiwcu82Opmto3b3t8XGglALNwlJQ31bJtrIVbNm3luTIfkwZfDrpsf2wGQZoh14PpVSwRrtBgrboUw4XtL+sOY0QQhwRhcKyTDxek4MNJXy6/y2W7H2ewurleFs2Yfj3YpjlaFarhGzRI2j40cwa6ptWsqXkMT7cfj/biz+jubkBn8+HCrbf7u0UFqbp40BNPgs2Pcv6PasYmT6dM0ZfQnZCf+yG0THZixDi8yRoCyGOmaUsvD4PtY0VrCn5gPWlC2lsrcLmL8aw6tDU4Ye4EqL7szCteiobl/Hxnr+xp3wbLa3N+E2zVwZtBVgq8IOFhen3s6FsFS+t/Af+5lbOH3M9M4edQ1xEApqmg6ah0PtA3b4QX48EbSHEMbEsC7/PR2tLC/kV69lRsQa/WYvD2o2uWkOLC9Fjtbi3sKrwEcpq9+P2uDF7Y622CvzjVT7KGvaxYNvTrNi2gCEpU5g/8Rb6pwzD0PVO8aG9wYhEbSEOR4K2EOJrU0phmiZuj4fqxkq2Va+g0V2M3X8AXYVMKyZEj2dR0bSSzSWv0tLSgun3976gjcK0fOyqWM17m5+nuq6CWXkXcMaoS0mISUHXJTYIcTTkEyOEOCaWZeF2uylq2E1laxG6WSk12aLXMq1W8itfp7axEq/XGxiuspdQKFr9DSwreJN31j5PrC2F+WOvZ3T2FCJc4aBLrbUQR0uCthDia2mfjMbv99PS1kRR3XbaPDUYVoN0eBS9mttfzdqi/3YE7Z5Wq60C3ZcDH1MVuOW1fJTU7eWNjY/z8ab3mNn/fOaNuYKk2EwMwwbofWKUFSGONwnaQoivTSmFz+ej1dNCs7sOZTajK29oMSF6ncK6j2hzt/TIGm1NBSKz0gJj2Xt9LWwvWc4b6/6Nt1lx/YwfMHnIbCLCovrMeOFCnCgStIUQX1v7eLluTytey42mWqQ2W/QJrf4q6lpLMHvg6COBgK2BUjR6q/hgxzO8tupxcqOHcf6E6+mfPgKH3Sk12EIcBxK0hRBfW3vzEa/Ph9800ZHabNFXKBpaS1FK9bygjYZlWpQ17uWlNf9i3a41XDjuds4cfwUJ0SkYmh4cRUSCthDHSoK2EOJraQ8XgbBtYikl42WLPqXNW99Dmo4owEKh8FsmTe5qVhUu5I31/8bwhXPrnN8ypv807IYjWIsdnOVRcrYQx0yCthDimLQH7UBrz55VsyfEsTCVt4fUaGsowLS8FDfsZcHmp1mx830Gxo7jwkk3kZ6YgaEb0h5biBNAgrYQ4pip4MgFgbAtRB/RQ3KpUgqv6WVHxToWrPs3FRVlXDrxO5wx6iLiIuPRdSN0EyHEcSJBWwhxXPSEC+hCHFfd9ntl+5deC7/lo7KlmCX5r7Nw06ukRQ7i6hnfJTt5EJrhQJMYIMQJJZ8wIcRxELg0LYT4plmgFCgLr+lhb/VWFm19mcLy3UzrfzanjbyIpLgsdE0n0FKkh1TLC9FDSdAWQhwfUqUtxDdMgdKw0GjztbHuwCLeWvMfDCuCM0ZcxYQBc4iJiEfX5NQvxMkinzYhxPEhRxMhvkHtIVtR1VrIe9ue5uMN7zAycyZnjL6MnMRB2G02NE2uPQlxMsmpUQhxHATag3bjRqtC9DqHOh9bKAU+08uWsuW8sfIJqqsrOXf8TZwybD6xEXFoevu42NLxUYiTSYK2EOK4kIgtxEmmNCAwhn2jt4bF+S/w3Kf/JDGiHxdMvInhWRNxOsLQZdg+Ib4xErSFEEKIHkjDwjQ1qttqeG39w7y/8gVuO/XXnD/pJlJjM7EZBOu9JWgL8U2RoC2EOD4sM3SNEOIEUIClTBq9jWw6uIwXlv0Bd5PJXfP/SW7SSByGQmkamtLRlS5jAgnxDZKgLYQ4DoI1ZnI+F+KEslD4LR8VjYUs2fEKC9e+xMCkiVwy+XZyEgeg6wBGcAr19mnUpUZbiG+KBG0hxHEhGVuIE8tC4TM97K/eyjsbn6WospCzx17DaSMuJCk6RYbtE6Ibkk+lEOL4CE7DLoQ4/kxl0tBaycqC93h7w9OEaZGcP+4GhmdPwm53ytlciG5KPppCiONAoWR8XiGOC9WxKJRSmKaPA3X5LNz2CrsObGRMxkzOGX8dWYn9MXQdTdMCTUWEEN2OBG0hxDELRGwJ2kIcHwoLBUrhNVvYWPIxC9Y/TUuLm7kjL2HWkHnERSShawYaukRsIboxCdpCiOPCkpwtxHGi0Cyoc1fw7paneXPtc2RGDea8sdcwIHkEDrtL+jcK0UNI0BZCHDMN0KXpiBDHKFCT7fV72FuzhVdW/5vC8n1cNPZmzhh7CfExSWi6ERi6r6OBiRCiO5OgLYQ4jqzQFUKIr6RQCpQFzZ4alux9gxc/+wdJznQumXQbo3ImE+GMDjYVaa/MPvRTt6URjBnyhUD0EVbHPx0kaAshhBDfIKUUyvJR7Snn9fVPsnbLEk4bfgVnjbuKrIT+2AxH6CY9hq7rgaUHfC8Q4lgdboTNw6wSQoivp1fUW9lSSYufSE7iZHISJ5MRFR9aoucxYhk7ZSW/u6yKBy5byUwAspg5dSkPXFbBPWc9TXZMUuhWxyCGoUMe4t5LKvjdhauZlT0itEDvcByCo1IKt9/Njsr1vPDpX6mvq+TiKbcxceCphDlcaF1O0z3rE6YBmq5ht9mPy2slRHcT+onUNA2bzdZlnQRtIYToJDb1Kq495S1uPXUBt566gG9NvJWw0EK9QgrJ4UmAjsORhN0IDy1wDCKIcWRgaDq6HoPLnhhaoHcIPct+hUOj8wQWS1nUtJWzLP8t3t/4IslRuVwx7XsMyRiDTQsM26d6ckDVNRwOJ9GRcdjaJ6kUopdp/4xqQJjdRXx81+OdBG0hhOiQzMC4SUQa9o41YfHnMtXVpVAvsYWPVn+PBVvv5eV1v6akoTS0wDGoYPPu+3h78728veG7rDiwKrRAn6PaK8CVhlLgs3wU1eXz1oYn2Lx/DbMHXcAF464mJTYDXdeD16BDR8fuOVFV0zR0Tcduc5Ack05sdLR03xS9TuAzHXxf6xAVHk9irARtIYQ4LD0ql4yUkdg0aGlZSkmbCfpgho8c1uVgaegJxIRnEhuehEtzEu5MC97OJMoZi11rr+IwcDnTAuvtYOhRRLnSiQ3PJNLRXoNs4HQkEh2eQWxwH9GuBJx6++VHDYctPrj/RJy6iwhXGjHhGcSGZxDjSsChGe1PLUCPIMKVHtwmnShXDCElADB929le9DZFtYVYSgFxRAefQ+gS40rADqDZcNrjierYf/AxnDEY7b83YFkl7Cl5m50V2zDVoc5BmmYnzJkcfP6ZxISnE+WMPuzz60204NnYUiZN3jrWH/iUF5b9GX+rjwsn3cLYgdNxuiLQOr2GPZmmaRg2Oy6Hg9y0gQzpNxqHLZBMesdvKESAFvwC6dAhM6E/sdFxXe9vD+IlJZXExR7PS4dCiN7Msiz8fj+1tbXkF23lg7InaHMvxYE7tGgPoZGa9G2unPH/SLZb7Cq4gwLHT5mXPRCr5UOeXngNe7yBkukJz3LT3DOJMAtYs/590obdQGZEFJoGTY1LWb79XlaUbMfnzGbmjA+ZF59I7YFz+bTpdmYPmkucw8Xegm/xnw1LSEs5j1nDv8PQ+AE49UDcbGvLZ8e+R1iU/yr1fgfDcv/JJePPIczaxroda8kcdAkpYZFogK9tJxt3/Z739nyIB8DIYPCgn3HOkItIcjrQ8NDcuIEKXzY5CRkYFPDey1NZxjQuO+0JxsYnYLat4snPvsP+hp/w00uuJKbL6xLga/6A5967ln2xZzJ/5N0MShxClM2BpoFSXpoaV7Fq94Ms2b8KRTZTRz7MvLzJGFY1n2z6Fgv3rkDTYhjc/3ZmDbqaflEpGJqGstw0Ni1n9ba/srp0Da2hD9yNzel/H9PyriUiIuJz7TK7Cpxp/ZaPiqZi1u39hH2VOxmWOYVx2TNIiEoJdqJSgP65euyeyLJMPB4PtdU17C8sYuGqBSz47DnK6urA7FGV80J8ORVoPpIVk8T5s6/n1GmncuVV11BTWwtSoy2EOD4U6Fbgq3uPpRGddjHxdgOsIvbv+ojaqpW0mWCETSA3NTN0AzD6MWbcbaS5/LT4Al8woqJncErenSQ7oroUjUl5mNPz5hHnCLRD8XiXExk/h3ljf82YxMHYrFoO1q7mQEMdzrAhjB3yM87qn9ZlH9gGM3r4dSTZLZo8zYCGPWwYE0bezdTYQJGMzKu5cNilJDsdaPhoczfjjJxC/7iUrz7gq0oaWko7liZPc8elftNXRTNgue3Exg4hUvdS37iVotq9eJWD6JiZnDrybkYdrtt9kJ7xM84bdRf9o1OxvLspqlpHrddHdMxcTp3wZ8alZYRu0oOpjv9A0eZrYkvpcl5f8x8qa0s5Je9C5gw9n8ToVDRdD87w2DtCNoCm6RiGDacrjOiYaAZnD2do7jgiwzTQOzUh6cmHDNGndTSF0iDc0BjZfzKDcwYTHdO1RvuLj4hCCHEUenr7S02DsemjsAH+xiV82tpCYfN66nwtaFoM2fHnEBm6EXZU63s8/e4Q7n9zHB/XNAMGrrjZzI7tWi9sOLOx+7ayasv13PvaqXxwQDEg6WIyIxNAedix+1c8tug8HvlwCGvqm9FtqYzu/6Mu+wAH/pbFPP/xWB54awBPFhUAoNtGkpcNMJQhSecQbTNANbF75/f524Kh/P7tS9jb9tWViJb6HY+8O5Y/vDuWP7x7LrvcjsA2vi18tOKHlAKmewGvrryWh9/vz58+nMuji6byRGE+Fho211gmDQrda7tkzhv2bRLsNvBu4Y335/HoJ/N4Yv3vqPZ6sDkGMjztXILfF3oHpVDKT7OngaW73+Hddc+QEpXF/Em3MLrfNOw2R8gf5av+Qj2Lruu4wlzExMSQmZrNpKGzGJY1DqcjkD4s7VBHMiF6jOD7VmmBn106TOg/iymjTiEjPYuYmK7HfgnaQojjw+rhSTvqT+RE2gGThpaNDEk7jWxHGl6fHzSDlMQRpEZ+vldkVfVj7PEooIqFe1YEmm8QQ3xa11bHSjWyZtO3eWvXe3jNrVS1RRMVNxi7Hmh6ga2RnLS5DEmbS11rNSZA2CAmdtkLHKxaQmF9E6Co3beXtuB6mwMIjyE8KjbQpMRbwPaqd2myFG7/ZtaX78Yfsq/DU2BLZfKUZxgf48AyD7Jxx69Z2RK8W48Aby3OqNkMSTuVIWlzSbQF5imEL8uKZ5MZrOT3+xqxUmYwJG0uSXoqbT4vaDpRtkQiQjfroZQCn+mmoHo7b67/D/vLdnJq3qWcM/Y6EqNTQA+8ZlqvqcPuStM0dF3HbrcTFRVFUnISg/oNZdaoc5g86BTSY+Jx2Q4/7nCvfEFEr6Jp4NIgMzqZGcPmMXP8GWRn55KQlEJUVNermYd7iwshxFHq+WfGESPnEaMDGCRk/IsbZr7ADVPvpn9UDKARHjWBzKjBnzto+vxrD91obibQjNtBWFhISVVGben+Q7d1HcNuRwM0PYqRg18IPObMFzg7PecLOwe2eEsPtWP2+AKBvJ1hYDMCbYUtfxN+bzAdWxZmbeMRztuZwMDsn3BKeh66aqPkwJMs2rchcJeexODcH3PZ1Ce5bsbzXD8j8HwvzR78hc/3kEicwUK2iBlcMfV/wdf4B2RHdD0x9USHGokEhu1r8dSzet8iPlj/HD6fYu7Iy5gw6BQiXBHo2qGGIu1b90a6rmOz2QgLCyMhIYHMjCyGDRrBKWPmccroCxiZM4F+iRkkRkURHeYkyukILA4HUU57cOn8c+hy+PsiD7PuUPkv2vfhf4780v192T4P/9yOfGnf7xftx3EEzyt0X1+2/nBL6P1dX5fPr//8vr7sOR66L3S70NuhS+j9obfb13VdH/q3bL99uKXrPg4t0WEukiKjyUnMZnS/6cwZcyEzxs1h0MA8MjIyiI+LISys64Cw0hlSCPG1hHaGfK/sv7jdS3EG63R7lgu5/eLHyTYAy4+pLFSn7GOzOYA2inffyn+2vE9iXLAzJFBe9C3+sfrtQMGhb/L/Rk7HhoeSXdP5127V0RlSWdt5+9VT6Bjozp7D9HHPcXa/wWhWPdv3PEhRe/V0O7OS/L2LSW7vDKnD1p3X8/zW9wBIjH6SW886l0igdF8SD+2cyvlTHmNKQhp+9zreWXM2a8uDE9aMf4eLc/K+tDPk3rpiYuMu4pKpf2FAZCTupkW8veJbbGpoRQExCWdy6eRHGRAZic+zj3U7f8Hqg7txDHiKWwaPwkYL+zb359/5mYfpDDmAOy7+K5kGtDW8zadFq/F1Sf4WrY2b2V2+lvbK8+6ua2dIA4UFpka9p5bFO15ld9kmpuacwegBpxATFouhh35N6/2UUliWhcfjobm5mZqaGioqKig/WEZFVSXVdTU0Ntfi9nkwTRPLMoPt0E7kl4/AtYTPa39MrePnQyW/6EtR6Pr2bQ/to/3ewz0ih70vtOSXPWbo47fr/Pih5UPXt+u8j9D72gW+UHLCr8R8/lXpKvR3ONzvf7j1h3zxPe1bB/ehBa7QaHqg30GYI5zoyBgSYxNJSU4mJTWNlJQU4uPjiYqKwul0kpub29EZUoK2EOJr+XzQfhy3exnOYJ1uz6GTOPgv/GjMNUALB3Z9n/9te5PWjhA4lxvnv8Bgp4a38VX+tuguwmOe6Aja3uaPeWf1LyjyDuf0Gf9iZJQLrCI+++B83vXbvjhoE8OwQX/gotEXE6H52Lvvft7Pf5tmy0LTXdj1OFz6Lorr9UOjjnxV0F7Xn1njHuWMgWMxrEZ25f+Jhfs/QjlGc9bUhxgc4YQvCdr7mi1mz3iPM5LS0VQjmzdfyaKyKgAUfiKixzF/4iOkO+00VL3IW6sf4KDmImf0S1yemQNfGrR3MffUTcxNDEPz5bN47R1srKvGr3RsugObkYplLqequeMF6vY6B23DZsPn91DcsJu31z2B3+/l7BHXMzhtDHa7gRYcF7svsiwLpRRer5fW1lYaGhupra+jvr6epvp62lrb8Hq9waBtHWr8elyFxqrD7T+0TF92JK/P4cocq9DH4Ase53DlTiBNBYasNAycLhcRERFERUURGxdHXGws0dHRhIeH43A40HWdfv36SdAWQhybLkH7wFbeK+2hQVvP5dTJT3B61giUv5iP136HT4pXdWmSMXzGdq5JTwarhFVLZ7HWeqQjaJumH2jDVE4cNgfgp6HqSZ5a8TvKtcQvCdoQFj2ds8b/nUlJOaC8tLiLafS04nBmEuWwU7H7DB7eWn4UQRuS07/L1ZN+QbLDBspHm68JzYjDjgfNcKF/SdDen/Jn7hl5Kk4NsFpo9h6qYrfMEtYV/In0/o+SFxWNZTXR0HwAn5FOvMuNT6URZvuyoL0CI+UmvjXp1+SERaJZLTS2FNGiXEQ4EnHZfazckMcHnVrXdHftQTs8Igyf6WZ14Ues3r2Q7NhhzBw6n7S4DAzdFqgRO2xY6Dvaw7bf78fj8eB2e2htbaa1tQ2v14ff68Nv+VFKnfwQJcRX0NACQVu3YXfYcTjthIWFER4eicvlxOl0YhgGhhFoHydBWwhxzLrWaG8JBG3PZz0uaDviz+eqKX9lSGQMnpZFvLbq22yt6dp4wZX2PHfPPB0XFo1l3+d/O8/pCNpVB/9FW9RVZEbEoeOjruY1Fm29j83VVZidxtE+XNAGg8jIPEbm3cvMjGnEOpzBcan9tLZuZfOmG3intOmogjZ6LCmZ3+XiMbeQ6XKhWW6qKt9iZ2Uzo4d9ixjblwTtwS9zf7+BXZ5hO8s8wKJVc9jj+D6Xj76ZRIcL8OJp2cTqbX/ANvDfTEtwfWnQBp3k1AuYPvguRiUNxWUEwqdluWmoX8pHm65hU3XoI3dfc/rfx9TB19Cm1/DOhueorD/IrLxzmTRgJk57VK+ZfOZ4UUp1LH6fD79p4vf5AzXZKlCbfUJbjAjxtQVqtHVNR9cNDCPQ0dew2TAMA13XAzO6BmVnZ0vQFkIcm9CmI++WPoanBwbtr6Njwhpg/+4kHt8UWqKvy2b6qIc5a0ho0O5dZvT7BYlxw1i4/VXCw8K4eML3yE0ahKb5AXtgaALxOZ0DN51qu9tvC9FdaVqgZrt9VJ32dZ3/jwRtIcTx0LXpyBbeLXlcgnafl0pu2hgceiqjB9/F6KRM8JeyeMPlfFyYH1q4x0uOPBuTWPrHDufsCVcR7opE13QspaFpCu1zY9SIdocL1YdbJ0R3cbgrVIdbR0jQlqOAEOJrUypQE9XiaaHF3XSCRwoQ3d8YTpnwOFdOvo/RiZnogLd1OxWVvS9kA7S4G5macw6nTbiCCGcMmmagUOgaErK/Queawc41hLLI0l2X0PfrF4XsUHIkEEJ8Le1TlLh9bWwvXE9xeYF0YurzTEzLhdMWho6HlsaFvL/mFnZ2DPzdu9gNF7ERKbhsTpSm0FQgYKuOT4cQoq+TpiNCiK8hODau18vG3at58oM/UxO2m8yEelzakc0/KERPF2mbTkzYUGbmzWdA+giiwqLQ0YOjkakvGJZMCNHbSdMRIcQx0gAd0/Sxv3wnGgbJsRkSLESfMjh5HFlJA1hS8CYfbXyBiroi/JYvpK2x1G0L0ZdJ0BZCfE2K2pYKiqv2MihtGBGuaInZok+JdiYwc8A8ThlxHjW+Yl747BF2l25BWSaWsjqmZZewLUTfJUFbCPG1WJaf/LIttLY1k5U0EE3XJFCIPkXTNJz2aEamTOOyibeRmp7Ga+seZtm292jzNIMKTCduYcln4yt0HvJPFlm683K0pI22EOKoKaWobCzlmUX/R6RKIDctj4XlT+L1rJA22qLPOLX/fUwZei0REeHYdINWbxPrCz9m2e6FpEflcMrQ+WQl5GCz2YL1WnLNp13n0BL6fyG6q85jZnf+OZSMoy2E+JoCl8JN08/yXR+xYPkLzB//LUzTzTvFj0nQFn3KnP6/ZVredURFhKMZdhQKv+WhrGEvS7a/Q11TNafkXcDQzHE47C40LTjBReiO+gSFUoGrXkoFOlObponf8uMz/ViWH6UsqfgX3ZiGpgenYTfsGHpgyvXA0H+BTtDtn20J2kKIrynQ7rS+pZZnPvknNuXknNFXUVS+m7eLH5Gg3U1pRiyTJ7zFWVmD8NX9mycW38vB0ELH3YXccPYfGRgRTkPlP3l23R852MuG+ZvT/z6m5V1LREREsNb6kGZfHUt2vcYnmxdw9qjrmDhwLlGuCHTNhqX1vXabKhiwlWXi82m0ehqp81ZT0riF/IPrqGiuwON1o5SFqUveFt2D1t713wJdt+Gyh5MR2Y9BKRNJjxxETHgcES4XdpsBuh1NAw1NgrYQ4ugF6rItLFOxuXAF76x8gUun30pMWCoFRVt4p+RfeD0rJWh3Q05HIpfO3cjwKBdYW3jz1bmsDi103F3Et+b9hYGR4TRU/Z2nVz9AWR8K2kop2vwtbC1Zzqfb3yYpqh8zBs8jK2EgDrujo3a7L2hvJuL3e2l2t1DWsJ9tlZ+xs2oD9a1VaEoLfokXomfQNRsJzgyGJo5nWOpU0mNzCQ+3Yxh2NE2jX79+HUHb+A38BqDxhz8hzGUP3dfxozr+kQ+TOKkCzaf65sXa40vDQtHibmLRlrdIikhl2vAzcHs81DRWkN+4FssswaZZoRuKb5ilLNyWH7+vmH17/8eWugLaQgsdd0MZN+hM4h12PK2r2Fz6GU2+0DI9W27cHLISR+NwOND1rsFZ08CmO0iN7kd6/AAqGvezpWglpt8iKjIBp83VJ45NSiksZeH3+6lrqWZb5Ro+LXyd/MqNtPgagu2yLRT+jrBtagpLFlm6yYKmgsnV7HiPWppJi7+Bg02FVDdV4tTDibBHYzPs6LrG3//+D+5uCxxlj0uNtlIWHn8zHn8LPrP1UKBuP98qLVgbpg4zQ3P78EdCHLvQU5amgUILXs4BdB1dM3DZInHaorAZzpAtxBdRSqE0i4KS7bz42aNcMOkGBqePpq6+jvwDW3jnwMP4vNJ0pLvSNBt2w4npb8EMvfOE6Ns12nSuWrIUjd4a1h9Ywqqdi8mOG8Ipwy8kLS4TXTPQCLRdDiRvdZgjWc+kUChL4ff7aGxtZOvBFSwveoODLQfRlYWmdNDaB0Fs/51NNGXK3Jqi2wl0MdBRmo6mDNAC73EDSHb055Tcq8nLGEZEVBSDBgw6tqYjSlm0eusoql7LlqI32HVwIa3e+tBiQnRrmqaTFjOM0dkXMDTjTBKiBmA3XKHFRJBSCss0eWXl49TWVXHN3Ltw2sKoqwsE7bcPPIrP+1nPC9p6BKkZN3P+iNvJjIjHrgPKR0vLTjbt+X98vG8J1sRV3Js9ADjIxjem87KvCYCxE9/hstwp4CvgmRU3s6NiGzmpL3LdrLmE+beweMkTZEy4l8ExceiaoqrqWd7b9AD5dVUodBz2HEbm/YS5A+cTZw9cUfR6DrC14AEW5b9Dvd9DZPgvuPWsH5DILt5fcAW+Mf/hjKxxuIxCdu5uZcjgEeg0snPtaJ7e3xz8peK55px8hkeAcn/MSx/cwfC5GxgZFQbeFTz/5ny2GtFkZv+A84ZeQ3pELDYNUF4aG9ezdtc9LD2wCd3Rn6mj/sCktInEuSIBsCw3DbXvsHDjPWyrr8anQNOTyBt8D/OGXEii04nlr6Rg73oi+80i3RXWJWgbRgZDcm5mbt5VpITHYWhg+qspKXuMdzc+RZm3HrOHZKyvCtpdKAsTk10VG/hk86vYtDCmDJzH4IxRuByuYEcqvZdE7ABLWVh+k9a2NgpqtrJ0/2sU1u7CwgOqvWOoD021YLPqMFQ9IFfERPenNAemHo+pxWARhoWDIRETOHXQpWSl5TBy2MivPzOkpUy2lSzg2eU38L9lV7Oh6BUJ2aJHUsqirH4b72/5HY9/fAELt/2Bmub9ocVEO01R565hx4F1jB84iwhnIHh16CHhKFR00tmcP+b75EbFo1m11Dbtp9HvJzx8ACnhmRihGxwp2wAmz/wDg6Ic+Ew/oJGUeDnnjfgWcTY7hi2FiaP+yvlDLiLOBs1t+6lpqcFwZjM2737m5Z1KeOcHt2UyevIbnJMzAZehg9lC5d5nqPBZQDRZObcQ3V428TfkRAB4qSp7kZ2ddtMuIf16LhtzK9mRMShfFTWNhTSZEBU1hMSwJDTAZh9EdtIU4hwaLW1F1LSUY+IgLvFS5k36CwOjowBIy/wJ5w27jESnEzAxVTgDB80l0d618kbTbOQNvp8LRt9GekQcunLj8bvRjET6Zf+MK6f9ltzIhC7b9BZK09CxkZcyjksmf4e0hHSW7n6Dj7e9QUX9AUwzMNZ2D/0YfU6g46OFz+ejobWe3TUbKWkuwIcncAFe86NTh93cj9Pci6FqJWSLHkNTXmxmOU5/AXarGGikxLOL/MpNNDcEKmLaHVXQVspi0bY/88baH7O3YrmMeSl6jWZPDct2PcJzn91ERUN+6N0Chd/08cHGF4m0xZHXbzSarh8aP1SBwjpM07DuL8kZS7w9AlDUVb3K26tv4OlPL+N/a+9hSdF7NH/tdhYR2LwreX/l5Tz16bfZ0uQDzUF8ykVMiogkKnweYzIn4dB12upf4+VlN/Ds8qtZXVuDbsQzNOsyIl2xnfYXSXpaLi0Nn7J8y+28suGvbPUuZkddBQoIjzufvJhAyfFDZhIB4NvPisINnfZxSHpEElGGHZSHsoP/5fXV1/P0p5fy7NpfsqxkNV4Fra2r+GzzT3lmxXX877PreXb5Xawp24EFRESMJil2BDCIqUOvJM6mg1VD/vZLefLTa3lrzwdYIe31de10Jg08nSibAZ71vLv0Up5aeiNLDu4EDOISz2Jy+jD03lSt25mmMDQbKTFZzB12ObOGn0VxXT7vb36JgvJtWKafjg+RCjS37Mksy8Lt8XCwsYjCmm24fW1oKDQsHFY1Dv8BDNU1lAjRs5jYrBrCzH14/aUcaNhBbWOgJrvdEQdtS/lZsOmXLNr2R5o91aF3C9HjmZaPkrrN/HfpZZTWbe7xJ7njJdCCUlFWW8i7q15n2rDTiQ7rHAB79ivVarrxWL5AjXPqDVw4/m4G2AsoKH6effW1x/S7VVQ8zvKy1RRWv8vL+9bgBdDTyMk0cKWcS6Iz0FykuubHFDbupaZxGx8Ub8IL2MJHMEEP1Bh38K3mg6UXs2DXq2zYv4BSTz0Hi1fTaoFmDCIjbQqadjHjE5MAaGxYzP7Wsq77CGr2tuJTJmgu+mV/n4vH3Um6Wk9+8RuUNTcCoKxGCsteI798FeUNBdQ0Lqe6tQClQNMc6EYEMJu0yECTK2/Te/xvx2fsr/mMNTs/5KDH3eUx9dSrSA9zAFBd8VOWV62isGYRC3cspB5Aiyc7PQGjFwZtLfgfaGiaQaQrjtHpMzlnwpXoNo3XVz3KZ7sW4fY2opR5TO+77kFhWj5aPU0cbNxLVUtpR4213arGbpah0cOamQnxBXTlxW7uo7FtDzVNNV3v63LrC1jKZM3eZ1hb8HzoXUL0OvUtxby78R7qvyCg9C0KTYHf9LNqzydkxWYzasDU0EIBPTQZHCz/lCX5r3CwrRETBzFx8zh71k5+OvcxJiRlY/+S0GfTvrxhidu36NCNyupA0MZFZJSGFh5Je6verIEl3HdJcBk9l0AU/Tx3/Xts7JJdGyhsXEi1pxlNs5EVN5fBg8eTZreDVc/+kg00tR5+qI/9B97kkz3vUuluxsJFfMKlXDi3mO/P/hMj4pLRgeTUC7lg+rv8fP5e7r048PzmD74gJAjH4wq+DG2eDw+9EbxlNLoDv3GH6GgC3Y/baGksPbS+dgcNwaJhztPROl6Z3ubQC6c00HWDzOhBnDfuOibkncLqfe/wzoYXKKk9gGn5UD20KUVgOD8w/SZudwu1LVW4rVaUsrBZNTjMsp57wBDiC2jKR5tvPVUNe7usP6Kg3eSuZMP+l3D75RKP6BsOVK9l18GFoav7HBW8gl1aW8DWfeu55tQ7iQyLah8zsXcwD7Bx5y95adWdvLPlMfY1lGMB0XHzmJ13EXFfODBNArH2uNCVXTgdEw7dSEoMBmgf7jZQXndw9A+TqvKnWbM/dHmdQm9758Yv1lK3nn21pYBOXOx0ZmaOxa7p+LwF7GtY8cXD+Pl3sXLLD3hp9V28t/1pSprrAI3ExMuZM3gWLtuZnDH+L0xIH0uEXsWuPX/gtbXfY/3B9SHxz4MVzEw2fWCnMBmNwwj5IlLfGKzDdOAMiz+0PjKD8GC29vq3oU7SuCjfnMBrpDQNXbcRH5bM7LzzOHfyDTSZlby+6nF2H9yGz+/tsU00LcvC51e0eb00e1uxUGjKi92qlZAtei1LNVHc2KmC5UiDdkH5Eopq1oWuFqLX8ppuPt3xf72oa9LXpTCxyC/fTpQRxaDUkYHREXpRzo6JGkCGK5KKqvdZs/s+nvn4Z+xqbAJsREWOweGI69RHK4HkoZkAhMWfSv/YlM67+pyEuKvIdgCMYl7OmEDQVlWUFZj4y9cE238bODnIsg2/YEHH8lsW7XicPb4j6Gju38e6qk0AuMJHkBk7FF2DpvqNlFRWhZbukBQ7inSboqzibVbs/AX/XXQPRT5AcxIXMxlDP4W0iEg0oKHqx7y85e+s2/8ZFa2htayraPAEfgqPvZRTIgJvjqSsPNLDu3aGtKoXUecHMEhO+SkDXADRDB84h0QdwEND3T6sHhouj0YwageuGmngMsIZmjSBC8ffTEpSGo8v+R2fbHsXt9cd+CKjzB4VUBUKyzLx+fyYpi8wrrhqRFe9bIxHIUJUeBd3uX1EQXtj0auojkGxhegbqpsLKSj/JHR1n6Kh0eytZev+tUwaOgNHmAP9yA4bPUZi/ByunbeR35y/ittmP8O1s3/FwKgIwKSpZQs+bx2qbDUNlgIcZOQt5pfnbOanp/yDbJfjS6NPZNxV3HzOTn51wXtMi40ALNyNK1jhddPY9gzbKvPxK0V06k+446xF3DjzaW46dTk/Pm8Tt4y/iCjbl+29naJ295sUeBQYYTiNCDQ8HDj4FGVfsnla6iXcMj+fe85Zxi0zn+a62T8h0w4oH3WNazGtUrzBquqYxH9w4/QXuP2MNzg1e1TIF9DVfFayDq+l0GzDOePsvfzsnK3cMfFHRIbUaJvm8ywrXovHstAjL+DGeXv4+fkbuHLQDDQU3uYNLCvc02OG9ztW7W22A6diDU3TiXOlcuGEW7l48g2s2fsBr619hNLavfiUiVI96BuuAmUpLMuPZvowlBfDau5RXxaE+DpCr8h95RnTtHzsr1wZulqIPmH9vpdCV/UhCtMy2V60BndbC4Myx2LoX9YmuWeeQL2+Jpo9rdhdA8hOPpX+8QOxWR5qahawbPsCat3gK7ufFQXLaPJ5ATuR4cmYnu2s2fEh9V9SB1Fft5hGK4xwhxOUn6aGT1i28+/U+FvxuotZueVnLCv+lHqvH2d4HrnJp5IT149wzU1DSw2+L9l3V4v4tGTvoa5lnlVs2r+7a5EQbk89zX4vzog8clJPJTcuG81sprz8JZbuWInb/zTLdn5Anc+DsqWSk3YKya5mNu5+iTJv105s+7b8nE9L1tJs+kGLJMrlpLbiJbbVhfRzUD5277ibj/d/QL23Bc0WS7QrBk25qa99n8Wb72d33b6u2/Q1Gjg1O9MHnM0Vp3yXVn8Db6z9Nxv2fkaTux6rh1V6KSv4tUyZ6Ehttuh7vnLCGre3gXteyw1dLUSfkBo7jB+e/Vno6r5BQYO7ikffv5+c2GGcP+NawhxhHXdbVmBa5draWnYVbeGtwofw+1cRpveskQTstlhiwzNx2gIjgACg/Hi8ZdS31BDoSqjhsKUQF5mMXTcAC7+vlroWH7ExadjxUNNUSJu/9dCENUBB/jDeLkzFadgAC5+3gvrWcjydspLdkUpcWDIOPTDTGICy3LS1lVDvaQI9neSYFGwaKH8ppY2VhzbuRHMOID0iOrALs4aDDQc66lU0zUZ89HDCDB1UM7V1ezDticSEp+EwDnU8VMqHu62Eenc9JmDoCcRHZ+DUjcAXL389dS0NRERmE6ZbNLQW0eRpBHScjnTiwhOw6TooD22tJbjtacQ5wjH9FdQ0l+EN/t6GPYGE8PRDj61MvN5SalpqelTr7KOasOYoBIKpQmFS76ll1f6P2LhzGUNSJjB92Bkkx2Si63qwRrz7UUrh9/tpaGxgX8keVhS/wZ62pUT4C3rsF3IhjsaLd0ce+cyQLZ5qfvv64NDVQvQJLls0v71k/6Hxons9hQqevC3Tx/KdH7JgzYt895z7yEzO7fI69Jagfbx1Dtr5O5N4amtoCdFbnKigHWAFPosKLOVje8U6Pt76JuF6FLOHnk920iAcdhe61n5hWnWb4B0atJcXv8Ge1k+INLuOxiBEb9U5aH910xHVt0+aom+zlL/H9vr/OhSgYaEpRV1bDRv3r2Jk1gTio5OPqANkz7qoLUR3Fqyx1kDX7QxNnsSFE24gNjaBd7c+w6r8hdQ1VmJZ7efoI/iAfkMUKlCtJ0Qf9JVBW4i+zrKsPhO2NQJp22/52Ve+C5/Xw5S8ubhcgQlJvpgKvEZ942US4iQKBGibbpAVN5jTh13CxP4zya/ayEdbXqKwahd+f8h45d2IksYioo+ToC3EV+gyLXIfoDRo8baQX7yRfslDyEodjK4ZX1Fj1j56giiquI4/vNaPe1/rxzPbQ+8V4uhpaGga6BjEhiUxdcA85o68gFazkddX/5uNRcvx+NzBGSW75zQ3faWyQohQErSF+Ap+K3Dy6gtUsGa6vLaQ6voKclPycOh2tD7y+x8PSnnxmq14zVbM7ph4RI9y6OtrYAB7TdOwGXYGJI7g/AnXMyR7NJ/mv8Oiza9Q1ViOZQWafnWveuTu9FyEOLm+OmjL50P0cT6Pr480H1GgFG6fm/V7lhLhiiM3JQ9dP5qa6t7+GgnRPeiajcSITE4bfgmnjZrP/rrtvLH23+Qf2ILf9HfDj2K3e0JCnBRfGbTloyH6Nguf34tp9YWqSQ2FRnldEXsrd5OXMYqYyJjgNJDaERwNvup+IcTxpGs6LnsUw9MncdnkW4mNiuN/yx9k6Y4FtPhb+syVOCG6s68M2nLyFH2ZUuDz+VAq2Nmvl/OabraVrMFu2RicPgKb0T629Fe1we79r40Q3ZGuNGx6GMnROcyf8B0unXUDy/Jf4Z21T1PZWInP9GEpE4tgZ+WT3azkyw4bQvQBXx20T+LnUYjuyOszUb26sW3gQ66UxcHaQjYVrGFK3lyS49NDCwohupvACIBoCly6jdEZp3D5rB9S7z7Ii8v+zObCVbR53GjKAq39OPZNpF8JE6Jv+uqgLUQf5zdNLNVb22gf+p28Zhu7D27BpjkZmj0eXT+aw4PWS18fIXoILdBl2aYbDEkew0WTbiYrbQCLd7zM0h1vU91Ujd9SweYkJ/GzqoL/yPFB9FFHcyYVok+yTIseNS/0UQk0CVFY1DVWsm3vekZnTSUhLvUoT8VHV1oIcbypYEW1ga4ZJEVkcf6Ymzh97EXsLF/D2+uf5EBVAX7T1+nTejJCd6DZ3Yl+FCG6KwnaQnwFTVkdJ4neV2sbaLfpt0z2VexGKY1xgyeho3+N8+9RbyCEOG604H+Bn9A0bJqDkelTOX/Sdeg2iw+3PMuafUtoaKkNht/2Gu4TRNGpf8cJfBwhujEJ2kJ8BUsprEBXot5JKdp8bewoXU9u6jASolIC42Z/E804hRDHj6awaw76x43g/HE3MjB7OBuLlvDJ9jcprilCWSch/35VP2ohejkJ2kJ8FaV6cfNCDUtZFFVup6CkgFH9JmG3u9C0r3FmVIHXSgjxzQt8gjWUpqEbBgkRycweeAFzRl5AacseXl7xD7YVrcbtdffCK3VCdB8StIXow5SycPvaWLJ9Af3iB5CZlBM8Q7dfhD5yJ/QStBDiawl8knVAx2E4yUuZwMXjbqF/9hDe2PAkS3a8SX1TBX7LQp3AKm45Poi+SoK2EH2ZUuwq28j2gg2cMvp8nA7XUQfsztQxbCtETxMIsD1FoA2HoRmkRudwxrDLOX3sBRTV5/PmhqfZX7YVn+mVi1JCHGc96SghhDjOPH43S7e/zcDkMQzMGIqmfb1DQiCc6/Tm0caFCOUwwkNX9QgaOhGOaMbnzOXMMVcQFm3jpQ2PsmLXYto8rdKURIjj6OudVYUQPZ7CYl/NTg6UF3HlqXdgt+lfuz5aN+xoQK+e10eIEA5bFJqmfb0+Dd8wDR2H7iAndgjnD7+JKXlzWbbnLT7Y8BINLXVY1vH7MMvwfqIvk6AtRB+igqOoKKXw+zys2vUxwzInkBqX/rVrozVdw4aTcBWOzzJC7xaiV9KxE+3M6Ljdo2qBO/XD0DSdMEcsswecx4VTbqSwcSsvrPgb+SWbafO2BSfrCnYK/1pxWQVmpOxJr48Qx5EEbSH6kEArzcAMcjUt5RSV7mX8wKkYHH1tdntNnqEbOG1OkpyDMVUUppxPRR8Q5xhKlCsFwzB6bK12Ow2wGw7yUiZw5bTvEh+fwIItT7Ny10KaWxsCX861Y+2BIQcG0TdJ0Bair9EUlvKyouBjUmMyGZI5GqW1Dwd29Gw2G06HixRnHmH+VFp9clgRvZuGxsi4G7HbbBhGL7iKowKjgmi6jZToXC4ccyvTh5/KJ7tf4t01T1PdUILqmL796zqWbYXoueSMKMQR6S0nCYVSFuX1pSzb+CHDsyfgckSAbrVfTz4quq5js9kIC3OR7Eoh3TYUtzcKUx39voToGTQSbZNIjs3D4XT2+NpsAKUTGJEk2JzEZnMxqd9ZXDvrR1SrMl5a/ShbilbT6m7F6hgC0Azdzedp7YdOC7TecgwV4uhI0BbiiPWOE4XP72Fl/sfEhSUwJHskuqEHhyk7urDQHjBsNhvhYRHExcWRHTEel38IDW57aHEheoUw0ukffQHR0XE4Hc5eUaPd3qSs/WcdDZtuZ2DSGK6Ycif90wfw6Z63+WT7W1TXl+A3vcHD4ZEdEwOz6x5BMBeiF5KgLUQfooDyhhK271/LKWPmkxCVfEzjZgeCtkFYmIvY2Fiy4vszyD4T1TiEOo8cXkTvomMn23YhmQmjiY6Mxul0ouu9932uazqJYenMHXoZ04eexoGGXby88jF2lmzG4/cfRQdq60gzuRC9Tu89QgghPsc0veSXbibCHkVexmgM49hqngO12jpOp4vo2GhSUpIZmDKSPNsZaDUTaWyJREkzEtHjaRhWNP38tzIw+TSS4pMIDwvHsPX8jpBfTcdlC2d05inMH38DkTERLN7+Mqt2BzpKBmaTPEQdpp479LYQfYkEbSH6CKWgorGMXSWbGDtwOnFRiUfbWuSwdF3HbrMRER5BQkICmRmZDMkawciIs4ltPBOzdjj+tjiUJYcb0fPoZjRR3gkM1L/D0KxTSUtLIzYmFqcr0Gykd4dsIPhl2qbZSIvO4YKxNzN24Ex2HFzO+5ueZ39lAV6fJxC4A+MABrdTXRL2sXWkFKLnkjOfEH2AQqFZFnsPbsfv9TMoYxQ2my202Nem6TpOh5OYmFiSU5LJycllaP+hjEw5hSwuJLZhPq7qM9AbhqG548B0HnWbcCFOCmVD80dhd/cjvmUeOeaNDIu+ibx+M8jIyiAhIZ7wiAhsNlvvD9khn1JdM4gOi2dyzlxmj7iYNup5b9PTbCxaQZs3MKOkphQaFkod/ZChooezjWfO+Me5fsZzXD/jGS4Zfk5oiT6p4ztnSUklcbGfn062ofUg9781PHS1EH2CXXdx/ZhPSElNJSIyAkPviTVYCguFz9/Ef9//K7HOFC6cdQMulyvYBerYfx8VnATHNE18Ph9NrW4aG2uoq6uloa6R1qYGWtvc+L0+fP5A56ge9zKKXk/TNAxAd9iwucIIj4wlIdJFTFwcMbHRREVFEu4Kx2azoet6DzwWHDulTJSmg7Jo8tayZt9CPtu+iGmDz2B63jzCjSg03Y/Pr9HUUE9B6W4+OfAce1oWkqCqQ3cneoC03F9x09g7iNDq2bDxLhbs+wh3aCHiGZX3Jy4ccT4u3aKh5jmeXf0bSpqbQgv2CS/eHUlNbS1I0Bbiy/WGoK2wMC2Ldfs+ZumGd7lw6rcZlD4c9OPbtrR9ZjzTNPH7/Xg8HtxtblrbWnC3teLx+PCbFpZpBi4jy5Vk0d1oGoamoxs6drsNZ5iT8LBwXOFhhLnCcNjt6LrRZ0N2gKJj6hqlaPO1sO3gCj7b/h7RtgTmjLyI7MSBaEqnvrGBvaW7+aToOXa3fkSiqgndmej2cpk97hFOHzgeAz81pf+Pp9Y+TLW3a6nMrB9z8fgfkWI0UlzyJO9vf4jC5uauhfoQCdpCHKFeEbSVosFTy8ufPYxDRXDhjBuJCYsLLXZctIft9trt9tDt8/kwTbPL/UJ0V5qmYRgGhmFgt9uxBSem6dsB+wsoC5/lp7R+L6v2vkdBcQGzBp/HpIGzaGppY3/pHj4peo6dLe+TTH3o1qLbiySn3/c4Z/gVRFHDlj338PHeZbhDhpxJS7+M7LBIMEvZV/IhVf6u9/c1ErSFOEKHgnYKEZGRPTJom5aPzYUrePGTx7hy1p2MHjgFXTvx3TPam5N0XjqvF6K76hyoO//c0z77J4cCCywN3GYDaws/5qP1rzIoaSJTc8+grr6OpQdeYGfLRyRrUqPdE2l6OOGOaAz8uH31eM0+nqKPgARtIY5QbwjaDa21vLHqSdpaW7nutO8R4YoJLXLCSKAWvUVP+9yfPCowTjaApWNqFvtqt/DMp3/F5U0iJ3YEBc2fUehdQmJvqNHO/hO/mXIjTn8xH6z6IVvNSVw24TYyI6LQm17nF+/fCpqTyLAJTBtzLxPSRhJlBDqee93FFBT9Hx8XvEppS7BZhRFDfOLlnDvqDgbGpGDXDzMBkv8gC9bfyXLtCn4z6VKc/v28uey77LWdwWUTbiI9LBK98UV+8cF3QXMRFT6JmWPuYWzqcCKDj+1x72f3/r/y8Z63KXe3AqDbEuk/8OecOeBC0sKjMDRQysLjLqKw/GkWb3yIEj9MGPkQ8/Mux6a5Kd12D8/ueDLwl9RdRMbMYMawnzEhZTgRwQ72Xk8xe/b/gyV7X6ek5VAb7XlztjAzKY2W+v/wys4tjB38E4bHZWHTAauZopLHWLjtYfY3Nx7FGO3dU+egfeKrtYTo4ZR2aNa0nkMF/lMW5XUl1DRUMH7AbMKckaEFTygtOMawLLL09EUcjgI0FAZggA4GOrlxo7ljzu9IT05n/b6PKK7eHxj5rzexxTOq3w+4adoP6RcRhQF4faWAjdjYC7hg+qPMyRxLlKHj9zfhNS0criyGDb6PK8d+n3QAwknN+CHfnn4fQ+PS0M0qSivXUN7ScCho+ovIL1lAeWNxp8dOYkLu3dw47XtkhUUGH7sYcJAQfzmXzHycmRmjidR1fL5GvKbC6cplZN4fuGrcnaQBEMfAQQ9w/ajryIyIwsDCsgIdXV1huQxJP4t416GH/DwbCcnXcOnkh5mdMbojZAM4nFkMH/J7rpr0S/ofZqqGsIj5XDjhAUYnBEM2gB5Jv6w7OWfkzUQ7nCFb9GwStIU4Qj3pVNt++vP43GwuWkWEI5oRuWPQtMPUlgghxNcSbFLT+bamYWgacRFpnDr0IiYMmoPDcPbCq1vhpGZOIcFu4PeWcLB+B5VN+8AWy4BBNzMkNhVQFB94kGeXXMp/l3yL1TXlWFoYCWnf4vQhSUAuI1JOJcZmgFnPtj1/5qU1t/HK6lspdgenrNebyN94P/vr9nd67AjS+00n3lD4PAcoq99BVdNecKSSN/gmBkQlgPKyr/B+nll6Gf9dcjPr66pQWgRJGbdzyoBEYBBD4sdhA7BqWbfzN/x3yQU8uew6lpcsY1/RP9nyJX0ZdVsUowbewoDoQH+flsbFvLvmWp5f93+UeHygOYhLvIaLRl8Suim6PYkYu0Fp0d95YdnNfFyyGUsp0JykJJ9JtjMhdJMeTYK2EL2QpgJzR1S3VlBSvYehmWNxOSJCiwkhxAmhoRFujyU3cSRpyVlYek9vDBBKQ9d81BT/jD++OZb/+2g2D69+lnBbFGNShmPTAIrZvecRCht3UdHwCas2vEODCWiR5GbeAjiw6040wFLNlDVtp6q1mJrG7TT5fIGH0bOITW4JaUoReOzKwh/yx7fG88+PZvOvNa8R7YxjRNIQDA1Mcw/5e//LgcZdVDQsYs2WD2gMPnZ2+nWA7VBfHT2aAckjcbTupahiIe+uuIj/bPqwyyOGchqzGZGYS6DqppLVG6/gs8IP2Lrv//Hcpo9oAdCcxGfdyLjD1FK11DzMQ6vvZ8vBN1m4/jkqgu2+dVscWbojtHiPJkFbiF5J4Tf97ChZj6GcDMkYFbgELmPqCSFOEg0TNAsNPdAGr5ex3Gt5Z83TdK74NYzziLG3N6PIZu7cQn5zUWC56/SbiWu/qKhFAc20mQ0oQNej6Rc3icyooWQknU+8M9jmwl9IZWX73g+x3Mt5a82zgUAb5NDPIsoeeADDNpyzTzv02LfPvpaY9sc2IoEd7K5Zh0cB2IhLvJTr563hzll/Y1bOLJLsX14xozObiPY87C2gvOLQfWb1M9S3D/9nyyEu+dB9AS1Ul75/6KanhAZPb/sidogEbSF6IUsp6luqWL71QwaljiAxNgVN03tYAxghRI+mNDSlBY47vfA7vuktZf/nmsREobcfZq0aDtas5cBhlpL6ImA/W4peoszjAz2avP53cdmUR7lo/M9JdRhg1rB3zz3sCFZud+Z3F7MvdCURHaHOMqu+8LFL64uBenbu/RMvbX6S4ua6QI25Hkly8hWcPu5xLh17B0lddx4i7AsDpFL7MDteFhuf79/pobUq2DSmD/ii10kI0YOZymRH2TqampoYPWAqNttheqScJKFD/MkiS09ZxPEQ7Equ9ZXXs1Mq1prZsvpSnlj6+eXpjf8F/NRWPcXH+1fRpjR0WzxJccNIcIbT2riGpWuv5JntK2jrvPsvdWjYPWVVsH7V5x/3iaWX8vLWZwOFvHvYueeX/Hfx6Ty3+SkqPYFqaMOWQFa/Wzgzt2N3n6No7hSmu9K0Mdg76nQ8mIf5otCXSNAWoheqa6nig3VvMHvoWaTEpX9jNdntgcWyLCzL6pjERhZZuvvS/p6V0C2Ohs98gdKWYDTWsknLnYaOB4+/BY+/DfQYYiMycJiBUBuW+SMuGDSNMFXLxk3X8dtXkvj5Kync/8E5fHBgI0fToqLNfJWDbYHJ0XUjl5R+E9GUO/DYphvNiCU2IgO76QOiiI0cRGJYDMpXxI78n/C3t+axriE4uboWQ0x81/13ZqkFVLuDCdoxkWFDcnAZNgxbAsn9biQ+2KxEebZQUtVl0z5HxtEW4kvYdRfXjf2EtJTAzJB6tx1Hu32cEVCWyfKdH/LWyuf42cV/ISE26aSONqJU4KiilIVpmZimhdf04vG34vH7sCwTlPWNhX8hDidQ6wqgYzcMnLYwnPZwbLqOYRhowYlruufnv3tRSuH3+2lsaKCgZDeLDzzNruYPSNUaQ4v2PO3jaAO+xpf43Uffx2t1msDFiGXUsEe4cMhcXLqGz7OXnaXvU9XaBrqLmJjxDIzRWfreeawC0gb8jtvG3oxD81Jd8yG7qvfibQ/Xyktry2Z2liyi1g/kPBwYRxvw1v+Pez/68aHHBbClMmHEw5w3cAYOHTzuXewoXURNmxtNDyc+dgL9Y0wWvTufdUzj3Cm/ZVBEFYXVW2j0WaAZDOj/HXLDXEAdW1YM5oWSw4+j3aBHMXHk85wzeAoODTzu7ews+5RWbQB5mXOJtxugGinacSWPbl8DncbRhlp2Lr6Ep2u2Bp/46Vx/zpPkRTjBLOSzRZfybkNhl1+tp5EJa4Q4Qj0naBMI20qjwVPLM4v/xuDMkZw+8hLQtZM2DrhSCktZWH4/HtNHs6eF8vrdbCpbRV1zGV7lwexorHlynpMQR0WzsGMnQoujX3IeI9ImE+tMwRWmYxhhGLpMXvNVugbtfBYfeIZdTR+RqveiCWu+KGij4Qyfxhnj/8K0tAHBdSowjrgWPBL7tvD2G3NZCeiO6cyf9R8mxSd22kc7C7+/jqJ9f+XtTY9T+VVBGx1X5BzmTXyQiUlZwXWhj72R1984g7VM54KZ/2JyWkagVKAQgbe2SVPNwzz0yX00WocP2vXouCJmccbEB5mSnPP5o7lq4eCBB/jf+sdoCL48ErQlaAvxOT0maKvgp9mCDcXLeO2TJ7n9nN+SmZgJJ2m69fb/+/w+mtqaKK3dweqiheQ3bsL0eVGaCj5NFTwoH8U1USFOEgs7Ghag0DSdWEcao1NPY1zmNBIjk3E4nRiGga6f+M9VT9UlaJfms6jwGfKbPiLV6AVBO+NX/Gj85TgAX9Pb/GPpPfisw3XsS2B43q+Ynj2deGdYIMAqC3dbEYWl/+CNnYsxHMOZMfpBTs+ZgK48uH1N+FRgX7oeQZg9AkPT8bYt441Vl7HJ9f/40dhzA4/d+Ap/XnJf6IMGJTF62L1MyZxMnNOFpoFSJm1thRQW/5m38j8D0hna/1ZmDjiNOEd0R4dFy1dFcdmTvLfzJeq9geYto4fez5kDz8fQPJTvepDXd79EQ8djZTBu5D1MyZxItM2OpoGvrZg9RX/n430f0dTpO8ip0xYzOTEZqGfPZ7fwau3O4D0zuey0vzMg3AH+YtYsu5XFTZ0m6OmBJGgLcYR6UtBWmsLrd/PvRX8gTEVyzanfwemMaG9VckK1t8P2+rzUN9ewsXQpK0vfp8ZdgaFAx4dmtaGpNjTlRsMf/HYgbV9F96KpwEyHSrdhaRFYehh2PY7BsROZnH0WOYmDCA+LwGazSdj+Ap2D9p6SfBYVPU1+04ekGb2g6chxYyc34w9cPuUaYgyTA4U/5fVtb1HR2gSaQVTMfM4bfy8jE9KxvHt5e923WV2yLXQnopuSoC3EEeopQbt9uvXtpev43/v/5KbTf8ywfqNOWm22ZSn8Pi/VzVVsOLCYVaXv0ehpAPzYVAOGVR0M2X28+7noYTSU5sTUY0HPoF/0OE7JvZh+KYOJCIbt7ng8+KZ9Lmjvf4b85g9Jsx2qB+3zNBd5ea9z5ciJOPCzfuNYXt1T3nF3RNQc5k9+iJHxyXhblvPm6mvZWN3UZRei++octE/8WVgIccJpSuG3fCzc+BrZCf3pnzaY9gYaJ5pSgclxWtwt7KvayvqDS2ly14PyYzcrsPsL0a1GCdmiB1Joyo3NLMfwbaWocSPrS5dQXV+J1+fBsqT5k/ialIm3aRduC8DG6JEf851Zz3DFpH9x/anLueu0FxgRH5jppaLyIw5IyO6xJGgL0QuYyiK/bDNllSWcMuZcnA7XSatpsywLj89NTWMNWytWUectR2l+bNZBbNZBaYstegUNL4Z/C0V1K9hXuYvWVjd+v1/C9lfSTnzbtR7JR3HtEywv+pR6bzO6kUhW6lmMzrmMvMSBROheWlp2sKvwQRZsfpia0M1FjyFBW4geLNgFEbevhTX5SxicPopB6cNPSpMRgrXZpmniafNQWreH0pY9WFYbNqsMu1UhbbBFr6IpL27vZg7UrqGxqR6fzyfjbB8heYU+z9e6jU833sUra3/MOxt+zoJNvwwsG3/OW+t/zKurb+LpNX/iQPt05qJHOjlnYyHECRDsTKigrP4AJZUHmDBwBk572EmrP+poNtLWRGFdPi2eegyrHptZI6dW0Sspq4GyxoXUNB7E43FjmocbcUKII+QvYV/pa6za+1+W7348sOx5gjWFL5NfvVeOor2ABG0hejAN8FheNu1bQ1Z8LgMz89D0kxWzA81GfD4fze4matvKMM1WDLMODQkfovdq8RVQWLMGtzfQTltqtL+cUgoseY1E3yRBW4gezAJq2w5SUrmHQekjCHfGoGkn54TWfsnc9Ju43W14rRYs5UZXLaFFhehVFIo9da/i8/gkaAshvpQEbSF6KKXAMv1s2LUM5VPkpA/BaJ914CToCNqmidfvxWeZ2GgLTvYhRO/W6N1Li7dOOkMeIfkyIvoqCdpC9EAKUJpGeWMp6/YsZ0TuBJJj0tBQJ/1jHRhH2wILDEtqs0XfoPBT31ooQftInbwWbUJ0Kyf3jCyEOG78poeCgxsxTRiYPgqHzfGNnM2UUljKQmGiIWNli77D62+WUUeOlLxEoo+SoC1EjxOYBbKyvowN+asZmzud9MR+oGko9G/kjKasQOdHCdqiL/GYMtPhkTr5RyUhugcJ2kJ8JStYUXzya4s/TwEalmWyvyIft7eV0f2n4LA50dCCz/AbeJ5Kwy8TU4g+Rkl8PCKq4x8h+h4J2kL0EIGTeiDINnvq2Vu+gwGpw8hK6nfSZoH8cnImFX1Nd/jcdXcKlJIvJaLPkqAtRI+hgQJT+Sms3k19UxUjcqdgN+zd43RvSdYWQoQI5Gwh+iwJ2kL0EO3DY3v8LeSXbiM2PIGMhGyUhiRcIYQQohuSoC1ET6EpLEyKq/exY996hvYbT1RYdDBif9N12qrTIoQQnUm1tui7JGgL0UMopXD7Wli56xMibBEMSB2OrhnfeMRup3Q5kQohQmjSSVr0bRK0heghlFJUNBSzp2QLM0bMIy4yAbRDY410BxK1hRChukVfbSG+IRK0hegh/JaPVbuWEeuKZ9zAWei63o0itgZW93k2QojuIzDmSGCsfSH6GgnaQvQIitqmcgoObmXKkDNx2uyhBboBqc8WQhyGdN8QfZgEbSG6OaUUlmWxo2QDLt3FqAGTwKBbNRkB6eskhDgcSdmib5OgLUQ31h5evWYby3csYnjWRCLCooJTrXc3cmlYCHF4ErVFX9Udz9ZCiA4KS1nsKF1HfX0dw3PGo+sGerc7bSnQrNCVQggRIJe8RB8lQVuIbkoFe+vXuat4ftF/mTx0DhmJOcEGI92r2YgQQgghPk+CthDdmKVMtheupqmpnmnDT0fXbd2ubfYhUmMlhAgRnKtGjg6ir5KgLUQ3pYCGlmpW71jKvKmXkB7fD61jQNrud9pS3fA5CSG+OSp4uNKkP6TowyRoC9FNKctkV9k2vD4P04adhqZ1rsvunrXaci4VQnQljd1E3yZBW4huqs3bxJb9qxmYNpyYsDg5UYmvTw8nq//dXDDhL1w44WcMAiCcnJzvc+GEPzNv2NXEO8NDtzomzqgZzBn9Ry4Y9zvGpwzHEVpA9AFaxwzs8iVc9FUStIXoVgLXWC1lsr+6gOr6CkbmTsFmd3brM5UCAmOOdOMn2ZdpDhKTL2BC/+uY1H8+qQBMYeqg25jU/3pmDPo28ZEZoVsdk5y0ucwceAOTB97A1JRZRIcWEL2fBoamo2saqr0diRB9jARtIbqRQMxW+P0etuxbQXJ0JhmJOYEPakf77O5Hk4NJD5RPSV0+dS3FlDdspc1bF1rgmFQ0F1HRXERdUwFlzftoCy0gerX2pm6G5sBpRAQbagvR98i5UYhuI3AiUhbsL89nT/FWxg6aRmRYRA/5qMqJtGcpZdm6m3hq+VU8tfKXlDZVhxY4JvVlT/Hc8mv43/LreG/fh7SEFhC9nqFr2G0OYmwpuDRn6N1C9Ala+6g7JSWVxMV+vo1eQ+tB7n9reOhqIfoEu+7iurGLSUtNJyIiEl3XO438cfwpFK3eFl5f8R9qamq49vQ7iY9KRtNUsN74xD320bIsC7/fT21tLflFW/io7Ana3J9gwxdatOcwoslMuYix2aeTFhaHoQPKR1tbAet3/5GtNZUAxEffzrzx5xGlV7Bt9e+wBtzNsPhMbDo0NS5j6a6HKW5qAOIYkv1rZg3KQ2t6j2d3LGZK3s8YFJ1Ea/17LNzwEOVAWr9fcGr2RKIcTjSgrXUbm3c/xpaavZhAYuIZnDb0TuIcbrbs/hn+uB8xMqEfdl3D9BSyteAPrCwvPvR7RJ7JOSNvITMsDJ026uuXUee8nBlZAzEo4L2Xp7KMkZw68ecMiY7FdG/j3a1/5mDTVVx96hlEHtpTB3/rKj5ceR8HiCEt81Impc8mJSIWQzdQyqK1eT1rdj7CrqZyADKybuKMgRfh0nyUFf6bxfveoxnAlsaw/ncwMX0M4YYOyktL8ybW7vgNO5tDH7V7m9P/PqblXUtERAQ2my307j5LKYVlWbS0tFBRUcG2vRtYVv4kunNtN5xsS4jj78W7I6mprYUeUk0mxDfqZM53qJTiYN1+9h3cxbhB04mNiO/OLUY60XrF0cQRnsfkYT9iavYZ5CSOIyNuLFkJUxmSdR0XT3mM4QmBdsx2WzYZ8RPJTjiX6TNe4uwhF5CbOIHshIkMz/0eV4y+lXi7HbARGTaMrISJ5KSfyaWTXua0/vPISZxIamQqSktg/Ji3uGPyDxiRNp2suDFkxI1nSNaNXDLjcabGZAYez5lEesJEshPmMGfUq5yXdyn9EyeSnTCJ3PTLOH/as8yKDgQ9PfxMrp/9H2ZkzSIncSJZCTMYNeDnTE9NDYk4USTGjCM7YSLZ8UNxGU7Q+pEeP56sjiXwO2UnTCQrbgAuAOc0zhh7L1NyziQncQIZcWPJTpzM0JzvcM2cRxhlBN4ILlcmWfETyU4YT0p4MgagaVFMGf8CV46+lbzkiWTGjSEzYSpDc+7gqrkfMCne0Y2+SopjoWkaNpsNp9NJfHgKycYQTMseWkyIXq8XnBqF6D08Pjfb968jPiKFof3GYBi2Ti2gu3EE0cDqzs/vCHmbCti+7zXyS15mxc6/8uGW37OqYjcKcIaPYkricBwhv2ZUZCTFxU+xfM/T7GtpBmzEp1zJzPikLuU0xxSGxMfS2LSZ3QdeZ1f1NtpSL2Zqv3EYWDTUL2PZtt+wYOtDFLnb0J2jOHXidcR02QuEh8VQUf4WK/L/zZbKA4HrB7ZhTBlxHhDD6AFXMDDcCfhpbFjBuj3/ZX3xZ7Rp4XxVnatSH7Fq179YtutfLNv1JMXNzYFwbtVRXPIu5QCe9/l0z9vsLn2Dlbv+xPub/x8rS3bjU2C4pjJ39MDQ3XYIi7+XUzKHY9P8NJY/zUebf82i3W9R4/Nic4xiwsBbiTdCtxI9jaZpaJqGYRiEhYUREx1LRvhwwq1+oUWF6PUkaAvRTSilqG2uoLS6iOFZ44iLTOze4bpXqmXPgb/y6prvsWDbn1i2+5+8X7QiEGa1MKJjwz53haGt/h1eXfdT3t30Y17atAo3gJFG/36hA9opaipe5+1Vt/Py6ttZuHsFudEzSLC7QHkpLH2SxbseZ1X+/2PJnh34gLDYsxgdshdP8wo+3fJj3t3yK97f9H/U+wPrI8LHg70/KdEj0DUN01fM+t13887mX/D6uh+xqrb8K6/OKPU+S7fex/tb72NjYzPhrgg0/NSVP8IbO16mMVhuf8E9vLzme7yz9W8s3/Mwn2z9iCYLwCA6Zm7XnXYycvi5xBiAdZAtm+9n6Z7/8sn2P7CrrgQ0G/FxucQdrt2K6HG6BO2YGNIS+pNom4ymXKFFhehVkiPzutyWoC3ENy4w1oip/Ow5uAVN0xmWMw5D70FVewqwekHbSyOOnKw7ufrUVfxqfj6/uWgfv5xwzZeOAd3aup2aYLP0xrJl1PkBDGKiLu9aUPnZV/EHdtbtoUVZuP0WLiMdmw5oTkYMfZhfXrSP31y0j6uGjcFOYPzriK57oalhN1X1DYGX3L8Gjxm8Q7ODKxxXWDga4PeXUN2Yj0+B5a+l6kAxwUz+1WIu4pwR3yLRruNr/pRXtr5AdcfG8WRnf4+r5qzgF/P3cO+F+/jJ6bcQ1/F2/eLTSmZ4QuAHPYMpczfym4v28ZvzFzMlKQfQMAw7PeltL76cruvY7XaioqJISUyhf/QpRDAgtJgQvYam6cwd+osu6774iCiEOCkUCqUUdc3VbN27jvTYbGIjkz5Xc9rd9fyYrTF08P9x5fgfkBvbD92qpqphOwdbar60JljTOsVwWzKO4FHVMqsOrQ/+nf3qYMjrZLWPNYPbe5Cmtgqa2ipoaN1PdVMB1U1FgQ6EnanOk92HvOqd7tPQ0dpvaaDZjSO6PmK3jeKsvO+TGxGJ6Sti7fa/U9YQ6OCInszY0f/ilvG30z8mDd2qobJxBxWNVfiP4A1gtb+Sqo1Gd2Xw9y2nrnlf4PdtrsDb/sVB9Hjt7bTDw8NJTEgkOz2XoVE34NK6NqsSojfQNRujMy4lN3ly1/VdbgkhvgEaPsvPnoottLQ1MjRzLA5b+1BYR5BeuoWOSNdjaZrG4MzpROiAeYA1K6/liSXn8b/8D780aEdETSbTBRBBTt5MonUAL7X1i0OLhmik1b8fvwVK+ThY+jCvrLyBZ5a3L7fxypqfsiF0sy/jacXTGmhXbbNlkBQ5DDtg2BJIzcj+yjbaoJMz6HbGZAzGwMOBAw+ysmwlnva7wweTkzQKXdPwe3excvP1/OeT83l67fs0HcEbYG9jMLBbVeze9fNOv+sNPLviRt7c8jwHm0K3Ej2Vpmnouo7D4SAqKork5GQGZ09gdNwPCNeP7wRJQnzT+ifOZGbenUSGx3VZL0FbiG+cor6lkpVbFtEvdShZaYPRO6oej6QOUhwvuhY8JOqx5ObexNwxD3PD0HO/NKC6ok7nqllv8+05r3HVoOGBJh9mCbsLvaFFQzSxu245lZ4WNM1Bv8y7OHv4d5mQcznThv6K8yf8ldNzrKMbf9q3k7KGjVgKdHsWk0c8wfUznufG2S8zLT7pK99NeurdnDlkPjE2A8wWHNEXMG/Ss1w3/VmumfoXRsYHhrfUAN1IJTfjW5w+5mGunXopsUdwNsnf/Ao1JmBkMW74fcwbdgsTc25gzvCfc8H4fzEyZQSeL/tWI3qc9rDtdDqJjY0lNTWVkbmnMi3jR8TYc0KLC9Ej5cRPY/64P5MWNxjD6Nr+7QgOjUKIE0YpfJZJcXUBFfVljOo3BaejvbPQV8Wi7kQFB0I8gmrNbkop2Fy2hmbTD1oM2bm3Mq3/BaSyhR11Xzw2uN9bS0T0JAYkjSfKZmBZjRQX/5sVzYExt7+YwlP1NAt2vUidtxndkUFOxuXMzPsuk/udRf+EoUTaj3Y4NA9b9jzDxroy/ErHFTGAAemn0S86lrbmA/i+6s/T73wyHMHHNOLJSDqNoRlnBpb0U0j07aekfBtuy0K3JTEg60ZmDJhPgqOc0trSr/zre1r/wGvb36TW68bmGsyQ7OuYkfdtxmTNo198DmG2L2sNL3oqXdc7hvqLiYkhOTmZkQNO5+yhf6N/7KmE2WLQNWmcL3oWQ3cQG57FKUN+xE2zXyExJhvDsH1urg2ZsOYIZaZfSkZYJJrVSGnlaxQfVTVTD5FwJlNi0wM/W7UU7n8rMJxXH2bXXVwzdjEZJ2jCGqUUje5aXv7sUWyEc9Upt+O094xe+aET1rxb+jh+z6fYjrzLXbdjODIY1u8KcoOTBJneMvYdeJ6SmGuZk5RMU83zLCvaSnzcA9ww59vEGlBb9hsWVcaQGRmLrkFL8zq2Fr1FhdsDRJGVcj2jM7MxlJ/9xb9gS9em2wBEJZzD2NRJxDqDo5ooC6+njAPlT7O9pp6Y2ImMz76IKLtBU+3HrN//AQ2Ay5nM5CE/JtYOZssKFux6M7DD8ElMyT2XZJcLzXRTX/8ZB+q9DOg3jwhbJdvX/5kC+jMu7xqyIiKxvPtZte9FqpO+xfkJyaFPDwBl1rFr3wPsbh3M2IGXkxkeha6B31dJcelzVNvPZ2zGAGhawLu7P2XAoHu4etQdhOke9u+8h5e2PUUDgasF6clnMTxpBOGOYLA2/Xh9+8kvWcC+hoMhj9x9yYQ1R0epQH8U0zTxm358Xh9+n4/i+vUcqFlBdWsBXl8zpuXDxOzRX9xFL9Le1UXTsOl2DMNJhCOetJgRDE4/neTogRiG0TGsJUB2dnbHhDV9LmjPmvA8uWGhaw9P+YpZnv8Qe+smcfP8v5PrdKGpNor2XM+jmz4JLd7zjXqVB/JmB372b2XB66eyPLRMH3Oig7aFxc4Da3h95TNcOeNOBqbn0VN6QfbGoH2kUuIPBe2qkh/z1xX/Cy3SxzkYNuQBLh15LS7N3TVo9yIStI+eUoHU0j57JMFjiVIWbb4m/P42LOVHKWlDJLqH9q97uqah6zYMw4HLHoXDFtYRrkNzQZ8O2lecXcXoqNC1h2d6d/Da6tvYePA8fnTpT0gMvo61xT/gwZXPhhbv+SRof86JDto+08vb65+mpLiYW8+5G6crjEAL2O6vS9A+sJX3Sh7DJ0G7z5sybS2nxBg4wtIJsxlg1fHZ1u/ybv6HoUV7PAnax6Y9dHe+fTyPr0KcaF/0fu0ctPtcG22v2YLXf2jxW53HkrLwd7rP52vFUhbwXz7d/Qa7Di5kV+kLLN3VC0O2OKkUFqZlUdlQxpY9K5k15kwcThfal45v0f0opfApL61tjfja3IScN0UfZNiiiInKIsxmYFktVNW8Q0F57wvZ4th1rg1s7zQZuk4WWbrzciT6XI12VtpFxHeqeEjJ/SWzU7PRAdNXxIb837M3OLyUshooqVlDrbuPjDc18lUeGCo12p2dmBptC5SG13Lz/voX2L5vG7ed+wviI4OTefSYGm2ThrZGNm1fydvLn+WgfQNp8TXYtd4/EHK4cwpDMobi1KCtZQWby/NDi/RZqamXkxMROJeYZgMVNYs50NTbGo0ESI22EOJw+nTTkVADxi/hxgHDMQCfZxPvLT+dVdWhpS7hujN/SVrwOFpaNJZnt7Xf9zNuP+dyogGz6TX+tuIhxg7/E1PSxhJh2LDMesoOPsEb21+g1R96Sd1FetpVzM67hgxXHIYO4MPrKWBzwT9ZVbyS1pDM4rAPY9qonzMyMY/w4IHdstw0N+9gd/FzrC78+PMTXITQjRjGj/grU9JGER58jgcPPsnr7jncPfrcwCx4hw3aTtJSrmTOkKtIj0rCAFCttDTvYM2e+1hzsLhL6d7gRARthUKzoLSpgP/3zA+4fMZ3mD3qTDRdA/QeEbMtZVHfWsvK7Qv5ZP17mD5Fa0wx4fad2LXQ97kQvZMEbSHE4fTppiNfTyRR4ZnERgSWqC4jUMURHVyfkHg6V0xbwoVDLiQjOofYiEzio0cwYsiDfHfaHUR3GqlL0+IYPvRf3DDtAUYljSQhqn3/uSTHn87pE1/i2xPvJNZ+KHY5XPO5+oxFnDngLNJjAvuPjcgkPmog2Wnnc+rYPzM+e8yhBzkM3T6Sc2av4IIh55Pe6TkOH/InvpeRxheO/KsnMmTkM3xr5oOMTB1LQvCxYyMHk5F6AedP/YDLB59LmMyf/JUU4LO8LN++mGhXDFOGnoKm94CArRSmsvCYHgqrdvHWiidZs30JY/pNY+6YC4iJ6DpIvxBCCNHXSdA+nmzDGJGahtddQlVjPrWe9vnUDGJTf8KlQyYGJrMAEjN+xry8c4kKVGPj8x2kujGfmrb6QCtdLYy0rB9w9ciziQxuM2zUHQyOCOxB+UsoKHubbcULKazbh9u0aGleRUnlpmDpw4lhSN69TEpM7vjDW2Y1NY17afC0EZ04vuOxQmX0+zOX5s0JzJqnWqgsf5WVu//LtpoCTBSGLZlRw37IqC8YGkx0okzKGorZvHcN5068BqfDFewA2f3Ctgr+ZymFicLja2NN/mIWrHket7uNcyZdzYzhZxLljEJ1tycvhBBCfMMkaB9n7oYPeePTq3l2+Y08/elt7Gtrv4zuJDX1JvoBMJFZI68h3h58+d0reGfpVTyz/EaeWXYpS6qCbVe0aDJz72FMfOBmkjM6uC+w3DtZtfbHvLH+Ll5aeR3/XfIt3tn2OAfcHUU+L3wK49JHdsxyZ7V9xktLruCZFdfzv09/yLb6upAN2s1gdt4sIoJBqqHiTzy75qcs2Pxr3lh1PWvqAo1VdMdQZgwY23VTEUJh+v1s2PMp4fYYJuXNPjQbYXelArXZlfVFvLXuGRZufIPM+IGcP/16RuROxOUIB01GvBVCCCFCdfMzfE+jKC+/my31O6hs2kNF3QKWlO3qGOzMGZ5DfCIQfxoDO9qf+CgpvIG1tdsC29RvYvmKlwLTFAMYA8hIGwVAnaelI8wYkadzzTmfccmwM4lQJVTUvc/Wg5v44vnrgNhsEsMigjfaKC36B1trNlPRmM/Bujd4fv+nhx+YLW0s6WHtk6jUcnDnahr9CrvhxPSU8eHBbQSero3E2LO7bCo+r6GtkfySzUzNOw2n4/P9IrqL4Gi3WKaP/IObeO6Tf7ItfxXnT7yOs8dfRmpsFrpND/TdlOpsIYQQ4nMkaB9XzTQ0dp3VzCyr6givuhGJMwwIj+DQ3H8NNJR1HdLNUi/S0inxupxDAViX/0821xThtYJx25bM0MF/4ztnruNbk3/M4ITBnfZ7GLrt0GQoVj0VlSHTWxaVHr4jpSsaZ0etazx5cz7gNxftP7QMmxroGAmgf1Hjk76sPbIGJmjYeXAdhnIyNGNYt6sFVio4kYTyYyoftc3VfLJjAS8vfZykyCxuPfdXjBkwFZcjMN53e7wOvK360uFEJyJiOMMyL2BU5hkkhx/h4Pw9nkFU9ARGZV3IyPRZxDtPzhdFh20iw7IuZHTWuQzoKy+1EKJX6EtnxpPAjvFVHc+PJVk1vMmCNbfx5pY/k193gPa8rdsS6Zf1Yy6b+AB5CdmhWx05r++IRnG2LD+m+QWL9YXdKfswDVBoCpq9zaza/hGDM0eREJMaGPenO9Es0ExMpXGgag+vLnuY5Vs/YObwczhvytVkJuRiMww0TQV+p2DU7ma/xUmQwKDMn3HplMe5YvJDTMycHFqgl8pmdP/fcPmUx7li8l8YmjIitMAJEea8hQumPs4VUx9iTlrovUII0X1J0D6uXERGdW2jbKQnHWoTbTbjcQN1dRxqSp1AfHbXP4OuXUZEp8Du8x6qJW9pWsemPX/h+U9O4feLf8K2uvJgsw2IiBrL6OSpX9ihEcsfqLIkUPOcFBdS/90vnfaGJV342jDbo5R1kK1Lz+X3bw89/LL4h6Fbi2BNsWn52XlwIzX11YzsPx673dn9PoBKxzJhZ/Fqnlr4J9r8Fted8VNmjjiD+KgkdN04fKw+zKrezYuiNfglSkepkKtDvVYbZvAanVKA1RZaQAghRCfd7jzf06Wl/pxJSXkkRfUnJfYs5mTkdQRtd+teqquBlsXkN7YFs4lGWuaTTIgdSlJkLkkxI5k67QoS2ttiWCWUVXwKQG7mJQyNG0VSRDoOXdFS+xTvbLmH3S3tJzsN7cv+pPXFVLtbgzeiyMi9jaGxeSRF9ic5Zirn9Z+GM2QTACo2UdwWfAw9jYGjLiQmLBabrqNpOpoWRpgrlbjIDBzWl7YS76MCf+kGdx2frH2bEdnTSY3NOtSMp5uwLIvalnIWbHyWZxc/xJCUcVwz6zv0S+yPzXCgtEDNfHu4/BzV8U8f0MDm/J/z+CcX8J9P5vLenpWhBXqpclZuuoVHP72YR5fMZ3nJ1tACQgghOpEJa45owpobuOPCB8kMjs13oCCJRza03/dH7r7sJmI7ylp4PQdpcLdgC+9HnL09uraRv+1SntuxGh8QlX4/t075Ngm2QGDxecuob2tEc6QSHxYbjDEeqgq/y3/WvEEjcPrMVcxJTqKueQ9VzQWUNZSRlDiXAQkjCTM0LH85yzfdzMJ9q76gU2QMw8b8j6sHT++ISX5vMXVtreiOROJc8ejt4S9kwpqs/o9wzbhLiNYBTFpadlHeeACPBRBNXHQO8c42Vi++lPebSoJb9XzHY8IahcK0LNYXfMrby5/jmrl3MCRzJLpu6xRcvzkKE79psr8yn6Xb3uFgVRGzR17AhEGzCHeFd2qJ3ZVlWfj9fmpra8k/sIW3ix7F9C3DcUJnhrQRHT2BvNRJRDsiAs9MefG6SyiqXExxUzUm4LBnMyDzTNIjEtEBZXlobF7H9uJltCgFZDO8/wWkh7uor/6MCn8cuUmjcBigrDYaG5aytXwPiannMiA2B7umocxayireZVddCZaKJCPpPIak5GAoDwcqXie/uhCAxKT5DEkYRLgtOBSn1UJT83b2lC+mVs9hePaFpDtc+Nry2bH3dSoBXXcxYuCdpDjs4N3Kwt0LIGYy0zNmE675KKr5DJ9tGP1j09Gx8Hv3U1DyFsWt7UOIgqbFMyDrfLKjUjE0DZRJc8sW8kuXUOtzA0kMzJxPbmwSbY1r2FldTnbGaSQ6XXh9Teh6FDZDx924li0HFhGYy9FJasI8hqbmYdNMqqrX0mLk0i8uBawGCsrepLC+DE13kpp8HgPj+uMyAlc9LLOZpqZN5Fd8RoPPQVTMOAYljCMuLKpjpB2/r4L/z959x8dRXW0c/81sk7TqvVnNTZZ7rxgbjGnGdFNCCSEkARJIQgppQBISkpAXEghJSKG30DHdBtu49y5bxWpW713aNjPvH7uSpbXcwEWyzpfPJtbundkiafeZqzPnHqz8hOKWiu6/zGEewvDkSxhij8Sk6GjuEqprz+fyBVcQQjsFO9P4T55vrGUEo5LOJcEeiUlRwXDT0b6L7Mo1NDmP1oLp5JAFa4QQfZGVIXs4uUG7jtpmCzFhYd1bejlpKP8z/9r8F5p9CVhRIsgc+TCXjbqKCEsfb9BGJ7UVj/HC1ieo86ZZLjhnI+clDPUf2a2u8in+t/H3lLmPXCdtsk7gsnPeZGpUmN+cpJOqoo8wp1xJtOnwoI0ayfDhf+Sq0ZcRbj7CojRaEauXXSVBuw8tnfW8s/EFbIqNxTNuItAW6pvQPhNB+9B9GoZGu7ONnQc38tmWt4gPT+GiqdeRHJmCyWQ96nM9LGgf/Cea69QG7dDQyVw69WlGRSRhVs2+Z6Gjaa3k5f2Kt/e8ShtTuPScPzMxZhhBZpu3Qt7Q8HgaKC/9LS9tfZV2ZnHN+f9lclQ4za0FuIkiMjgaVQEMDZe7lMLy9YQnLibWakdVFAzDhaNtLZ8sv43NnlCmjHqKy8bMxWK0sH7P7XyQuwpSHuZ7468jNiAUsy9MGoYHj6eQzWtm84E2j6tn/IcpIWG0N37A28tvYx9gMYdz9YLdjA8NhNb/8bOPvwtD7uYHU35OrNmgrjUXbMOJsgWiYKDrbTTVvcArqx6iHIAszpv1F2bEZRJsCeyunPd4GqmqeIoXNj5BK6NYMO1pzksbRWvzNipaIC1xAgEmjaraPagBQ4kNCaez+T3e2PhN9jcD5mRmTHqRS9PGYNJbWLftBjqj/sD5GWPBfZCPt32TtQd3EDz0ce4YvZgoW4g35Puet9udy6rV81jZMo4FUx9jTkIWVpO5++dK1x20Nq/i0w0/YUdbJRDN2FEPsyjzMkIsVhQM34FKA1Z7CgGmHkE75BwunfA7JsZkENT9s6rj8dRTU/UKr276E3Xakd8LTwYJ2kKIvsjKkD1o7jpaHFW0OKpoddTh6vNswA7afWNaHFW0H/G920Zt0WKWFy6nrr2MFkcVTa272Zl9F09ufLI7ZAMYRiP7c+7m6bV3s6NyF/Xtvv13llLftJ61O2/jPxv/0h2yAXYceIqdFZupbS2juevxdJZR17CaDTuX8K81Dx01ZANorp18+MUUPi1YRl1bz8d4N//afiebqnJ8+63j0FwZoDeQn3sX/1z5LTaUbaSu7dDr0dJ5kJqGlazd/SCrOqp6biXwdvEors6hsvYgY9KmE2gL7pGtjxxkTy0DTXdR0VjC+1tf5pVlT5KVPJmb591JaswwVPPRQ/aZEmm/h6FRqVhUM23Ny9lS+DoFDbl0eDoob/qUNiyMmPJ75iSMxm4yaKz/hI0FL1DQVIVqjiEt489ckN5zQsFMWMgIIgKhqm4Dle316JiwWtPITL+eKBqoqN9OncsFipXAkPOYPeFQP3t/l4y8ncTAcMxGKyWlr7G58D1KWytxtm5nzWEH8MdJsREdMopgTwnFNdtocjlR1BAiY+/mvKwMFMykZH2fC5InEmI20dK0ls0Fz5JdW4RhiiA55X6uGdX7zI3QsMlkJk/AbLTR7qiksXo5uXUHAAi0TyQyZBoKEBQQxbCooZgBT8d68oua+iwOWjj8JmIDQjHpjRQUP8PWkk+oaKvB3bqBrQ2AZzfFTfvR9Uaq6z9jZ9Fr5DZVgRpAWMQFzB/lXWEgLGYOs4ddRKjFCno7Tc17qWppxhacTEDP43slhslpdzM9fhR2sxmHs4TSum3UOdpRzTEkJt/NLZMnHeqGJIQQZ8ign9H+6nrOaLeya0sGrxX5jxED1Veb0TYwALfbxdItz9Pa2sKVs79BWLB3qfIjlWScKl3z2Iah0eFs4UD1fr7Y8zGay8O8cZeSlToZqznA+6iO4zn2mtEu8c1on+LSkbT4Z7npnEXYFWioeZoVuR9SVLsLZ2ACtBbQbrmEWxf+k0x7IO6293huzY8obG0iNHoR103/Gxl2O6Ulv+H5Tdu4+Pz/MjkqGvR6tu25mzdzPyc06gqWzH6KoQFWNHcRq7bezIrSXCzxf+OHc64jVIX2qp/z8Or3+5zRvnhBMXMj7aBVsCfvCbZXrqespRKT2UVzRwdEfIkZbYsFR8tHvL7hh+xvbiAx6X5unP4DoswqjVV/57/rP2LOnH8wI3YIHscW3tv0bbZVl2ILHs3iWe8yITycjvp/8+TnLzLVN6Ot4Ka57iPW5P+H3JotdOrBEHsv983+HoE4KNv/fZ7NfouguD/xzdm3Eaa6KMtbwlM7a5k/5Z8s8JvRvvLCCqaFWcBTwtZ9f2R3zTbK2lsIMjVT3+GbYbAkER/QQVWrb2Es6z3cu+hXxJvB1fB3Hvzsdwwf8gjXTruFEBNUVTzGa1seodoZRta4d7khcwxmX+nI85XTWTT9WaZGxuBx7ObDDTewqbYGi/0ibjzvP2QG2sC1lhfevZL9vX6CTi6Z0RZC9EVmtIU4xbpn/XSD8oZCyuqLGJU2meDAEJTTHLINQPfFfs1wU91czqc732LppleJC03iqjnfZHzGLGwWm/cg4jhCtj8DMI6rOeRXU9f5LkUtjRhAZOwdLJ72d66f9Q/mx6d6X9GwdKJs3sCj2kZz/sQnuHn2C1w+5i6irN7aryBzdI9zKkB3l7K3rhCAFq2Oerf3xF+3o4Da6lzva1dXgMP39MzmIzdy3pzzBo0ewJTI2Mzfcs30p7l+8v0Mt3sPrr4cjbbG/TS1ed+0GzvWUeXwPsaAgBRi7fGEBnofk2pJZtro33HT7Be4duJvSQ70niNisSQQ22OPhqeabUXPsLFsI3VOjXZ3M+2Vz5Pd6gYCiEuah8kcRGraAkJUwJXNhrzuQrLDbM1fSosGmFOZMvYvXDvj31w38bsk2QJ9I4KIDJ3CuOG/4fqZz3LT7Be4eepVhHdNOStmwILZlI7Vd11143NUOwGaKSveSGuPHy+7JYgY3++SsyOX+voaADydq8luqPD+JFozSY8+tI0QQpwJErSFOAUUX7x1aU52F21EdxmkxQzHpJ7+XzkFHdUwQNcpqt3Pq6ufYm/hVuaNuphF028iJSYdQwXjNIb/L6uteSmvrP0GG6sK0AwVqy2ZIfGXMGvCC1yWdQE2s9r9pmayDCMj/mKyki4mK3YqYZau1Vh7M3QnHuPwWXhDd+M5eiXWYerLfsp/VnyXnKYGdCzY7aMYOuQbXDXneWb22TvTS1EUAkxdofRwhsdD10NUMFB8BzWKasGsqt0nMaumBIZE+55zwjnE2LrqtXszDDetnna0nnUgeglLD+5GAywh53BByI1MjhuCCrQ2vcGOroZFfSgtvJfn1j1IcVsrKFZCgscxMuUurj/3ZSYFmUlK/ja3nfN35g27nvFDFjE66WKykkYT0OvBKSjdPZrAox1qa2porb0eq0lRvCc/+r5Pmi+EG4DT4/Qd6FoxH/klFUKI0+L0f+oLMSgYaIZBeVMRe4q2MCp1MpEhURi+CH466YZBU2cDa/Z/zHtrX8JuCeO6c+5i5qiFBNrsoCiohvLVl1E/DU/MooZjdW5i6eoZPPzpFXxavJYWjwdFsZISeR6JHbW0at75+7amT3hvww3854sre1xu4K19z1Lrv+OTxB4QR1vT/3h+2WT+uuYn7KwswG0oKJbxzMjqOacMJtWG2eoNllb7tUT2fRwAmAiKTMYe4u17Hxo4lBibN7U7HaXUdjTR7vLOcDvbt/HZ1lv8nvP1vLTtj5T22mfftH3/R7HDA0o8aaOuIN4K6KXsyl1z1G+v3RZGXdXfefqjiTyx/jdk1x7EYygo1hmMH5VF8pAlRFitKIaDnJzbeOSdIfzsrQeo6LECLnjQjNruhbjCgq4i0PcjGRw6geAeBddNHgc1Tm/vcmtgKpEhwSiAyZzCsIhEb222XkrN8TxpIYQ4hSRoC3GKuNwu9h/cjmZojMmYitkcgIp62spGuhbJKa0v5IMtL/LFno8ZmTyJy2fcyrCk0ZjNZt+jUVAU5ctUjJx20eF3ccmkh1mQ+S3GRAyhs/MgTt071WsoBkbnF+ysLUNHwR4yiVHx80iwJxIRNIykyHPITFhImFrMCU5UH7cp4/7K4vG/ZN6Iaxhia6e6uca3vAvoRjB4nLjdLgzAGjyRyZN+yXmjf8Giyd8jytfV6HAKQSELmZf1W+aP+jnzsr5PhFkFPNQ3fUiVcxd5tfvRAWvgMEbELyQpOJnwwHQSImYzIv4CYk05PRbJOjKdFeyuKsCDici48QRi4Ghdx85Wb2+TI5kx/gkuG/dz5g6/nARTNfWtDd3t+gyCUVWT9/wANBRLLMOTb2LBhCuJ7FXW7KLJuY4ml7eme0jSd7ls7E+ZP/pBLp04jZ7La2ntJZTX7cFjgDVwPNMn/I4FWT/ioomPMTY4FNBoqXuBnB7bCCHEmSBB+yv7I09/NJU/fzSVP380jw9kBkX4aqKbO+rIKdnN6JQZxIcl9Wjnd+oZBuiaRl7lLl774gmq6iq4asbtnD9+MbHhiZjUgdmPIcA2jnFptzF/zANcNvkPXDriWqKtNgyjnfya9yl3V7J963fY0dSMYoplRNo3uXDiH7ls0m+5YPS9zB5xFUmnsJwgMuIcJo/8HgvG/pbFk//I+SOmE6iA5ljPF7sLoW0fZTWb8BgGqima4UO+w3lZ32NcZAzOzqojVLkb6GoYGSm3cP7oexgXmYxZAa19BWuzNwANZO97gHX1jShqGClJN3LBhD+weNLvuHDMDzhn5BLSDj/PvW+GTkXZx7R6wGQKAMNBVflW2tpb/Uf2Eht1PlNH3sPCcQ9z+eQ/MittHDYFtPblbNqzj7a6XJw6KIqd4em/ZvGkh5ifMYympooee9GprV3BzvKd6IAtcCwTRv6A87PuIt3W3l0jD4Cngh25/yG/tRVFDWZIwvXMy7qP2alTCVTB2bqcN7e8QVOPTYQQ4kwwPQQPAbT88McEBhw+peJ0t7Em9+/+V4tunThcTXS6muh0NR+hPaAYqEyKmXEJtxISHILV6m15d6yuIwagaS62F6yloqGU6+d/h0BzICjeWtxTzTAMWpwtbC39nGfe/yPpCZO5bs43SI0dgdVy8tr2GYaBrut0dnZS11xNbvNmDL0Uk3LqDiZMpkjC7CGYcOJ0t+Nw19PUtpvd+37E0gMb0QFdqyK/9E0aicNuMuHROnC6W2jvLKOi5n/sKFxPgxZFStwk7EonbZ35ZFesoNnZBtYYkiMnE2K009KWTX7pZzQAJjWTYYkZGO4GWlrXsqUsh6jQScSEBOJ0VlNS/SnFTeVYLCkEmUHTOnG623C4aqmt+5jPNv2cnZ1tgJPK6r04LLEEm8043U20de5nd+6vWFeiERkWgqt9JxsOroawacxMPAe7CeqrPmNfTSFmi4rDWU1d3ce8v+ZH7Hd756kNvY4Dxf+k0ogj2GxF1zpwulvpdFRQVbuU7flfUOMJJS5yElE26HCUcKD6M6raDu852EkboSGjCDQ6aO88wObS5yls6RoXTFzEJKICVDqcpRRUL6eytRabbSiBZgNP1/N2VlNV+zYfrr2f/a4WapqzcZjiCbOqOF0ttHXmsTf7Vj4qCyQxMhxH22Y2l27EMJooqduD2zaEIJOG01VNQ8NHfLrpTlrtswkyGqmueoF9zaC5DrDrwFIctjTsqgeXu4UORzmllS/w5rbfUHyMg4OTIT1iPkOix2O1WlHPwPkXQoj+6fHHH+envhW1pb2fEEdhUQO4ZcJK4hPisdvtmFTTMYOqAbS01fDymn8SH5LMFTNvQzFxSnuN6L5fZs1wU95QxLJtb1BYnssFk65h2si5BAWEdpeInCw92/vllOxmafFT6Nr6U9reb1Dpbu+nUlvwZ17Z9n9Il/r+Rdr7CSH6Iu39hDghxxNOe8ziGgYl9YXU1lcwJnUKmHx10D2HnwSGt6jAezF0OtydbDuwhv9+/Afa21q57YIfc+7YiwkOCENVTqT/95fj7RouhBBCiC4StIU4KbpCrIHL42D1/o8ZkTyatPgR3a3YTjrD8DZ606G+tYYPt/6XFz7/P8akzOaOS3/J8OTRmFTTaY2/xum8MyGEEKKfk6AtxEliYKDrGuX1RRSW7mdM6jQsZstJn8k+xMDh7CC7dCtLNz5DcXkhN837AVfMvBm7zY6iKBgYKKewZvoQA8PwzrGLk6TjAPnlH7K37APyGvKPq2uIEEKI/kWCthAnhbdwosPVztLNr5IeN5KhiWO8M91ftT+1jzfGeu9H0z3UtVbzRfYHfLLlNWxKEFfP+gbThs/FarF0r+6oKOpp+jU/ufXfAqj/lA82f4uX19/BB0VLpYOGEEIMQKfjE1iIs56BAoZOYU0u2SUbWTj5GgItQb6KkpMVQA0MQ0fTNcobi/lo26tszVnB1GHzWDzrZtITMjGZrD3uTjmJ930cZDJbCCGE6EWC9lnAHjCEpIgJJEdOICl8KFZTV5tGM0EB6d7bIsYSHRB++r7hphAiQ8eQHDmBxLDhBJoPbx15NjEMA6e7k60HvmBM8mTS40ahqL6ge5KyrqEbdDha2F64lv+t+gfNbY1cPvPrzBlzAWFBkaiKGUPxhf4zwDgtJSpCCCHEwHHacpc4dUYO+wHfXrCcuxcs5zuz/0RccJT3Bstwpo5/mrsWLOPuBR9xw/jLCTlNeTc88gKumvM+dy9Yzp3znmVW7BjvsshnJe/C6mW1RZRU5XHRpCVYzRaMk9LQzwDDQDd0apvL+Gj7m3y2421So0ZwxYzbyEqZisVs801eex/HV73HL01ythBCCNGLBO2zmTWSiOAEb+2sEkBoSDjW0xW0AyKIDAgGwGyJIdYay9naZdYAdAP2lW8mLiSZIXFpJyViA+gYeHSd6pYCnvv8z5RV57Jw/FVcOuNrJEenYTaZfb/GXWUiJ+NevwxJ2UIIIYQ/Cdpns/Z8Sio30+qoo81RREHZAdpPU+uCypZiCpsKaHPW0diyhV1te3D6DzpbGNDYWcvW/LWMz5hNgDXMf8QJMwwD3dDodHawZt9H/Om1nxNgC+eauXcxaehMggIC5ORDIYQQop+ToH02OOJkYg079t3OI0tH8bul03gt50M6TlFLZ3/O5s95c8UMfvfeKP607Cb21VX4Dzlr6IbOyt3vEWgJY0TyaJSv2GXEG7J1yutLeGPN06za8z4Lxl/DNxfcR1JkGorJDJhO0py5EEIIIU6VAbUEuy3sAqYmn0N8cAI2k/cYQdfduBz57C95mX2NPRcoTmB0xrcYH5eCYnRQUPI8+zrDmJx2FfGBAagKaJ4q8g6+yN6qHFzd26UyKfM7jIqMRXeXsjH/XxQ1hTNl9NcZFhqFSXFSVngXX/S4q/jErzM5YSph1gAUBQzdSUvbVrLzn6Go5zSuNZaszF8wMTgYXS9h67Y/0xa1mMlDziXMYgVDR9caKK18na2l2/rom5vA2JF3Myo8DotJBb2D6tr3aQs6j4tHfgOrquBpX82/1t5NaXMVkMGkEd8mMzoaBZ22xjf4PH8ZbYQxfNSDTAs52syrk4qiu1hZ2fV1ElkZ1zA0cjghFt9sqmHg8TRSU/cRW4tW0tpj68jIucwedjOhZhW0BjYf+A/59bk9RkBozLXMSJpDVGAwqgKG4aG9fS85xS+S29I/mpl5l2BfRXxC3GFLsBuGt9leXUs5//f2zzh//LXMG3cRFpPF11bveHQdJSl4u4oYODUH2aVb+WjT/wi2hXPRpKsZljQWk9nsOzLuHwG79xLsu3in8EnQN2JTT9PRnBBnmCzBLoToS88l2AdO0B7+FA+NvwqLYkI97E/mOh5XEWu238PKg5txezdg/pR/siBjHCoOKqr2YA4ZTow9vEdMMfA4c/hs612sKd/rW79vPJfO/jdzktLBU8Ynu14nJv0GJkbE++63lPVvTOJ9AyCK6dPf4JIhWVhUU6/4YxgauqeA5Rsv54vKOu+VQemcO/sjLoqIxtCdFJe9Qlj814iwWns9Jl1rYtveb/JB7upDBwDWaSya8TdmxqX1eP4Ght5MeXM98WFpmFWTX9CewiUz/sGclDQUNBoqHuSZzU9TTyzTz1nJFVGx3fd6uHZyd6TxXD7Axdx80RNkhoSiKKpfzDMwDA+V5U/w1pY/UOF98UlMupnrp/6JGKsZPGW8u+VuNpWu920TytjRj3P1qEuwqr1nZg1Dx9BK2bJtMe+WnPlZ8KMGbcDtcfDW+mfYkbueHy15lJjQODjsNTqyQ3+M0NENaHM0sW73R7y3+SVmjF7IZdNuIjIoClUF+tnppIcH7SdA3yRBWwwaErSFEH3pGbSPd9rtzMtfSoFTRzFcOBzl1LRkU9VcRKfHBaiYrRlMG3kLMcEh/lsCASTGTyU2KBCHs5Y2VxMeXQcUzLZM5o25k0TfiXu9mCKYMfobTIxIOBRuDTdOA1BDGT/2T1yWMgaragK9hYbmTRTVbqTe0YyBCZNlBHPGPMLI0MP3rag20lNuI8Ji4HDWeR+T4X1MqimCselfIyXc7h2shpM17BtMjk31PQ4DXWulzVmHUw8iKWIoZvUEQpjhobP9ADUtuT0uJTg0rXuI7qmhrqPrq4/ZWVuKoYDH3UhT6wEqm7JpcDSiGaAoFhISvsaUpHlYu/dwBIqN9Ix7uHTkJdhUM+hOWlp3UlS7lqr2ejRUVHMqkye8yMzoCP+t+xmD2tYKSuvymTfxUsKDolCUEyvoUHxdRZxuJ0U1+3hr3TNsK97MDXPv5vpZ3yLKHgOqitHvf1WVfjPTLoQQQvQX/f3Tu4dPWbbjEZbtuZ93ttzFy+tv5aX1d/BJyee4fKHZHjyRVEu8/4ZeRjOlhY/yzpZ7eGvLfXxRsdk3m6gQEDKPOTHh/luAYic8IBxVb6C49L98vutBPtr5KHuAoNDpjEs8B5OigNFJxcFneXvddfz7i2t4ZcffOdjhLaSwh05nZMQk+mr2YWgN5BY+xbtb7uXtLb9ga9kePL4pzoCgyQwJGIECWIPSGJEwG5uqAgbOzq2szb6fNzffy7t7nqSgteHIZdp98TSTv+f7vLz+G77Ld1lZuJJ23Re09QZycv7EZ+WHNtmz/yGWZf+Jpdu+z+sbbufldbfw2vYnKWprAUAxRZAWlULAMfK+xZrIqJRrCTGbAZ2m+vf5aMON/Hvllby89bdkN9agA2brCEYmXMrhhyj9gwFoukZB1T6CrKFMypiNxWzxLVzjP7pv3m4lBi2ORrbkr+KtL/6D5nGxZPbtzBp9IQE2O3S34e7vIdboNT8vhBBCiAEVtKG67J98kfcSuyvXU9NSQn3rLrbVZ+MwfH+qVoOIUfr+853HsZuP819hT8Vn5JQv5Ys9H9Ng+IKBGkNSUt/bodewe9O1vLz1IVbk/p01+W9SiUq0PZ14uzec61ode6s/pbCtHUN3UlH2FgX1hQAopkhSo+OxHhZADRxtX7C54DF2Vyxjf/mbbKz4gBaPr/ZCtRGl2lCAEGsIicGx3qhlOCkvfYf1eW+QW7mcXQceZ1vpcjxdz+V4GBqd7UXUtORR05JHm2EmM+USIi1WwE1d9QusLFzau0a8YzVr9/2FrQc/oqhpH/XtBykt30xNS4svXpmwBlg41sR6kHUI6WHx3h88w0NJzYfsbarFAOpqPiKvYiNuHVCsxEZkEB7gv4f+QTGg1dlCzsFdpEePJDrM20ZR4XgysYFhgGZo1LZW8+GWl1m5632yUqZy1axvMDxpLFaz1be/rv8GihP4ORRCCCHOcgMkaKvYrAlkDv0137hgKw9dWcrD19byyJJaHp72I0JNRwjJPbidO2nXDp1g524tosnVFQoUQoJv6r6tJ1fbCt6vzqPN7fDVcANYCVCnYFW98Uc1D+HC6R/x+yXex/TItVs5P2W8b6wJq83CYWXlGHQ0V9DW1HW2pE611k5n10FDDyZFweI7uc7QOyht30+z7nvshpPc9kqc+uHbHRclgvGj/8qYSG+Qd7RvZkX2k5Q5Dp0eqphCCYu+nMtmvs9PFufz26trfM/zA2YlDTmhEGhWzifI7PuxU6xMGP0cD3e/bnlcO2YxNhVAwWQJoL+WPeroFFXvpa2jjfSELEzH8TNI17yvAU53O3uKNvDq6ifIL83hosk3cOGUa4kMjUM97hMp+w8FhRM51hNCCCEGgwHxiR4YPI2LZr3DzZO/xbDwVGwWK7q7idbOEuo669GP4xP+mDG0j4AL4HRvxOij/0dvBoauofd58aAbh2qfe27j0lp7dDv58joNDf1LzSRGM3T405w/ZAQmwHAXsn3vb8lu8JaDAGCKZtjw33Ln3KeZkTyViIBwTLTR6ayiobWEds9X645tGP6vV8/XzX3s79sZYdDiaGBL7hfEhSWSFJ163HPOhqFT11LBsp1v8Nn2dwmzxXLz+fcwMX06FpMFvmJrwDOm+xwG/xuEEEKIwWsABG076YnXMT4q3ftg9QZyc37Oc2tv4sW1t/HygaV0HMdsrs0yClUJPXSFJQ67+VCocThXHrrtmDQ0o5auSWXNfZD1++7muTXX93G5kbf2raKzr6x9nAzj0IGColgIM8di63F7ojWwe8b7RKSkfodrx8zFrgBGE0V5P+bzkm29wn9gyCimpl5EmNkE6LQ2vsvbm27lhbW38PL6P5BXV3dC2cqgHM33ZAzDyf7CH/Xxmnkvr+98ntpO/z2cOQoGhqKgGzol1XmU1xYzPGkc9gDfSavdetYre1sAGoaBW3NxoGov765/ltySnczMuoCr53yd1Ljh3pCtdBdkDxiG7yBXwYRqnNEF4IU47czKMU//FkIMcieezk67cEKsGZi9/c3QXPmsK/uMwrpNlDUVEUUw1uMImeagqVycFIeqmFAVEyOGTyXO1BUKWqmv7XHm3zG5aXZvpsXtnc01mcOJVqGybjUHag5dCmrWUlCzntLmKrQTSaN+2jQH9U7fLLNqJz1hJrHBwd7nYhnFyIi5WH2vz/EKCL+YeaNu9gVoD3Xlf+N/eRvoVFRvCz9fizq7xU6EzdfJxeiguvRzcsvWUFy/kwa1lYCgoBOKVg5tFdWdbQAoiplwazytDWv8Xrc1FNSsp7ix8CsdoJw8BhgKBqq3Nruzmd3FG0iKTidzyDhMJv9TXRVfzPYGbkWHTlcHm/NW8OyyP+HwuLhyzt1MHzmPkIAwTIoKqndO/ERey/5CURRMqgULAd0n8woxGNgsId5zKQ6vDRRCCBgYQbuNTk8Fmm/mzGTNZOGou5mWdAkXTn2eRZmLsfhqpY9KCWPE2A/54YJ3+PaCVSwZdZUv1Bh4OreytbTncivHVteYw56aPWgYoIQxMvNP3HHOs1wy/iEuGf8Ql097hm8v3Mb9F73IuDj/rU9MZ3sVRbX7cRsAKmHRN3HruR9xx7x3uPu8VzhvyJgT6rBsMg9nRtYvGR4SCYDuaaSJVM4Z/avux3/J+IeYkwydbietbt+0shJEQvpNnJu5hPGjHuCWqY8xPOTEWvB1OOrYXbba1+HERGLyvdxy7ussmvgbLhn/EIun/p3bF2zgl4t3sCDVf+szo+unywAM3U1p3QFKqg8wOeNcgm3eRX/6zJeGgUfTqWkt58Otr7By9/vMybyEG879Hulx6VhM5uMuOemPugKGqqqYVRvhpmR0XWb4xOBht0VhMp3Iu68QYrAZAEG7mcLq5ZT72uWhhpGcdBtXzn6ec9NmY+lcR15rs/9GfnQcribcBBAVMZOUiEzsvpPXdE8lew48y37Hsfbhx5XLtn1/ZHNVCR4ANZTY2EuYM+JO5oy4k+mpl5ISlojt+M6ROzpPOfuKXqOkretkTjN2+yjSYmaSGBpOdXMRrq7WfMchwLyAcXEj6KqcUc0xDEu+ufuxd10mxEN7Wx77a3b6upqo2EOmM3vcU1w/9rukBuvk12WfWMcTrYH8wj+z7uA274GDEkBE5FxmDfs2c0bcyYy0q8mISD85r9tJpmLg8LSz7+B2ggLDGZ40FnwHeV1z2F0UA1yai+yDW3n6g4cprc7nosnXMW/CJUSFRKGqJjBMA3MKu4euoB1kCSA+cASKEeU/RIizkk0NJ9KeLjPaQoijGgBBG9qa3ufl9Q+zp7EUT1exsuaktuo53th0L6+VbOHoMVPF0/4c7+U8TVlbm7e22vDgdOTyxfZbeS93OY7jqPP2196ymo83XMjTW56koKUCd1fRNqBpnbS17mJbzssU1fba7EvQaG54nVc+v4eNtYW4up6s1kxewe95e93PyW1r99vmyBTCsRzv54Kngp277mNZ4Uqau1oPGm5cjmzW7vo+b699mnL30V99f46OvazefiOPrXuY7IYinF1F24Cuu+hs30923v+xq7TXZmecAVQ3llNaX8TcUZcQGhSG6mvB1zsxu3F4HKzas5TnP/0/4qLSuPG8u5mYPosgW2h32z7vJsf7jeifFEXBbDYTEBBEvDmNcH04Hn1AvK0I8ZUMCTmXQFsIJtOh1WKFEMLfwFmC/YT1XIId2ht/z7/WPU5N92qH4lQ6+hLsA4dFDeDWCSuJi08gMNDG2pyP2F2wma+d931iwg7VBBkGGIqOpuvUN1fx+e632V+8g3PGXMr88ZdhNllQUTBOcOXI/swwvCd5Op1O6uvrKT5YzI6itRS7XsIUUOE/XIizRqApmitGPU9a8kiCg0Mwm80StoUQ3QbmEuxiAFExq8Hek/zOGgYN7dXsKt7EyCETCLf3rk3XMWhzNLO9YBUvrnqcqtoylpz7HeZPWIzFbEX1dRQ5mz6Ku/5kbjKZCAoMJCIigtTwkUTos9C1ww/ahTgbmBQrmdFXExWegM1mQ1VVCdlCiCM6m5KQOMNiYhayIOt+LhjzC84dfiuhvoVpdN2Bpns7jQxUuqGzp2Qb9S01jE6bitlkwtu6T0c3NJqaK/hs53u8v/5l0mPHctvCnzA6ZQoWk3dZdm/bu7Pvw7graAcGBhEVHkJ8TCJD7fMIap2HMVB7ggtxRArxQdPJir+S4OAw70H0CXZ8EkIMLvIOIU6akNDJTB/1A87Luoes6KHdJ1u2d2yjtXW3//CBQ4E2VzNrsz9iZOJE4sOTQFExMHC6O8mvyObF1X9jd/46Lp1xK4un3kBkaDQm1YSCgnpWRuxDVFXFbDETZA8nJiaWlCGpjAy/kODWi1EM/9aHQgxUCmGWYcwc8gPio1IJDAjAZJb6bCHE0UnQFieNx9B6rNJpoOttNDVvZO2+f1PYY7HJgcajedhduIG2zjbmj7sUs8mKrus0tNSzPnsZ765/juCACG487x6mDJ2J2TL4wqXJZCIgIIDw8HASEhLISMtgbOzlJLivwaYn+Q8XYkCxqqGkBV/AxcP/QkpCJsHBwVgsFgnZQohjOotPhgwhLmIKccHhKIDbvY/C2lwcJ9YgQ5yAQPtIUsMzsamqL2i309q2n/LmMnz9SgYckxrAlZlv8en+F8lMnMiVs76OgcHBhgLW7P6IhtYaslKnMHXYXMKDo1FVBsEc9uEMw0DXdTweDx2dnbS0ttDc0Eh9Qw3VrQeoc+yiVtuAgwqMY/QIEqK/sChBxAZOZ2jkAtKjZxATlYTdbsdms0m3ESHEEfU8GfIsDtpCfHUmxcaEyIfZVraSexb/jtiQeHYf3MAnO97GHhDIwvHXMjRxDDaLDcVQQNEH7R+KurqQaJqGy+Wms6OD9o42WtvaaG9rp9PZQZuzghZ3Mej6kZb5EeIM8AVm3/+pJhP2gBjiQrMID47Abg8jyB5EQEAQFrNJQrYQ4qgkaAtxnBQsBDqvIj1hBAumXMW2/NXsPbiV9LiRzB17KfHhSd7uKsrZebLjiTJ8pUNds9tutxun09n9b03TuscI0V+pqorJZMJqtXZfzGZzd8CWkC2EOBoJ2kIcJ8NQcTbPY1bmBVS3l9Ha3sy80RczNn0GoUFh3X2xz57u2CePruvdl67Skq5Zb0VRJHCLfqVneO4K06qqdl8kYAshjpcEbSGOk24olJWPIjIwnLEZU1k07SbiwpOwmC0omLwr1SjIbPZRdAVqCdZioPEP30IIcTwkaAtxnHRdobg4hVvm3cvCyddisQWiKqrEaiGEEEL0SVaGFOI4qYrKjKGXMHnYeZhNVu8Jj76laoQQQgghjkaCthBHoRs6O0q+4NPtb1DdWo6mu7vXeRRCCCGEOBoJ2kIcjQJWs4ndpRv574d/Ird0Nx63u0dnOgMMvfc2QgghhBBSo33iosKnERMY1uu6ppblVLX3uqqbPXwWyYH2HjOgnTTW7aLa3dpr3KlzAbde+iyZdhsAjeXn8qd1+/wH9Sly6D+5Y8LVhJs02htf5vnl91HqP+gsZxgqzvpzmTvxUmqbK6hvqWTayHlMzJhFVGg8qqpioPu6jshxqxBCCDHYSY32VzBu1G+49ZxXel0WZEzzH9Zt+sRne4+f9SQzQlP8h/VL6QnnEm4CMGGPmMMw/wGDgKqYiI1MpraxnCtmfZ05Yy9kX+k23tv4Mrnle+h0dYIuIVsIIYQQh5N0cBIkhC0m2f9KAG4mKzxiwNbz7i9bS6uvKqK9/iP2+A8YBFRFJStpGgVVe+noaGX68IVcPOUGDMPDW2v/zaacFbQ6m8HQu6tJ5ERJfCU13otudPXUNnwXHV13o/Wzi6eP6+QyCC+aB13XfD+rYEhpmBDiK5DSkRM0f+YnLBwyuTtOKSi4Otfz3sbr2F7r6DXWnvURPx0zFQsGRteSJloZG1fdxHv12b3GnjpfvnREgEm1cU3We3yW8wrxYWncNO+7YFFoaq9jfc4n7D6wmRFDJjNvzKVEhkSgqhbfUuz+expkDAPdMDAMHU130tJRw8GGLWwv/h8HqtegGx7/LYToV8LtQxg/5ArGpV5JVHA6AZYQVAWZnxJCHNMA76MdQHTEDNIjRxBosXnzjOGio7OI4rp11Hb0LJZOZWzGpURaTeiuEraXfoZin86IqBEEW6wogKE1U1O/ivzGg2jHMRHZHbQNB+1uhSCrDbQq1m//Hp8WrcLdPTKDyy9azYxQG7qzgQ5rKMGK+QhBO4S46JkMCU0h0BLoezM3MPQOWtt2kV+zjbY+c0kYKQkLSAyJx6Z63/wNQ8PlrKSiYTUHW+r7DNqP7wxidNxkQq3e10DXmqmpW8WBpt6vgZp4M+eEhnu/0CvJyXuTagBGMnHEQkJV0J05rCv+nPCIBWREDMVuMQMGuruOyrrPONBcd2iHPdjsoxkWPZXIgK4PL/C4qqlqWMfB5nLcx/G9OB0sqo2vjfucKmcBH2x5ke8u+i3p8cMAhXZnC9kHt7MpbyWa7uHcrEVkDZmE1RKI79sx6HSt/GgYBm6Pk8qmfeRVrmBv+XvUtOTIbL8YcAIsoYxKXMjo5EWMTDgfqzlIFq8RQhzVwA3aplCGDf0VFw69iDh7DGbV5AvaGm5PIzX1y1m9/WF2t9X4NljALZc8y6jgAAx3Np/mbSUz5UIS7TFYfNsauoP29h1s2X07y8pre99fHw7NaLdS1tBAYkQKquKiovDnPL/zBVq6AnH097l//i8IUzSa6vdD2DDCzQF9BO3hzJ36KFPiRxJuDcdsMvsmQw0Mw4PLVUlJ+TN8uvcpKnpOmAfN5eLxP2Fs7ChCrSGYut/4dTRPK411L/Lq6l9T0Stou6g4+B8aQhYxPDQJq+nQa9DWvoMtu29jeXl9911Yp2/g16m+ymz3Jv73ziJ2AnAN37nyH6RawHBu5M39Ocwcvoi4wEgsXYFfb6e1dSPrtl3P6l5Z20xszJUsGHsPw8IzCDB7wz6ArrfR1raP7LxfsLTQe09nmkUN4KYJKwmJCOClLx4jKjiJm8+7G5stCAzweJxUNBxk44GV7Mhdx5xRF3LOpEWE2kIH3bLsXQHb4/Hg9ripaM7lw533U9W8C904dAgqxMCjYLdGctH4h5iSfn33kuxCCNGXAXsyZFTMI1w77uskh8RjURV0rR2Xpx2PoWCxRJMUfwNXz/wJlj7e/xTLaC7KupW0kDjMioFhaN7SDzWA4JCZzJ/0BOl9bHdkBq6SPVRrGmAjOvocAq1d3UhUxiaOJUwB9GZK2xoxfAudHC6fYi2I6MBozKqCrjtxa514dA0UCzZbCiNSv8fMxIvwzkmDokzg0ol/Zu6Q6UTYQjEpoBsedMODYSiYzKHozt1U+N0TWEkcchdjIoZgUXu/BiEhMzlv0pOkHelhHoFim8G1479Osj0Sk6Kjd+/TTmjY+Vw07V8k9dhnUPAoLpz8KGOjMwk0WzF0Jy5PKy7NjaIGExo6jZmTnmFRvKXn3ZxRqqIQbAth7vhLya/YSVVDuXfldUXBbAkgJWYYV0y9lUtnX8+q7A95Yfmj1LVUo+mabwa3Z43n2TmjaxgGOjqaW6PD0UFO9SZeWHcTFU1bJWSLs4BBu6ued7fdx7rc/+DSXN7SKP9hQgjhZwAF7RFcMOkqQn2PuLPpFV5fMZuHl87g+R1PUOP2hhlrxBVclxbVe9MuiouG2jdYsedBPtj9Z3Y21h96owycwbTU3sOPzoLVupqc5mYArMGTmBLkC9qWKaSHjQfA7Spgf8denD039XNw+5/YeHApG3P/yDsbb+Rfn13Mi5sfp6SlyTvAFE5GYgIBVgAzCUnnkhnrO/3ScNFU/ylf7HmQD3b+hpV5L7Cv8l227H+n510conhorDvSazDzBF8DH8VJReVLfLb7AT7Y81f2NTd171MJns/YxENDE9MfZVioHQDdc5BNW5fw6NIMHl/1PbbW1aABqEMYm/kTejdRPIMMAwUzIxLHkxw7lF2Fm3B5vN9RBVBUFZvFxqxhF3DHoh/jcDj4y1v3sy1/LZ2OTnQUDAx0X63+2cgwDDSPRmtnG/uq1vLBzp/idFf5DxNiQNN0F2vyn2J/6adougfDkKgthDi6gRO0o79ORrDZ90UjBVt+ye7GctyeKg4U/I5l1WW+cBfGkOTLe23azbmT97f8mM9z/sWG3D/z3uYPaemebAwmMKT38KMzY7VXs7liLy4ANYGR6ZkAhEYOITE8GoC2pl00Npb13vQwn/HxlrtZuvtxtpWtpqw5m7yDH1LYWOV7TiasAVZMKqCGERuxgFCzd8bX7dzPuv2/4rOcf7Eh/x8s3/Uj3tj0Uza3+N1FF+cOPtjc4zXY8lHv1yC49/Dj4tjIh9t+wcrcf7Mh5xE+3b2K9u7Pn1Bs3RVJEUxIGovV91VH05usKF5Pmwea6t9i3f7XaNW8twWGzmb4l3ksp1CoLZxJQ2dyoHofTa21veqNDQVU1cKwuHF889IfMzlrLh9tfZkPtrxEY3MVuu6N2MpZ+MFsGAaapuHq7KC0MZcNBc/S7ijyHybEWaG5o4zVOX+lw9kqHUmEEMc0cIJ2fCqHcnAYo+bt4sErD3Rfrk1M6p4rtNn67vjsat9MbltH99fO5gN0fMX3yfa816h2A1iIjr6GUOwkBM4n0uadtS1v2sDBY/7lfATTxzzOdxZu4P7Lsn3P6X3mDhl++PynyYo1JBazAmDgaN9NdVNJr+IEh6vRG/774GrbyP6er0GT32tw2B0em7NlFUUdhwrIHS3FOPvc50XEBnbFbLBH3sV9Pb6Hd878FmEm722qKYxA70vYb5gUE+kJWVhtNvKqsnvNZikoGIq3nCQiIIbLJt3ElXNuZ3/xNv677I8U1e7D43FhKGdf8Yiu67jdbpo72thdvpya1u1+5TJCnF3Km3ax7cBreDQPui4/60KIIxs4QbvXiScqqjkEW4+LVVEwDN136TG0h3bHW34h5yS8QRpvsq+xxluXHDKD+XERxCROI0gFjAaqq5ce5V4CCE34Ht9dvIpLR15DavgwwgIiMKlmMDzoR5gt6flSaC43muMIT7gP7Y43/V6D49/2SFo7nzlsn33v1dIrxyuKtff30GT19qM2dAxvEUk/oxBpjyE1biib9q+gqaXeV5vsfRVVDFRUQMVstjI6eSK3XvhDwuzRvL7qP6zNXkZTW523tZ2hg6+YZCDrms12OJ2UNRZR0rQLQztdq54KcWYY6GwveQmPS8pHhBBHN3CCtsd1KLAa9RTueZhPj3D5/MDHvbc9xQ4c3InTAEhgxIhrGRWVhAnQ25ax29sPr2+2UcwZdjOJARbAwO3Yzfr9j/DB9p/xzpZH2FdffngMMwwMvWtxFAVLUBjWflZicWS1eHocO7Q2vnDY967rsjz77xS19dz2zDMAq9nCsIRxdLrayC7eiq55K7AV76GWd6ACimJgNllIiR7KtXPvYMKw6WzJX8kHm1/hYE0+Ls3lPaHyy/wJoR/xBm0P7R1tlDTuo8VRcnIOYIXo52rb8mhor0DXdQnbQogjGjhBuyKPpu73smACzJv5IufJPi9rS9b03vYU62x8kXqXdwY2IvYeUgKsgIeq8t/Q1WiwT0ERBAdH+qKWi/qSt1i37yk2F73K7vpcOpU+Om9oLpwN1Xh8r0VQ0CSGRk3u1WnFHnUl5w2fe+iKfuMLStsPFY9bzVYOFh7+/fsi50lW571GWc+W6GdQdxhWDBTFTEpkGplDJrCtcB0NbTVH+auAgaqaiAiOZf7YxVw4dQnNjnreXPNfduRvwOlyog/gD+juftluDx2OFqraivHIbLYYJAx06poLpHRECHFUAydoN/+eHbWN3rkyxUZS1lvcPecx5mfezszhtzN31CPcev5aHrh8GTP9tz3F6p2l5LZ4T1xUTMHe+mlPHtt3H6Mvt+5B07tKJKxEJC1kXMpoouKu46qpf2ByVOLh851GAzVt79Ds8jbsVizpzJn0Et8692Vunv0K31m4g/vnP82UuL7r1M+sDjYf+IwW3weTLfR6bpj/DheP/h4zh9/O7Mx7uXLWUn6yuJxvTfDftj/QUVCx2+yMTZ1GQ0c1eRV78Xi0Porble7rFBQCrEGMSZnK9XO/zZDYNJbteoNPt79Oq6PR90Ft+P7jKMG9/9F1HY/HQ4ejDYe7BY54doAQZ5/2zjqZ0RZCHNXACdrAuu0/ZVd9KR7DAGwkJ97MwnF/YPHEP3Dx2G+SGTWSQNV3Nt3p1FFLY01Oj9UMDdob32dd71GHay2kpHonbsNbdmALns2F01bwo3P/xpS4ITQ0FuPs4w28snYD68vW4+q6yRRNcuxCspIuIDU8GXPXUov9UHP5g6wuWkOb5gFUQsLmMHf0Ayye+AcWjfsl05JnEuHtY9gPeX9dFNXMkNg0hiaNIr9iL22OpiNk495h26SYiLIncPHUr3HumEsoqMzm2WWPsffgdpzuQ+0CvTvr/7NkXeFC0zScHhceQ0Mx+mNtvRCnRqenXWa0hRBHNaCCdmfr+3y8+Xt8kPMGVe3N3eUTAIbhoLNzP9mFL5Hbc6PToo7itq10aL5lIY1mDhYfM2aDXsbe/AdYUbyWFvehrh0eVw05Bx7lnc0PU+LoI7i48ti+9ye8vO1pClvKcXW/0RsYeiuNjR+xrvAzv436B7e7hq17f8Sr2x4nu6EQh+Zd4AbAMHRcrioqKv/H5n7ZHU7pnm0OtIYyZdg8mjvqOFhTgKEc34etoqiEBoQxbeR8rjzn64QFhfD+xuf5Ys8HPdqFdR0o9Zne+xXDMNB1HU3TvDN7/gOEOIvpHg1N02RGWwhxRANrCfZu3uVv+5q39Xas6HrTU1AUtcc43a8mVkXt0cLDQDtix5IuiuJb9h389ue3L7/HoSqHjml63+YNX/7Pxjum6zYAo48uJP7Pr0vPsf5jTuA1UEy9jsS6VpI8fJ8aeq/X7Sj77Oa/j0MMjH7Tn9aiBnDrhFXExcdjD7Zj8i29bBjQ7mzm1ZVPERkSx+Uzb8ZsOv6ZeMMwwPDgcDWyIX8tn2x5k/SILK49/5tEhsSgKmfgLzMnqKtspKGhgfyy/awqf4XGzmWYDanTFoPDeUN/w6zMWwgKCsJs7lrnQQgx2A3YJdgP0TEMDb2PS+92ad5lxg/d7p/2vEuGd2/rf3Mfjrw/v335PY4j3+YN1T1vPzSm5+PvK3j6P7++xvqP8X+SR3kNDntM3Tf47bPHNnD0fXbz30fP8X091/5FUSDIamfssGkUVOVwsPYghq6h03XoenQKCqhmbAHRzM68iJvmf49WvZH/fvoo2w+sp9PV3t1dputn4bh2fIYYuoau9N/HJ8SpYBiHSqiEEKIvAzRoC3HmKaqJobGjMFkNdhZ9gdPj9rb562ua3p/iDdsqKjZzIFkpU7nl/HsZljSSD7a+zLJt79LuavHVansbCB7fjs8Mw/B2Be/PBwNCCCHE6SZBW4gvTSHCHktm0ng27F1OfcfRmqYfma4oqCYTcWFDuHDSjSwYdzlbD6zk3x//meLaA2iaB8Xwdibpzwyj/x4ICCGEEGeCBG0hviQFUE0mZmddQmBAMNtyVuByu/2HHZN3LUlAMQiyBTJj5AJuueBedNy8uOwvbC1YRafLieFrA9hvHV5DJIQQQgxqErSF+ApURSXEFs6scQvYXbSFhpaaL9nuy1dIoqiYzGaGxo3m1oU/ICtjEp/tfI8PNr9CWV0JHo/bVxMqoVYIIYTo7yRoC/EVqaqJ6SMuQFd09hZswfWVekkr3sitqETa47hk0hIWTb2OfaVbeWXVk2Qf3I7L412+vX9FbUPeTYQQQgg/8tEoxFekAGG2SKaOnMfugxtxOE7O2vEqCoG2UManzOCuy39JbMwQ3lj9bz7f8z4tzsZ+2J2ln5e2CCGEEKeZBG0hTgJFhawhU+jQ2iirPoBhHFpQ/atQfN1NooMSuWL6rcybdCl7CtbyztpnOVCejdPdAYbmF3C/+v2euP7dFUUIIYQ4EyRoC3ESKCjEhScxMmksS7e8jMPd4cu7JyH0KgqKohAWGMnszAu5ZPqN6IbGh5tfYkP2Z3S6HN7+et0zymcm8A6AxihCCCHEaSVBW4hjOp70aGA12Zg87Fzyq3eSW77z5AXtLopGgCWIrOTJLJp+C2lJmSzf8w5vrv4Plc0VaAZSviGEEEL0IxK0hTgJDN+SMolR6czKPJ8PN/yPDmfLSY28Kt7l302qiZjQWBZOuJrFM26htKGI/33xT7IPbsXp8fidKHkyH8GxeJesEUIIIYSXBG0hTgIFFUVRsZmtXDz5a9S2VbC3eCfo+knMuod+XRVUgqwhTEqfxc0L7iYiNIoPNrzIyl1LaelsBkPDWyV+ek6Y9Bau+NeKCyGEEIObBO2zXipTJ7zEdy/4jLvmP8vsyHj/AeIkUlCJC0tkyqg57C3bisPj4lQsmGgAhgJmk42kiAyunH4rM8dewCdb/8dznzxKfWu9L/LqJ+WkTCGEEEKcuEETtLNG/JwHrqnlkSW1PHLlBrLixvgPOTtFX8a5Q88nKWI8Q2IWMTsz0n+EOIkURcFssjI94wJKa/MprMwFTny1yGPp7vGhgKqYCA2KZO6oS/jh9Y/Q4Kzkz2//kPyyvbjdJ3NGXQghhBAnYtAE7UHLWUWz2+P9t9FGY6vv3+LUURTiIhJJjk5hd9EGdE09JSUViq+7SNeMuUlVSQ4dxncv/S0TM2bx3Gf/x/tbX6a2sRxN8/jKSE7+4+iin6YyFSGEEGKgkKB9tmtdzgcbvskr62/jlfW3835emf8IcQrYrUGMTp1CWX0BFY2HXvOTHXN7d69WURWF6JBEFk27iUumX0d+6Tbe3PAf9pfuxOX2nPT77+WU7lwIIYQYeCRon/Waqaz9lD1lH7CnfAVVzg7/AeIUUE0WhiWMw2wx8/mO93G73RiGtzPJqaYoCkE2O7OHX8DNF/wExWrmrfX/ZUvOCjoc7d7FdIyTnYoNULynRAohhBDCS+nqBFZWVkNEeJD/7TR3VPK790b7Xz3gZI34OdeM+wGBKuA+wIvr72Bf9V7/Yb1YLbEMSf4a84bdQmpYMhbfYYnHVU5h+YtsyH+Z3KaqHhN5SWQkLmb6iOvJiMgg2BLgvdrQcLtrKCx7jrU5r1DSXoW7a6OMX/HApLsJVDUqcx/gzYJ1JGY+yIIhcwm1WDGa/ssvlt1PxvBfcMO4ewhW3ZQV/o3PKmqYMvoeRoTFYTWZwXDT1raTDTm/Yd3BrTi1rhKRW7j7qj+QbLYATspyFvDU7hwAssb+i5tGXYlitJC393d80RLC3NG3kxEai0U1geGiqfkLvtj3BzaX70HvDmdWIiNmMGnED5gSP5Ewm913/eE6ax/gNyv/4X/1gGFRA7h1wkri4hOwB9sxqd4We8em43Q7+SL7Q1bv+pTbL/whqXEjUfAuPnPqeU+B1DWD5vZa1uR8zK7CjYxMmMC0EfNJjknDbLZ9peCv6zoej4eGhgZyS/bwScWzOByrsODwHyrEWWl+xm+YlXkzdrsds9nsf7MQYpBKSUmhvqEBZEb7yBTFzPhRj7Jk4o8ZFnEoZAOYrUmMSL+Pq6Y9zIQwS4+tIpkx4UHGxWYdCtkAigmLNYGR6T/iqik/JikovMc2XSyExM1l/vR/ckXGAsIsVhTA5SnvPUyxEpN4A1dO+yVjIpO8IRtAsRAcMoX543/P7Pjk3tsci2JnSNpdXDftJ4wMT/CGbLz3FR6+gIsnPczUiOBD48Ov5MqZz3Ne6hzCbHZ0dx1tzibc+qHZTF1ro7F5CzlV+w9tN6goWMxWRqdMIjIkgr3F23C6naCc2jrpQxQUFFSTSlhIDOePu4rLpt1EQ3s1H259me35G+h0dmD4lnM8GY/o1FSiCyGEEAOXBO0jUKMfYt7wiwg1e4N0fdVTvLRiBs9ufZIqN95gHH4pl469rcdWe1iRv45OrZXa+uWs2/0g7257kB21uWiGAYqFiOgFTA7sKwgr2MMWkhU5Cl/MBcDZubrHVwAKtsBEwmwhONu2klf+OaUt5b7ZZgWzdTTTMy712+ZYTASGpBJqsdLWspm88pWUt9X7blOwBkxj3sgLu0dPGnYTQ4ODUQC9/Que//xS/vHZpSzNeQeH7o1amiubT3b9mKV5a7u3G2wURSUmNIGsjEnkV2bT1Frjq6j+KvPIJ0YBVEXFHhDC2LTpXDb9ZmKjkvhw2wt8vOkVGlrrMXxVHxKS+6M7uP3ijdx38WpuGTMdAEvQaM6fsZQfXryRW8bfRF+H7V+eypART3D3RRu5d/5jZPnfLIQQ4oRI0O6TiamjriXS5H15DMcy3lv9ENl1BeQV/oZ/bXqNVgPAjD3uOqb3SMY1B5bw6NKJPPb5jXyQ83c2Ffyd17f8k1KX78/pahSJKYeX6OCbRVf0egoKf81THw3nZ6/H8IcNu/yHATotNU/w2EcX8+y66/n7iu+T3dbqu00lNGSm3/jjodFU9gBPfHIpz65bwt8+/wlFrq7oZSI87Hzfv1OIC4j2RUWNhsZnKWorpKE9j611W2j0OAGwmMNxenQc3SUsg4vhm1G2mAIYnz4Dk9lEXtluPJ5TfEJiHxTDV0KtmkmMTOOiCUu4aOp1bClYy8ur/kZhdQ4ezeMd95VIffbJF0VEyFCiQ4YSHuB93wgPjGNU3FRiQoaSFr+ARP9NvgJFURmRfCHJoUOJj1nE8L7mBIQQQhw3Cdp9Gs2IsEP9pjXNROyIbzHbd5kW5kHXfDeakomK6x6KYh1CYvQ8pmR8nRlDfdskziK4qxzjqBxUFzzIf7b+jbK2Jv8bDzEaKD7wMS1dX7tWcbClawb6S06YGlXk7n+XrriOcylFrT1OnOzeZyudnq4aXBWbbTg2VG8Yt0ZgU7zP0zA8GHS9SIOXokC0PYn0mJHsL99Bc3vD6S+wULwnSKp4/z8kMJTJQ+dx28IfYg8I5LXV/2DVng/pcLWhGxreUnxfOj9uJzJWfBXN7cXsLHmT3KpP2XngDSr8B3wFhqGzr/hZ9lQsJ7von+yt9h8hhBDiREjQ7lMaAT1ysdl+Posm/K77ctHYmwjrPu/FjOp7Fe3x3+S6Wc9y7bTHuHzSIyye1LXNtURbrId2eCR6HSUHt/tfezhPMzmO3t1DXMZXXBTFXcdOZ+99uI2+gnIj26t3+053UwiO/DY3zvgLV039G0sybyTMbAF02tq24XCcLa0ET/zI5dAWCmaTiWGJWTS01lFSk48vycJpjqfeOXYFRTFhNdsYnjiaK2bdxtSR5/DJrpd5adUTVNaXo+val+hKcnpLYgYzl6OQTXt/zpub7+WTgg85yiH5l6BTVfwY7265h7d3/IWCr/i2IoQQg50E7eOhdeJytx3hUo8LIGQx10y8n7ExYwizhWJWFNwd+yitXcnu4s9p9Lj893o4Q8Pjq3E+KsNNW58h+CswXLQeZ+xrKbqXdw/swGGAYoomPfkGpqZfQ3r4EEyKgdt1gLU5/+Jgm7QSBO+0dmpiJsNSs9hVtIEOR6svbJ+5Ugtv7baJyOA4zh+7mO9d9iCldSU8/cnDFFRle0+SPL4fh276Cc+CnzyKOpQZE57nvsvy+f2SGh5ZUsvvri7mvjm/IlE59DY3e242jyyp5RcX/IqhGfdx12WF3tVirynmB9O/SXR3R5hbuPvKWh65egeLosaQMPJZfnpFJY8s2c0SS4j3sCVoOhfP/oKHrvatOHvNQX56/r8ZHWrqPuSImb2FR5bU8vN5S7AM+T13X3aQ3y2p5ZFry/nx+X9jZHhE92NTzGlMHv8yv7yqhkeWVPPby1dxWXLyYYcvkVHzuf2SHH6xOIcfnf8E6cDc6e95H8NhlzLuHu9dBdceMoELpr/Dz64o7b794asLuXP6D0i2+V4jxcyouVv41eX7+dVVG+kqGAMVW/gt3HLBHh6+1rftVTu5bfJthFmPPIkwdcZKHllSzf3zf0HmiPu457IC7/bXVvLQRc8xPuzQawUK9rCZXHbOGn5zbdf3sIgfz/8ro4N7jhNCiIFDgnafdlLbeSgYtzc9ymNL03nwnb4u01hWBnFRQ0kI9LW5M9oo2nc7D354Ln9fuYTXd39Aq+ckB+MzKpHOjnI6NQ3NXcj+ik/YV/4xe0vfZlPOr3nx88tYXZbrv9EA9tXCowIEmgIYmTCBgop9FNTuR/N1+zjTFENHUawMiczie4t+SWJMCs988ijLd75HfXsd+nEe0Bkm44y+m6iB05iQupAoWyAuVy2tjkZ0NYjoxHu4Y+HTjOjRBAggOOQWrpt4H0lWFY/uAdVObOrvuXrK1wnv2aXNFEXG6H9z5/hFhFvNoLtoxyAo+HyWzHqGOUlZWGmntbOKTt1EeNQVXD3rBSZEdp3H4BUS/iA/mn4HiTYFTfeAYiUy6ioWj72bmAAbihJA1tCfcdGwBdjNivdAxzyCmTMuxX4cpzloWicuT1v3xdP9FwkPHk0HzISHnMeYhBmEmg0czlpaXa0oajApKT/mqkk/ItbWs4NSTwFEpz7M98/7P0ZFxKJ76mnprMKjJjBi6G+5Y8ptRPlv0ouKPfwb3DD2ByTYLOi6C0MxYwu9lEXT/8XIEG/tuS38Wq6f/TIzEzKxKBoeTyeGaicy5kaum/8xcxNSONIjFEKI/uoMfjSeQWoEE1K/zgWj7+99yfo+I6JGAAfZULIN72l9YI+4kyvHfo/R8bMZEjWZIVFTyUq9nQVjH+GCdO9sjkUxdS+JDTqoccTYIDj8HM4ZewVxVlv33Q94kTdyxZhFRJhN6J5yiiqWk1OxjLyqNZS31mGyxRIsLWV7UFBQSYkbTnzMELZkf0G7o+UkNdX7agxFRUVBRSE6NJHr597FwmnXsC3/c95Z9wyFVXm4NA+G4S0n8f6Hbzn3QxRdOaPPRu94g1V7H+eTXT/ljc3f5Y0tv2J7VTGaAbbgcxmWMKL3BuZwLK3v8faWe3lr978o6WwFFBJjryAlvOfphYEkxA9DcRawr+hxPtv3JHm6i8SUu8mKiEWlneK8e3lz8928mf0mzYZBYMhMJifP9fbs72KNJci5nhVb7uWtzU9wsNMBWIiIOp+UgHgs5tFMGnoxwSYV9Fr27v8+b2/5ORvqqrEdx+9SbsETvLn5Xt7cfC/v539Ip6YDOu3Nq9hcUQ14qKz/iHU5j/LO1u/zxua7eXPz7yhsbQbFQmzMuYTYE/x36xU0mbnDFhFuBrdjF2uzf8jrG+9m+b61dOo2opLuY+4xzsg0W0JRXdv4ZMu9vLXtUfY31mAA9uBJJERlAaGMH/0QGcEhKHoteXt/zFtb7mV5wVLaNA1L4FgmZ1xP1Fn0NiqEGBwGZ9A2RTIm9SbmZd3b+zLqLoZFZwJQfeB2ttR7PwxQYxgx/GcsmfUC35j7P74x91Wum/Jr5mfezrhY7xxLRUsVjV0nCSohpI54gDsv2sO9855jQeo5mM+ml7q5nDbfRKclcBYLJ/6OxZMe8V0e5fpzlvLd89/m3IQM/y0HLUWBEGso546/mPyqbEqrC9AN4yR0+vhqlK7/UbylJGEBYczJuohr599Lh6eVV1b+lZ0H1tLp7ATDQEFHQT/8rcNXCXOmno5heMgtfJw1B14hu2Il+ZUrOVhX6j0dV7FisSX5bVFL7tbH2HbwPXbm/5XcGm+/d6ttCAGBKb2HagdYv/oSXt/+KCv3v0SB5mJs8hSsCuApYGf2e+RVr2Zf/p8paddACSY2Jgprr+lXNxXFN7Oq5G12HfwzuxsrAVBMoSQoNlTlYuICAwFwNr3IW/v+x46DL/DJ9s8OnfR8FHWN69lTtpQ9dYWEho4lyGxC91SzM//fZDd6F03QnXlsy3uCzcVvs69yJXkVz1Pa7r3NpIaiKt779xcWMYLkkEhAp7V2IzkHPqagdjV7yx+nyukCJYIhKdf4b+anjcrCP7Om5B12Ff+X/JptaAYoSiAmSxRwCZNjY1ABd/ta3sh9jZ2l77Bm1+sUt7YAZiIiZxEc5P99FEKI/u0sSn8nwntCmKqY/S4mFF89p+GpY/Xme9hYsZMWVxs6ZqzmUAIsYQRYwrCoKh53HU0d3mih17/HFwWf0+JqRzdANdkJtMURaILG+td5efcnOM9UCjmpTARaNvBJwWe0696vzaaAHpdAbJYIwsLOYeGUP+Gb8BcYmBUzQ2PHExedwL6yHbg8rp7nRfYLCgpW1cLQmOFcP+c7jEodz9KNz/Hxttepbi5H0xQwlD7LXg6/5nQxExK6kAunv8NPLy/it9fW8siSbK4ZO9cbhqHrkOIQrY1md6f330YDdY5a779VO8NMofScOHW1fsHHjQ04NTe6oaEDIV0LUpnHceU1XTXa2xkXbPa9v/hXFNdTW9Di68PjxtNjcSfvcU4iFt8J2K2tT+DUAXTcLXtpOs4TEhXFzMiEbzA1LhOT4aKi7J9sKlyHyzBQFBNxcZdxxexPeeiqcn53bS2PLKlk/nEcDIeaAwlQzIBK5JA7ufMab/30/Re+Q3qg9xfcpPTdsrSb1kxFdZPv7yCtuPWep3AqQAJ234FJp+MDnIa3XkbXNtPo8I41m6MxmUJ7bCeEEP3foAnadfVrWbP/MVbsO8pl/1McqOuqLTZobf2cpZu+wWtbf86y7P/j8x5jP9vzMB9svYs393a1umtlf/b3+d/WB1iW/X++cX9m2e6f8urmB8jJ+xuf7HuMFfueYEtVj4ZcjWtZs/8v3vE5z5Dv+1Dx11S/jnU5j3vH5T5PY2ePdn5ARdnzh57Hgfd63LKbrTl/9d32BFtr6rpvqav9iJVd2+S+RmdX8PApKfrboX0WfAxAUOg0LprxMrdnLiDIaKai6l2+2O97XPv+xY7KrbT7ZrvVwBksHNprl4OYAgoEWgI5J+tCCqpzqKmvQFPP3AmRfVMAFVWB2NAELplyIxdNu57S+lze2/Ac+8t20Onq7E7V3cUkSt/h+7Swn8/l5zzDuSnTCVUaKS57nhX7nmZ/TQnakR6SYiWg++0vhFBLmPefhodG3c2xyqI9Xf09PQfJKf+YfX6X3Jpi3L2+tR48Rz032Nn96plNPctcwnqtSns09ujrWTDuesLN0Nn0Mh9n/x3f4QNWy8VcPOUvTE4Yh02pIa/kGVbse4yStka/vRzOpXvQ8ZaidLZnc6CP53ugoch/sxPUgrPrr2SmjB4fTQlYzd7DHl13YhjHcVK5EEL0I90LwpWV1RARfvisRHNHJb97b7T/1WJQCmf0iD9y9bgrCVQ1Kg/+g/d3PkFR98GBhQBbHKNnLuea2GgAaopieHxLr50MKBY1gFsnrCQuPgF7sB2TqvYxW3n8DAOaO6p59vPHyYyfzMKpV2JSuopwu6LWl9//yWVgGAYezcPBhnzW71/OztxNnDtuEbNHXUB4SDSaW6O+sY78g3v5sPxfOBxrsHn78Jw+Sb/mgdl3EYiHxoqHeGbr89S5opg25t8sypyKWW9n095v8F7OCmbPzWZRfCzgofbAXTy2/R2sIfO4esaTjIuIR3Pu453N32Jb5XTuvvL/SLaAq+m/PLjs/l53OXXODq5KTAa9mHUbb2ZlTU33bSazDQUnLR0NRM/ewg+T0oAyNr0+kXd9Y6bP2sgVyUNBO8j6FTewvG0i31r0NxIsoDk+5eVPbmK/CxKHPsedky/FjIvKwpt4YutKIqPms2T2S6QGWGmtf5VXP7+HIuulfO38JxkdEoLWvpI31n2X3U2HHpPd9hT3XL6EUKCpYj5PbcynzZPO4vNeZ2Z0ArhyeGbNN8lvKCDr3G3cHJsIFPHZ69NYFXkNX5/5R4bZQ2hr+pB3tz1IcWtb974JiCaoo5jaPjorTZ2xkqtSxoBWzqYvbubduj0ATB77BFdk3oBZr+fz3d/ns/zNXHNxLpNDwHDv4+OVF7CmyUVk3Df42oxfk2gLoLPlVV7c8COKmg+/nzNlfsZvmJV5M3a7HbP5OIrphRCDQkpKCvUN3tK845wrEQIgmBBzKhZVAUOn0VFBlbNHBamio2lBpNq6/rzbQmPvifcB6iQGXwWCAyIZmzKJTQdW4HS4e/Ss9hVL9xveEgiLyUx6zCgun/F1Fky9nC0HVvDWuv9QUluIrntXlNRRztiENr5yDjATFvMtLp/8NLed9y6XjJiM5YgPykTMsH/x6yt28aPzX2JsRDwA7e3baW49dseckux3qXNroKYxa8bHfHPOP7ly6r+5/byP+MGCTxkTM+aI99wXl/Ex+5oqMABTwIXcuCiHH1+yn7smXsSxl7rKYN7E+xgTEoKCjmbKZOGMpdx30Ubuu2gj353xXcDTXaYUHvNfrpn2X75z4etMjYw95uPUGjaQW52LjkJw+CKuO+ctbpjyGNdMe45vX7iOn533BOl9hOwT08BHuR/RZugoliwuuWA/P7tkB9+d/XsSbQGgt3KwdAP1/ShkCyHE8ZCgLU5AMy3uPJyaDoqFoSk3szDzdiakXM2ElKuZOOw+lsx7g8lhVkDH0fQJqwv99zG4KRioJgvjMmahG24+3/aOt5Vbv+UteVEVgxBrKAvGX8n1596Jrrp5a83TbMpfRUtnExjameuiUvEWa0p20ebRUCwpDEu6hLRglfyyZdQ4esy89qQ1Ud58EN0US4jVhqK76WzbxobcZyk5wiY91bQ+xfvZz1PSWoVGEPHR8xmdNJeEkHRUoxanp91/k6PSPe3s3PUo+xvL8BhgNkcSHqhSW/kqhe3HCpdpxAZ1LU+rYgtIICp0KNG+S0xIPC7tL+wq34tD08CSwcikBcTZGtmW8y4Nx/zxK2ftrgdYUbiCOkcziiWVocmXkpk4gyhbMI7O6uM6YfNYHCV38XHuO1R2NqETSmhwMoEmcDmLyC1+nBVFr56U+xFCiNNJSkfECQkMms1F0//CtJg07xWGd5kSABTVOx9raLQ2L+OzPQ+xuXJgJ+2TXTqCr67Zo3n4dMfLLNu4lF9//d+E2SNQFQWjR5PI/sXwPTYdj6ZT21zGxryV7MxfR0zAMOJDk9jS9i4O17rTXzoCKJahZMSMxm7yLmzicpdT0VRJWPgYIiwm6po3U95Sc6h0RCti9boHKDSZCVAtYLjo6NhHcUMR3nMP0xiePJEgBXR3AXuqdvvfJahhRIeNJtYeg6VrURxDx+kup6JxPy2udgKiFzIy0A50UFf6KeW+TaOiLyA5MBiMdmqrN1DhbgXFTmTYWOJD4rEAutZAbf1m9PDzSLBa6GzfQF5DDTZrLENiZmJXVdyuYkqqy4mMm0yk1a9ZuI/uPsCeqmyCAjJJjhpGoGoCNDodBRTXtzIkYTLBSguFNZtpdXceVjryuW8/ihJJYvREwgNCMOOtyTcMBx2dxRysz+nzux4VdR7JQWHe51+zkXJnMwCRYZNJDk1BwUl10w6qWr1dWFRzOLHhk4gJDPPNAmk4XaVU1O2g5fhaup9WUjoihOhLz9IRCdriBKmYTCmMHvVz5qeeR0xQCCZFBXR0rZO29hz2FvyO1YWbaNFcZ2qO86Q5FUHbG1CgwVnOr5+7l/mjF7N4zk2oqL4J5K+6/1PPMAzanZ0cKNvJ/1b8g5LqUgITnQQHFmJTjrNNxhnQK2gvu4qPW8v8hwxqimJm0YIcZkWEHRa0xeEkaAsh+iI12uIr0NG0Ynbv/RZ//XAYv3wjjp+9HsPPXo/jF2+l8cgnF/F+/hqaz4KQfap0zVqHWeNYPOdGdpaso6G5yncy5DH/jt8vKIpCoNXKiKRxXD3nTjLismh3yR/2B6y4q7n5wi38ZPEBX8g28LRuJc9/nBBCiBMiQVuI06jr4MNQFEyqhUlpM7DaAimqzMUwNJTjOPWtv1BQUU0mkiLTWTD+UlJjh/evcznFCVAwWWMIt9kxDBctLetZtedJSv2HCSGEOCEStIU4jbr6inRdQgOimZAxgw37V+FwdJ65Ewq/FAMVxfufYsbAdOY6jxynHdsW85dPzuEvy69jTXuV/82DV90y3l21kL98cg5//XQ+/1p9B6vLc/xHCSGEOEEStIU4g1SThYzYLJqd1eRV5QyUyhEfpfstxDC8p0v2dx3tBVS35FDdUkSbfqxlaQYRrYWm1jzfa5NHfUct7v62bKkQQgxAErSFOIMUVJJihpARn8nafR/T7jqxtnD9hbdiZEAdJQghhBCnnARtIc4gBYMgayjj02dRVldMXtnu7r7aA2o+0bdezUCY1RZCCCFOFwnaQpxBhqJgUlSSY4aTlpDB7sKNdDjbfIFVYqsQQggxkEnQFuIMUnyt8kICQpgx6lyqm8ooqNiPruu+0wyFEEIIMVBJ0BbiTDIAQ8GkmkmNziQ0OIzsg9txuR0DcD57oD3es5WdjIyfcMXkP7Jw5FUEW2z+A06BIJKi72bR5Ee5YvKvyQr3v10IIQYnCdpCnEm+Pn+KohAaEMm4odOpbj5IZWOF79zCARReB9BDPbudy9zMu5g+9BucO/KbhAZG+w84BaxEhV7M1KFfZ/rQr5Fq979dCCEGJwnaQvQTqmJiWEIWNouN/SXb0HS9u5/HQCA5u7/IprSxkKbOMqqb9uL2tPkPEEIIcZpI0Bain1AUhfDAGNLjR5FfsYe61koGTivjriV4xJlXwucbruPZNTfwzKbfUNvR7D9ACCHEaaIYvomosrIaIsKD/G+nuaOS37032v9qIQYFixrArRNWEhefgD3YjklVUZRTFyh1Q6esoYCXVj7J1Iz5zBu3CIvZ4j+sX9B1HY/HQ0NDA7kHd7P04D9xu9YSoPTvhWBMlkRGD/0u42NGE2RRAR2Pq5bq2g/YUPQu9VE38LXh1xFs1qkvfoHlhe/SDIRHzOb80T8i2mqmuup53t33JqT/nG+nz0R35vJJ4SqGDbmRYfYQVFy0t65k9Z6/cdDZdc8KwcHTmZ55O0ND41EAzdNCTd1brNj3Nt5556lcMuvnDLE5Kcl/ii3uoZw/bDERNieNrQ4iQqKBDspzn2R5+Vq8ux7C9LE/Z0JMMrgr2LhvJQnDryE1yIbWuZ13dz1OXUcT1oARjB/2HUZHDsdmBtBwOWsoq3qDzQeX0+wOJynlBqbGzyTGHoaqqGBotLduYsO+f1LQ0dj9GhIwm/PGfpuM4AhMeGhr2UZz5wymjpmOlWZWrxvGx+XeoYFhizh3+JUMCYlBVRR0TyPVNa/ySd4yXLp2aJ8D0PyM3zAr82bsdjtms9n/ZiHEIJWSkkJ9QwPIjLYQ/YuKQVxYIsPjR7OjYC0NbTXo3dPa/Xh629uNcEBIG/8814y7g6yEmaRETSElagZDEy9n1tifkhkI2IYwJGY6adHTSbQn0HWYY7VGkRA1nbToGSSEJnmvtI8kLXoGGfGXc8P0J1iYdj7p0dNJi5nL6IwHuX76A8T7Dsws5su57tzXWZBxBWlRU0mJmkJG3AXMHPM035n9bUIVgAhio6aRFjOHkcN+w7dm/IaJSeeQFjUJqyOIiKgZpEWfx9gRo7BavftVwiYyInkBadEziLODQ68lJnIaadEzSI3MxGKygCmcMRP/y+KsmxkZP933vGcyIulKZmd9h/QAIGABiyb/mulpF5EePZ2UyCmkxsxmdMYPuW3+Pxjl+7RQ1Ilccc5zXJB+MUNjZpAaPYvRGd9jWuZoTL3WLFKxJP6Eb533LOdmLCYjZgapUdPJiL+YmeOe4SdzfkqkeuoOWoUQoj+QoC1EP2IoKlZTABOHz6HT3UpO6W40jwsdMPpxaYY3Z+sDotRlZuwEb3j2FLN176/4NPsJtpQup7DoL2z7slUWpnDClAZyip5hQ8FblLY1YgBh0dcwJmUECvFMmfNbhtkDMbQK9ub/mQ92Pcy2ym24DIPIhB8yJzW5xw5txMeOIcTsoq5xPXkVH1Fc9jQbGloBCA27lkQ1AjCTHJZJQkAIoFFVs42qHhPPXQJMFiZFZ2IGcOexae8DLN/3D7aWrSCn6Fn2twKON/k872Pyyt9hQ86f+GjX79hSWYTHAJP9XOaNSQNsDB1xC5PDwwCNzrat7Cr8D1sPfkGrYcXU8xPFOo3FWbcTbwHNU0Fu2ausy32G3IaDeAwz9vjvsXj0DE5HTxQhhDhTJGgL0e+oDIkaSmbaRLKLN9PS2YKCpx/H7IHFpftqORQ7UaFDcDYv5dNtd/Lanv/h8B983Nw0Vj7J61t/zvs7fswXxZ/i1A1UUyhJwVOw2xcxNToeAEfLq3yS/Rc25D3FJwdepdrpQFFCSAy/iJCeuzQaKMz5Ja9t/Db/2/xTtjSvZmPOSm+JiTWTc1MCwRRJXPQ8gs0mDL2e4tr36etYwQBcmsv7hRpCRHAMLXUv8P6WO3k/9wNfCQocyP0R/9t8D+/veYx1+X9jTfZK2nQAMyEh84BkhgSPRVUUDK2eHQWP8s6OX/Du1vvYWFpEz0KQkNhppIeEAB6aa97m020/5sPdP+OD7CepdDkBMwnRS0jssY0QQpxtJGgLcUynL+J23ZNFtTJp+Dm0OBoory9CMbrOphBf1Yact2jWAFMsQ1O/w2Uz3ufe+U8x6vBTVE5AB01lhTgMA4w2StpLcOgaKBbCzZEEhScT4Xu3DQi/i+8tyuHBKw/wo1kPk2QLAEUhwGQnoMcePR07+LBkGeWtVXS4XTh1D86KuylucwOBpKV/lwBbCBkxmVgU0NpWsbesssceDnG6O9ha+BntOmBKJDPtHq6c8zk/nPcHhgV2jYomI/2H3DRvHfdfnssDVx7gu/NuIszku1lRgXACzWEogMdTTHXrF7h00LVG6uoO4OpROhITGE6QagLDTUvTQTqdLsCgvi2Pio5mDMAWlEpExKFthBDibCNBW4h+RUFRFFRVJSksjeTYNHYVbMDldp7OvP/lDJADgdLin/Lcuh+zs2ILdZ0toAYRGnYhV85fzuRQ/9FdFKxqKDb1SCemqqjmQyt5BptMmHy12To6hqH7ZnsNNE8bHc562h31tHdW0thWRH1rAU2Oxl4zwhgamn8tjuFgU/ku3AYooRdwefTNpAaHAE7Ky/5BxZG+B0Y7+3K+ywubHmZf1S4anO2oqp2wiCu5YtYLjApLYtrUZ7lj4jdJD0/A5GmgriWP+rYGtF771LsXUlIwQXcFu+L9usfPqFvXva3gUVBUla5ybEVRMCm+jx7Dg9GrrlsIIc4uErSF6Kds5iCyUqZQVJNDTUs1hn/o6nf6++PzigpJorHqOf63dgkvbvw5W8tyvMHVMo7UhJQeJ3aq2ILDMFlMoFiJiLiA4K7Z3cMEEZkyjkBFAXM0Q0LHYlNNoDupdVXT2lBIo68Zi7N9HZ9suoMX19/afXlp/Q9ZfvCDPss+/LWUv06t2wNKMqkjzifUBLi281nuXv+h3VTFTJQ9nMrSv/Li6qt4efPD7K0+iAZYg8aRmHohw6NGAuBybGPNzlv454pLeXX7ctp7fVubcHiaMACTOYlE+wxsCqgmKzHRw/GdnwlAVUcD7brHO6sfmUlYoB1QiQmZRFKQd1bc4Sin6XietBBCDFAStIXop1QV0uOziAgJ5/2Nb6D7WqENvKXZ+5f5U1/ljvmvsWTSj5icMIEIe0T3bKvHUw/tTXQYGmAmPPEWrpn9Ejef8zaXjjwf2xHfMU2ExtzDt+e9za2zXuG89Hnecg6tjqq2DTgc77G+8iA6CvbQBVw04QFmp1/DlPQ7OG/MI1w55Uek2hp6z2gfQX3bdgqbKtExER4xHDMaDdX/5IDbf+QhFksYF854g2/Ne5mrxt/D+LgxhAWFoAKG4cFjtHS3rTSZk0lPvo2FE//BtVMWE9LrOZdyoHU3mmGgmGKZOOqP3DL7JW6e+wbnpKbR8zjEXfMROU3V3tcm+mqunv0KN896hesn3EOc1QK4Kav+L2U9thFCiLPNET82hBBnloJCaGA4U0efx7rsDympykc3fKtF9sOs3Q8fUp8CbckkxpzHxGF3MzfzW4yIjEPRO2mu+TtbCtqh7nW2V+bh1jVUUwzJsQsYFTcJs6uWFkfDEZ6nC4dmJiJqFpnxEwm3WDH0TqoqXmRvaTnQys6NV7GxpgiXEUBE1LlMHXEvc0bcwrikWSSEJmA74mx5b5qjhLKaHXh0A0UxYXhKyc4r8h/Wi4JKUEAqSbELmTryXuaOvIXU0AgMvZ3qyhfYt2cHB2sP4DYMTJYhZKbewdyhlxNhqaW6uabHc/ZQmvsf1lQfxK2DNSCDjMSFjIhMxeMoxan3eHW0Yj7e9DC5LY14CCIqYhZZyecTbw/F0FqoKvst72bv5SjHB0IIMeDJgjVCHIV3wZpVxMXHn5YFa3rzzl23OBp4/O1fkB4zghvPuxuLyeaLtafrcfSt54I1OSW7ea/4b3g8GwlU+/eCNaPSv096WAI23wIjhuGmvW0be3LfoKp71HAmj1xCcnAkqgKaq5z88o2Yg+cwNCaOxvqP+KLocxjzPI9kXQI0c2DX39lnjiQ2MBDVt88duW9Q2+O+rbZkhicvISMsEbNvGl33dNLavoG9RR9S48li5tivE28zoTv3sSL3NVpd7T324GWLOJ/z0i8kQDWhOXNYl/8/6h0tvlszmTHm6yQEWNCdOazKe402j8aYtDsZEhaHRfUmekN30ta2kV15S72P0TKaqSNuJCkwwHuyo6uawrLXaA+6gnHxqbia3+aT/HXeu7COZ8qwK0gKCkXFSVvLFgrqS0lLvpYwi4e8A78gu8k31DKKcUOvIcke5u1WorfRUL+cDaXrcesDu0BbFqwRQvSl54I1ErSFOIozGbS9c4MGuq6TV7ub5z54lG9d8kuGJozCwEA5w3+QGqhB+6TqGbTXfZ1nytceYcZbnI0kaAsh+iIrQwoxAHgDm46iKgyNzCIyIobdBdvxaB7f+Xr9KdJ1PVohhBBCdJGgLUQ/pfpaqKmoWMxW5o69hP3lW6lvrUNBRzFOz8z68TKk17cQQgjRiwRtIQYARVEYHjMOs0ll+4E1GP2utrUr9A+ypF3xIkt3/IylO37DhuZC/1uFEEIMchK0hRggwuyRZCaPY0vuGloc7RhKPwu1/WuC/fRo+IwN+f9hQ/4L7GurGGyHGUIIIY5BgrYQA4TZbGbqyHPQVSeb969G1zRfrXY/mUfuFw9CCCGE6D8kaAsxQCioRATHMzZ9GlvzVlLfWo3iWy1yME4mCyGEEP2dBG0hBgoFLKYAJmXMRlUN9h/cgUdz95NeHzKdLYQQQviToC3EAKKoKkkRaYweOoX9B3fQ0tHsm88+00FXwTe5LoQQQggfCdpCDBgKKgpms5WMuCw63O2U1hVCv+mq1z8ehRBCCNFfSNAWYoBRFZXk6KHERyWxs2A9LpfTf8gZICFbCCGE8CdBW4gBRyHYamdE4njKGg9ysC4HDKnTFkIIIfobCdpCDECqyURqdDrBgXa2HViP0+3sH4uyn/EHIIQQQvQfErSFGJBUIkLjmDJyFnsKt1BYlYeu62e8A0k/iPpCnDYmxep/lRBC9CJBW4hj6n/hUTFAVcwMjxtHaEgY+0u343B3ntHlawzDwCMdvcUgYjOF+F8lhBC9SNAWYiBSQFUgMiSOacPPpaBsL1XN5WesxZ6CggK4PRK0xeARaInyv0oIIXqRoC3EAGZSTYwZPo3AYDsFFXnougbG6Q+7CmYUAzo19YyFfSFOJ6sSRogtCUU5/b9vQoiBQ4K2EAOYAoTbYhiRPJqiqj00dzZjKPppLR9RFAWTYsZiBODSFZy6BA9x9ouxzMOkemu0JWwLIY5EgrYQA5YCKFhUC5mJE6lqLGV/8U7vrPZppKoqFnMAYeY4dMNKk0s5jTFfiNNPMUJJsV+IajJhMpkkaAshjkiCthADli/QKhATlkxq/DA27VtGZ0eHb7VI73+niqIoqKqKyWQiwBxIvG0YdiWSZrcJhybBQ5ydDMNEsHsqIdZILBKyhRDHIEFbiAHMewqigs0cyOys86lqLWNPyXYMw+hxiuKpZTKZCAiwEROQTqySjmZYKO9QcJ7ZToNCnHQG4HLEEWYaT3BQMFabFVVVJWwLIY5IgrYQZwFVVUiLymR4yhjWZn9Ih6vN21Lb4JTVayuKgqIoWCwWAgMCiAiJJMU6nhBPFJ0eldJ2FefprWIR4pRq7LBh65hAXNAIgoNDsVm9QVsIIY5E3iGEOCsYqCYbF09dQm1TGYWVOcCpT7mqqmI2mwkMCiIyLIqU0CwymI7NE0qHR6G03US7BvqpyfpCnHIG4NYVatts0DyWlKDJxEXFYg8OwWoLkBptIcRRSdAW4iygoICikBCSyuiRk1m7dzkOZ+cp7/SnKAomk4nAwEDCwiNIiEtmRMQMhmrnEuyKodNtpqRVobwDmpzgOvXZX4iTQjOg3aNQ12GiojEEU9NERgacS2rcMKKjowkNCcZisciMthDiqBTD93flsrIaIsKD/G+nuaOS37032v9qIQYFixrArRNWEhefgD3Yjqkf12MahvcXenfFJl5a9iTfufRBMmKHe688hbXahmHgdrvp7Oykrq6OsrIyiooPUFi3j4Oe3TRZC3CYO1FMGhZVx6oY3kdz6h6SEF+OAToWQMdAQXMFEOCIIt49kbTQEWQMGcaQIekkJiYSGhqKzWaTGm0hxGFSUlKob2gACdpCHN1ACdreKG2AodDp6eCFLx7Dboria3PvQDGZTnmq1XUdt9tNe3s7DQ0NVFZWUVlZTllVJdWtxTR7SulQW3CrneiHiseF6HcUFEyGmUAtlBBiibGkExMbR0JCMslJcURHxxEeHk5AgJSNCCH6JkFbiOM0UIJ2FwMDQzfYWriG11b8nfuu/COJ0amn5TFrmobb7aajo4Pm1kbqa1uor6+hoaGR1uYW2pytuF1uDF1DN85gS5Kuu/b/i7/ex3Vd13OE2/wdaR99OZGxnKTH4X+9/9d9Xef/dV/8x/h/7e9Yt3OUMUe63l/PcUfapo/rVdWEyWTFZrUREmwnPDyU6Mg4IqOjCI+MIMRuJzAwsDtkn47fLSHEwCJBW4jjNNCCNr6w3dBWy78/fZik0OEsmf9tbGbvCnanmqZpeDwenE4nHR0dtLW10draSnt7G52dnbjdHgzd1+Fb1moX/UxXcDaZTdisNgKDAgm2BxMSEkJwsJ3AwCAsFgsmk0lqs4UQRyRBW4jjNFCDtkfzsLtsEy988jj3Lvo96YkjTtvj1nUdXdfxeDy4XC5cLhdOpxO3242maRiGhGzRP3X9jnR107HZbFgsFmw2G2azGbPZjOJbqEkIIY5EgrYQx2kgBm0Aw9Bo7mjiqY8fIit+EpdMvxGbxeY/7JTpCtNdoVvTNHRd7w7Yut5VByFE/9J1cmNXoO6ave66biD8/gshziwJ2kIcp4EbtA00zcOG/E/ZsGcFS865k9SEoSj+BamnWF/BWmazRX/X83e8a/Z6IPzeCyH6BwnaQhynARu0MVAMqG0t45U1f2Nk/FQWTLgCs0k9/OwvIYQQQpw0PYO2fOIKcRYLDYwhIyGL/Mq9OD3tp7zNnxBCCCEOkaAtxFlIQcFQwGy2MnbITHTdyfa89eiyFroQQghx2kjQFuIspaBgUlSiQ+KJj0xha/56Wjqa/IcJIYQQ4hSRoC3EWS7AFkzWkEkU1+5nb+E26fghhBBCnCYStIU4y5lQSI/LZOLwGew+uJGmjnr/IUIIIYQ4BSRoC3GWUxQItAYzeegsOlzNVNaX4TE8/sNOMgN8vbQNvedF8110ucilX1503UA3DAxD73HxrWbqbdIlhBDHTdr7CXEUA7W9nz8Dg05PK6+v/hcWArh8xs3Yg8JOWQ8Sb69sb2DRdR0MX3jxVa3ouhPd0L2BXIj+wPfLoKJiUi2oqhlUBUVVUBUVxfffKfulEUKcNaSPthDH6WwJ2t7QC5sKPmPN7o+4evo3SU/K8v1J6+Q+H8Mw0AwDQ9NwuZ20O1upbz1Icf0Gcqo+pKp5J4ah+W8mRL8SaktkbMrVTE65lnB7EgG2EEwmFUWRPwQLIY5O+mgLMQipBgyLzSIsKJLsgztwu50YJy1k+2awdR3No+FyOqloKmFd0Zu8u/sBXt1yGytzfkNl0zYJ2WJAaHFWsC7/SZ7+4hLe234/2aUf0+FoRtM0Wd1UCHHcJGgLMSgooCpE2GMZmTSRHQXrqW2phpMWGLpCtocOZwcHqvfwWd6LrM59jAOV7+BwVflvIMSA4PS0savsTd7b/iO2FbyL2+VC07y121L6JIQ4FgnaQgwiJpOZzCHj0BQX+0q24tFOzkmRmq6ge3Q6HR3k1+zik7xn2F/2PC5nGd2F2UIMWAZtrlo+zr6f9bnP4na50L3n+wohxFFJ0BZiEFFQiAqJZ/bYC1m54wPqWiu/cicFXdfRdQ8Ol5vSxhLWF79LbdMKVL3Ff6gQA5qmu9lQ9E/2lX+C2+2SEhIhxDFJ0BZikDGpZianzcGtuthduBVdc/v+Au6tsz5RhmHgcXto7WhkT+UqyhvXoWjek0CEONs0O8pYk/83Otqb0DWPhG0hxFFJ0BZikFEUhYjgaC6ccQV7CjfS0t4K4Dsx8sROjjR87fucTgeVTSUcaNiKx1MOSLmIOHtVtuxiW/GbuN0StIUQRydBW4hBxRsKVMXM5MS5tDjryT64AxT9S4VjwzDweDy0d7ZT1LiPZncpqt7hP0yIs4ph6OwoexmHyyVdSIQQRyVBW4hBxTtjbSgKIYHhjEydwJa8Vbg17QTnsr0h2zAM3G437Z0tVDeXoLnqv1T5iRADTX17Pk2tFd4FmYQQ4ggkaAsxyCgoqIDZYmVG5nnUtJSQV7YHwzjRqO09EdLj8dDh6KDd3Qwymy0GCQOd+tYidN27RLsQQvRFgrYQg5SiKAyJyCAjOZP31j2HW3OdcLsywzDQdB2n24Fbc4NxctoFCjEQtDsbZEZbCHFUErSFGMQsJhtzR19CSX0OOws3Y3D8qzZ2zeLpmobm0TAMD+oJbC/EQOfU2rtLqIQQoi8StIUYzBSVtKgRTB09j3V7P6KtswXjBDprd4UM3dDQML7UCZVCDFS65pGTIYUQRyVBW4hBTAEs5iDmjb6UyuYySmsKwTBQjjM3KIrv5EodtBMv8RZiQDvOXxMhxCAmQVuIQU5VICkyndEZk9hVuAGny+mLEMcfI45/pBBCCDF4SNAWYpAzFAWr2c6YpMlUNJVQ01KBjn5CJ0Yahi5pWwghhPAjQVuIY/CWRJy9KVIBVEUlJXo4Vlsgm3NWemtBjrd+xMfAOJtfJiGEEOKESdAW4hjUL7E0+YBjQHhIJBMyprG3ZCOltaUn/vagc1YfkAghhBAn6gQ/SYUYfBRFBcXkf/VZRVEUzKqVjJhMLLYg9hZvwu1x+Q8TQgghxAk4dtA+yyfyhDgWRVFQ1LP/V0FRFKLDEpk4fBa7CjdSUVtyYm3Ljv1uIoQQQgwqx/5oPIHPWSHORiZVAQV8nezOajZzAONSpmCywYHKvbg9bl9FyNG7kBi+ypEvsYq7EEIIcdY6dtAeDOlCiKOwWFTMyiCo0/b9useEJjAieTxFtbm0dDR43ySU7v85CjkZUgghhOjp2EFbiEHOYrFhUk3eEpKz/sBTwWIKZHzaNNoczeSX7UHXNfTjSdD6cYwRQgghBhEJ2kIcjaJitlhR1cHxq2IYCgoKcaHJxIYnkFe+mw5n+zE7/fnWh/S/WgghhBjUjpkezvb5OyGORgEsZjOKOkh+ExRQUAiwBjM6bQplDSUUVuUc50mRmv8VQgghxKB2zKAtSVsMdlard0b77C8bAQUDFFAVM6kxw4kIjWbT/hV0ONq8C9Ic1bFuF0IIIQaXYwdtIQY5k8lbnz04KICBohiEBkQwM2sehbXZVDVXHWNW28BQj3a7EEIIMfhI0BbiGAZX0MYXthVMqpnMpAkkRKeydteHON0OjCOeFql0rVUvhBBCCB8J2kIcw2A5EdKfAVjNdmZknkdRXS5V9aWgKyhHCtvHOmNSCCGEGGQGZ4IQ4ngN8klaFROZyRMID4tkT/FmPIbuW5Wmd6g2uue6JWwLIYQQXY4ZtE2Kyf8qIQaVwVU2ckhXy74gSyiTM2ayu2gj7e5W/2G9SMw+XRZz08Lt/PLyfXxv1veICwBVHcrl87fwy8t3cPv48/w3+MriRr7Ejy/P4acLnma4yep/sxBCiD4cM2irmP2vEmLQCLJF+l81qBiKgaqYGJowFl2FnKKN6LqB4ndipHI8bybiJLISYInEbosiyBqEqoJZvZZhkWnYbclkxF/iv8FXNj55NpG2KMIjppClWvxvFkII0YdjfjZazEEoyjGHCXFWig0d6X/VoKKgoAJxYclMGjmT11b9l6a2uuNo9SdON4/+OhtzX2FP6assy3nN/+avbGfen9ha+i5bc/7Fds3pf7MQQog+HDNBm01WEsKz/K8WYlAYl3K5/1WDioKCoXg7kExOm0NLZy0bc1eh64OznKY/0/VCNu77Be9s/TmrS7b53/yV1ZT+kw+2/ogPsv9Lqe7xv1kIIUQfFMNXVllWVkNEeJD/7QCs3Pc4n+x6WGaxxKASaAnlF1fuw2rq+/disPD+1hvoms4HO/7L5j2buffyh4kOj8Xj8dDQ0EBuyR6WVTxDp2MlZlz+uzhjlOCZXJB1P+MTJhFhDUBRQNeaqax8hjd3PUVVezMwlotn/ou5Q4bRXPc2W8rKGZf5bWIDrOhaEyXFv+XFnS/RqenAzdx15R8Yorbw+e6fUW45l8tG3kSEqZKt677J25XbCAmbzvzxf2RS7Aisqoqut1Ff9zrvrX+YIlcrOjB91kauSE6jqfavfFAVwIXDbybKFoKKB2fbZyzdeCc7G9vQAUWNYPiwX7Fo1BJibDZ0TyW5eZsJy1hAYkAgTTWP8cLmP1Ln/D7fvfwXxJrBWfcHHlrxf2QNv5+rxt2H/bBTbTzUl/+Cf29+hk5lGnMm/JRpCRMJs4UAoGtt1Ff/hzc3/YUydzs6cN55BVwQHQqeXJYtXchKTweKGkBgxHUsmfoLhgZHYFYBrYWSsn/zafbjFLc5+/zUGJH5R7425jZUTx7rCv5JeNz3GR+ZCoab1oZ3eGvdz8hztGAAiimE6MR7uHrMzf/f3p3HV1Xf+R9/nXPunrtk3xOSAAHCJsgioBZcRq2tigtWbadujNZxHtVO7TIzbaetS61W2+nyc9qZdur8FNyKYlVcUFAEQUFihAQQEpKQhOzJTe5+zpk/7g0k17AUokbyefK4j0dyzvecc8/lPm7e53s/5/ulyJ2BqoAeaaS24Tc8u+MJOkJ9AMycvYKvTDiXvu4nefbDl5g25R6mpxcQ7L6PP7z9EK2B5Gdx8paU/YSFk79GSkoKFouUWQoh4oqLi+no7ITj6dEm0auX4xvbX6GLsUVVNM6c9I0xH7I5NKq2gqqqLJ66FKvLys6GbRiGMajVwIgjw8Wqz47DuYhZRQtJtUIgfIDOYBem6qOg8JvcvOAuspPau9Mu5gvTbiRdCxPRDVQtldLx93LTaV8iHkETVDenTfgByyZ/hTQrYERoMyPgXcpVi1YyP3cymtFJV18DAd1CZvaNXH/+o8zwpQ7aiYY7dTlXT11OplUhpocxFQt2z4VcOOdhJnhSAMjJ/zaXTL2WLLsd0NHxMmnyhWRaj/3ejOkhwtEeQolHRB/oiTbQ9Vh8CEdXBVPyFuK1qARDDXQHOzDUFLLy7+Das+6mxJG000Nc5BXcya1n3sMkbyqm3kFXXyMhxcu44n/iyll3kWuzJ280hMVaxoKJP2aqL4NwNIypWPFkLOO6Jfcz3gWQzeQpj/CN+XcwzpMBZj+haAjVVsiE8T/lHxb+gOL4y5Sg4HSdxcWn38PMjAI0xUSP6ZiD36pCCPEpOq6gneoqYu74r2K3DPlEE+KUVZg+i1mlVyUvHtMUBTzWdGZPnE9V/Rb8oZ6hs0Wq8Ug+mgTb/j8v7niA57fcwIqNy1mx8UY2dLRiopKStpT5OUPba5pCb9ufeXrzTTyx9fvsC/YDdnKL76RicEZWHGR4irHEdlO59wFefO9H7PAHOH3ajylzO1H0BjZv/WdWvLOc1dX/TVc0giVlAaeXXjQksFusHpTAOp7ddBOPbf4pO7paMQG3exbZaeVAGQumXkeGVQOzk73VN/DYxltZU7se8zjGLT/Q8izPbLqZxzfezJOVv6Yp2A9AJFTN+43vEIxBoG8Vaz/4d57eciuPbVzOii0/pLKtEQNw+xZRmFWWvFsANHsRM8YtJcNuR4/tZ8v2m1jxznIe37GefsVGes7VLMzJSN5sKMWKEt7Jy9tu57F3buOtpjpigNVzCaePm4c9/RyWjFuIUzUJ9b3Fy9tu5fFNN/Jaww4iphVv5lc5v2zxkF1qtnzSHOl0tq3m1arv8tKe9fRLpYsQ4jNyXEFbU62cMeFGyvOWJK8S4pSTYkvn3Kn/TKa7NHnVmGdadGYWzac33MG+hmpMI7mg7Njh79PVQtWuB9lc/xp729+lsWMDu3ta0QEUJynOpOaxZjbU/ZXKpjfYWf8KVfXx4KdqxWQkD0AT3c3Lb17Pk9seZEP9C3T0T2d2diYqEAtUsvHgBho6t1K1dwMNvT2ASoZrOkOjZy8NH/2MLU2vs/vAY9R1VGKaoKhONC0NOIeClHgHR6T3Zf744UvsalnDhg9fpCVy7BsS+wN17Gtbx562raieJeSl+ACor/8tmxt3EzXBiPVQU/t7tjWsYW/7VuoPbuFg98H481AcWCxZybsFwOP0UpJehApE+yuprn2bhs732FNzF60hQM2ltPBYo5OEaNm/ig9rX2BP8wvsqns0EYpteD1zGZcxnnRHCpgRDjau4cN9a9jT8ioffnQf7REdsJGTdQklQ/Zp0Nn8M3731q28Uf0/VDZWEpCgLYT4jBxX0Aawag4un/sLyvOWoMnQTuIU5bZncf6M7zOl4IJR1zv7mTMVQCPDU0BhZinbat/GMGIYxLu7dWOUhWzFS3bedVxx1jr+dWkD9151kPuWtbF8/LQjDlpqGEGierzXFyNIKHgQ3QRFseNwnDekbbD/JXZHGzDMgZkyU3EmdmzxfIlvX7KX+5a1cd/SFczMGD6sonfT3BZK/NJ3+NiHZOJI7DMYfp6Bl9gM19MTOnbQHpCbdTvnlZ6BnQi97f/BK9tXEYREUP0al5+1ln9d2sDdV7Vx37J3+WL5HLRjvP0tiopNjT85h+9Sbl7WFj/fq7ZQmig3OeYQ9GaUcCwQv/BBJ6A3EUzcaOmz5lCmWtAUBcwoTbEO4hWP0B0N0BqJn4HFmsWQ71qNThr27yQaiybuKxpl70shxJhy3EEbIMWexTUL/pMFE27AaY33jAhxKlAUlfy06Syd+yALJt6YvFokqIDTlsLsskXUt+2hqnYbqhkD1Rh1gcaTfj6XzvoJc3KnYDOaqa79JS9W/hub2pvjFwfDUBQ7qpLo5lbtWB3pqAqYZoxYrGZIW8PsB3NwV2mIWGLH0VAVOxqfZnv9U4MeT7Oj/X3it+4dr/Ch56qpg/ttPdi0j93hOCxH2iV8ed7t5NoUQv6X+Mu799IwsNJ3BZcsuJ+5edNxmfXs2PsQL2x/mJ1tDUd8jQYYpomeKH6OhiqpHHKu8cfOtmOdrQWrak/8IdJwqHnY1fh5BfU+Wo0YummCouFVXQxUpTtUKx5LvMNH1/tH0e23Qggx1N8UtAFS7JlcOPOH3Lh4JZPzz09eLcTnjtuewcUzf8L1Zz/GtMKLUaQne3iKGb8pUtEYlzmR/MxC3q5+mUAoiGKoo+4bgFRPQbzsgBhtTc+w9v0HeGvXf1IXDB7xmSqWLGZmFuJUweUsZWLeeCyAabbT29OY3DzJWxzoi19sWBSdur0/47n3vnP4sfWXvN34HB3Jmx3VZnoTHd4pvqs5M5E0Mwsmk+dMrnsZhvUMzp/5A0qdNvRwNeuqfsVuf7z/GIDUhRQ4rECUjub7WFX5ABv2rqIx0HfMy6a+WIiWYHf8FyXEvo/uHXK+a6ruYW1tb/JmQykOMvNm43S5UTQXOfmX4rHE/3d6+9/nw2AXQSMKip2inNlkuFMAhYzsa8ixx2+0DARrqEvarRBCjBbHNbzf0XT211NV/yxNXR/SF24ldIwpmoX4rCmKFbc9g7SUAibkLmFqwUXJTcSwTEDBBAwjytZ963lm/Z+4aPr1YMJLTf9FNLQOC9HkDT8TeUW3cd2cH5Bh1YhFDnCgsxrdOYtirxcVG6rip3JLGSvrDg/vByaYOpFwMxFLLm6LFTAIdv2ZP736HRoGhvez2ujvupffv/3w0GHjxv2a7825Ep9mAb2btu5tdOoufI4S0tzpbK0s4Pk9A8P7jQe9no2vX8PzXbsBmDfzD1xafhmq0cqabf/E+trXmTL3Da4tmYpFUcD0093fh9ORiVWzoirGUYb3+yPTy3/O0hmX4lQhFuuhL9h9qKc60v8Gfz7g4fbZV5KigBGpY1/bbqzuqeS6c7BrGkashbXvL+f12s3DDO+XwozyB/jy9ItwawqxaAvNXTX0GR6yPYX4aOCXb3yNjsDHLy0GhvezqQomJkasg96YA5/dHf8GQd/Ly+vPYH17Bect+m8WF0xAA6KRVvwRC6kp6aiKiR7bwxtvL2LtwYHh/c4Do53Kzd/gmYZ1n/g7UYb3E0IMZ/DwficdtIUQY49pmnT1t/Lkm48QC1iYkFPBG+2PEw2tx8IoufPMMYOzZv6Uc4rm41A1IEY0vJ/dTcJvDNgAAA/CSURBVGtIybqJEnf0Y0HbiHXQHujA65qAw6JiGCF6utfwxva7eLe9+/A42kcK2sCkSXdzdsmXKPLkY1XjvbOmGSUc2se67WeyvuFvC9o26zzOnXsvp+dNJUWzYBg9tB98hVbnF5iWmnmUoP00C6b9iS9WTB+2Jj3Wt4ZfrXuEimn/xpmFs/BY4iUboeAOKg/sZeK4C0lVOo4StANgr2BO+TdZULyEHKcPTY1/SWoaIfp6XuK3b95FT7gn6ciDgrYSobOvEcWWTZrdA6ZOOFTD9l3/zprd6wgBeM7j/Ip/ZFbe6aTanCiAafTR3fMO7+99kFf3xSfnkaAthBgtJGgLIU5aNBZjU80rrN38POW5M/kg/BrR8JujJ2gDmr2EIm8RVk0DM4Ye7aTN34DTMx2fTcXfvYGW0KCgHalhzQf30tDbj9WiYuoRAsEamvoGbsPLozBrAk5NQ4/so7GnnsigSgwARXXgc5eTZk/FoiWCpxkjFumkvW8nfVHwpc4j2+ECM0h3RxVtsXha93kqyHJloxCmo2cXnaFOQMPpKCHLk49d0zD1AP7+PQStZeQ4U4iF62nqqSNiFlOUWYZdAyNSy97Og/jcU8lye4YtlTFi7TR01qBrBeT7irFrGooC0XATrX1+Un3jcWk6nT076Qz1DB+0AdR0srzj8dqdqErifPUI4cgBmnobDtVxD3Y4aPfxUc1DrD/wLorNCaZONNJCU/dHRAYNHala88n1jsNlsaMoYOohAqF9tPS1YSTauT3TyUvJADOCv7uag+GuY5a/nCwJ2kKI4UjQFkKcJBPDMGjubuLxV35DoD9EX2ojeuStURW0j8/QoP2XLbewtWlncqMxKl6Tryi5XHb++8zxAbEaXl59AesGgvYJGBK0q/6FJ2tW8nksOpSgLYQYzt88M6QQQgxmJmq1fQ4vxdkT2H9wFz3+tk+8B1F8ulLc5Vxz3la+++WN8ZCNQdi/iXfMT7ooQwghTg0StIUQJ0jBqtmYkFOBw+aipbthtI3wJ06aisWShsfuBAx6ezfyRs0fiRgStIUQ4nhI6YgQ4oQYpk4kGqW17SBrtjzF6y2Pkudrwap83kpHLDisvkQdt0442kMkMWnKWKcoFpy2tPikMYBhhAhF/fGxrU+CZvHgsjgBEz3mJxgLfS6v0aR0RAgxHCkdEUKcpMOxyKrZKM2bQkHG0ImwPz9ihKId+EOt+MMdErIHMc0YgXBb/LUJtdIf6T3pkA2gx/yJfbYR+JyGbCGEOB4StIUQJ0ABU2Hgn021oGrSoyeEEEIMJkFbCHHCDs2iKV2SQgghxMdI0BZCnDQzPuBf8mIhhBBiTJOgLYQ4aYl75YQQQggxiARtIYQYZez2AuZOvZurz/g91y74A1+Z/1suKj8nuZkQQohRToK2EEKMMjlT/osvVfwDpxUvZXrRZcwcdwllLinNEUKIzxsJ2kKIEaDIDZEjxssXCuZgUxTQm6ipe4oP9j/N1rqG5IZCCCFGOQnaQogRomJK2h4B5+Kxxn+K+V9h5ZbbWLH5Tt7p3pvcUAghxCgnM0MKIU6IYRjEYjE6OzvZtf8DVjc8gh55C5uiJzcdI87i8nPuYZy1jz07f847+nS+OOlyMuxBarfcxbOdO8BSwIyJ32JBwTxcFgXMCP3+rWyquosqP7hSL+Dcih8yr6AciwKm3kVbfyvhvlWsrqzn3EXfJB0IdP+Cx7auoi8KeM/lstPuotSVQm/zk7xY+WuaAVQfJUW3sGT8haTabECMcGgXO3f/lHVNjYnnvJwbLvw6qdFaVm39AVru7ZxTeAZupZ533txBxZKL8A49ybhoJS+u/Ud2ATgWsHjabVSkFWPXNDAjdHW9wrrqR6jzdydveUqRmSGFEMORmSGFECNLRh0B3KR5JpHtm8H4CT/hlvnfZUrWNLI9pTitNhQlnUVzV3DVtL+nJG0i6SmFpHumUFJ4PVefu5ZFmR6K8s5lVk4RauL1VFQXqa5CvM40LGoqGd5JZHsnkZGSeqgNmhefewLZ3nLSXVnEO8PtlE55hK/OuYvyzKlkpBSSljKRwuzLuWDRWi4rmYgGQBaZ3klkp81myWmPccOMr1OWPolsdz4RJYNUdxkZiUemeyLZieNnu/OxoWJLu5TrFj/KBWUXUpQ2hUzPeLJ805lUcic3LPp/VHgzBl4cIYQYkyRoCyFGkCRusJObNYUUtY+m9jVU7X+CvcFOnNk/4uyCKViUKN3Nj/DCtu+zpuYp2iMhNFsFs8bfRLT1SZ7ftpLOxCzwUf8aVm/9Hi/teJb2QPJxjsJzLV+ceB4pmkGoZzWvbP8ef/3gEep6OkBJp2L8tyhzDGqvZlOeXY4ZqaO26Tk+2P881fpLbNjxIK/veJDXd/yOj/z++NefRjd1+5+mXsthRvHXKfekYpphGlueYN3OX7KhbjP9horNew6XnXY57kGHEUKIsUaCthBiZEh59mFGGzVVd/DE5m/yl233sN3fyMxJF+FVAb2Zqqpf8U7tCt6u/gW7OhsBC+lppWj6e7y/fzeRxGtpxBrYun8llU3vxctEjlNO2eXk2QD8NO74DW/uXcmWPQ/zbvMWDMDlqSAto3ToRtFdrN1wI0+++y1WVf6GYPQ1Nlc/xOvVD/Fhf5B0lweFGN2tj/LszicIOjMpyq7AqoAerea9yu/z6o77eXHrbVT29gAqnqxrmT70KEIIMaZI0BZCnDTTHJgZUtI2QDTwHn+t30RrfyehWJSIqZPvSouv1Io564Ld3LesjfuueI8zcycAoKoW1BH6RC715CVKQ3xMWPha/FjLalk2+SJUQFGcqOrQ6mt/13+wrr2K7nAvIT18+MZWz99xzuSbybSqxILb+evO/+VgJIZDs5PhcKMAsWAdHT198fZ6PdWdjegA2jgKxg0+ihBCjC0j9LEuhBDiaHQzMQ620Utrzw6auquGPJp7GwifwH2kVrsDl8U2ZFnYSNSemGF6e2s+dqym7hoCkaG1KLrRNuR3AE0r5QsTv02FLxNT76Cy5ufUttfF25smET1+TopqwzLor4ndYk8UEUWIhQ4vF0KIsUaCthBCfAp29TYlfuqm7qMfs2LTTYceKzctZ3XVSpr8SRsdgd06HZfiAiWFIs9p+KxDg/ZHnXVEAIjQ1fq7Icdasekmntp+H/s64oH5aHLH38H8khlYlQjNDXfz5v43GIjnwViIlmA3JmBxTCY/uyjei247m9MyCuN/XGINNB4cskshhBhTJGgLIcSn4KNtK2mPAWohs6c/zBUzv8OZ5Xdw0cz7+cqClczJP53IUSd/3ENXPD1j8yzj+sVPccuS1Vw97Tq8WrxQZIB/zx+o64+C4qGo9MdcM+dHnD3+Ns6bfg9XLljJ0gkX44kdo+g7606WTl1GmkUDPYDqWcalC1exfPEqli/+X+al1NHY/Bohw0SzlnD2/FXccs4L3HnBH5mS4gBidDQ9QGXyfoUQYgyRoC2EGBlSnn1U0ciDPPXhSlqCfhRrHiX5VzJ//LVU5C8m15OKRTnWC7iOZ2qeozsaxFRs+HzzGJcxBWt4F4197UOb6mt5bsv91Pa2oite8rIuZm759cwsPI9ibyE2VTv2f1fBYgqsibGhtVRyMxZQln1m4rGQLEc/O/f+iY0NW/BHo9hsxRRlziPb6QW9h5aW/+HxbRs5RpwXQohTmkxYI4Q4IYMnrKnZ/wGr9/8WI7ZxDE9YM4k5U64k06KgR3bx9t7VBGLhoU1ULzkZS5iUORmXJTH9o6kTjjawt/kV6ntbgbksmHoBPhWigU2s3bt2yC5Ki2+gzJuHVVHR9W5aWl8m4JjHxLQSAj1b+KD+VeLTxFjxeecyKe8MfDZX4uZInWism6bW1/moYxdRFnP29DNxAcG+x1hfW3v4QPlf48KMI93JGGJ//YNU9wBkML74Cko8mVhVFYjR319NddOrtIf+ljEJP39kwhohxHAGT1gjQVsIcUIkaIuxToK2EGI4MjOkEGLEmcesRRBCCCHGFgnaQogRIklbCCGEGEyCthBiBJjxf9KtLYQQQhwiQVsIMQIUMONTlAghhBAiToK2EEIIIYQQnwAJ2kKIESJlI0IIIcRgErSFEEIIIYT4BEjQFkIIIYQQ4hMgQVsIMQKkbEQIIYRIJkFbCDFCJGwLIYQQg0nQFkIIIYQQ4hMgQVsIMSJkrhohhBBiKAnaQogRIklbCCGEGEyCthBCCCGEEJ8ACdpCiBEkvdpCCCHEAAnaQoiRYYJhKslLhThlaYo1eZEQQgwhQVsIccLMxB2QCgqYJlHp0BZjiE3zJC8SQoghJGgLIU6YosR7sBVFRcUgqie3EOLU5bSmJy8SQoghJGgLIU6ahg2raSOoK1KlLcYEm+Ij1Vl86GJTCCGGI0FbCHFCBgKGpmlYNTspWgYxw05Yl+AhTn0FzvOwqHZUVZWwLYQ4IgnaQogTpigKqqpiszjItU5BNb10R1Xp1RanNM1Mp8zzZTSLJkFbCHFUErSFECdMURQsFgtOh4Ns5zjS1RJ6I1bp1RanLtNKlnIOHmcmdpv0aAshjk6CthDihCiKcjhoOx1keLIotc7GrmdyIKASMSR8iFONgj08mXzbGXjcKdhsVlRV/owKIY5MPiGEECfscNB2kZqayTjPVIqZTSzspbFfJSyjkIhTSCSQS5bxd+Skl+Bx+7DbHRK0hRBHJZ8QQogTpqoqmkXD7nLi86WSl1XIRO8ZlMTmEAtbaAhohHSFxHDbQnwuGYZGqKeY3L6rGZdZQUZGJm6PG6s13qMtpSNCiCORoC2EOCmqomK32vB4POTk5FCaX85U3xLKw5fi7JlCfaeHpj4LPRGIGMlbCzE6GSaEIhr9PXnEDi6kIHo5ZQVTycsrID09HafTicVikZAthDgqxSQ+QEBjYytpqa7k9UIIcVSmaWIYOrFoFH9fgLaOVpqbWmhorqe5rZG2/n349TZCai8WJYYW3woFUy71xeijxC8eNdOJXU8jRSskJ7WUouxCCgqKycrJJDU1FZfLJUFbCDGs4uJiOjo7QYK2EGIkxMO2QSQSIRAI0NXVRXtHO+1t7XR0tNPT20Mg1E8kEsUwjENTtwsx2iiKgkWLj6TjTvGQmppGVlYWWVlZpKen4/F4cDgcWK1WCdlCiGFJ0BZCjKiB4GwYBrFYjGAwSF9fH36/H7/fT39/P8FgkGg0iq7rmKaJaZpHDSpHC+PDbXe09hxhG05wuxPZhiNspyjKSb0Wgw3ex8A2yfsdbl8DbQavG25fycsHDHes5OMkrxs47+HWDTjS8gHDPe8jLT/a8x6gJMaFt1gs2Gw2XC4XXq8Xr9eL2+3G5XJhs9nQtPj42UIIMZxhg7YQQgghhBBi5MgluRBCCCGEEJ+A/wMlamx2JgZwIgAAAABJRU5ErkJggg==)"
      ],
      "metadata": {
        "id": "Cm5eeVqeDe6I"
      }
    },
    {
      "cell_type": "markdown",
      "source": [
        "Imagina un grupo de jóvenes que está aprendiendo a identificar diferentes estilos musicales. Tienen un mentor que posee una colección de canciones en su dispositivo de audio, cada una debidamente etiquetada con el género musical correspondiente, pero los jóvenes no pueden distinguir los géneros musicales por sí mismos. Al principio, el mentor comienza a reproducir varias canciones y, al mismo tiempo, dice cuál es el género de cada una de ellas. Ellos escuchan con atención y, a lo largo del tiempo, comienzan a asociar las características musicales, como el ritmo, la instrumentación y los vocales, a los diferentes géneros.\n",
        "\n",
        "En este ejemplo, los jóvenes se basan en algunas características como ritmos rápidos y vocales enérgicos que encajan en el género pop, mientras que las canciones con guitarras distorsionadas y vocales más intensos se dirigen al género rock. Con base en este proceso, los jóvenes logran identificar el género de nuevas canciones que no fueron previamente etiquetadas por el mentor, pero usando las reglas que aprendieron, fueron capaces de etiquetar y nombrar los nuevos elementos.\n",
        "\n",
        "El aprendizaje supervisado en Machine Learning sigue este mismo razonamiento. Utiliza conjuntos de datos etiquetados, es decir, bases de datos con registros históricos que contienen la respuesta correcta en cada uno de los registros. Para entonces, a partir de esta respuesta y de las características de los datos, el algoritmo puede trazar una regla para llegar a la respuesta que podrá ser utilizada posteriormente en nuevos datos, con el fin de hacer una predicción.\n",
        "\n",
        "La característica principal de la clasificación se da por el tipo de dato presente en la respuesta, que debe ser del tipo categórica. Un dato del tipo categórico es aquel que tiene diferentes clases o categorías. Como ejemplos de aplicaciones de clasificación con Machine Learning, tenemos:\n",
        "\n",
        "Filtrado de correos electrónicos spam  \n",
        "Diagnósticos médicos  \n",
        "Análisis textual de sentimientos  \n",
        "Detección de fraudes bancarios  "
      ],
      "metadata": {
        "id": "2KWWW0yVDhte"
      }
    },
    {
      "cell_type": "markdown",
      "source": [
        "#**Para saber más: tipos de variables**"
      ],
      "metadata": {
        "id": "Gbf9VkggD4Wa"
      }
    },
    {
      "cell_type": "markdown",
      "source": [
        "En una base de datos utilizada en proyectos de Machine Learning, podemos llamar a las columnas variables. Este concepto, proveniente de la estadística, representa una característica de interés que se mide en cada elemento de una muestra o población. El nombre indica que el valor varía de elemento a elemento, pudiendo tener valores numéricos o no numéricos.  \n",
        "\n",
        "Las variables se dividen de la siguiente forma:  \n",
        "\n",
        "**Variables cuantitativas o numéricas**  \n",
        "Son características que pueden ser medidas a partir de valores numéricos que tienen sentido y se dividen entre variables discretas y continuas.  \n",
        "\n",
        "**Variables discretas:** características medidas solo por un número finito o contable de valores. Solo tiene sentido para valores enteros. Por ejemplo: número de hijos, número de ventas.   \n",
        "**Variables continuas:** características medidas que asumen valores en una escala continua (en la recta real), en la que tienen sentido valores fraccionarios. Ejemplo: peso, tiempo, altura.  \n",
        "**Variables cualitativas o categóricas**  \n",
        "Son características que no poseen valores cuantitativos y se definen por varias categorías o clases. Se dividen en nominales y ordinales.\n",
        "\n",
        "**Variables nominales:** no existe ordenación entre las categorías. Ejemplo: sexo biológico, país, churn.  \n",
        "**Variables ordinales:** existe una ordenación entre las categorías. Ejemplo: escolaridad, mes.  \n",
        "Atención: Un punto importante a tratar es que no siempre una variable representada por números es cuantitativa.  \n",
        "\n",
        "Por eso, es esencial tener una postura crítica y evaluar la información detrás del dato, y no solo fijarse en la forma en que está disponible. Por ejemplo, una información de ID de registro puede ser un número, sin embargo, su función está en categorizar un elemento. De la misma forma, una información de escolaridad puede estar representada con los valores 1, 2 y 3, y aun así no los transforma en una variable numérica. Esta información no puede ser utilizada para hacer sumas y calcular promedios, por ejemplo."
      ],
      "metadata": {
        "id": "mIQGBAGzD76h"
      }
    },
    {
      "cell_type": "markdown",
      "source": [
        "#**Para saber más: biblioteca Scikit-Learn**"
      ],
      "metadata": {
        "id": "MIpiKeuEQkwT"
      }
    },
    {
      "cell_type": "markdown",
      "source": [
        "Además de los datos, hay algo que se vuelve indispensable en los proyectos de Machine Learning, que son los algoritmos. Es claro que no necesitamos crear los algoritmos desde cero, están disponibles de forma gratuita a través de una biblioteca del lenguaje Python, Scikit-Learn. Esta ofrece no solo una amplia variedad de algoritmos, sino también herramientas de preprocesamiento de datos, análisis y evaluación de modelos.\n",
        "\n",
        "Uno de los puntos más positivos de la biblioteca es su documentación(https://scikit-learn.org/stable/index.html), que está bien organizada y tiene una navegación intuitiva. Contiene la explicación y ejemplos de uso de todas las funciones, además de información teórica sobre diversos temas relacionados con Machine Learning. La documentación sin duda debe formar parte del día a día de la persona científica de datos, desde el nivel inicial hasta el más avanzado de conocimiento.\n",
        "\n",
        "El otro punto ventajoso de esta biblioteca es su uso simple. Con pocas líneas de código es posible entrenar un modelo, abstraiendo todos los detalles complejos que ocurren detrás de escena. Por esta razón, se ha convertido en una de las principales bibliotecas para trabajar con datos y, sobre todo, Machine Learning.\n",
        "\n"
      ],
      "metadata": {
        "id": "9uavj_szQtta"
      }
    },
    {
      "cell_type": "markdown",
      "source": [
        "#**Para saber más: One Hot Encoding**"
      ],
      "metadata": {
        "id": "Cq_o7kxJUcwh"
      }
    },
    {
      "cell_type": "markdown",
      "source": [
        "Los algoritmos de Machine Learning no pueden comprender información que no esté en formato numérico. Por lo tanto, si se desea utilizar variables categóricas en modelos, es necesario que pasen por algún tipo de tratamiento para que estén en formato numérico. Esto no significa que se convertirán en variables numéricas, solo que estarán en un formato que sea comprendido por los modelos.\n",
        "\n",
        "Así, estas transformaciones deben preservar la información real de las categorías de la mejor manera posible, sin introducir sesgos en el modelo y sin información que esté alejada de la realidad.\n",
        "\n",
        "La forma ideal de hacer este tipo de transformación, que mantiene la información original, se conoce como one hot encoding. Esta acción transforma cada una de las clases de las variables categóricas en nuevas columnas, utilizando el valor 0 para representar la ausencia de la característica y 1 para la presencia de la característica en la muestra de la base de datos. Observa en detalle el dinamismo de este proceso en la imagen a continuación."
      ],
      "metadata": {
        "id": "MrGg80raUgCa"
      }
    },
    {
      "cell_type": "markdown",
      "source": [
        "![1234.png](data:image/png;base64,iVBORw0KGgoAAAANSUhEUgAAAtQAAAFHCAYAAACBN9uAAAAAAXNSR0IArs4c6QAAAARnQU1BAACxjwv8YQUAAAAJcEhZcwAADsMAAA7DAcdvqGQAAKfBSURBVHhe7P3Zk1xnmt95fs/u+xb7jsC+gwAIgmuSzMrMylSpSyqpR6VpjU33zJTZzIXudVtm+gd0OWbTU3cz3T3dqjZVq6VSqVSZyazM5L4BxL4EYt98385+5uJ4gGCQzARIMMJBfz60YwThHkHEi+Puv/Oe531eJYIIIYQQQgghxDei7v4NIYQQQgghxONTdmaoh0ql3Y8JIYQQQgghvka5UgGZoRZCCCGEEOLbeThD/a//8vrux4QQQgghhBBf4d/82SsyQy2EEEIIIcTTIIFaCCGEEEKIb0ECtRBCCCGEEN+CBGohhBBCCCG+BQnUQgghhBBCfAsSqIUQQgghhPgWJFALIYQQQgjxLUigFkIIIYQQ4luQQC2EEEIIIcS3IIFaCCGEEEKIb0ECtRBCCCGEEN+CBGohhBBCCCG+BQnUQgghhBBCfAsSqIUQQgghhPgWJFALIcQzRJFDDjnkkOMrj/2kRBAB/Ou/vL77MSGEEH1CVRU0FRQUmQkRQoiv4IURQRjt/u3vzL/5s1coVyoggVoIIfqfqkA6oZPUVVSF3ru2+CZUBRRFIYoi9vBz93tHUUBVIYogCuWU/DZUJR7QKIxkHL8FRQEniKi0vd0PfWckUAshxDNEVxWmihYZQyPwAzwvlDD4DWgqWIZG0tRw/ICOHcg4fgOqApapkTA0vCDA8UI8Xwbym9BVhYSloakKtuPjyDh+I7qqkEhoeBHc2Ojsfvg7I4FaCCGeIYaucHAogRVBre7Q7gYE4e5nid/H1BVyaYNi1qDZ9inXHTwZxyemqVBIG+SzBl07oNp0sT0Jgk9KASxdoZCz0FSodzxanWD308RjSOgKI8NJNEvj45XW7oe/MxKohRDiGWLoCrN5C7frs7TWodHyCUNJgk/KMjWGciZjxQTVpsPylo0vVyZPTNdURvIGQ0WLVjtgs+rQcfzdTxOPIWFpjBYtdFWh3HCpt/auXOH7JJXQmJtKUSgmub5PM9SytkUIIYQQQohvQQK1EEIIIYQQ34IEaiGEEEIIIb4FCdRCCCGEEEJ8CxKohRBCCCGE+BYkUAshhBBCCPEtSKAWQgghxPdOFEVfOIikV7b47kigFkII8a1EUUQQBDiOQ6drY3dtPN+LQ4z4SlEY4vk+dtem0+l89dG1sR0H1/MIw0DG8zFEUfRwXJvNJvValVqtSrPRoNPt4nme9HD/CjuvYdtx6HS7u87DLt2ujeO6eH7cA1/OxS+TjV2EEKLP9fvGLp7v0242qdVqdO0OumZQKBbIFwqYhrn76fumnzZ2cV2XRqNOrVrDcezdD6MAqqaiGxapZIJ0Oo2VTGHoOqqqoijK7i/ZM/26sUt8UefSajepV2s0GzUc10UhwjAM0pkM+XyRbC6HlUiia9q+jiN9tLFLEPi0Wi0qlQp2t0MURnE4BBRVQdc0zESCVCJFKpXCtCz03rnYD/phYxcJ1EII0ef6PVC3Wk2WHixwf+E+lfI2iUSCuQMHOHzkOIVCcd9Dy47+CdQRjWaDpQcL3Llzm1q194GMEifpHk3VsBIJ0tkspUKJ0vAopaES2Wx2Xy9U+jFQB0FAs9lgc2OdtdUVNjY3qFUreK4LEAfqbJaRkVEmJ6YYHZsgXyhgWdbub7Wn+iFQR1GE4zqsra1y6/pnbG1tEgTxFuiKoqAoCoZhkEymyGZzFEvDDA0NUSgUSWcyaJq2+1vuuX4I1Nqfw58DvPWn/3L384QQQvQBTVXIJ3QCP6TR8nDc/rnlGkUR9VqNhft3uX//DtX1NerNBpqqUxwZJpPJovXJLJauqaQsjUxSx3YDGh2fcB/GMYqg226zurrMvbu3qa+v0m0241vt3S5du0un26HdalKvVtje2mR7a4tms0EUBlhWknQ6vW8XKqqqkE5opJI6rhfRtgO8fbkwie2E6QcPFrh54zPu371DZWsT13VQVJUoirBdm3atzmZ5i1ariQIkkymSyeS+zrLquko6qaMqCl0nwHH3Zxw916NS3uLOnZtsLi/RbdTptlt0eiVJzWaTaqVMeXuLSqVMq9UkJMS0EiSsxL6dizsMXaWQM0gkDbbbe3dR8vZf/QX/qtsFqaEWQgjxTUVRhB8ENNtNqpUKrXoduh1otyjXKjRqNdzeDKH4opB47DzXBceFCFLZHGMTk0yMTzI+NsHw8CipTBYi6FYrLN6/w82b11lZXsKRcYWd2VXHYX19jbu3b/LgwQPsRgPdshibmObgoWMcOnSMqalZrFQaul02Vpa5e/c2q6vLdDqdvrrbs18iIAwDfM8D14HAA8OkNDzM+PgEQ8PDJFNpPM+jurnO3Ts3uH71Cg/u3aXT6coYSqAWQgjxbbiOQ6NRp96o94JhBEFAp9WiWi5j23t3+/WZpCigqVj5AsdOnOTlV3/Aa6//kB+8/iYvv/o6Fy+9yMHDR9GzWejabK6tsba6Qr1W2/2dBlIYBtRqVZaWFllZWSbqtLFyOQ4fOc5Lr7zGCy++xKUXX+TSC5c5ceoUqdIQ+D6bW1ssLy9SrZbxe+UN4hFmgsmZKS48f5mXX3uDl1/5Ac8/f5lDR45hZrIErQ6riw+4ceMaa2tLOI7bN3fN9osEaiGEEN9IGIW0Oy1q5TLtdhOiEHQdNA3f7lKpVOh2JFD/fgqGaVIoDDExNsHE5BSTUzPMHpjnyNHjHD5ylPHxSbBM8Bzq9Sq1ann3NxlIruOxtb3F2toKXqsJVoKZmVmOnzjJzOwcw0PDjAyPMjU9y9Gjx5memYVUgsjusr21SXl7G8+VjjRfoulkUllGR8aYmp5m7sBBjh4/wakz5zh2/CRWsQiOw/raCjevf0ajUccb8AsTCdRCCCG+kSAIaNQbVKoVHNcBw4BMHnI58Hzq9RqdVltuBz8mRVVAVVF7h2kYpNIpCoUixWIR3UpAFOF5Ll37y51BBk0URXS6HWrlMs1aDYKQbDbL+PgEI6OjX+iIYugGxdIwY2MTFHJFUFXsbpdWu4Xvy+zqV4sXJKqKimEYZDJZxscnOXjwMJNT05BIQKfD0uIi21sbON3BLp+RQC2EEOKJRVGE7/m0Wk0a9Tr4AWYmw+jYKMPDI6BCp92iXq9hS/h7LF+9rCsONRAREJeIqKqKocnHdxSG2N0OrVYDx+6CppDJZcnl86SSqS88V1VVkskE4+MTHDx0hPkjx5mePUAuX9jXRYnPAqXX7UPTNJLJBEMjcV11KpsF36fbrLO5uUGn3SWQQC2EEEI8vngxmE2z2aDTaYGiks8XGB+fZHhkDHQDx7XZrmzRajZkBvD3iSICPyDwfDzfx/M8ul2bZqPOdmWbSrVK5DqgG2QzWbK5wu7vMHCCKKLb7cYXbL4Pmk4ymcJMJFDVL7dyU1WNoeFRTp48w8VLl3nuuYvMzsxiJZL73qXiWaGqKolEkkKxSC6Xj5czuj61aoWuLTPUQgghxBMJwpB2q0W9VsXp2uiGQbFQYmJikuHSMIaVJHI9ylubNBo1omhwP2h/vwjf92g0qmxsrbO5tsr62ipLSwvcvX2Te7dvsrW5DkChNMTY+ATF0tDubzJwoijCdW1c14EwAk3DNBPomrH7qQ8lkwmGR0aYmppmcmqKfL6AqRsSqB+ToiiomkYmkyWVSce/GQa02m081xnoC2cJ1EIIIZ6Y73nU6tV4U5LAJ5FIUCiVKA0NkS8UyGazEEXUqjWq1Zp0AfhaEYQhdrPBnbu3+fC9d3jnnd/w7ju/4YP33+HTK5+w8OA+bqdDOl9gdu4AU9MzpFJfLGkYTPE2474fABGKpqJpKqr69eFY6ZXMPHp8Ta2N+BqaomIlkphWolcQEt+t8jyPMAgG9nUugVoIIcQT2Sn3qNWqcf00kM5kyOXzZLI5MpkshWIRNB2306FaKdNst6Q92VeJiGdXHYfG1iaLDxZ48OA+i4sLrK0s09jeImp3IAgwdB3TSmIYpmRA4rGLouiRAKfGAU/5/dFmZwdA8eR26ql1VYuHPITA9+MwHQ5mmEYCtRBCiCcVhiGtVryZi91ug6aRyWRIJdPopkkimaRQKGKYFvg+W1ubVMvbBIE/sLNXXyte8QWGQTKXZ2R0lNGRMUZHxhgZG6c4OoZVKICu02612N7aYGt7i25X2hHGJBTvhy9eyDxyHg/wX4cEaiGEEE/EDwJq1Qr1ahVcF003MBNJQMHudvH9ACuZRDcMCAO2tzfZ3t7CdaXs48vijV3MbI7DR4/zwuWXeenVH8THy69x8dKLHD12glxxCM/usrT0gPt3b7O5tbX7Gw0eBVRFeaTEI+xNW0u9/ncpiiJC3ycIg3jIVTBNE13XUB/j7sD31eD+5EIIIb4Rz/XYLm/HuyOGPoHvU69WWVq8z83r17h35xaVrS1834cwJGg0qFXKdDuD3Vbr6ymYpsVQaYTp6TlmZuNjdm6eQ4eOcOzYSQ7MH8RMpQlaLVZXV1haXtz9TQaQgqHraJoGKERBSBiG/K5LtiiKCMOAMOgdYSgXeU8oiEJsx8Zx7PgCRlEwDBNdN1G0uO/3IJJALYQQ4rFFUUTX7lKv1XDaLfAD6HZYXVnk2mdX+OiDd/n4o/e5e/c2XqsBQQCeS61Wo1Gv4nv+7m8piG+Xq6qGZugYuoGhG5iGQTKZpFgqMTo+Tjabgwi6zTqVrc3d32HgKIqCmUxgWRZoKgQhju3gud7upz5kd23KlTIbG+tsbm7SbDbxB3gh3ZOKoogwCGi1WrTb7fg3VY1MOoNpmqgDGqaRQC2EEOJJhGFItbJNo14D143rJiOga+PUanQrFbqVCn6zGYfpuAkAjUadSrWM6/ZmtcSXfNXdckVR0HWThGnFJTQAno/jurufOnA0VSFhJUkk0/GW975Hu93E+Zp+yF4QsLW9wY3PPuPDD97lk08+YHV1CdeRsXxcURRhd7uUt7ao12px3Y1pMjQ0SiKV6t0tGExf8fIVQgghviyKIvwgYH11hWajDlEEmQzZySlGDxxk4tAhJg4dZuLQYcYPHqI4PQuZLCjQbTWo12rYtkM4wJ0AnlQURXiuQ6fdifstR3G/ZUP/+l7Lg0JRVBKpJJlMlkQyCWFAs9GgVqvRtb+4aDOKIpxOh7XVFW5cv8rNK59w5/YNyuVtgsCTGerfYWdkwjCg0+mysbHGysoiTr0GhkG2UGR8fJx0KjPQu04O7k8uhBDiifmez+bmOnarDarKyPgEF85f4NUfvMnrb/yYN978CW+8+RNef+MPuHjpMiMTk6Br4Lo0m006XWmf95WiiMD38F0X14sPx3VotZpsbKyxvPKAWr0KROipNPl8fvd3GDiKopBKpCiVihQKBdANOu0262trrK6s4TgOQRAQBD7dbpfN7S3W19YeXgymUhkymXzchnCASxW+ThiF+IGH5/vYjk2jUWd1ZZEbN66xurYCvoeSyTJ34BCloSES1mCPowRqIYQQj8UPAjqdFrVaFbx4G+x8vsjI2BgjI6MMjYwwNDLcOz5v/0YyDUFAqxHPUruOvftbD7gIz3MoV7ZZXFpg4f49Fu7f4+7tW1y7eoXPrn7Cwv17RK02WBajo6NMTk3v/iYDSTcMSqVhJiamSOUL4Husrixx/doVbt++ycryEqsryyzcu8ON61dZWV4E18PMZBmfnGJ0ZATTlJ0SvyQIaDUbrK4us3DvLrdu3uDTjz/io48/4MG9u9C1IZ1hdnqGI8eOk05nUQe43AMJ1EIIIR5HFEU4dpeN9TU67Q6EYKZT5PMF0uksiUQC0zAwdB1D17FMk3Q6zdDwCKlsDoKQZrNBpVym25VA/bkIggin2eTunVt8+P67vP/ub3n/nd/ywfvvcvXqpywtLuK2O5BIMDw+yYH5Q4xOTO7+RgNJ1zRy+SLTM/NMz86TyOZwuh0WH9znow/f4913f8N77/yWjz58n4V7d7DbLYxMhqnpWWbn5skXSqjqYAfBr+Q6bG2uc/XTT3j/vbf5+MP3uHHjGuurq/ieR7JQ5OChIxw7cYrR0THMAZ+dRgK1EEKIxxGFIY7rsrW5Ef9GIkGhUKJQKmFZSVQ1bpf1+QGGZVEaHqZQGoJEMq7BbLdwbHvga1ZVRUXXNAzDAssCoNNosrm+zvrqKuvra2xtbtBs1UGB7FCJufnDHD12gtnZA3HHD4GiKCSTCUbHxjh46BCzc4fIFYt4vsvW+hqLiws8WFpgY2MNx7V727fPM3/4COPjkySTiYEPgsRLC9FUHcMwwUqAphM4LtXyNpsb62yXt7FtG8tKMD41zdFjJzh+4hQzs7OkUvHrf9Bpfw5/DvDWn/7L3Y8JIYToA5qqkE/oBH5Io+XhuHvfOzcCXMelVq2h6yr5YonJ6RmmJqfJ5nLomhZ3/HgoDtaaqsZtzHSdQrFIqTTCyMgo6VQ6DjJ7mGV0TSVlaWSSOrYb0Oj4hHs8jvRCoB/4eK5LSISVzpArDZErFMnlC70jT65QYGhoiNHxCaZnDnDgwDzTM3MUSkVMff/KFFRVIZ3QSCV1XC+ibQd4wZe7auwVVVUxDINEIkkymSSRTGIaJrphYJoWyUSSbDbHyOgYMzNzzM8fYmJyitzOebuPdF0lndRRFYWuE+C4ez+OiqIQRhG+7+F5HkYiQaZYIlcsPTwXS8USIyMjTE5OMXvgIHNzBxgdmyCd7o+FiIauUsgZJJIG2+2vb5v4tL39V3/Bv+p2AVCi3gLOf/2X13c/TwghRB8wdIXZvIXb9Vla69Bo+V/ZFuy7FEURrudSrVRx3S4QtyzLZONyj6/6UN3pClKr1Wi3mwAkrAS5bJ5kKrnngdAyNYZyJmPFBNWmw/KWjb9PQdD1fbrtFq1WE8/7mgCggKZoGIaJlUiQsBKYlvnwbsB+0TWVkbzBUNGi1Q7YrDp0nP3vLx6GcR/qdqdFs9mk3Wpi2w6KCpZlkUpnyGSzpFMZEpbVFy3eEpbGaNFCVxXKDZd662vOhe9YGIbYjkOzUadrd+NuMo/QVBVN1zFNi0QigWUl0HV9X8/DR6USGnNTKQrFJNc3vtjh5bv0b/7sFcqVCkigFkKI/tcPgZpHAvLO7Limqr833EVRRBiGD3dI3Jm1/qoA/l3rp0AdERGFEUH4uzYVUVB6M7CPltPst34N1DxyvsV3AHyCwAMUNE1FN0wMXf+95+xe6pdAzcOxCwjC6JFmefTuNsXbvMfnYP+M345+CNR7/462iyKHHF9zCCH6i6LEWz2bRryLn6Zpv/eDVVEUNE17+DU7gWbQKShxqYJuYBrm1xwGRm+c+ykE9rOd880yLTKZNLlcnlwuF/eq7s1Kyzh+tXjsdl7fu85D3UDTdFRVxu/r7NsMtUK8U6iuxlfgQuyIAB8Igmj3XSchBlK/zFA/6/pphvpZ1s8z1M+afpqhfpb1wwz1vgRqBbBMlbSpktJBZe8X2Ih+paBoKl0XGnaA40eySbEYeBKonw4J1E+HBOqnRwL10zGwgVpVoJg2mMoqlEwXxevi+f6XiuDF4FFVFTOZpuaa3K8H1Loh8nknBp0E6qdDAvXTIYH66ZFA/XQMbqBWYSilM2raJJwtuvUyjm1LoBaouk5xeBQ3OcJKx6JqR/jyeScGnATqp0MC9dMhgfrpkUD9dAx0oC6mVEbULnprlWZ5HbvbkbIPgWYYjIxPEWYnWfNS1F0I/C+uNxZi0EigfjokUD8dEqifHgnUT0c/BOp9X2odRRFEEZEccjxyLkC4q22PEEIIIUR/2vdALYQQQgghxLNs30s+tOYKrfI6XSn5EIBuGAyPTxHlJljz0tRdRUo+xMAzdIW5gkXkhqxtdWm2faIvbb4gfjcF01ApZA3GCglqTZfVik0QyDg+KU1TKeZMhnMmrY7PVt3pbZkt4/hEFAXL0BjJm2iaQqXu0ey6u58lHkPC1JkeT5LJW1xda+9++DvTVzXUEqjFoyRQC/Flhq5wsJTAikJq9Q7drtfbzUw8LgUwdY1s2qCUTdDsuGzVpYb6m9A1hXzaJJ+x6Do+taaD7QbyPv3E4kBdyJpoKtTbHu2u1FB/EwlDZ3Q4iZqw+HBZArUEaiGBWoivYOoKR4ZNsoqD02riOG5vhlo8CV3XSKcSZFMJ2rZDvdEmlHF8YqqmkkkmyKQtbNej2eriecHup4nfQ+mdk5lMElVVaLdtbEcC9TehGxr5QhZXT/PukrP74e+MBGrRtyRQC/Flpq5weEgnH1axa5s4nba8Xz4pBXRNJ51Ok81maLfb1OoNIumW8sRUVSWdzpDJZrBtm2azge9Jl49vQjcMstkMqqLQbrWxnb0Lg98numFQHB7FSQzzzsrevTdKoBZ9SwK1EF9m6AoH85CyN2lsPKDbbsVt8+Q98/EpCoZpks1mKRQKNJtNKuUygS9B8EmpukEunyOXz2N3OtRqNVzHkfPxSSkKhmWRz+fRNY16vUG33dr9LPEYzESC4YkpKMzy4cbe9duQQN1ngrC3vXYUz6KoCqiKsvtpA0ECtRBfthOok90NamsL2O0mYRjK6+IJGaZJNpejWCzSbDSobG/jB1Kq8KQ0TSNXKJDP5+l2OtSqVRyZWX1iCmBYFoViEVVVaTQadFoSqL8JM5FgdHIapTi3b4F67/6v4it5fki95bC60WBpo87adpOu48uCIyGEEEKIZ4QE6n0UAq2Oy5XbG/zVL2/yP//NNf63X95iaa2O4wVIZZ8QQgghRP+TQL1PQsD3Q8qNLreXqnx2e5P7tze4cmuD+6t1mm1HVvELIYQQQjwDJFDvlyjCcXy2am2qjQ74PkQheD4rmw3qLZtgQGvKhRBCCCGeJRKo90kUQdf12K51qDXtz1dH+xFrlTblho3nhVL2IYQQQgjR5yRQ75MwCml3Xar1Lq2uG6/3NTSIAiq1DuVqh3bXlU0HhBBCCCH6nATqfRBGEY4TUG3YbNe6uG4ICZNMMQ2Kit112ay0qTVtAtl0QAjxDAqj+BCPLwjBD0IcL8BxAxwvwA0C/DCSsXwCQfQV4+jLOD6pEPDDCNePx9DxAhw/wAtCQilJ/RIJ1PsgjKBte2xVu9RaNhAxXEhy/MAIWAYEAdvVDuV6F98P5Q1ACNH3wijCDyMcL6DZdqm3bLqOhx/IpMDvE0YRthdQbXRYWK1x7e4mH91a5+qdTe4sVtkst2h33F6Q2f3VYsfOONabNosbDa7f2+KTWxt8emuDWw8qrG02abZdXE8C4e8SRnFL33bbZaPc5NZihSt3Nrhye4Mb98osrtWpNrrYni/j+Ajtz+HPAd7603+5+7HvjKJA0lBIKz6q28TttvD9wdm/3g8itiodbi7GJyYozEzkOXVohMWNOo7jo6gKo6UU40NZEqY2MBu9qJpGKpMDK0srNHEChUg+j8WA01SFYgIMv43dquF7bl9shBVEEUFvBqtj+9QaXVa3mtxbrbJRaaOqCumkiaH1x9yNpmlYlkUymcR1HLqdzr4HAj8IaXV8HqzXuXZ/k+sPKtxbrvBgtcHyVoP17TbVRhfXC9A1FcNQ0VQFZR8/E1RVxUokSCQS+J6HbdsE+7xBThBFdDoeq5tNbj0oc/3+FrcXyzxYrbG03mBtu0m53qXreCiKgmlq6Jq6r+OoAJquk0gmURQFx3HwXHf30/ZUCDiez0a5zZ3lCtfubXH7QZl7qzWWNhqsbjXZqnZodzwiIGHq6LrGPg4j9MYxnc2hJAustffuD/P2X/0F/6rbBZmh3nthBK4bUG/ZbFfa2E5AKmUwVsowMZxhYiQLukaz61Jt2LS7LkEoixOFEP0jjCJcP6TV8diqtLm/WuPa/S0+urnGO1dW+e3HS1y5vUG51sb39jdo9TM/DGm0Xe6tVPjg2irvXF3h01sb3FmusrxR5/5yPK4f3ljngxurXL+/zValg+fLJ8Kjgiii68Qdsj65vcF711b5+NYGt5crLG3WWdyoc3OhzIc31njn6gpX722wutXEceXc3M33Q9a3W1y9u8E7ny3z/vU1ri+UebBa58FqndtLFT65vcG711b56OYGDzbqeEEgd04kUO+9KIro2C7lepdqo0sUhhSzCcZKaXIZi7nxPJal47sB1UaXetuJ3zzlZBVC9AnXC9iutrm3XOHjW+v85uMl3vrgAb/+aImPbqyxsFRms9yi68oGVV8njMBxA9bLLT6+uc5HN9fY3GoRBCH5TJLxoQzFXBJVgUq9y42FMh/dWuf+WpVmx5EA8wjfD9mutLl+f4srdzdYWK3RtT2yaZOxUobRYgrL0qi1HG4vlvn41ia3l8pUG919v0PRT4IootlxufmgzAc31rm1UKbRdEgYGkP5FCPFFGnLwLZ9HqzW+eTWOp/e3ozXe0lplwTqvRZGEfW2w2alTaPtoigKpVyC0aE0KctgdjxHOmFAGFJu2GxXOthO0Be3d4UQIogiKvUOH91c45cfPuDXHy9x5dYGD5ZrVMst/GYXnIAgiGRzqt8hiiIabYeF1Sq3l8rY9S7JpMmpg6O8cXGOH12e5w8uz3Ph+ATDpSSO7bO4XuPOYpXtaodIZlmg95nadXxWtprcWqqyud1BVxTmpwq8cWGeH10+yB9cnuels9NMjWbBD1jZaHJ/ucZmpd1bpyRjGQJBELFebnF3qcLqRhP8iPGRDJdPTfHDFw7woxfmefm5WQ7OFNE0hWq5xc0HZe4v13Acf+D3zpBAvcf8IKTW7LJVbeM4PglLo5RLMpxLYJoaI0Mp8hkLNJV6y2aj2qLVdQnkg0kI0QeiMKLadLi/UuPeSpVKw0bVVbI5CyubAFPb/SXiKwRhSL1ps7Rep1q3QVOZnchz/vgYZ4+McXx+hLOHR7lwfJwjM0MkkgZux2dtu8lWtf1w64JBF4QR9abNylaTzWobooix4QynDo1y/vgEJ+ZHOHVwlOeOTnB8bphMLgmex2a1zUalQ7sb1wIPuiiM6NoeKxtN1sst8H1SGYvTB0c5d2yc0wdHOXFolHNHRzl3eIyxoQyEsF1pc+vBNi1b2vxKoN5DIdCxfbZqHSr1LoQRmaRJPpMgaRmoQMZKMFRIYxo63U78oq81HVxfapSEEPsv6s1kaarKaDHNmUMjvHJ2hsunpjg4XcRMmbu/RHwFzw+pNmw2q11wffSEyfRojrmJAvmMRdLSSScNxkpZJoez5NImBHEpYKVuS/eUniCMqLW6bFfbdDoeuqExPpxhfqJAoTeOiYTBSDHF3ESekV572kbLYavWptG25U4KEIYRXcdjq9KKN5tTVUqFBPOT+fgOesogZemU8klmJ/KMDaXA0AlslwcbDRptd+Bn+yVQ76Uoot7oUq51aHZdiEJUTaHdcXmw3uDuco2VzQZRBKqmgudTrdtU6m26tie3+IQQ+05RIJs2OTw3xCtnZ/jDlw7zs1eP8NK5GQ5O5Ekl9N1fInYJAdsNaLQdurYbT64kDEq5JOmUiabGXQpURcHUVSxLwzQ0UKBr+7S6Do7r7/62AykMI5odj3rLAd/HNDQK2QTFfPJhdywV4o4zaYtMygRNxfECag2bpu0N/GRVGMUXJl3Hp97u4tseaCrFTJJ8NoGpq2iKgqooaKpCMqGRSZoYhgJBSLXZpdF2cL1woFOKBOo9FEVQbdpUGzaO7YPjs7FW5z+9fY//1//6If/Pf/s+//3/+hEffLaC3eiAH195b1biHqRyFS2E2G+6GpcmvHFxjtcuzjI/XSCd0FGVXh8w8XtFEfj+55u2ABiGiqFrX/hQdv2Apu3Q6Hi4XgBRXHttuwG2s7/t1fpFFEX4fojjhxBFqKqCqakY2uelR34Y0e561Jq9nYnDkCiMcDwf1/FljVKP74e4frwjk64qvZZ4n7cW9MMQuxtQqTtxw4QghDD+Os8PCMPBbqAggXoPeX5Ard6l3nIhCOIPnygCz8ftejgdD9fx4scAiLA7HhuVDrWmjetLix8hxP7TFAVNU9FVdWB65O8lP4xodVzur9T47SfLvH9tlc2tNnjBwwBjO/J58FDUO3YJo4iu67O62eDdz1b41YcPuL9aAzf+nLW9+AjCwS5V+KLd46AQAbbrs1lu89HtdX7x/n1u3C9D14MwxPMCPDcgHPBNIyRQ75EgjGi2XbbqXVodBxQVPZtkeCzP7OwQB2aLD4+5mSGKI1lImeAHVJs2lbpNx5Y6aiFEf5APj6cvIsLt7Zh49d4Wv726wrX7Zcq1DoTBw1sAURRvry2+nhf41Fsutx9s85tPl/n45jpb1U68v3sv94VhJEH6ayi9aB2GIc2Oy8JqnQ9urPHBtVUWNxq4bhDXfxHXMEVRfAwyeU/cI2EYUa53KNc7dG0fzdSYGc9z8cQErz43w2vnZx8erzw3zdkjY/HiCaDRctiut2m2HKmjFkKI76EoirAdn41yiyu3t/jw+mpvJ92IQjaBlbZAVz8vqxnsycCvFUURtuezXetw4/4W7322zs0HZWw3YHwoTamQlE40jyEC/CCg0bK5s1Tmo5tr3Li/Tb1tM5RLMjqUAst4+GRJJhKo94znh6xttijXu3h+QCppcGCywOlDY5w9/MXjzOFxTs6PMjGcAV2nY3tsVzvUWw6hvIkKIcT3TITrhaxsNvno5hof3lhjvdImnzE5MlviyEyJUj4FmpTX/D6uG7BV6XDt7jbvfrbKvZUKlqFxdLbEmcNjTI5kQdcl/vwefhhSbzncfFDmw+vr3Fmu4gchs+MFzhwdZWYsj5WIF8qKmJxReyAI490RV7aa8UrkEHIpi/FShqFCikzaJJP6/MimTUZKKUr5JKapgedTadrUWnEYl0wthBDfE1G8CKzRcbm9WOazu1u0uh6z4wXOH5ng7OExZsZzpCwdFPnI/n0822dxvc71hW22q20mhjM8d2ycCycmmJ8qkE4lHnZREb+DG7BebnL1zibr5SaZhMHxA8MP+6LnsxaaKufjo2Q09kAQhjTbLrVWlzAMSaR0hotJhgpJkqaGsusST1EUklbcQqmQTaAYOl4Q0LHduFXSoBcqCSHE90REL1Q7Hu2Oi2XqHJ0d4tKJSY4fHGZ8KEPKMj5f/NnrpqJK1cJXCwI6vTaz89MFXjg9ybkjo0yPZEknDXT18zFUFKVXBtz7DfE5L6Db8XD8kImhLOeOjnPuyBgHJorkUiaGqn4+Yiqoyucl1YNKAvUeCEMIgpB00mRyOMP8ZIG58TzFfALD0OJ2U49QFbAsjdFShgNTReYm8owW0iRMHenlL4QQz7adt3ylN4FCFKeR4VKKM0dGuXh8nEOzBUr5BAlLY/dEoKaqGLp8fO9QlPhzEwBNIZ9NcGi6yKUTUxybHWGkmMaydBQl7lix80WGpmL2OtXs/hweeKqCaegcmMhz9ugYJw4OMTmaI5MyUB89IRUVTVNRNVUC9e7fEE+fqkImbXDq4AgvnJ3mhdNTHJsbJp+xvvbWk6FrTI5muHB8gpefm+H8iXGmx3JYxs7ltRBCiGeVpmpoqhYHahUUS+fgZJFzR8aYny6QSZjoveAShhFBGEIUgqJgmSqmIRvo0Ps0VFUFtdcIXTF1JkeynJwf4dj8ENmMha7F4+h5Ib7fW0GngmXGG+bsvmAZVKqqxOecAugKQ4UUpw6Ncmy2xEgxTcLUAIWICC+ICMII1LiHum6oKKo+0PFETqM9YOoa40NZXjg9xevn53jx9DQHp4ukE1+/Ra+uKowUUpw7Osprz83y8pkZjs4OkU2ZciUthBDPMFUB3VBIWBqmpoKqYhkahZxFIZvE1ON6jrC32Ybtxv2SicBQVRKmTirZ67Aw4BRFwTI0kqYOmoppaOTSJqVcAlP//A5wGEa0bY+O4xKEIYamkk6YpBLmw41LBpYSl+ebpoZlaqDFRzppUMwnSSbNhyVHERGeH+J4Pr4fgqaQThgkDQN9wMdRArUQQgixx5KmTj5tkctYoCrYHY/Ncpdqw8b1w4fbQTc7LtVGJ96/IIpIpwyyGfNh6B50qqqQyyQo5JLohobjBpTrXTYrHbxHxrHr+GxV2pTrNgQRlmVQyifIpS0pVQA0VSGV0Clkk1hJHfyQWtNmu9Kh0/UJeuPoOgHVhk2l3sF3fNANhvNpchkTw1TQBngwJVALIYQQe0xTFfIZi/HhDEbKBM/jwXqVa/c3WdtsUql32Kq0uL9aY3G9SbvtgaEzXEwxlE3JDpU9mqbG4ziUIp+1IAxZ3Wpye7HCymaTcr3Ddq3Ng9U6d5YrlOttQKGUTTI2lCGb+Xz2dZCpikIqYTI5mmWkkAZVpdq0ub1Y4cFala1qm+1am6XNOrcXttnYbkEYkEobzE/lyabNh6U1g2qwf3ohhBBiH6iqQjGX4uBUkanRHOgaG9st3r22xt+9v8DP31/g5+8t8Pany9xbqRL4IblcggOTBcaHswM/q7pDVRRyKYvp0RwzYzksy6DRsLl6d4P/8s49fvH+Aj9//wF///EDbi6Ucdsu6azJ7ESOiaE0lqFLoO6No6GrzI7nmJ8skMqYBK7HjQdb/P0nS/z8vQV+/t4D3vrwAR/d2qDSsFEsk9nxPMfmhkgnTNQBb+s42D+9EEKIp0dR4nrUXjsyiSlfT1UUMimTg1NFzp+YYHyiAEHIxmqN966t8ptPlnjnygq3H2zTbjlksxYn5kc4dmCE4aLMUO9QFbASOjNjBU4dGmV2PI+ia1S3W7x/fZVff7LEbz9d5uqdLZq1DrplcmiqyNG5IYYL6a9tDDCIdFVlpJjm5MERjswOYSYtuvUu1+9s8fany/z2yjIf39xka6sBwNxEjnOHx5kezWOaX+5YNmgkUAshhPjWDF2lkE0wNZpjeKrA1GiObMpEG/DbwL+LrqmU8knOHh7l1edmOH18nOHRLKap4fshqqpQyKU4PDfM5dNTPH9igpnRXLxwTDykqwq5rMXR2SFeODPF8ycnGJ/Mk0wYBH5IFEZk0ibTMyVeOD3J8ycnODBZIJ38+sYAg8o0dA5MFbl8aooXz0xzYG6YbMbqdVGJSCV0xscLnD8+zounpzhxcJhk0hjo2ukdys4W7P/6L6/vfuw7o6pQTKmMqF205gqt8jrdbodINiwZeLphMDw+RZSbYM1LU3cVAr93kgoxoAxd4WAekt0NamsL2O0mYRj21eui4/hsVlqsbbdodlxyaYvZsRxDhXSv3ef+M0yTbC5HsVik2WhQ2d7GD4LdT9tTYRThB/ECsPXtNhvlFtWmjesFaJpKNmUyXEwx0dtZN2Hp6Pu8BbmmaeQKBfL5PN1Oh1q1iuM4u5+25zw/pNF22a61Wdtqsl3rYHsBqqKQtgyGikkmhjKUCinSKTPusLKPFMCwLArFIqqq0mg06LRau5+25/wgomt7lOsd1rZbbNXatLs+URRhmTrFXILxoTSjxRS5TBKzD3qim4kEo5PTKMU5PtzYuz/Pv/mzVyhXKiCBWvQbCdRCfNmzEKiDMML1Amw3wA8CdFUlmdAxdK1vbqv3Y6Cm1x4vDCIcx6fjeNieTxhEKJqCpWlYpt4by3gTkv3Wr4EawA8jPC+ga7t0XZ8giF8lhq6SMI2H56SiKvt+i75fAzW917MfhHQdn67j4QcBUa8sxDQ0UgkD09Ae9krfb/0QqPfu//q77NTdCUFv2ytU2cBGiGeIpiokLZ1i1mKokKKYS5Aw9b4J0/1MBXRNIZ0yGCqmmBrJMTOeZ3okx0gpTSFrYRlaX4Tpfqf3zsNSPsXEcI7psTzTY3nGhrJfOCf7I/z0L02N+3sXMhZjpQxTI3mmR/KMD2Up5VOkLKNvwnS/2N8Zat3GaK/RrWxi211CmaEeeLqmMTQ+iZ+eYN1LUnWQGWox8J6FGepnQb/OUD9r+nmG+lnSzzPUz5p+mKHep0CtMJLWmUz75KIGQaeJ53lS8iFQVZV0vkhTzbLQUKnYoQRqMfAkUD8dEqifDgnUT4cE6qdnoAP1aMbgQEljPBlhRAFBrz5HDDZVUdESJhsdhVubLtsdD18CtRhwEqifDgnUT4cE6qdDAvXTM8CBGkYyJvPDFtM5nYSiSLmHgF75tKKprDR8bqx32e64EqjFwJNA/XRIoH46JFA/HRKon55+CNR793/dJQIiIqJIIYwgihQ55Hh47JwjQgghhBD9bt8CtRBCCCGEEN8HEqiFEEIIIYT4Fvathno4YzI/bDKdNbEUkBJqwSM11KtNj+vrXcpSQy1EXENdUEjZmzQ3luh2mrLu5AkpgGEYZLJZCsUizWaTSrlMIDXUT0xTVXK5HLl8HrvToVqr4Xre7qeJ32PnnMwXCuiaRr1ep9Pt7n6aeAymaTI8PolSmOH99b2bK+6LRYkSqMVXkUAtxJcZusLhIZ1i1MCtb+DYXaIw3P008XsYuk4ykyabzdFtt6nV64QSqJ+YqqpkMhnSmQyO3aXVbON67u6nicdgWCbZdAZV0Wh1WtgSqL8R07DIDQ3RtYZ4Z3nv3hslUIu+JYFaiC8zDZVT40lmCyoJxYcglPfMb0DTFDRNxzA1Aj/E87yHW1OLx6coYBg6hq4ThgGe7+P7Mo7fhKapGIaOooDnh/iev/sp4jFomoKiG6y24Re3mrsf/s5IoBZ9SwK1EF9mGgqnxlLMDVmk9d4bprwonpiqxAFG01TCMMLzA/ns+QaU3jjqmkoURnhBgNww+WZUFXRNjQN1EBHKBd43oigKaAorDY+f36zvfvg70xdt8wZRGEUPj2DX8ehjUhsphNgtIiIK6R1fbjUpx+8/QpSH1yFhBKGM4zc64nGLz8kwimQcv+0BRCjxmO5+TI7HO9iZZ9i//CSBeg/5vk+7Y1Nvtqk1Wl951Jsd2p0utu3g+b6EayHEQ1EIURTJ8Q0PoqgXWnYa3X/5OXI8/kFvLOPjy4/L8TjHI+Mnr+9vfoS9RL2PJFDvkSCKaHZsbt1b5t2Pb/Lb969+4fjN+9d4+/3rvPfxTT65do/bC6tsV+o4jiuhWgghhBCij0kN9R7x/ICFpXX+6j+/w5Ub92g0OrufgqoqWAmTXDbN5FiJ4wenOXFklqnxYTKpBIah7/6S7x2poRbiy0xD4eRYktl8grQh24h+U6r6ee1vEEgN9beh6wqGvjOO8SyheHKqqqDrSlxD7UWEoYzjN6EoCooGKy2PX9xs7H74OyM11PsgikI6ts29xTU+vHqXK1duc+X6Pa7fXeLWwgq3F1a4eW+FK9fv8/YH1/mbX37AX/71b/iPf/ceV27cp1pv4vvS3kkIIYQQot9IoN5DERFe4MfBWFEZHi5w7uRBXnvhND+4fIYXLx7nxOFZ8tkU1XqTj67c5q9/+QF//+5V7i1v0nGkz6cQQgghRL+RQL0PVEXByiQ4cXiGf/STF/m//ukf8mf//Kf8X/7ZH/LP//gH/Oi188zPjBNGsPhgjXc/vsXte0vUGy2ppxZCCCGE6DMSqPeBoihYpsnIcJ6j81OcPTHP+TOHefniCf74D1/i//xf/4gf/eAis5MjEIasbVVYWNykUm1IvZ8QQgghRJ+RQN1nNFWjlM8yPzPO2EgRNA3PC+g4No7rA9I9XwjRP4IowvN8bMel07Vpd2w6XRvbcaX157cURhFBGBCEkbzzP6YwgiAMcF2PTteh3YnPya7t4HlyPj6JIIpwPZ+u7Tx8bXdtB9f1CMJAzsldJFD3qyiMF/IroGsapm6iaZr8lQkh+kIYRTiOy9ZWlU9v3Odv//5j/vI//pr/8d/9nH/717/m57/9hBt3lqjWW7Kg+gmEvRDT7thsbddYXiuzVa7hyhqa38sPA1rtDgtLm7z90Q3+3d/8lv/h3/2c//F/+yX/4efv8/Fnd1nfLNPp2gShnJNfJ4giurbDxkaZjz+7y1///H3+53//Fv/T//ZL/upv3+a3H11nYWmTdqsj4/gI7c/hzwHe+tN/ufux74yiQMrUKKY0cpaGrux+xvdPEIZsVeq898ltlle3UDWVA9NjHD04xVAxSxSB5/vYjsfy2ibvfXKLT6/do9boMDU+zMUzhzh5ZJZSMRtvsfk9pSigqApNN2S75dP1ZEtbITRNYSRjkE/omNruR/deGEXYXYfFlQ3e/fgmb719hbc/vM5HV+/y2e1Fbt5Z5v7iOuvlGoEfkM0kSSbMuLXVPr5/KUrcpkxVFaKIvmlRFkQRvh/guB6NZoeV9S2u3Fzg/U9vcefBKr7nU8xnSKcSu79036iqgvZwHHc/uvd8P6BcqXPl+n3eevcqb719hXc/vsHVmw+4cWeJOwurPFjepNZoo6kqyWQCy9RRlf2dpFKU+HxUlHgc93sCPYwimq0Ot+4u8av3PuMXb3/KOx/d5OPr97h+Z4nb95dZWNxgs1wnUiLy6TSJ3mt7PymKgqJC0w1ZKDu7H/7OvP1Xf8G/6nZBAvXeeTRQL61sEYYh+WyaTCqJbbusbVdZXNnm1sIq73x8k7c/vMGDlU1y2RQXzxzhhfPHOTg7QTKZYJ/P2++UBGohvqzfArXvBywsb/L3713lP//qQ9795BYPljeo1lu02g7laoOltU2W17ap1JoYhk4xnyVl7dxp2x/9GKg936fTsVle2+bGvWU+uXaPdz66wa/eucI7H99kdbNCJpVkfnacQi69+8v3TT8F6iAMqNfbfHL9Pv/p7z/gl7+9wmc3F9gs1+h0PerNNmubFe4vrbO6UcYPAjLpBMVcFssydn+7PdVPgToEXNfj2u1F/vNbH/Kf3vqIj67eYX2zQqPZodHssLFdY2F5g+W1Ldodm0w6wfhICU3TUPcxnEigHtBA/WB5E7fjYHs+5VqTu4vrfHbjAZ9cv8f7n97iw0/vsLi8gWUYPHfqIG+8fJbTxw4wXMxh6Pv3YbQXJFAL8WX9FKjDKKLebPOrd6/yt7/6iCs37uP5PlPjwxw/OMPh+SlGh/KEQcB2tcnGVo1mq0upkGV0qIBl7d+sYD8F6p2ZwPtLG3x09Ta/fu8zfvXeZ/z2w+t89Nldbt9fYXurhqLGdzNPHJqlWMjs/jb7pl8CdRiBbbvcur/C3/36Y379/jXWNspkUylOHJ3j1NFZpidHSJgGjWaH9a0Kra5NwjQZGylQLGT27XykzwJ14AesbVX427//iP/y959w/8Eauq5y5MAkx4/MMDs9Ri6Tomu7bFcbVCpNwihgdmqMbCaJpmn7NlPdD4F6/86iQRZF4HtUqg3uL65x7eYCn928z7U7i9y+v8Ly2jZ228a0DIqFLLlMmoRloKr7c6IKIcSOIAhYXY9rK2/dXcbzfI4emOKnb1zin/+jN/gXf/Im/82f/JCfvXmJ2alRWm2bD6/e5sNPb7OxXcFz/d3fciAFQcD6Vo2/f/cz/n//+9/zV3/7Du9+dJPFlS1a7S5+2wHXJQhCot4/4svCIKBWb3Lz7hKfXr/PVrlGIZfhxYvH+T/9kz/g//iP3+S/+cdv8E//waucP30IyzJYWt3k0xv3ube4TrfrykLFnTURnsfNuyt8cvUuy2tb6IbGhdOH+ZOfvcK/+Mdv8i/+5A3+6z96lddeOE0pn2Vjq8aHn93jgyu3aTY7hME+Xln1AQnU+0FRQNPJZlKMjhSZmxplbnqcg9NjHJwdZ3piiHQug+v63F/a4PrtRVbWy3RlUYoQYh+FUUQQhNxbXOPeg1WqzRaFfIazJw/y4oXjXDp3lOdOHuTS2aO8fPEkp48dIJ0y6Zbr3Lq/yvJamY7jSXcAIOrNUC+ubvFgeYN2xyGbSXJ4bpzjh2dREhYoSrylt+S9r+UHAZuVBncX1lhZ3yYCDsyMc/nCCV66eILnTh7kwqnDvPz8SZ5/7ggTo0PYjsfSyhYLSxtUG62BD4L0LvCa7S53Fla4t7SO43gMlfLxOF44wYXTRzh/6jCXzx/nlQsnmJsegzBkeXWLD6/cpt5o4weDfbEsgXofKIqCkbKYnxvjjRfP8sc/eZF/8g9e4k9+9gr/9Kev8sc/fpnnzx5G11U+u3Gft975lI+u3mVjuyZX0kKIfeUHAXcWVtms1CGMGB8ucuzQNDMTw2SzSRKWSSaTZGpihMNzExRyGQhCNrYqrG5sY9v2/t7X7hsKqqaRzyY5Oj/F6y+e5b/68WX++A9f5gcvnCafS4G6z/U9z4AgCNgq11jZ2KbR7JAwTeanRzl+eJpCLkPCMkkmLUZKeQ7NTTE5VkJTVCqNVlzjX20S7GfNSh/YuVBuNjssr21RrjbQVIXJ0RLHD08zNlIkmUqQTFgMFbIcnJtganwIM2HitB3uLKxSrtVxXZ9ggF/bEqj3gaooJBMJ5mfGef3yaf6rH7/EP/rJK/zJT1/hn/+jN/i//fOf8Cc/e5Xjh2Zx3YAbd5b58MpdHixt4AfSokYIsX+8IGRlvUqraQNQyGcYLRVIpxIPa1HDKERTVRKWhaHrEEU0Wm0qtSaON9izWDtURWG4lOHi2SP80z96jf/7v/gp/49/8Uf805+9wrmTB+OOHvtUj/osCYK4pr9SbeA5HpZpUCrmGC7l2KmSDKOIKIJkwiSZsFA1Bdd22C7XqdWa+1pL3y+CIKTV6VKuN7E7LoZlMFLKU8xmsQwDhXgwFUVB1VQSpolhaOB5cT11o4PjehAN7sWJBOo+lExaHD4wyYHZcRIpC9dx2a5UqTZaBNLPVQixn6IIz/MIwwBFUdB1DU1XUBWFMAqxHZftcp0bdxb57PYClVoTANfzcT2fMJDwAqDrGuPDJV48f4IfvHCa+YddnCREP4mQuOWg68cr+lRVQdd0jF43GT+MaHdsFpbXuXpjgeW1bTzbx/NDWrZD2/EII9mkJOqF6sALIQjRFA3L0jFMrbeIN6LbcVheK3PlxgJ3F9dodxwIQrq2j2v36v0HeCAlUPchVdVIJExSCRNT1yECLwjwfJ8okh2zhBD7LPriEjkFBS8Iaba6LCyv86u3P+Pf/5d3effjGzRqDei12nPdeNc/ETMMnXQqQSadxDINNFl4/o1EUVyTHlNQlficdF2PcqXO1ZsP+M+/+oi/+/VHLCyvg+sQBAGu4+H0gqCUIcWpOh7HCBRQFBW1V+ZVqzW5cXeJX/z2E/765+9x484S2A5EIb7n4ng+YdjbkG5ASaDuMyHgeT71Rot6s43reaCApmnovZY08pcmhOgXEeB7AbVaixu3l/hPv/iI/+U//ooPPrtDo1cWQq+9WbwGZJA/csVeCMOIrhPv7/Db9z/j3/6HX/Ff/v4j1jarvfIOBSIIw5AgDJFrvK8WEeIGAVvlBh9dvc1//MV7/M2vPuD2wiqB74MWT/iFUTTwYRoJ1Ptv58o6jCKCMMJzPda3q3zw6V2u3XqA3bbRdJ1CNkMuk9rXTRGEEOJR8W3igO16k48+u8t//Pn7/PUv3uf2/TXGhgucOzlPaaS4+8uE+M5EUUTXcXiwssHf/upD/qd//yveevsKvhdw9vg8R+enIGnRKwkWv0Pgh5QrDX7zwTX+6j+/w1tvX6FWa3Ps4DTHj8yQyqWkzv8REqj3QRRFOI7LylqZ9z65xd/9+mP+868+5G/e+oB//1/e4d/++7f4D//lba7fXYIgYGykwJH5SSbG4t2IhBCiLwQhG9s1fvvBdf7Dz9/l3Q9vEgYhb754hn/8hy/z8vMnGS7ldn+VEN+Zdtfh1r0V/uaXH/K//vVvuXNvhfnZCX72wxf4w9cvcHhugmTClCD4e3iez8pmhb/79Sf8u7/5DVduLpBNp3j95bP80R+8wMkjc/HCWfGQBOp9EEYRTrvLtVtL/Lu/+S1/8T/+Nf/9/+c/8N//f/8D/+//4T/xv/zvv+LKjQWiIGRqdowXL57gwpnDTIyW5D1ACNE//IAHyxu89+ktVjbKjI8V+MnrF/kn//A1Lp87zmgxj6bKx4zYO+1Gm2t3HvDBlTt4gc/LL5zin/zsFX70g/PxQv+kIZ+jj8HtOty+t8ov375CvdHm5JE5fvbm8/z0Bxc5fniGTCopC2h3kXe6PaKgYPQ2cynmM5ipBEEUUK42WVovs7S2zfJ6ma1ynTCMGB0pcO70YX7y+kV+/Op5ThyZJZ9No8oJLIToA1FchIrt+FiGwfFDM/zw1fP8+AfnOXN0jkIxg27qD1uXqUp8yL128Z0KAjwvoJBL88bls/zjn77Eq8+fYG5yhFTSQlU+3x5bVVU0NV7EKHZxXbpdm6RlcvHsUX765vO8/uJZDs1Pku2VnyoooKioanwM+jBKoN4jiqaQy6Y4Pj/NpXNHefHCcZ4/e5SzJ+c5fewAp44d4MyxA1w4c4g3Xj7Hn/z4Zf4Pf/QqP/vhC5w7dZjR4QKGYez+tkIIsfcUJf4w1VSGSznOnznED185xyvPn+TI/CSZTPLhzPROVyJNVzENTTpZiKdOUeL+yACKZXJgaozXLp3mv/rRC5w/fYixkSKWacRdLHr/aLqGaRqYlonW658+yJTeOD6kaQyVcrxy6RQ/ef0CLzx3lNnpETLJBKqq9C6pI1AVDMNENzSUAQ/VchbtEVVRGS7meePFM/zzf/Qm/92f/iH/3T/7yReO//af/YT/9p/9iP/mH7/Jn/zRy/zw1ec4eWSWoVIOyzDkKloIsf8UBUPXUVQNNI2p0RIXzxzm3KmDTE8Ok+xtmR0S4Qf+w00zdN3AMAwUTd7IxNOjoqBrGoaugqKQSSc5cmiaF88f5/ihGQqZDLquEwGu5+G4HlEIuqqSSlqkEhaKpsnd395Fr25ocbI2dWbGR7h84Rinjh5guJTDMs24QUoY9/4OwwBUhWRCxzJNVFUd6FQ5wD/63lIVBcsymZ0e4+yJA1w4ffgrj+dOHubooWkmx4bJZ1IYhiF/SUKIvmGoKuNjBbLpBKDgBwFBEKKiPNwpkSjC6TiUyw26HRsUhUImTbGQIaHru7+lEN+YqilxKWUug27oRBGEQYAfRiiPLOL3/YDtcoNypYnn+1iWyUgpSzGfkbsmgKYppJNJCrkMZtKKX9u+j4L68GLj4RblnS6VRoNWxwZDp1TIUsilsCwDZYBn+wf3J98HqqJgmQaphEU6+dVHKmGRtExMQ0dTNfkLEkL0FV3XmJ+ZYKSYA01hq1Ln3sI6G5s12l0bx3Vpd7osr21zZ2GVar0NmsroSIHJsSESyXgGW4inQdc0Rko5JsaHyGZTuJ7D8nqZe0trNFvxdthdx2WrUufW/RVWNsr4fkghl2ZqfIRSITPwC2dVRUHTNLKZFDPjIwwVcxBFbFbr3FtcY6tcw7Y9bNulWmtyf3GdxZVt7I6DmbQ4ODPBcCGLZehoA/zaHuyzSAghxGOLP3hVDh2Y4MDMGNlsimq9xZWb93jv05t8cu0u1+4s8cm1e7z98U2u3nxAq2NjFnIcnptkemKYlGXKB494anRNZXgoz8HZcSbHhogiWFje4L2Pb/LBJ7e4fmeRz2494L1PbvPB1dusbWxjWTrTE8McmB6jmM+ianJGqppGNp3g0Pwk87PjmKZBudLg/Y9v8P6nt7hyc4HPbi/y/tU7vP3hDR4sb0AEEyMlnjt1kGI+iz7gd5+0P4c/B3jrT//l7se+M4oCKVOjmNLIWRr64F7QiF0UBRRVoemGbLd8ul5AKHutiwGnaQojGYN8Qsfc51b0iqJgaBrNVodKrcl2pU652mSjXOPB6jY37y7zwZU7vPfRTR6sbKDpGmeOz/Pj3pqQTCb5eWnIHlMUUFUFVVXi0oA+3CLP8wPWNir8/Def0Ky3yWRTHDs0zcmjc5QK2d1P3zeqqqA9HMfdj+6h3vkYRhH1Zputcp1ypcF2pcHqepl7S+t8cu0+7358g6s3HtBq28xMjnL5wnEuPXeUyfHSvs5QK0p8PipKPI77tQO6qigoioppGFTrbTY2q5RrDbarDbbKNe4vbfDZzQd88OltPr56l+1ynXwuw8WzR/iHP3qRibEhDFPft1p0RVFQVGi6IQtlZ/fD35m3/+ov+FfdLkigFv1GArUQX9Z3gdrQSCQsFEWh3emyXW2wsVVjaXWL+4vr3F9cY7vcIJVMcOroAX72xvO89PxJhoo5jH2cxXpWAvXGVpXfvH+NZrtLqZDl2KEpTh6do5jP7H76vumXQK0oCqqukrJMDE2n23Wpt1pslRssrmyyuLLJ3QerLK9uEwQ+k2NDvHThBK9dOsmRg1Okk/u7OUm/BGoATVVJJSwMQ8fzPBrNDpVqk9XNKosrG9xbXGNpbYtW26ZYyHLx7FF+/PoFLp4+TCJh7WstugRqCdRiFwnUQnxZPwVqAEVVyaQSFPMZCrkMmXSSdDJJwjJJWSaFfJZDcxNcOneEN19+jpefP8nkaAnD0Pd1M4hnIVCHYUSra1Ou1Cnmsxw8MM6JIwc4NDdBNp3c/fR90y+Bml4XLcs0yGVTFHJp8tkUqWQCK2FgmiaZdJKp8SFOH5vntRdO8+oLp+IOIPn9r5/up0DNw9KPJEOFLIV8mkwmSdIySVgmmVSK0eECxw9N8/LFE7zx8jkunj3aG8f9e13TJ4FaiSAC+Nd/eX33874zqgrDGZP5YZPprIml7P9JJPqDooCiqaw2Pa6vdyl3XHy/d5IKMaBMQ+HkWJLZfIK0QV+8IMIownM96s0Wy2vx5lTblTqO62HoOmPDeaYnRpiZHKGQz+zrzPQOVQVNU9E1lSCI8Pyg7z57/DCgWm1z8/4SnY5DwjIYHy4yNTHcV1s967qCoe+MY0TUBwPp+wGdrs3Gdo2llS2W1rZpdrpoKuSyaabGh5iZGGWklCeVtND1/b86VVUFXY8DtedFfXGRF0QRru2yXWuwtLrJ4so29UabMArJpJKMjRSZmxplbLRIJp1AV/d/HBVFQdFgpeXxi5uN3Q9/Z/7Nn71CuVIBCdSi30igFuLL+jFQ7wjCiMD38fyAIAgIovh1bGgquq6j6/q+z17teBYCNYDvR/iBSxjFu+xqatwfeL/qU79KPwZqdlq7+QG+H8TnZO/PpatK73zU0DStb/Z16MdAvSPoXTR7foAfxLchNHWn77eGpvfPOdkPgXp/73UIIYR4pmmqgmkapFMJctk0xVyaQjZNOpXEMo2+CdPPEl1XSFi9NqoJE3MfF3s9a1RFwTB0kkmLXDZFMRefk9lMimTCxND7J0z3O01RSFgm2XTy4TjmMilSybjOWs7JL9rXQB3vA987hBBCCCGEeAbtW8nHaMbgQMlkIq1gEBDu96oG0RcURUE1DDbaETc2HcodT0o+xMDr55KPZ8mzUvLxLOjXko9nTT+XfDxL+qHkY98C9UjaYCYbUdC6RG6HwPfkBSlQVZVEJkstSHCvBpVuKIFaDDwJ1E+HBOqnRwL10yGB+ukY6EA9lNIZtRwS9jbdxjZutysvSIGm6xRGRvASIyx3LaoOBBKoxYCTQP10SKB+eiRQPx0SqJ+OgQ7UxZTKiNZFa67SqqxjdzryghRohsHI+BRhdpI1L0ndVSRQD5Ao+vyDWVGUfe1Z3E8kUD8dEqifHgnUT4cE6qejHwL1vi5KJCLulxfGL0Y55GDn30hN/aCJogjf92k3W9QqVZqNJr7n7X6aEEII0Xf2N1ALIcQjXMehvLXN3Zu3uXfrLlsbW9i2QxiEvQstIcR+U3rHl/9DiMElgVoI0Rei3iYC25tbXL9yjY/e+YDPPrnC4r0Fmo0Gvu9/fidjYO387JEc3+CIer+M89+XH5fjcY/dZ+Tux+V43GPn/Sz+15cfl+Pxj+gLZ+be298aarWL1lyhVV6n25UaagG6YTA8PkWUm2DNS0sN9QAJw5B6tcata9d551fvsL24DLrO+MwUL7z2IrPzB8gUcpiGgaZpA1Vf/XkNtU5SB6TO8hvRVAVN0zAMFd8P8TxfhvIbUFHQdQ29V0PtBz6BDOQ3oqrxRjQK4Hkyjt+Uqiqg6qy1fX5xa39qqCVQi74igXpw7QTqm9eu8+6v3mH7/iJ4HpgGRi7HzPwsR08eY/bQAUpDQ1gJC01VB2JjKFNXODZqMZF0UJw2YeDJi+Ib0FQVy7KwLBPHdel2bfnc+QYURSGRsLAsC8/zsG2boLc1tXgyqqaSTCZRVRWna+PKupFvRNM0EqkMlSDFW/c6ux/+zkigFn1LAvXg+lKgvvcAXCd+UFEhm6Y4Osr0gRkOHjvE9OwsuUIeyzJR1e939ZqhKxwuauTCCt3yKo4tbUa/CV3XSafT5HI52u02tVpNNhX7BlRVJZPJkMlmsW2bZqOBJ0HwG9F1nWw+j6aqNJtNHNve/RTxGAzDID88hp8a493VvXtvlEDdZ+I7PHH9jwKoAzDj9nUkUA+u3xmo6b04DAOtkGN8apLZA3PMzM8yOjFOoVhA1/Xvbas9Q1c4mIekvUl9bYFuqxHXk+9+ovhaCmCYJplcjmKxSLPZpLK9TeD7Mo5PSNN1cvk8uXweu9OhVqvh2raM4xNSAMOyyBcKaJpGvV6n227vfpp4DGYiwejENBRn+XBj7yZY+qdtniCIIlzPp9lxabQcGm0Xzw+laZwQu0WA6xNUaqzcuMMHv32Pd3/1Wz55/0Pu3bpLebuC57pE3+caxEcWZe4s0JTj8Y6wdzz8vTAkCsMv/p4cj3eEva47j/y3jOM3P3Zez/K6/pbHPl/SSaDeZ67rs7zR4ONb67x3bY1Pbm5Qrnfw/UBCtRBfEoEfQNfGLZdZuHGbD37zPm+/9VuufPARD+4uUKvW8D1/9xcKIYQQ3xkJ1PsoCEPqLZvrC9u89eEib32wwNufLrGwVqfdjVuECfG9EMUzL2EYEPg+nuthOw7dtk2r2aJeq1MtV6mUqzTrTVzX+T2b+0Tg+dDu0tkqc+/WbT5572M+fOd9rn1ylZXFZRr1Br7nyetICCHEd04C9T4JI3C9kO26zfJGg9W1OuXNOg/WGixvNGi2ne/3rWvxzIsDckgQBPieh+e62LZDt92l3WrRajZp1OvUKlUq22W2NrfYWN1gbXmVlaVllu8tcf/uXW7fuM3Nz67z2SdXuf7pVRbvPaDZaMHjLBYLA3BsaNSprqxy+9pNPv3wIz5+/0NuX7vJ+uo6rUYTT4K1EEKI75AsStwnYRRRazp8emuDv/9kkZXFbfBCMHSOHx3nzRfmOXpgiISh7f7S7zVZlLi/dl6DD1+LUURcKhnXp0U7dahhRBiEBL6H73m4rofve3iOj+u5eK6L67q4joPjePhuHLg9z8P3fQIvwA1cPDv+fdfz8ByHbtem025DuwOuu7PbweNRFNBUMC0ShTzDYyNMzs4wOzfD6MQY+UIBK2k9kwsXHy5K7G5QW1vAbjcJw1BeF0/IME2yO4sSGw0q29v4QbD7aeL30DSNXKFAPp+n2+lQq1ZxnEcWEIvHsrMosVAsoqoqjUaDTqu1+2niMZiJBKOT0yjFuX1blCiBep8EYcRGpc2vP1ninavLtLea8bS1qpAbzfPTlw9x4cQk2ZSJ+mx99n8rEqj3z6Mzzp7rE4Z+/GvPx3NdfNfDdX1838O1HRzXwfc8nK6NY7s4ro3TdbFtG8e2sW0Hu9vBceJgHXk+BGE88xyG8fkehfBooHkkyH8rigKahlLIMTs3y4EjB5k5MMfE9CTpdBpV27s33KdBAvXTIYH66ZBA/XRIoH56JFAPaKAOI/C8gAdrdX7x4X0+vblJYLuga9B1IJPkzUvzvHpumtFSGv0Z+/D/NiRQfwvRTvPFLwrDMJ5NDgMCPyQIfMIgIAjCeLbY9/F7dc2e5+K5Po7dxbU9HNfB6TrYdhena9O1beyuTbfbxXVsQj8O4IHvE4RhvGAwCOKgHEUQ9EJzFPUC9CN/vugxSjq+LVWDZIJUscj0gRkOHz/C1Ow0hVKRZCr5zOy4KIH66XhWAvUXqv2U/qvNfFYCdb+P47MSqEPiz5cd/TjJJ4F6QAN1EEU02w7X7m/xqw8WWVipYSZ0hgspVhcroCmcOTHBDy4c4PBMiYQ5OGUfEqh7diZqv+InD8OIKAofziYHvk8YRIRRGAflMCD0I4LQJ/CDh2F5Z6bY9z7/tW07uF0b24kDs+O6BG5AEPi9Ug4//rXvxTuh7QTmnSOK4j9s+Ojs8h4E5SehKGDqkM4wPDLM7KE5ZuZmGZucIF8sPBPB+lkJ1PEHb0QQxKVBqqqgqUrf9Nbv50DthxGeF2C7Aa7nE4bx+OmaRsLQME0NTeuPseznQB2EEb4f0nUDHM8jDCJQFHRNIWHoWJaO3ifj2M+BOozAD0JcJ8D2PPzeTpiqqmAaOglLx9BVtD4YRyRQD26g9oOQtXKb9z9b4e3PVmg0HWbHcxyfG+Zv3rsPXZfxyTyvXzjAxROTpAeo7GMgA3UUx+YoDHthOSLo9XmNwogwjDu+hFFIFES4foDvOriOi2PbuF0Hp1er7NgdHLv337b7sCwjnomOw3XoB3i+R+D1yjkCl8j1464ZX5pd3plV/h78DSgKGDpGsRjXV89MMXdwnonpSXKFHJZpomr9efHa74E6jOKuRX4Q4jgBTTu+05FLW+QyCUx97z7gfpd+DNRhBEEQ0mzbrFc6bFZa1Bo2jhegayrZtMVoMcX4UJp8LolpaPseYvo1UHtBSLvrUal1WC+32Kq3sZ0QRYFM0mCkkGZsKEMplyTRC9b7qV8DdRBG2LZPpdVlY7vFVq1Lu+sSRREJS6OYSzE+lGG4kCKTMtD7YKdaCdQDGqgdL+DucpW3Plzgs7tbaJrC2cPjPH96kv/lb6+xtdHASpm8+twsr12YY6iQQh+QRP29C9Q7ZRhfKsfYeeXFtcueH+DY3Xjm2O7NHPdCsevYvcDsYHdtXDte8Oe5Dp7j4vTqmx3XxXMcHNclcr14UZ/rx50wxBcZBko+x8TUBAcOzTN/5CCT05OkM5m+DNX9Gqh3dnn1/JBm22Gz2mVlq8HaVhNDVzl1cJRDM0XSCWP3l+6LfgzUrh+3T712d4tr9zZZr7RptF18L0DVVDIJndGhDIemCxyfH2VyJEvC1Pd1kqUfA3UQRVQbDreXtrm9UGZxvUGl2cXzQhQgmdAp5VIcmCpw/MAwc+M5chlrX2eq+zVQN9suC6s1ri1s8WC1TrnewXYDIsDUVfIZi6nRPCfmhzh+YIR8xtrX8xEJ1IMZqMMImm2Hq/c2eev9Byyu1xkpprh0eornjo/zn359lw+vrxGFERdOTvLmpQNMj+UwdW3fT9i98CwG6p3zNuzNKoe9mebA79UWBz6eH5dQxOUXPr7r4O10x/C83gK+XtmF7dC17bh2uWvj2l26XRvHseMae8fttZTr51F5FihgaOjFInMHD3D4+BFm5mcZHhklkbT6Klj3W6AOozhEt7se9abNdq3NernF0kaTpY06tXKLoZEMP7p8iPPHJ8inrd3fYl/0W6D2gpBqvcu1e9v86pNFVper8YeEoaPoKlEYxneOFIVCMc25Y+NcPD7B9Hie5D6WAvZboA7CiEbb5fqDLd69sszNhUr8XmloKLoRv0f7PvghRibBmSNjXDo5weGZITKp/bvY68dA7XgBtxYrvP3pMlfvbuA2bdAU0I34DxyE4AVgGhyeLfHy+WmeOzKOZWr7enEigXoAA7UfRqxtN/ngszV+c2WJZsvl2PwQr5yd4dBMiY9urPHXv7lDq9Hl4Nwwr188wLH5YbIpY19P1r3Sz4E6DAJ8P4gX7nk7i/h67eJcH89ze/2Y464YnhPPGvu+i2PvzCbvLPKLg7Pt2HhdB9fzPu+AsVNmEYbxDx71fj8Iev8dSZh+apR4MXAiQXa4yPT8LPOHDzIxNUVpeIhUOoXWB8G6nwJ1GEU02y6LG3WW1uusbLZYKzep1rvYXa9XOhRSmsjz4xclUH+dMIqoN11uLm7z648WubNQBkVhZCjN9FiWTMrEdgM2K/HFimN7DBVSXDo1yYVTk0wNZ/ftM6GfAnUYQdfxuLdS4+0ry1y7v4Xd8chmLeYnC+TSCYIwpFztsLhRx245ZAspzh8b5/KZaeYm8mj7NFvVb4HaD0I2ym1+9fEi719bpd10sNIms2M5StkkqqbQaDusbsavd03XOD5f4qcvHY4n/oz9u3PSD4Fa+3P4c4C3/vRf7n7ed0ZRIGkopBUf1W3idlv4vrf7ad9LfhCyst7k5sI2yxtNdE3l8OwQx+dHKGYT+FHEveUqzZYLKhTzScaKKZKWgbpfZ+oeUjWNVCYHVpZWaOIESl+scYuiCN/z6XY6tJpNapUq25vbbK6ts76yzsrSMksLiyzee8DC3bss3L7Hg3v3WV5YZPnBEmtLK6ytrrG1ukl1c5tmuUK3WsdrNAg6Xeh0wXHiMg3P6x1+PKsSBJ8H7X2JUN9zYQieh9uxKddqVMtVVF0lnUmTzKTQNX33V+w5TVUoJsDw29itGr4X1zPuhyCKWNts8durK3x8c43lzSatloe3U3MfBBBCMpPg0EyJieG4RKEfaJqGZVkkk0lcx6Hb6RDu1ziGEZvVNlfvbHH9/jZ+x2FsPMelU5NcOjXN0bkh5sbz5DImnhewXbfp2B6qqjKUTzI+tH+BWlVVrESCRCLRu8NmE+zThUkQRdQaXW492Oaze5s0Gg65bIKzR8b4wflZjh4YYnaywEg+iesFbDVsbNtHUVVK+QSjxRSapu7LomQF0HSdRDKJoig4joPnuruftifCKMJxA24vlvnk1gZb2y10U+PUwREun57m1KFR5qeKjBYz6LpKpWljN21sPyCVNJkYTmOZ+r6dk5quk87mUJIF1tp792d4+6/+gn/V7YLslLj3XDeg0uhSrtsEfkDC0ilkLLJpA0WFfMYkn02ArtJou2xW2zQ6zsMVtmIfKcSbgqgquqZjmDqmaWKYBpqmoqFAFMUdN4IgLvl4uIugR+T0gnLgf7FkQwE0DRQ1vtpE6T20E6AlSO+JKCTyAnzPhzD+a5Fh/7IIaNse1WaXVttDUxXGR9Icni4wNpqDRH/MRve7IIyoN21Wt5rYbRtMnbnxAicPjjIznmN0KM3kaJbDMyXmJvNxaYLrs11tU6519+1CoN+EYUij5bBR6VBvOiiqysRIhqOzQ8xN5BkrZZgczjI/XeLI7BDDpQREEeVmh61Ki2bX2beL034ShhEdx2Ntu8VWrQNRSDGb4OjcEAenCkyOZpgYyTA3VeDo3DDjpQyoKs2Wy93FKs2OF7dOHWASqPdQGEGj41Kpdai2uhCFJJM6mq7QdXzqLQfXC0lZBqapEjge5WqXat3GcQN5A91HiqKg6zrJdJJ8scDIxCjTczMcOnaY46ePc+7ieS69cplXfvgab/z0h7z5D37CD3/6I1778Zu88sMfcOkHL3L2xec5evEsB04dZ+LIQYYPzJCbniI5OopeKkEhB5lMHEgMrReuxXdOUcA0sYaHOHruJJdffZljp45THCphGvtXX9nPNF1lopTh3NFx3rwwxx9ePsTLz81weLpIOilj9jhs16fWcqi3uxCEJFIGY8MphvIprF4nD0NTyaUsirkU2ZQFKDQ7HvW2g+fvz4xwvwmCiHrLplLr4No+pqkyUkgyPpTGNHQ0VUFXFdJJg9GhDKV8GlQFu+tTbtg0Wu4X+1UPoLA30991fCp1m3bHBU2jkEswNpQmk7LQNQ1DU0kndEYLCUaKSTRLA89jq9qm2Xbx/Lhd5qCSQL2HIiKqDZvtRoeO7YEfUm+6XLtb5hfvL/C379zjlx8usrRRx7XjOsRas8tmtU2768aTmmLfqKqKrhskrASpdJpcLkehVGRkdJSJqUmm52c4cHieQ8eOcuzkcU6cO8XZC2c5e/E8F154nksvv8CLr7zIi6+/witvvMYrP/wBP/jRG/zgJ2/y6o9e55U3f8ClN17j3Osvc+KVlzj80iVmL55n/MwJSkcPk56bxhofRxkqQT4H2Qwkk2AY8QYmivL5IX4/RYVEgsT4OAfPneHFH7zCpZcvc/K5k4xOjJNKp/flNnC/U1EZK6a4cGyCV56b4dKpKY7PDzM5kiWbMjH2uRXZsyDe3CvCdnw8L14rkTR1kpaJ8UiLQT+MsF2fju3hej5EIV4QYjs+na4EanpLSmwvpOPEpXG6opKyTJLW5xd2YRThuQFd28V1fegtqm11XDq2Szjoibq3/5brBtiuC56P0rsISZp6r/95PI5+bzFyx/YIggj8iLbr03U8PH9/1nX0CwnUeygMI6pNm2rTIXA9CCKcjs2D1Sof31jno+trfHprjc1yO253FsQrlzerXRptd+Bvp/SDuORDQVVVVE1D0zQ0XUc3dAzDxDQtEgmLZDpJOpshm89RGikxOjHK2PQkUwfmOHBwnoPHDnP0xDGOnz7BqefOcObCOc5deo7zl57j4gvP8/xLL3Dp5cs8/8oLXHrlMs+/9ALPv3yZiy9d4sKLz3P2+Qscv3COQ+dOM3vmFOOnjjF89DC5g/OkZ6exJifQR0egVIBcFtLpOHxbCdD1eGXwF45HwvjDUP49DEaKEv+8qRTm+AiTxw9z9tJzXHjxeU6dP83MgQPkCgUsy0RV96eust9pKuQzCWYm8sxN5BkuJUmljHhWVZNPlccVhAF+GDycKNFUNd4VV4kDt+uHVGod7ixXWFit0mg6vYXLEa4bxAuZBRG9MrveOhNFiTcT0jWVsLduqdF2ubde4+Zima1qJ96gKgxxvADHDQl7G7kOujCK4vLSCDQl3lRI7fWY9sIwXoy83uD6/W1WtpvgehCB7wW4bkAY9kkHgX0ib317JIzAdgKq9Q7NthPfYzE1NNNAN7SHZbMKComkDgkTDI3ACeISkWYX25EZiWeFosShW9M0dD0O2wnLIplMkMqkyPTCdq6Qp1AsMDRcYnRsjImpCaZmp5iZn+HAoYMcPnaEYyePc+q505y5+BzPXb7AxcuXeP6Vy1x66UUuvfIiz7/6Ii+8cpnnX36Bi5cvcO7iec5cOMvJc6c5duoEB08cY/bYEcYPzzM8N0N2Zor01CSJiXHM0RGMkWG0oRIU85DLxOE7kQTL+mL43h24H4buZyB0KjvdPJLow0OMzM1w/NQJLrxwkXPPn2f+6CFGRkdJpZNoEqR/L0NXSVk6SUvH0PZ/o5FnzU7miFdHxP+1M4RREGE7HhvbLa7d3+bqnS0W1+q4jvtwOUUQhri+TLDsiDe+6v1HbxyDKMT1Asr1LneWynx6a4M7SxUaLRf8eErW80PcXrtT0Zup7v1S6X2OAXh+SK1hc3+1ypXb61y7v0W52o2DTRQSBPEx6MMogXqPhFFErWWzXevS7nqgquSKKY7MDXHu6Bjnj41/fhwZ5/B0kWQmAWFArdmlUu/QtaXW6/sqnvFW0XQdwzRJJBIk00ky2Qy5QoHiUInR0RHGJyeYmp1mdn6WA0cOcPD4YY6eOsbxM6c4df4MZ58/z/kXLnLxpUu88OplLr/2Mi+89lIcul99kRdeu8ylVy5z8eVLnH/hAmeef45T585w/PQpDp84ytyRQ4wfnGVoZprsxBiJ0RGM4aE4bOfzkN01222ZYOhxWFX69O1EUeOtxzMZilMTHDl5lLMXz3Pu0nmOnTrB5PQk2VwWTd//9nhisAVBRMt2WN5o8MntdT65vc7yZhPbDUDT437A8drneEtt8WVRfDe463isb7f47O4W7322yp3FMp4bxrt29l7qYRTvTPvwSkV8QbzpWMhWtc3NB2U+vr3BjQdlai0HTVPi21XERdjhzqa6A0za5u0Rzw+5v1Lh2v1tNqsdLEvnyEyJ546Nc/LAMHMTBWbH88yO55kazZFMGDQ7LrVGhyBSyGUTjBTTlHLJfWtLsxf6tW1eP9npNPL57LeBacUhPJWKZ79zuWwviBcpDQ9RGhlieGSUkfFRxibGGZ+cYGxigvHJcSamJxmfmmBiapKJ6cmH/x6f6j02Mc7o+ChDo8MURkpkSwWSuSxWOoORSaEmkyiWRWgacT23bsQz27oRhwC998a7U1qyM6u9F6exrkEqRXJ4iJn5WY6ePsbRk8eZPzTfq5NO9dUGLl+nn9rmfZ1W12V1q8nSRgO75ZDMStu8rxMBHdtjZasZzz53XBJpi+FCCtsNuH5vm2v3t+naPsVcgnwmQRCE2LYPqsr4cIZD0yWKucTub70n+qltnueHrG42WVir027Z6JZBqRC3wru7WOHK3U22Kx2y6QTTY3lQoN52AYVsNsH8VIGJ4Qz6PrTOU/qkbV60szlOy+H2UplyuY1iaJTyCdIpk8X1Gtfub7O+3cTUNKZGsiQMg2bXI3Q9MHROHx5ltJSOW/zu8TjSJ23zJFDvgTCCju1z5c4Gd5YrdDsexVyCU4dGOXlwmPHhLPlsglzGio+0haaqbDU6rGy1CfyApGUwUkozPpRG69U0fR9JoH5KFCUO3o+UnhiGjmkYmAkrDt+ZVFznncuRL+YpDZUoDg8xMjbK6NgIYxMTcaCe6YXsmUkmpqeZmOoF8OlJxicnGJ+aYHxinLHJcUYmximMDlMYHiY7VCSZz2Fms+jpOHizE7x1PW4VqKpx2N759dM6t1UNTBOjVGT60AGOnjzGsdMnOHjkCKOTY6QzaXRD3/MP0G9KAvXT0beBuuUQ6hpBGMU7Tq7X0TSVQ9Mljh0YIpe2qDdtak0HFEUC9SN2B2qPuHSy3rS5t1rB9QJmxnKcOTTKzHiWZttjvdKGMJJA3fNVgTpSQNEUWm2X+6t1Wl2X4XyK4/PDHJou4QUhG9U2fseVQC19qPdOGIa0Ow5rW01aXQ/U3oxzIU0uZWHoKob2yGGo5LMJSrkkyaQOYUi95VBvOQ8XUAjxJHbCtaKqX1hQqT9cUGlgmEa8oDKZIJVJk81nyRfyDA2XGJsYY2pmmrmDcxw6foQTZ09x5sI5zr9wgedfeoHLP3iJl958lZfffJVX3/wBL73xCi++/jIvvPYil16+zMUXL3H+0gXOXDzHqefOcuTcKQ6cOs7kiaOMHz7M8MF5SnNzpCfGUYoFMK3Pi0qfhKKCaaENFRg5OMep82e4cDmukz509AjDo0MkEwl0/dkJ0+L7LYrie+VOx2FhpcbqVpNMyuTM0VHOHx/nyEyJoXwCY3dJknx6fzXbY2WzweJaDUXVODY3xKWTk5w8NMxIMY1lafEmafLy/93cgI3tNreXKvhBwOxYgXPHxjlzZIzJ0SzJXZu4yHDKS3JP+GFEq+vRdX10TaGQtRgrpSnlk5hfsbOQqigkLJ2hfJLRYgYzZaFo4HoetutJrZf4zn0xgO90MjEwzZ3FlUnSmRTZfDy7XRwqMTIyzPjkBNNzMxw8eohjp45z+sI5Lrz0PJdfe4lX3nyNN378Q9782Y/40R/9hJ/88c/48T/8KW/+0Y944yc/5KUfvsr5Fy8yf/ggWi4dz1o/LqW36DCdIjM5yvHTp3j5jdd4+fVXOX76FGMTY/GCQ02TIC36TxRBEKJoMDGS4YVTU7xwaor5qQL5TOILrfTone4DsHHuNxPGK+sK2SQXj4/z8nOzHJsfoZhLYRraF4KfqsTt4MRXCEIIIpIJg1MHR3np7DRnDo8xWkzH4/joKfnImvVBJoF6L0QRigIHp4o8f2yCy6cnOXVwmKF8Ev1reraahsrsaJ5LJyd56cw0Zw6NMlxIS5QWfedh+Fbi2W9N19ANo7e4cid8Z+KOJqUiI6MjjE2MMzkzxYGDBzhy/Bgnzp7i7MXnOHvhHAePHiZfKMRlG49LUSGd5uCp4/zBP/gJP/qHP+HMxXOMSpAWfU5RAFVBSZpcODrOz14+zPMnJxkrpuNZwN2f0gromkrCfILXxyBJmhw5MMTrlw7w5sUDTI/kSFlfMY6qQsLUSOhxa7jdE1sDz1AZG83wB8/P89r5WQ5NF8imzbjk9NGhUlQMXcMwNdR+XZi+Rwb7p98jhq4xOZLl8ukpXn9+jpfOzXB4ZphM2vzaF7GmKowMpTh3bJzXL87y6nOzHJsbJp9JfO3XCNHvHq3r/jx86ximgWVamAkL0zIef6GgYaCNDjF34Sw/+uN/wOt/+EOOnjhGoVTAMONe0kL0GwXQVA1D01B6i3UTps5IMcVoKUMqaaL1pk6j3l1OLwggDFAUhYSlkbTM3d92ICmKgq6r8Sy+omAaGkO5JGOFDAnLeDhpFYXQdQJsN+79ragKlqFjJPan5rcfaZqKqfUWj+sa2YTJ6FCGXDYuOdppjxkGEa4f4ochaAqGGY+/ujtsDxj5tNkDihqXcJTyKUZKGYYKKTJpA2On5cxXUJX4xV7IWgwX0wwXUuQz1u/8GiGeaUq8mOj3viHrGqTTJCYnmD1zihdeeokXXn2JE+dOMzE9RTqbQVW/eGtXiH6iKpBIaGTTFmnLBEXB9QJajofj+g8XSoZRhO0EtNsuXSdeuJ9M6mQSFpbVHws995uqKGRSBoWMCbpG6Ie0uy6dRxb3hVG8eLHasKm1HKIwxDI18lmLrGUMfNmHqsSTeKmETjadQDF1CKHjBti2R+jFOyCGUYQfxjslNloOjh2AplLKJMmkLAxDHej3XUlne0Al3nVoZ9GhrqqPtRGCqoCuxl+nayqaKvVeYoD1tgo3hoaYPDzPmYvnuPDiRc48f475IwcpDRVlh0PxzDB0lXzWYqSQBNMgcLyHXVIaLQfb9Wl2PDbLLdbKLZptF1SNQjZJIZdAl7svAGiaQj6TYLiQIpU08IOQzVqHpfUG9ZZD1/GxHZ9yo8vyRp1yrQ1RRDZpxY0BMgkU+WBFVRXSibibWCFrQRRSa9osrtfZrHfodDy6jk+t0WVpvc5GpQ2ej24ZTI5kyaVNdE0Z6Nl+eUUKIfqcErfZy2UpzUxx/PRJzl++yHOXznP4xFHGe23wpE5aPEt0VaWUSTA9nqOQS0AYsrze4JNbm1y7v8mtBxVuLmxx5e4G91ZqdDoepqkzUcowXEz37T5Ke01VFQqZBBNDOYYLKVBgq9zi+sIWn97Z4NaDbW4ubHP1zia3FsvUGjaaoTE2lGaslCadNAZ6VnWHoipYls70WJ7JkRzoGp2209utc5MbC9vcvL/NlTtbXL27weZ2CxQoFZIcni2RTvTqqwfYYP/0Qoj+pShgGpDLkZ6a4PCp45y/fInzl5/n2MnjjE1OkM3l0A1TgrR45iiKQi6dYH6yyKGZIaxckk7H49r9TX714SJ/9/49fvnBIh/dWGd9u4VhaEyN5zg4XWS0lIzLowSaopBKGkyNZTk0XWS4kMLzI+6v1PjlBw/4uw8W+Pn7C7x9ZYUHaw0AxoYzzE3lGR1Kx7W/8v4R30nXVCaHsxyaLjE+kgZVYXWzyfufrfDLDx7w8/cX+O2VJW4tVnA9n2whxeGZEgemCiQtY+DfhyVQCyH6h9JbZGRo6Lksuekpjpw9yeVXX+L5ly9x4sxJpuamyOZzGIa8gfcTTVWwTINM2kLLJclmLCxTkzK1r6EqYFkaEyNZzh8b49zhcUaH0wBsVtssrddZ227SdTxyKZPDs/HOuodmimTTlozrI3RdZbSY5uTBUU4fHmN6PIeuq5RrbZbXGixvNqi3uiQsjfmpAmcOjXBkukQh+/3eefhJaYpCNmVwZKbEuSPjHJopkc2YNLseq9tNVraaVBtdNFVlfDTH2SNjnD0yynA+3ply0M9J2SlR9BXZKXFwRVGE57g0anW6rTbZQo5DRw5z9PRx5o8eYnRijGw2i2EaA1cn/SzslOiHEb4foSoKhWyC2bE8ByaKFHNJ9D5ZTN0vOyXuUFQFU1dJJy3SSYNUwiBlmSQtnVTCJJ+2GB/KMD9d5Pj8EEdmS4zs9AHex/O/n3ZKpLcwUddVkpZBOmmQSZqkEgZJKx7PXMZitJTmwGSB43NDHJkdYmIoSzLx5X0g9pLSJzslPkrrlX5kkiaZtEk6YZCyDFIJk2zKZKiQYnYsz9G5EsfnRzgwUSCZ0B92pdkv/bBTohK3QId//ZfXdz/vO6OqUEypjKhdtOYKrfI63W6n7z4gxN7TDYPh8Smi3ARrXpq6qxD4spXNIIjCiE67y+baOlsbGySSSUYmxigOlTB7IXpQGbrCwTwkuxvU1haw203CMF553y9cv7f6v23jeQGWoVHMJUkmjH3/sN1hmCbZXI5isUiz0aCyvY2/j0FwRxBG2J5Ps+VQa9jU2g6eH6JpCpmESSFrkc8mSCUMNHX/ZwI1TSNXKJDP5+l2OtSqVRzH2f20PRdEEZ4X0Oq68Tg2bbpugKoqpCydQiZBPpsgnTTQ9cdrDvBdUgDDsigUi6iqSqPRoNNq7X7angujCC8I6dg+tUaHetOh6/qEESR0jVzGophLkElZmEZ/lMyYiQSjk9MoxTk+3Ni7z4p/82evUK5UQAK16DcSqAdXFEUEQYDruIRhiG4amMZgB+kdz0KgpvdBHPU+VJRenfB+h79H9Wug3hFEEWEYEYb0OlDH46eqCoqq9E2NZr8G6h1hFBFGEIZRL1co8e6SatyFol/OyX4N1DvCqPe+HMava3oVBqqiELdP75OB7JNAvXf/VyGE+B3iDRr03s6KaRKWJWH6GaMqCpqqoKvxv/sluDwrdtqrWoaKZWhYRrxhhtZHYfpZoCrxOWjqn4+jqavock4+kZ3+1PE4xoepqwPfHu/r7OsM9ahmo3fW6FQ2sG2bKL4sFwNM03WGxyfx0xOse0mqDjJDLQbeszJD3e/6fYb6WdHvM9TPin6foX6W9MMM9b4F6pG0zlQmIE+boNvE9Rwp+RBoqkY6V6CuZFmoK1TsUAK1GHgSqJ8OCdRPhwTqp0MC9dMz0IF6NGMyP2wylVExlYAgDHs1Y2KQqYqCohusNUOubziUOx6+BGox4CRQPx0SqJ8OCdRPhwTqp6cfAvXe/V93iXbis6KjKBaqmkBVk3IM+KGoSRTFBEXrvd0IIYQQQvS3fQ/UD4N1vCZcjoE/hBBCCCGeLfsWqIUQQgghhPg+kEAthBDPCkV5uENe3ONZjic5lF0HvXUbcjzZoajq5/cT4wbPX3qOHL//UBTl4Tju/Hr3c+R4vOPRsdwv+7Yocbi3KHE6a2IpPGwaLgabooCiqaw2Pa6vdyl3XFmUKAaeoSscLCiknU2am0t0Wk1pM/oN6IZBNpulWCrRajTYLpcJZVHiE1M1jVw+Ty73/2/vzp/rOu87z7+fs919ww4CIMF9ESmTlLVZlqzYidrudLbJTNKZdE91O5mqqZrM1PyWX13V/0D/BamaH6ZqqmYmnUp3uu3EsbVZokRxEcEVJECA2IG77/es88O5oChQtrkJuDS+r6qjongvIenRufd8znO+z/dJ02w2qVQqOLIo8YkYlkU2k0HvLkpsdbexFo/HtCIMjO4hyEzs2KJECdSip0igFuJhlqE4MmDSr+rYtTxOp0XgyafisWig6+HGQalMimarRa1cwXflxuRxaYZGPJ4glojR6dg0Gw3cjrP1beLX0UA3DRKJJLqm0Wg0sFtyY/IkDMskmc3RMPs4t+BufflrI4Fa9CwJ1EI8zDIVJ4ajTKQUVuAQeG53i2/5ZDw6ha6Hu3FGIhau69Ju2fjBF0vjxaPRNIVpmpiWied6OI6L63oyjo9Jdc9J0zJRSmHbLq67fWHwN4mua2iRKOtNxXt3Gltf/tpIoBY9SwK1EA+zTMULI3EmcxGSRlgpKJ+Jx6cUGLpCNzQ8N8D1fLn2PAHV3ZLaMBWeF+B5AVKB9GQ0LTwnUQrX9WUcn5CmQaAUizWHn9+sbH35ayOBWvQsCdRCPCycoY6xNxMlYUqaflKaFs5kGbqG5wU4rifXnidkGArT2BzHQHY6fkKapjAMhVLgOAG+L+P4JJRSKB2W6g7v3qpufflr0xMbu+xGPuD5AZ7v/dLDDwLk8ySEEEII8fyQQL1NPD8gXyhz9dZdPr5wgw8/vdo9rvGL89f45NJNrty4y935VSrVBrbjSrAWQgghhHgOSMnHNml3HC5MTfPTDy9x++4yzUYbuiUOmqYRi1rksinGRwc5fngv+/eOsGeoj1QihmHoW3/cbywp+RDiYVLy8WxIycezIyUfz4aUfDwbUvKxi/hBQLXW4vbcCp9fm2Xq6gxTN+4yNT3PtdvzXLx6h59//Dn/33/9gL/5v3/M//Of3+fi1G1K1RqOrPoVQgghhOhZEqi3TYAfBLiOS9sO+3XmsilOHJ7gGycOMLl3hIhpUVgpMjU1w3979zx/95OPOX/5NoVSVUK1EEIIIUSPkkC9zYLuo4lIMsKRQ+P84O2X+fM/+h5/8Sfv8MN//Q7vvPMq2f40xWKFTz+/xT+9f5HPr9+lVK7hyaMgIYQQQoieI4F6B2iAZVoM9mU4enicl188zJuvnuT7b3+TP/7Bt/nO66cYGMxRLFa5ePUOF6/eYWmtiG3bW3+UEEL0BL9b2nb/2PoG8chkHJ+NL42jzEeJr5kE6p2gKZRSWJZOKhYjm0nSl8syMTrI6ZMH+d63X+Lk0X1EohYr60WuTc8zu7BCtd7o7uolhBC9wfU9Wu0OlWqDQrHCer5EoVihXm/SsR15svaIvCDAdlzqjdb9ccwXKlRqDdptG9f3JFw/As8Px7HRbFOs1FjPl9golKlUa7TaHVzXk3D9hPwgwO3ujCmf64dJoO4RmgLD0Mlmkrx4fB+njx9gdKCPwHZZWFpn7t4q+XJNFvcLIXqCHwR0bIdiscbM/ApXrs7w8cUbfHj+Gh9fus7nN2aZX1ynUm/Idsq/gg+4rket1mRhaYMrN+c4d+kWH3x6lY8uXufy1B3u3FumUKzhdDa3ShdfxXU9as0Wy2sFrk/P8+nFaT749Bofnr/GxSu3uT27xEahEgZrCYSPzPM92u0O5WqdtXyJ1UKZZrMl5+IW+o/gRwDv/+lfbX3ta6MUxC2dXFwnHdHp7qT7G81xPeYW1vj8xixrGyUs0+DAvhFeOLKPoYEchh62xlNKoesa5WqD+cV1FlfzeAQMDuTYPz7M+Gg/mvrNvQ9SCpSmqNk++bpLy/FkK1ax6+m6YjBpkokaWD3SRbNjO6xulLl8fZYPz1/j3MUbfDZ1m6mbc1yfvsfd+RXWCxVUEJBMxIhEzLC1ldq5L/ywTalC0xRBwI63KPMB13EpV+tM3ZrjvXNT/OL8Vc5/Ps2V67Ncv7PAnfkV1tZL2LZNNGIRi1rohr6j40i33Zt+fxy3vrr9HNejXG0wPbvIJ5du8P4nU3xy8SZXbsxwffoe07NLLCznabTamKZBLGphmvqOX0+VCs9HpcJx7IWMulki4zourbZNuVJjYSXPzTsLXL99j7WNIsl4jGwqjqbt7PhtUkqhNKjZPnOFztaXvzbn/v5v+OtWCyRQb59HDdQAQRBQq7e4PbfEnfkVgsBnZDDH4f3j7B8f6ZkT+OsggVqIh/VaoHZcl+W1Ap9cusk/fXCRcxdvcWduOSz3KFVZy1dYWF5nebVAudYgGrHIpRNEIib6A991263XArXruBRLVS5fn+Un733Ge+c+5/qdBdY2SpQqNdbzZZZW8yyt5imUa0BAKhEjmYhhGsbWH7eteilQu75Htd7k+u15fv7R57z38RSfX59labVAqdqgUKyxuJZnbnGd1XwJ3/dJxqKkU3Eilrn1x22rXgvUjuvR7nSoVOusrpW4Pb/EpWuznLtwg08u3eTqrTlarQ4Te4YYHerb0c/zg3ohUP/mJrPnmK5ppJIxUokohq7hOj7Nlk3HdqR5vhBixzVaHa7cmOVnv7jEZ5dvUSpX6MukOHZoL2deOMSJI3vJpJOsF0p8fOE6P3nvM67dvkej1ZHayy4/CKg1W9yeW+bdjy7zwSdXWVopEo9FOXZonLOnDnPy2CRDfVlq9TYXp2b45198zqXrs+TLNXnc3uUHYHccFpbX+fjCdT48f53bc8tomsbh/Xs488IBXjyxn4nRQRzX5eqNu7z38RUuTN1mdb3UramWsaRbf14q17h66x7vnZviH35+nv/044/42//6If/lZ5/y4flr3JxZJF+q4riOlKBuIYG6BykNIhELy7JQWnjbajsutu3g7fRUgBBiV3P9gPV8mXMXb3L56gyVaoPx0UG+9+Zp/s1/9z3+4s++z//0x7/Nd984w3B/H4VilffOTfHRxRts5Cu4btiHf7fzPJ+NQpVL12b4+NJNCqt5ctkUb77yAv/2j3+H//nP/yU//JN3+P5vvcSBiWFarTZTN+c5f3mauYVVgkCuBQBBEM5O37i9wPlL09xbWiNqmpw5eYA//6Pv8pd/9n1++K/f4Q+//zrHDk0Q+D637y5xYWqamXsrtDvSPWuT6zjcnl/iv/z0E/7P//ef+b/+08/4p/cvcu32PYrrJZxqg3a7g+f5Oz6T3oskUPcohUJjsxYmIOjeiQshxE7xgwDPdbhzd4npmUVKlTr9fWleOX2U3/72Gd569QVe/sYR3nrlJD946yW+ceIAsXiU5kaJG7cXuLe0TqPtSLcKwPN91gslrk3PsbRSAKVz9oVD/OE7b/Cd107x0gsHef2lE/zOW2d59exR+nJp6rUG03eXuLe4sePlKr3CdX3WixXuzC1zb3kDAji0f4S3X3+Rf/Gdl/jmi0d49fRR3nnrLG++8gJ7RgdpNdvMzK8yt7BKtdHEl5uTsGba85m9t8qFqWmmZ+5RLVYIfBjsy5DIJGCHy2N6nQTqHhT4YW2d43nhTjCajmUYRC0d/Te4floI0ftc12d6dpl8qQpBwMhgH0cOjjMy3Ec8HiVimcTjUUZG+ji4fw+5TBKCgLX1EgsrG7RbrZ0vFO0B7bbNer7MyloJOh0S2RQHJ0eZ3DtMIh7BskxisQgjAznGRwbJpRPg+RQKFTYKZVxXQiDdzh7r6yUWlzeoNVrEohEmx0c5OjkRLoa1TGKRCP3ZNAf27WFsuA/d0KnWmiwuFygUq/gylvf5fkAiFuGFo5P83g/e4H/74e/zb//4e5w9eYhYIrb17eIBks56kN9dlFhrtHA8H13XiEVNrIi14yu7hRC7m+37rOUL1Jtt0DQy6Tj92STxWORLHRMMXSMaiWAaOgRQb7aoVJvYjveln7cbeUFAs9WiXKnTaLQByKTjDOTSxGMRdO2LhV5KKTRd6y7+Cqi32pSrDer1xgM/cffyfJ9KrUWp0sC1XSIRg75cir7+1P33+AGgIBa1iMQiaLpGu2NTKFcpVxtS17/ZutfUOXlskj/5/e/wwz95hz/7g7f5wdvf5MVjk/T3ZTB2eCFsr5NA3YNc12WjWKFUrhJ4HpGISSaVIBmLssMdfoQQu53v02h0cF0XBVimQcQy0VXY8cFxHEqVOtN3l7hzd4FKpQGEPavbto3vyWwgAdiOR7vj4HouKI1oxMKKGuhK4XcXiFWqDWburTF7b5VStQ6eh+d5NFptqt0gvtv5QYDtOuFOwr6PrmlYpknUCsOfHwS0W20Wlta5NRN2UHE6Lo7tUms0qTfbeJ4sTAQwDYNj+8f5nW+f5be+9Q1OHj/AyGCOeCyCoYedSMQvJ/Gsx/hBQL3R5t7yOqsbZfB80sk4w4NZMul4uGJRCCF2UBAE96s2wnZVigDodDqsrBc5f+km/+3n5/ng/DXKhTJ0W+2FC6sluMDmoq7u1Gm3DZ1SCpTCc11KpRpXbszy819c4qML11leLYLjhgHSdmm2t681WK8L/OBL55WuFAp1v53erbtL/PzjK/z0w8vMzC1Dp4PreXTaDu22LTXUXZpSJOJRMukEqWScWMQMe55rkqQfhaSzHuIFAa1Wm+m7i1y7Nc/KegkMnbHRfvaODdGXTd9fpiiEEL3Cd30qtUbYAu7cVf72Jx/x2eXbVGtflCX4foDvB90l1uIrBdBqd1hcLfDh+av8w88+5ZOLN1ldK4LvhRMqPvi+j+dL6cxXU+GstOOSz1e4cOU2//CzT/nZLz5naWUj7JQVBBAEeL6P5/uy4H8LTaain4gE6p3gB/iBj2271JotytU6+WKVpZWNboP/i3x+Y4Zms83oYI4XDk9ycO8e0qm4nOhCiJ4RAI7tsl4oc3nqDv/4/gX++cNLLK7kGRrIcfLoftL9mS+9X3w13/ep1prcnFngH9+7wH/+6SdMzywSjUeZ3DvK4GAOItb998tYfjXf96k1W9xdWOXdj6f4ux9/xMUrt1EEvHB0Hwf37YFYNNzlJ5CBFM+OBOodsNmIfjVf5tqteT65dJMPP53ix+9+xt/++CM++HSKtXyZbCbBi8cPcubUIcZHB4haX3yZCiHEjvN8NkphL+V3P57i/JXb1OpNjh2Y4O1vneLsqUP0Z79YHCa+QnerwUazw43b9/jp+5d475MpltbyjI3089rpY7x08iAjAznQw2aqUu77y7XaNvMLa3z46TX+8f3PuH13mWQixsunj/LmKyfZPzFMJGqGgVqIZ0gC9XYKy+MAsNsd5u6t8t65q/z9T87xtz/+iL/7ycf80wcXWd0okU7F+cYLB3jztRc4eXQfuWwSw+iNLT6FECIAcD0WVwqc//w2N2bugQ8vHt/Pv/zuy3zn1ZPsHx8i8sCsakiCzIMCwoWepUqNC1fvcO7iDSrVOicO7+W7b5zhrddPcvTAOKlkPGzF0N1CXUbxq9XrTW7NLPDJxZssLOfZNzbId157kd/+9hlOHt1HNhX/ov2sDKJ4hiRQbxuFoWlYhoFl6uAH5PNlrlyf5eOL17lw5TYLSxuYms6BiRG+/fJJfve3XuFb3zzB6FAfljRUF0L0lAB8j3q1Rr3ZYnggxxuvvMDvfvcVXjt7jMHBHBHLQu9eZTQFGkoyzFdxfexqnUKpSjQa4bWzx/nvf/fbvPnqSSbHR0gkYmibYVoLa1yl/O+X6NgUyzVcz+PMi4f4w+9/i+9/5yWOHBwnGY+jafr99rNad0HtF5uoCfHkJFBvE11T9GWSHNw3ysnjkxw9PsnRI3s5dHAPByfHOHFogldPH+P333mdf/c/vMOf/8F3eePlkwwP5DBNQ748hRC9o9tFAU2RzKQ4c/IQP/juK7zz5hmOH9lLPB5FU2Hnj80FX7qhY1m6fJdtuj8MQfhr0+L4wQl+77df5Y++/zqnju2nL5ciYnZ7/27W+2oK3dKJmltn/nevsDlKd0Atk4mxYd5+7Rv86b96i1fPHGN4MIdlGkC4KDYgQNcUlmUStUxkvzTxLMhptE0MQ2P/3mH+4F+8zv/yb36X/+OHfxQe//6P+N///R/wv/67P+Av/sfv8ye/9ya/9a3THD86QX9fCkvCtBCih+hKETGNcKMRw2TfnsGwzvfFw+wfHyEZj4EKOy04jhN2VQAihoFlWWibU9a7moahKwxDDzdx0XXSmRQvnTrEW6+e4vDkOKlEHEPTCQi7UYQ75wZoSiNmmcQS0a0/dFfSUBi6Hm4gpBSJVIwThyb49isvcOLwPrKZsFwy8KHdcenYDoEPhmkQj1nEohaaLjd64unJN9s20TWdgb4sp08c5O3XXuS33zzzpePtb73I62ePcfzQXgb700QtSz7gQoieozSNbC5FLGqBUpiWTiIRJRWLYFrddR5BgN22qdYa2B0HUMTjUdKJGJasBUFpimjEIpWME42ZoCsMXZFMxsik4xhGeGn2g4CO7VJvtGk0W+B7WKZJOhknk5RtoOn2747HoqQSMZShY+omsXiUVCoWhuXuddTzfSrVOpVqA9cLxzGbSZF+sKZaiKcgZ5EQQohHZug6+8eHyaZTQMDaRom5hRXy5SqO7QLgeR6FSp27i+uUqw1Q0J9NMzyYJWJZu341mAbEY1EGchn6cxkwDEq1JnOL6yytFrAfGMdSucbaRpFipQ5ALh2nL5cmFols+am7k65r9GVTDA1mSSZitDodFlc2mFtYo2M70N3jodFsMb+0ztJaEafjkohHGR3up78vc78+XYinIYFaCCHEI9GUwjQ0Dk+OsXdskEg0wvpGmYtTM1y6epubdxe5u7jG9N0lLly+zaWrdyiXaxCPsX/fCHvHh0jEI5vNKnY1yzAYHsxyeHKMdDZN0Opw9eYcH3xylRsz95hbWmdmbpmLV+8wdfMuhWIVZZlMjA0xNjLwRc3wLmfoOsMDOQ7sHWVoIEPHdpieXeKjize4enOeucU17s6v8Pn1u3x6eZqFpXVQGqPD/RyYGGGoLxOWLwnxlPQfwY8A3v/Tv9r62tdGKYhbOrm4TjqiY8j3guhSKnwcWrN98nWXluPRLcEUYtfSdcVg0iQTNdisqtgpgVLoCqqNFuVKjWK5RqnSYKNQ4d7SOrdml/j08i0++PQqs/dWULrGiSP7+J03z/LisUmSiTjaDj1iVyosEdA01W3/vIMNnZVCKfA8n3yxykq+TKXRpFCqsbxW4M7cMhembvPxhZvcvLNAs9Nh354h3nrlRV45fZSB/syOhmpNU+j3x3Hrq9tHaQpN03A9j2K1TrFYpVStUyzVWF4tMLuwwufXZvnws2tcvj5DtdJkz55+Xn/pOK+dPcboSN+OlnwoFZ6PSoXj2Gs9xn3fZ6NY4eqtOWbmV3Fcl4k9g5w+cYDx0UGMHrkZUUqhNKjZPnOFztaXvzbn/v5v+OtWCyRQi14jgVqIh/VSoEYpTF3HNMLuE822Ta3eolRpsLpeYn5xjfnFdfLFKhHL5Mj+Mb735hm+dfY4w4M5TNO8349/u/VaoDZ0LWwtaCia7Q71eotqvcnaRon5xXXmFtfZyJfxA5gYHeD1l47zxisnOLRvlOhD/b23V88EahUGatMyUECrY9NstqlWm6znKywsb3B3cZXl1SLtjs3QYJaXv3GEN755IuzvnYhv/ZHb6nkI1IVyjenZJZZWC2hKMTk+zIsn9jM2MiCBWgK16FUSqIV4WC8FagVouk4iHiGbSpBMxjBNA0WA53q4QYBp6IwO5jh1/ABvv/YNXn/5BPvGhohEIug7WO/RS4F6cxxjUYtcOkUmGScSNdE0hev6uJ6Hbmj059KcOLKXN14+wRsvn+TI/jHSycSOzfJv6pVATXeWOmptLtaMk4jF0HQdx3FxPBeUIpNOcGhyD6+dPca3Xj7BicP76M+ldzwQ9nqgDghoNjoUylVs16Uvk+LQ5B5OHNnLcH8WvUe69vRCoFZBd6Om//C3N7a+72ujaTCQtNg/YDGesoio3juJxM5QCpSusVxzuLHaotC0cd3uSSrELmWZihPDMfZmoiTMze31dpbnB7TbHTaKFeaX1lhaLVAq1+k4DpZp0J9JMb5nkMmJYQb7MliWueOdizQtXMRm6BqeF+C43o5fe/wgwLEdSpUac0t57i2vky+UaXdcDFMjl0qyZ7iffWPDDA9micUtDG1nQyCAYYT19OE4BgQ7PJB+EOA6LpVqneX1EvNLayyvFmm2bTQNUok4I0N97BsbZGQwSyoZxzStHa/n1zSFYYSB2nGCHb3J+ypeEFCuNZhfWGVlrYjreQz0pTm4d5TB/kzY9rEHKKVQOizVHd69Vd368tfmP/7lGxSKRZBALXqNBGohHtaLgZrNMOi6dNo2zVaHtuPg+z6arhEzTWKxGNGIiWEYOx5c6NFATXccPc+jY7s0W22abRvP9dC6m4/EoxHi0Qim1Tv7EvRaoN7k+h52x6XZatFsOziOi9IUpmEQi0WIRyws08DokfaNvR6oARzXw7YdOo5L4PlYlkEkYmKZvbODswRqCdRiCwnUQjysVwP1g/wgIAh8Aj/cHlsprWfC36ZeDdQPenAcIez7rVTYYaWX9Gqg3uQHQbi5pBcOZO+ek70fqJ8HvRCod6z4RQGK8CTarB+SQw4V7mYshHjOaEqha/r93f96Lbg8Lx4cx3AslYzlE9CUQlfhbpRyTortsEOBWnUDdYAWeCic8AjkkMOFwAN2eJWLEEIIIcQj2qGSD8VQ0mAirRgw2+C08Vyn5x4Zie2naRqReJK8G2Gm6FFs+VLyIXa956Hk43nwPJR8PC96veTjeSElH89GL5R87FCghv64xqDRIdJao1neoN1uEciJtOvphk7/8Ch2YpiVdpRSBzwJ1GKXk0D9bEigfnYkUD8bEqifjV0dqHNxjUGthV5bol5YpdVqygdSYJgmAyNjBOlRVpwEFVtJoBa7ngTqZ0MC9bMjgfrZkED9bPRCoN6hGmohhBBCCCF+M0igFkIIIYQQ4ilIoBZCiOdCuLXuF1sVy/G4B0p123MqlNY9vuJ9cvzqI9y+XXvg1w+/R47HPzT94d+T49EOTVfdnu071xpRaqhFT5EaaiEeZpkaLwzH2JsziGsBvu9LIfUT0DWFrmuYponnutiOhy/XncemKcL+zrqOF/i4rofnyTg+CV0pTFNHKQ3HdXG7G9GIx6NpGko3WG54O1ZDLYFa9BQJ1EI8zDIVx4YijMQ8tE4d3+0QdHeCE49GAZquEbEiRKJRnE6HZqsl4/gENKWIRCJEIhEc16XdbuN7nozjY1LdIBiLxdA0jVa7g+PYW98mHoGua0TjSQpunA/vtra+/LWRQC16lgRqIR5mGopD/QZpr0insEq73ZAg+JgUYBgG8XiCdCZNs9GgXC7j+76M42PSNI1kIkkylaLdblOrVXEdR8bxCRiGQTqVRtM16rU67U5761vEIzBNk0z/EG5iiE+Xtr769ZFA3UN8gCAg6P6PUN32L7t1+20J1EI8zDQUBzIQa61TWZ2jVa9KoH5MCjAti2Q6TS6Xo1arUczn8VxXxvExKEAzDNKZDOlMhlazSaVcxm63ZRwfkwLMSIRMNouu61QqFVqNxta3iUdgRaMMjY5Bbh8X17ZveaC0zdthPuD5AR3Xo9l2KNU6bJQbbJQaFCpNqvUOzY6L4/lS3yeEeMAX/X6DIPy1HI92+N3j/u/5PoEffsdufa8cv/zwg+7YBQHhTFD49zKOT35sfp7lc/2Ux5e+K7efBOod4Hk+tabN8nqNm3c3uHxzhc+urXD+2jLnry3z+fQq03N51osN2raLJ43ehRBCCCF6lgTqbeZ6AdW6zfxKhQs3Vnj3s3l++sks//zpXX52fo6ffnqXn3x0h3c/m+fy9CorG3VabQdXQrUQQgghRE+SQL3NWm2HmcUS56YWODe1yMx8gXKpQbtp02nZtBttSoU6t+5u8NHlBc5fW2IlX8O2XSRTCyGEEEL0HgnU28jxfObWKlydWePWfJFGrUUkZrJ/Xz+vn5ng7VcPcPbkGIOjadAUxUKdqdtrXJ1ZZ73UkP6UQgghhBA9SAL1NvGCgFrTYW6xxPxqmVazQywZ5eTBIb59di9vnt3Hm2cmePub+3nzzCQHJ/rAMCiWGtxZKLGUD0s/hBBCCCFEb5FAvU18P2CjWGdxvUqp2kbpGuNDKU4eGuLE/iEmRjKM9CfZP5bj7LFRjh8YoD8bAy8gX26yUahTbbal64cQoqfJc7Rnw5exFD1GzsdfTQL1NvG8gKX1GhvlJk7HIxk3GR9OM9KfIB41MDSFphSGpkjGTMYHU4wNJbGSETSlaHZc2h1v648VQogd5QUBtuPRaDtU6h2q9Q6Vhk2z42K70vrzcbieT6vjUmnYVOptqvUOjbZDx/Gk29NT8ANw/QDXD2Qt0mPw/ICO41Jv2pS7n+1aw6Zlb7b13fondjcJ1NvABxzXY71cp9awwQ9IxCIMZROkE1F07cv/G3RdYyAX58jeAV48NMyRfQMM5xJEIvqX3ieEEDvFB2zXo1xtMbdcZur2Gp9dX+aTqSUuXl/m+sw691YrVOodXF/mtn6ZzbBXa9gsrFW5PrPOhRvhOJ6/vsTU7TXmlssUK03atis3KI/ID4LwBsV2Kdc6bBTrlGstHNeTMfw1/CCgbXsUKk1mFktcvr3K+etLfHp1kUs3V7h5N8/yRo1Gy5YbvQfoP4IfAbz/p3+19bWvjVIQMxUJ5aLZNexWHdf9za0P9v2AWrPN59NrrObreJ7PYF+co5MDjAwkMQ0d9aWdERWmoZFOWIwMJNk3kmHPYIpsMkbE+s0O1ZquE0+mIZKi7lt0PEUg12Kxy+maIhcF023QrpdxHZtgB0OBD9i2y8pGg2uzeS5Pr3BjrsDscpnF1TILa1UW1qvkKy0c1ycWMYhYOkppW77rtpeu60QiEWKxGHanQ6vZ3NFw5QfhZEup2uLa3Q0uXF/h2uwGM0sl7q2WWVqvsrhWY71Up9ly0TWNqGmgGxraDg6kpmlEolGi0Siu49But/G8nX+CGt6c+HQcj3rDYaPc5N5KmZvzee4slHA8n0wiimXqaD2wHbECdMMgGouhlKLT6eDY9ta3bSs/gEbT4e5qhc9vrXFpeoXpuRJzKyUW1qrcW6+xvF6jVGvj+T6xqE4kYu7o+Uh3HBOpNCqWZaWxff8u5/7+b/jrVgtkhnp7+EGA44SP8hw3AKUwDB3TMB6anQbQFEQsg4Fcgr2jWfaOZBjMJYhFja1vFUKIbed5PmuFBtdm18MZq7kCS2s1StUW1aZNsdpmcbXK9ZkNLt5c4frdPIVqSzoVbeF5PuVam1vzeS7cWOba7Dr3VioUS00aTZdyNdwA7NZ8gc+nV7k2u85KoU7Hcbf+qF3ND8B2fWoNm/VCI5xVnV7l46lFfvH5IuevrnBtdp31QgPbcdnBe6ie5gfgOB731qpcvrXKpekVbs8XWSvUw3Kuhk2+3GBupczVO2tcvrXK7EKZdkc2oEMC9fYIAnDcAM/tbteKQukK9Svu6HSlMHWNqKkTsXRMQ0PvgTtqIYRotl1ml0pcm9ng3moF1/Hpz8Y5MJbj2OQgh8Zz5DLRsO/+QpFLN1eYWy7Tajty4e3yg4Bm22VpvcrVO+vcuVei2XJIJyPsn8hxfP8Ah/f2MdiXwPcCFterXJvNM7NYoFKTBeqb/ABsx6NQbnLnXoELN1c4d2WRj6cW+ez6MjdmNlhbLVGqtKVk5tfwg4Byrc3t+Tw3ZtZZ36ijNBgdSHJkop+j+/rYO5whGjEoVjtM3ytydXaD9WLY1ne3f7QlUG+TIOCLfebV/b8IIcRzxfMDipUGtxcKLK5V8LyAPUNpzh4b5q0ze/mtl/by1jf3ceboCIO5BG7H485CiTv3ipRllvo+P4BKvcXsYpnZpTJey6YvE+PFI8N858xe3n5pH995aR/fPLGH8eE0ng9L6zVmFsusFRsyy9oVBAGNtsPd5TKfXF/i4yuLXJleY3GtSrNhg+2A4+N6gYzZr7A5O720UWVmqUyx3AJNcWA0x6unxnjzpX185+wk3zo9wfH9Q8RjFo1qi5mFAtMLBZptZ9ffrEigFkII8Uj8ICxTWN6osVpo4Nge6aTFwfEsxyYHODTex8RohoPjOY7vH2T/nixWxIBGp9vlqIHt7HytbS/wfJ9yrcNSvkqj1gJDZ99ojlOHhzk00c/ekQz7x3Icnxzg4FiOVNwk6Dis5etslHa29ruXBEFAp+NQqDTYKDXp2C7JmMHoYJJ9ezIY8UhYRyl+Jd//4onJWrEOXkAuFePEgSGO7x/gwFiWfXuyHJno4+SBfvb0JwAoVjvM3itQb9n4vr+rW+tJoN4GSnWPzVnpL01XCyHE88P3A1YKzW7HIkgno4wOpujPJojHTaKmQcwy6U/HGOhLEI0ZEPhUGm2KtQ62LY+GAWzbo9LoUK51wA2wYhYjA3FG+5PEYxaWqRO1DHLpKH3ZGPGYAUFAtWVTrXdw3d0cXb5MKbBMk6FcnOP7B3n1xQneOr2XU4eHyaYioEug/lX8zRKkjkOh2qbecEBX5NJRRodS5NIxopZBxNRJJSIM5JJk01EwDOg4LOebVJud8OnTLr7Rk0C9DRRgGhqGqe6vcA98H98Pfmmu9oJwq3Lb9bBdT+qThBA9wQ+gUmvT6bigIB4zSMVMIpZ2f9LADwI8P0BtXmQCaLVdmi0b15cZah/oOD7Nlk2n40AQkLB0kvEIUUtH716Zg8DH8wMCL0ChQRAG8ZbtyL4EXUop4lGLydE0L58Y5c3TE7z+4hinDo+wdzRDJGrKDPWvE4Q3yrYdfkYDx0HpimTcIhkx0PUvusp4fth7HqVQGuD61Fs2rZaD4/zyTLMbSKDeBkpTRCydeNTCMnQIAhzHw/EcfN8Pz+YH+EHYkipfajC3XGF+ucJasUGrtbPtdIQQwvcDHNfF9QNAoSsNzfgiTLueT73bU3lhrUq9FbZEdVwf2/bwZWaAIADP83A8rzuOoBsapq7dX6zuB9Bquazkayzla9SaHQgCAj+g1fFoduR6QLelZDJhcWC8j9NHRzky2c9gLkksaqCURJzH4fsBtuuDH6ArRcTUu5/t8CbZdjxKlSbzi2U2Cg0C24XAx3W87uZD/tY4s6vI2bYNdKWIRS3601FiEQMCaHQcyjWbVtt56AmJHwTkK00u3lrhv310m5+cu8OlWyuslaVuTgixk7rfP0HQfbT7xfdRANiOS77U5MqdNT64NM/lmyu4lTZ0W8SFC8PkO2zTgyMRxujNWcCAar3DrXt5zl1Z4uLNVerFBrgedOvYO1KLft9mVyzjgZlU8aTCs/KL81ERAO2Oy/JGjYu3Vvjg8hzz9wrQcSEA1/Vxbb87Qbh7SaDeJrqmGO5Pkk5GQVfUmzZrhRrlavuhVe+O47Gar3Fnocyd+SJLazVqTUdmdoQQPclzfWqNDvdWKpy/scz7F+dZWq+iKwWmXGYeVTj77LKcr3HxxgofXl5gZrFAu+2CpoUH3cyzu7OL2AYBwf1e6dPzBT65usTFG6th3b9pgNndaE6WhYEE6u2j6xoTQxmG+5PEoiatlsPcSoXZ5TLrpQaNtkOr41Jv2iyt17h9r8jiWgXXdrAiOpmkRSJqSLs9IURPsR2fjVKLG7N5Pr2+zNU7G3Q6LuMjGQ5P9hNLR7f+EfEVfD+g2uows1jk3JUFzl9bolTr0J+JMzmWJZWLg6HJJUBsCz+Aju2yVqxz6eYan1xd4s5CCV3TOLy3n8mxLHrMkvPxARKot4mmKfpzcSZHMwzlwnYzy/k6V26vcfnmCjdm89yaL3Llzhrnpha5MZunXutgRiz2DKQY7U+SikdkbYUQonf4PuVaixtzeS7eXGFmsYRSAS8cHOLlF/ZweG8/yZi19U+JhwS07LBf9ydTS0xNr9Fo2+wbyXD66CjHJvvpS8VA784ICvE18zyPjXKLK9OrXLyxwtJ6jUTU5NThQc4cG2V8KIVlyfn4IAnU20QDIqbO5J4sBydy9GViBLbDzGKJT6eWePfCHD8/f5f3L85x4eYy+UIDdI2JkQxHJvoZHUgTicjW40KIHuL7FEpN7i6WKFSapOMWJw8N8vILezg0niObiqAbctH9VYIgAC+g2egwu1BkdqmEbmqcOjTMS8fDRXYDuQTW5uN1IbaD7bGar3Nrvki91WHPYIbTx0Z58fAI48Mp4hFD6tW3kEC9jXRNMZRLcPzAIKePjjA50U8yZlJp2MyvVJhdKrG4VsfzA/r64pw6NMRLx0Y5ONFHJhlF36yfE0KIXuCFixPjUYMDe7KcPjLCyQPD7BlKEY9aGHrYIQDCZsFKqS/68YsvBAE4LoapsXc0w0vH93Dm+Aj79mTJJSNEjAe++xUoDXRDxlF8jTwffJ900uL4/gFeOj7Eif39DPfFiZj6/W40AOgKrbvfxm4mCW2bxaIGE0Npzhwd4dWT45w5NsqhfX1MDKcYG0oxuSfDC/sHeeXUGK+dGuPEwQEGcwksS5dyDyHEjlPdVqCaAgxFPBnh0EQ/p4+OcGz/ACMDSSzTCIPzAx09dE0LQ6Bcde7351bdPsooBabB3pE03zw+ypmjI4wPpUnGTIxumA4eWPllaBqWLPYUXwO1+RddI5WMcmIyLPE4ONFPfyaGaego1BeNfpSGoSl0Uwv7Uu9iu/w/f/tt9sycGM5w6vAgr50a463TE3z77D7ePLOX75zdx5tnJ3n5+B6O7B1gIJcgFtFloychRA9QKF1hGUb4xEzTyKai7NuTYWIkw0A2TtQyut9XAY4bhL1pAcvUiBi6PCbu0jUd09AxNAW6hhk1GB/McGi8j+G+VDiOmsIHXC8Id0YMfJQK9zWImubWHynEU9F1DVPXwxs8QyeXibF/PMvYUJpMKoJp6GEbvSDA8fzws62DZelETB1dGbt6kaIE6h2gd78Q+zNx9o1mOXFwmDNHRzh7bJRvHB3l2GQfewZTJONm+GUrhBA9QlPhduPWA2s6dKUwdIXW/b7yA2g7LrWWjeN4oCAa0YnHLAxD39UXXbpjaFo68aj5pYVduqYwDO3+o3M/CHBsj2bboeWEOyqapk40YhGNypoa8YyosCNjxNKJxa2wJZ4W7tiu6xpGd0bPDwL8wKdluzRaNh3bA00jmbCIRa3w3N36s3cRCdQ7bPMLNGIaRCwDw5DG9EKIHqVAaRojAwnSyQgojXK1xeJGjUKlTbvtYrsebdulUG6ytB720EcpcqkY/ekoEUOTCw9gWRqZeJRcOgamgdOyWSnUWN6o02o52K5Px/YoVFqslxrUGuE4ZuKRB2YLhXh6GqBpGvGoxUAmRiphQQClapvl9Trlagvb9rAdn2qjw0qhTr7cBMdFWSaj/SnSCQvTULs6v8j3Wg/QujMWmpQXCiF6mNadBBgbTLGnP4UVM2k2bO4slLh6Z52bcxvcWShx6+4GU7fXubtYxO3YqGSUsaE0A7m4tNrq0jWNbDbK3qEMqUwUvIC5lQqf317l+twGs4slpufzXJtd5+5SmWbTQUVMRodSDOcSu34BmHi2NKWIR8I1XnsGU6BrlGttbtzNc202z/R8kdsLRa7fzXP1zjorxToo6M9EObK3j1QssusbJ+zu/3ohhBCPRVOK/nScg+M5xroX3tWNGhdurPDuhXneuzDHuxfmuXBjhXypiTINDoznODSRI5eKYehy2aE7iZJLRNk/lmVyNAtRi1qlzeXpNd67eI93L8zx7sV5Pru+zOJaFYDRgSQHxnOMDCSkW8ojUGHVP6BJF4pfQ1NgGBrjw2kOjecYyMTAD7i7XOLc1CLvXZzjvQtzfHx5keuzeVoNh1gyyv6xPg6M9RGLGqhdXqIq32xCCCEemaYgFjM4MtnHqcPD7B3JoOuKUqXFnXtFpu5sMD1foFxpYRg6+0YzvHR0lANjOWJR6V27SVMq7Po0kubMsREOT+TQTYNmvcPsvSJXpte5OVtgPd8gCAJGBpKc2D/A4Ykc2VRUuj79GqrbQSViaOimjmXp6HrYulF8NV1TZFNRjuwb4PiBAfqycQI/YGW9xo3ZPNfubDC3XKLVtInFTA6OZTlxYJDh/gSmlHKh/wh+BPD+n/7V1te+NkpBzFQklItm17BbdVzX2fo2sQtpuk48mYZIirpv0fEUQdgkQIhdS9cUuSiYboN2vYzr2OGGIDtEU4poxCSbitKfiZGKh4sNlVLouiIRMxkfznDq8DAvn9jDsclBsunojs9O67pOJBIhFothdzq0mk38nRxHTWGZOplklIFMglw6ghHRwvZ4SpGImowMJjl+YJCXjo9y8uAgQ/1JLMPY0dlWTdOIRKNEo1Fcx6HdbuN53ta37RilwoWxruPR7jgkYibD/UkOjOUY6U8RtfT7C2h3kgJ0wyAai6GUotPp4Nj21rdtK01TxKImfZk4Q9k48VgknHnWwm4e2VSU/WM5zh4b5fTRPRwYz5GImTt+o6wbBolUGhXLstLYvn+Xc3//N/x1qwWA2uxs+R/+9sbW931tNA1ycY1BrYVeW6JeWKXVau7oBUL0BsM0GRgZI0iPsuIkqNgKz73fflWIXck0FAcyEGutUV6Zo92o4fv+jn8uXD+g3XIoVlsUqy3qbQfXDdB1RSpm0p+L05eOE43o6Dt8wQUwLYtUOk0ul6NWrVLM53F7IAj6QYDteJRrLTbKLSr1Do7jY3RvTrLpGH3pGImYia7t/MIvXddJZ7NkMhlazSblUolOp7P1bTvK8wPatst6oU6z42Joimw6SjYVC2dTd3gM6QZqMxIhm8uhaRrVapVmvb71bdvOBzzPp9lyKFSaFCstmrZLEIBl6GSSEQayMdKJCJbZG60wrWiUoT3jqNw+Lq5t3437f/zLNygUiyCBWvQaCdRCPKxXAzWAFwR4foDv+XhBAB6gh7PYhqah6zsfADf1aqCm22rQ8wM8z8MPAgIvLMrUlELXNXRNoffArCrPSaCmG6o93w83Iek+6dG1sJ66F/RqoN7kBQGu5+P7Ab4fftsoFX6eDUOhqd4Zy14I1Nv3T/1lVLe9RY984Yqd98WZIOeEEL1OVwpL14haBomISSJukoiYxCyjZ2YCnweaAlNXRC2D+OY4Rk1iEQPLCAO1eDy6prCMcNORqKlj6r0TAJ8HulJEDJ2YZZCIhudjPGIQtXSMHrox6RU7NEOt6I/rDFgtIs01muU87XaLoHsHJHYv3dDpHxrBiQ+z0olS6iAz1GLX6+UZ6udJL89QP0+elxnqXtfrM9TPk16Yod6ZQK0U/QmD4bhHiiZ+p47nOlLyIdA0nVgyRTWIs1DXqLR8XFmUKHY5CdTPhgTqZ0MC9bMhgfrZ2bWBWilIWBrZiEbc9FCeSyCtHAThyaEbBg3XoNjyado+8uBC7HYSqJ8NCdTPhgTqZ0MC9bOzawM1m7VNOhiaQsllQTxIKdwAOk642EmI3U4C9bMhgfrZkED9bEigfnZ2daBGlpyJX6Z7YkgFkBAhCdTPhgTqZ0MC9bMhgfrZ6YVAvX3/1K8QyCHHVx2BhGkhhBBCPD92NFALIYR4DA90GN3sByvHox9qy0F3kbwcj3coTfviCXP377e+R45ffzx4HqIUSs7Hpzp2ukPnjpZ8CCGE+PVMQ3Egq0h0NqhtLNBq1MOuSPIk55EppTAMg2QqRTaXpVGrUSgU8DxZEP9YVNiNKZ1Ok0qnabeaVMoVHMeWJ4uPS4FlWmQzWZShUStXaHa3sRaPx7IsBkb2EGTG+Wx1+5J1z9RQCyGE+PVMQ7E/Z5BVdZxaAafTljajT8A0dCLRGIlkglanTb1aw5dA/dg0XSMWjZNIxLAdm2ajgW27W98mfi2FaRrE4wmUpmg1m1KL/oRMyySRydI2slxY3r7PtARqIYR4jhiaYjRrMRDTsQwfRSCT009AAQoN3dAJgnCbbxnJJ6NrGoamhdt7B57MTj8hrXuDolB4foAvLYSfiEIDpSi3Am6ubd8svwRqIYR4jijAMDQsXUNDLrhPRYFSGgTI/gdPQ/HAMqzuOEqofjLa/b+AL+fkE+mej67n03K2bwwlUAshxHNGKQiXLQkhhPgqAcG2Pi2RQC2EEEIIIcRT6Jk+1EIIIYQQQjzvJFALIYQQQgjxFCRQCyGEEEII8RQkUAshhBBCCPEUJFALIYQQQgjxFCRQCyGEEEII8RQkUAshhBBCCPEUJFALIYQQQgjxFCRQCyGEEEII8RQkUAshhBBCCPEUJFALIYQQQgjxFCRQCyGEEEII8RQkUAshhBBCCPEUJFALIYQQQgjxFCRQCyGEEEII8RQkUAshhBBCCPEUJFALIYQQQgjxFCRQCyGEEEII8RQkUAshhBBCCPEUJFALIYQQQgjxFCRQCyGEEEII8RQkUAshhBBCCPEUJFALIYQQQgjxFFQAwdbfFEIIIYQQQjwamaEWQgghhBDiKfz/lMVDOdLEGwsAAAAASUVORK5CYII=)"
      ],
      "metadata": {
        "id": "iK395KFEUnhp"
      }
    },
    {
      "cell_type": "markdown",
      "source": [
        "Hay una forma muy simple de hacer esta transformación usando la biblioteca pandas, a partir de la función pd.get_dummies()(https://pandas.pydata.org/docs/reference/api/pandas.get_dummies.html), sin embargo, no es un método muy recomendado cuando estamos trabajando con Machine Learning, ya que esta función no puede abstraer y ejecutar la misma transformación para un nuevo dato. Si tienes una nueva información que pertenece solo a una de las clases de una variable objetivo, el proceso de get_dummies no será capaz de generar las otras columnas provenientes de las otras clases. Esto se convierte en un problema para el modelo, ya que espera todas las características para realizar una predicción.\n",
        "\n",
        "El método más recomendado para realizar la transformación en proyectos de Machine Learning es el OneHotEncoder (https://scikit-learn.org/stable/modules/generated/sklearn.preprocessing.OneHotEncoder.html). En un primer momento, con los datos iniciales, comienza su acción comprendiendo las características de los datos y genera las nuevas columnas para cada clase. Además, almacena la regla capaz de hacer este procedimiento para nuevos datos. Por lo tanto, en el proceso de transformación de un nuevo dato, puede crear todas las columnas necesarias, aunque este nuevo dato tenga solo la información de una de las clases."
      ],
      "metadata": {
        "id": "_zppBO9TUr_F"
      }
    }
  ]
}